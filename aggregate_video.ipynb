{
 "metadata": {
  "language_info": {
   "codemirror_mode": {
    "name": "ipython",
    "version": 3
   },
   "file_extension": ".py",
   "mimetype": "text/x-python",
   "name": "python",
   "nbconvert_exporter": "python",
   "pygments_lexer": "ipython3",
   "version": "3.7.4-final"
  },
  "orig_nbformat": 2,
  "kernelspec": {
   "name": "Python 3.7.4 64-bit ('base': conda)",
   "display_name": "Python 3.7.4 64-bit ('base': conda)",
   "metadata": {
    "interpreter": {
     "hash": "63e4f03e19f10d4e56972be1188e832af7f46b5148d9b364c25d3d5b872d3cb2"
    }
   }
  }
 },
 "nbformat": 4,
 "nbformat_minor": 2,
 "cells": [
  {
   "source": [
    "import pandas as pd\n",
    "import numpy as np"
   ],
   "cell_type": "code",
   "metadata": {},
   "execution_count": 2,
   "outputs": []
  },
  {
   "source": [
    "### Join dataframes and checking the extracted data"
   ],
   "cell_type": "markdown",
   "metadata": {}
  },
  {
   "cell_type": "code",
   "execution_count": 3,
   "metadata": {},
   "outputs": [],
   "source": [
    "#import Channels csv\n",
    "df1 = pd.read_csv('Extracted_channel_1.csv')\n",
    "df2 = pd.read_csv('Extracted_channel_2.csv')\n",
    "df3 = pd.read_csv('Extracted_channel_3.csv')\n",
    "df4 = pd.read_csv('Extracted_channel_4.csv')\n",
    "df5 = pd.read_csv('Extracted_channel_5.csv')\n"
   ]
  },
  {
   "cell_type": "code",
   "execution_count": 4,
   "metadata": {},
   "outputs": [],
   "source": [
    "#join channel frames\n",
    "frames = [df1, df2, df3,df4, df5]\n",
    "raw_channel_df = pd.concat(frames)"
   ]
  },
  {
   "cell_type": "code",
   "execution_count": 25,
   "metadata": {},
   "outputs": [
    {
     "output_type": "execute_result",
     "data": {
      "text/plain": [
       "           category                 channelID                 snippet_etag  \\\n",
       "0   AUTO & VEHICLES  UCjOl2AUblVmg2rA_cRgZkFg  744gBiRCGaqlpkIj1A7aPh7khsc   \n",
       "1   AUTO & VEHICLES  UCes1EvRjcKU4sY_UEavndBw  n5AqBeBZUTe8NAGgPkb0Sgbx4yE   \n",
       "2   AUTO & VEHICLES  UCsAegdhiYLEoaFGuJFVrqFQ  CPzS7e7cjgRMScteECF5ZIQD0OM   \n",
       "3   AUTO & VEHICLES  UCUhFaUpnq31m6TNX2VKVSVA  APEOWUbv2UfHMm0yKW-bkx_ZkI0   \n",
       "4   AUTO & VEHICLES  UCKSVUHI9rbbkXhvAXK-2uxA  WeiqJM5KuwFHTBYE6jWxBUteOAE   \n",
       "..              ...                       ...                          ...   \n",
       "0            TRAVEL  UCfYCRj25JJQ41JGPqiqXmJw  I9RVdRNvpj6NBcPga2tSH7bvJd0   \n",
       "1            TRAVEL  UCxDZs_ltFFvn0FDHT6kmoXA  mXdlLiUp--nCfe4MYQ7EaRpYKVk   \n",
       "2            TRAVEL  UC9avFXTdbSo5ATvzTRnAVFg  SAhSXgMWggyVlwBCgCyU8HKAgJM   \n",
       "3            TRAVEL  UC0Ize0RLIbGdH5x4wI45G-A  uUTqpriys5XDA-eyC25oVb6PoL0   \n",
       "4            TRAVEL  UCwiTOchWeKjrJZw7S1H__1g  HYJIj9T4rw61KvnkLdNXprNGUIo   \n",
       "\n",
       "             snippet_items_etag snippet_items_id_channelId  \\\n",
       "0   sdiqTXhKjaQDjmp9N-bVs7JTvxw   UCjOl2AUblVmg2rA_cRgZkFg   \n",
       "1   TudVPLYity4Ac3DowSe4HrjI2E0   UCes1EvRjcKU4sY_UEavndBw   \n",
       "2   mfh_Vl1QRlANym37qRq32AKL9SY   UCsAegdhiYLEoaFGuJFVrqFQ   \n",
       "3   gzoISdAGvaePTxeuRXP6IoY8uVE   UCUhFaUpnq31m6TNX2VKVSVA   \n",
       "4   4TKwGlw0QYyGWF9XFNfjHCrUQmM   UCKSVUHI9rbbkXhvAXK-2uxA   \n",
       "..                          ...                        ...   \n",
       "0   4x47msAlW_ADrIrsukpJZvTmFSE   UCfYCRj25JJQ41JGPqiqXmJw   \n",
       "1   7-rRkjFTiCwbpBwqdl9lsf3mRy8   UCxDZs_ltFFvn0FDHT6kmoXA   \n",
       "2   PjypIkg5u4oPtU2sTTV5J1ZpHjE   UC9avFXTdbSo5ATvzTRnAVFg   \n",
       "3   bkjHGnksvat35e8Gdhr1AO4zRG0   UC0Ize0RLIbGdH5x4wI45G-A   \n",
       "4   DAzqQ0kNJ86Iw5SNia9LuARsAZw   UCwiTOchWeKjrJZw7S1H__1g   \n",
       "\n",
       "   snippet_items_id_kind    snippet_items_kind  \\\n",
       "0        youtube#channel  youtube#searchResult   \n",
       "1        youtube#channel  youtube#searchResult   \n",
       "2        youtube#channel  youtube#searchResult   \n",
       "3        youtube#channel  youtube#searchResult   \n",
       "4        youtube#channel  youtube#searchResult   \n",
       "..                   ...                   ...   \n",
       "0        youtube#channel  youtube#searchResult   \n",
       "1        youtube#channel  youtube#searchResult   \n",
       "2        youtube#channel  youtube#searchResult   \n",
       "3        youtube#channel  youtube#searchResult   \n",
       "4        youtube#channel  youtube#searchResult   \n",
       "\n",
       "   snippet_items_snippet_channelId snippet_items_snippet_channelTitle  \\\n",
       "0         UCjOl2AUblVmg2rA_cRgZkFg                           Top Gear   \n",
       "1         UCes1EvRjcKU4sY_UEavndBw                           ChrisFix   \n",
       "2         UCsAegdhiYLEoaFGuJFVrqFQ                 MotorTrend Channel   \n",
       "3         UCUhFaUpnq31m6TNX2VKVSVA                             carwow   \n",
       "4         UCKSVUHI9rbbkXhvAXK-2uxA                   Supercar Blondie   \n",
       "..                             ...                                ...   \n",
       "0         UCfYCRj25JJQ41JGPqiqXmJw                           Sam Chui   \n",
       "1         UCxDZs_ltFFvn0FDHT6kmoXA                  bald and bankrupt   \n",
       "2         UC9avFXTdbSo5ATvzTRnAVFg                         FUNG BROS.   \n",
       "3         UC0Ize0RLIbGdH5x4wI45G-A                        Drew Binsky   \n",
       "4         UCwiTOchWeKjrJZw7S1H__1g                       Food Insider   \n",
       "\n",
       "                    snippet_items_snippet_description  ...  \\\n",
       "0   Welcome to the official home of Top Gear on Yo...  ...   \n",
       "1   Learn how to fix your own car with my easy to ...  ...   \n",
       "2   The ultimate automotive streaming service. Get...  ...   \n",
       "3   On the lookout for your next car? Head to carw...  ...   \n",
       "4   I'm Alex, that girl with the cars and I hunt d...  ...   \n",
       "..                                                ...  ...   \n",
       "0   My soul is in the sky! I hope my videos can br...  ...   \n",
       "1         Going off the map in former Soviet lands...  ...   \n",
       "2   NEW VIDEOS MONDAYS AND THURSDAYS** Two brother...  ...   \n",
       "3   Hey guys! My name is Drew Binsky and I make da...  ...   \n",
       "4   What you want to know about food. A division o...  ...   \n",
       "\n",
       "          statistics_items_etag       statistics_items_id  \\\n",
       "0   NJnR16tSLqTNOk8YEmlX5bP8U7M  UCjOl2AUblVmg2rA_cRgZkFg   \n",
       "1   XFFYZdL-R5B3HAIB2UsFaJdaFDk  UCes1EvRjcKU4sY_UEavndBw   \n",
       "2   ZTemJDbGrlj_n_RzZsvpp38hx3Q  UCsAegdhiYLEoaFGuJFVrqFQ   \n",
       "3   eSDxcQojR5htKpfRVhnrhjglqzE  UCUhFaUpnq31m6TNX2VKVSVA   \n",
       "4   y76rV7lDU563bZfgetRcgDbI3G4  UCKSVUHI9rbbkXhvAXK-2uxA   \n",
       "..                          ...                       ...   \n",
       "0   vC5YFAjpRl8hxm0Ocycbqcu11-k  UCfYCRj25JJQ41JGPqiqXmJw   \n",
       "1                        #NAME?  UCxDZs_ltFFvn0FDHT6kmoXA   \n",
       "2   3uXWpqBjCRHbI-Yvy-tF1zzbWFw  UC9avFXTdbSo5ATvzTRnAVFg   \n",
       "3   4WkQQdle8a1PyvlBvuLx_8d2Wf8  UC0Ize0RLIbGdH5x4wI45G-A   \n",
       "4   6eFHbc4Kg33PoLcl4uP0BVMU9LI  UCwiTOchWeKjrJZw7S1H__1g   \n",
       "\n",
       "   statistics_items_kind statistics_items_statistics_commentCount  \\\n",
       "0        youtube#channel                                        0   \n",
       "1        youtube#channel                                        0   \n",
       "2        youtube#channel                                        0   \n",
       "3        youtube#channel                                        0   \n",
       "4        youtube#channel                                        0   \n",
       "..                   ...                                      ...   \n",
       "0        youtube#channel                                        0   \n",
       "1        youtube#channel                                        0   \n",
       "2        youtube#channel                                        0   \n",
       "3        youtube#channel                                        0   \n",
       "4        youtube#channel                                        0   \n",
       "\n",
       "   statistics_items_statistics_hiddenSubscriberCount  \\\n",
       "0                                              False   \n",
       "1                                              False   \n",
       "2                                              False   \n",
       "3                                              False   \n",
       "4                                              False   \n",
       "..                                               ...   \n",
       "0                                              False   \n",
       "1                                              False   \n",
       "2                                              False   \n",
       "3                                              False   \n",
       "4                                              False   \n",
       "\n",
       "   statistics_items_statistics_subscriberCount  \\\n",
       "0                                      7610000   \n",
       "1                                      6920000   \n",
       "2                                      6580000   \n",
       "3                                      4650000   \n",
       "4                                      4700000   \n",
       "..                                         ...   \n",
       "0                                      2340000   \n",
       "1                                      2250000   \n",
       "2                                      2120000   \n",
       "3                                      1940000   \n",
       "4                                      2560000   \n",
       "\n",
       "   statistics_items_statistics_videoCount  \\\n",
       "0                                    1354   \n",
       "1                                     337   \n",
       "2                                    2214   \n",
       "3                                    1317   \n",
       "4                                     239   \n",
       "..                                    ...   \n",
       "0                                     337   \n",
       "1                                     212   \n",
       "2                                     873   \n",
       "3                                     781   \n",
       "4                                    1052   \n",
       "\n",
       "   statistics_items_statistics_viewCount              statistics_kind  \\\n",
       "0                             3012156814  youtube#channelListResponse   \n",
       "1                             1020793024  youtube#channelListResponse   \n",
       "2                             1169502258  youtube#channelListResponse   \n",
       "3                             1401956976  youtube#channelListResponse   \n",
       "4                              363377842  youtube#channelListResponse   \n",
       "..                                   ...                          ...   \n",
       "0                              511078250  youtube#channelListResponse   \n",
       "1                              293687890  youtube#channelListResponse   \n",
       "2                              422298713  youtube#channelListResponse   \n",
       "3                              379113325  youtube#channelListResponse   \n",
       "4                              864259797  youtube#channelListResponse   \n",
       "\n",
       "    statistics_pageInfo_resultsPerPage  \n",
       "0                                    1  \n",
       "1                                    1  \n",
       "2                                    1  \n",
       "3                                    1  \n",
       "4                                    1  \n",
       "..                                 ...  \n",
       "0                                    1  \n",
       "1                                    1  \n",
       "2                                    1  \n",
       "3                                    1  \n",
       "4                                    1  \n",
       "\n",
       "[160 rows x 32 columns]"
      ],
      "text/html": "<div>\n<style scoped>\n    .dataframe tbody tr th:only-of-type {\n        vertical-align: middle;\n    }\n\n    .dataframe tbody tr th {\n        vertical-align: top;\n    }\n\n    .dataframe thead th {\n        text-align: right;\n    }\n</style>\n<table border=\"1\" class=\"dataframe\">\n  <thead>\n    <tr style=\"text-align: right;\">\n      <th></th>\n      <th>category</th>\n      <th>channelID</th>\n      <th>snippet_etag</th>\n      <th>snippet_items_etag</th>\n      <th>snippet_items_id_channelId</th>\n      <th>snippet_items_id_kind</th>\n      <th>snippet_items_kind</th>\n      <th>snippet_items_snippet_channelId</th>\n      <th>snippet_items_snippet_channelTitle</th>\n      <th>snippet_items_snippet_description</th>\n      <th>...</th>\n      <th>statistics_items_etag</th>\n      <th>statistics_items_id</th>\n      <th>statistics_items_kind</th>\n      <th>statistics_items_statistics_commentCount</th>\n      <th>statistics_items_statistics_hiddenSubscriberCount</th>\n      <th>statistics_items_statistics_subscriberCount</th>\n      <th>statistics_items_statistics_videoCount</th>\n      <th>statistics_items_statistics_viewCount</th>\n      <th>statistics_kind</th>\n      <th>statistics_pageInfo_resultsPerPage</th>\n    </tr>\n  </thead>\n  <tbody>\n    <tr>\n      <td>0</td>\n      <td>AUTO &amp; VEHICLES</td>\n      <td>UCjOl2AUblVmg2rA_cRgZkFg</td>\n      <td>744gBiRCGaqlpkIj1A7aPh7khsc</td>\n      <td>sdiqTXhKjaQDjmp9N-bVs7JTvxw</td>\n      <td>UCjOl2AUblVmg2rA_cRgZkFg</td>\n      <td>youtube#channel</td>\n      <td>youtube#searchResult</td>\n      <td>UCjOl2AUblVmg2rA_cRgZkFg</td>\n      <td>Top Gear</td>\n      <td>Welcome to the official home of Top Gear on Yo...</td>\n      <td>...</td>\n      <td>NJnR16tSLqTNOk8YEmlX5bP8U7M</td>\n      <td>UCjOl2AUblVmg2rA_cRgZkFg</td>\n      <td>youtube#channel</td>\n      <td>0</td>\n      <td>False</td>\n      <td>7610000</td>\n      <td>1354</td>\n      <td>3012156814</td>\n      <td>youtube#channelListResponse</td>\n      <td>1</td>\n    </tr>\n    <tr>\n      <td>1</td>\n      <td>AUTO &amp; VEHICLES</td>\n      <td>UCes1EvRjcKU4sY_UEavndBw</td>\n      <td>n5AqBeBZUTe8NAGgPkb0Sgbx4yE</td>\n      <td>TudVPLYity4Ac3DowSe4HrjI2E0</td>\n      <td>UCes1EvRjcKU4sY_UEavndBw</td>\n      <td>youtube#channel</td>\n      <td>youtube#searchResult</td>\n      <td>UCes1EvRjcKU4sY_UEavndBw</td>\n      <td>ChrisFix</td>\n      <td>Learn how to fix your own car with my easy to ...</td>\n      <td>...</td>\n      <td>XFFYZdL-R5B3HAIB2UsFaJdaFDk</td>\n      <td>UCes1EvRjcKU4sY_UEavndBw</td>\n      <td>youtube#channel</td>\n      <td>0</td>\n      <td>False</td>\n      <td>6920000</td>\n      <td>337</td>\n      <td>1020793024</td>\n      <td>youtube#channelListResponse</td>\n      <td>1</td>\n    </tr>\n    <tr>\n      <td>2</td>\n      <td>AUTO &amp; VEHICLES</td>\n      <td>UCsAegdhiYLEoaFGuJFVrqFQ</td>\n      <td>CPzS7e7cjgRMScteECF5ZIQD0OM</td>\n      <td>mfh_Vl1QRlANym37qRq32AKL9SY</td>\n      <td>UCsAegdhiYLEoaFGuJFVrqFQ</td>\n      <td>youtube#channel</td>\n      <td>youtube#searchResult</td>\n      <td>UCsAegdhiYLEoaFGuJFVrqFQ</td>\n      <td>MotorTrend Channel</td>\n      <td>The ultimate automotive streaming service. Get...</td>\n      <td>...</td>\n      <td>ZTemJDbGrlj_n_RzZsvpp38hx3Q</td>\n      <td>UCsAegdhiYLEoaFGuJFVrqFQ</td>\n      <td>youtube#channel</td>\n      <td>0</td>\n      <td>False</td>\n      <td>6580000</td>\n      <td>2214</td>\n      <td>1169502258</td>\n      <td>youtube#channelListResponse</td>\n      <td>1</td>\n    </tr>\n    <tr>\n      <td>3</td>\n      <td>AUTO &amp; VEHICLES</td>\n      <td>UCUhFaUpnq31m6TNX2VKVSVA</td>\n      <td>APEOWUbv2UfHMm0yKW-bkx_ZkI0</td>\n      <td>gzoISdAGvaePTxeuRXP6IoY8uVE</td>\n      <td>UCUhFaUpnq31m6TNX2VKVSVA</td>\n      <td>youtube#channel</td>\n      <td>youtube#searchResult</td>\n      <td>UCUhFaUpnq31m6TNX2VKVSVA</td>\n      <td>carwow</td>\n      <td>On the lookout for your next car? Head to carw...</td>\n      <td>...</td>\n      <td>eSDxcQojR5htKpfRVhnrhjglqzE</td>\n      <td>UCUhFaUpnq31m6TNX2VKVSVA</td>\n      <td>youtube#channel</td>\n      <td>0</td>\n      <td>False</td>\n      <td>4650000</td>\n      <td>1317</td>\n      <td>1401956976</td>\n      <td>youtube#channelListResponse</td>\n      <td>1</td>\n    </tr>\n    <tr>\n      <td>4</td>\n      <td>AUTO &amp; VEHICLES</td>\n      <td>UCKSVUHI9rbbkXhvAXK-2uxA</td>\n      <td>WeiqJM5KuwFHTBYE6jWxBUteOAE</td>\n      <td>4TKwGlw0QYyGWF9XFNfjHCrUQmM</td>\n      <td>UCKSVUHI9rbbkXhvAXK-2uxA</td>\n      <td>youtube#channel</td>\n      <td>youtube#searchResult</td>\n      <td>UCKSVUHI9rbbkXhvAXK-2uxA</td>\n      <td>Supercar Blondie</td>\n      <td>I'm Alex, that girl with the cars and I hunt d...</td>\n      <td>...</td>\n      <td>y76rV7lDU563bZfgetRcgDbI3G4</td>\n      <td>UCKSVUHI9rbbkXhvAXK-2uxA</td>\n      <td>youtube#channel</td>\n      <td>0</td>\n      <td>False</td>\n      <td>4700000</td>\n      <td>239</td>\n      <td>363377842</td>\n      <td>youtube#channelListResponse</td>\n      <td>1</td>\n    </tr>\n    <tr>\n      <td>...</td>\n      <td>...</td>\n      <td>...</td>\n      <td>...</td>\n      <td>...</td>\n      <td>...</td>\n      <td>...</td>\n      <td>...</td>\n      <td>...</td>\n      <td>...</td>\n      <td>...</td>\n      <td>...</td>\n      <td>...</td>\n      <td>...</td>\n      <td>...</td>\n      <td>...</td>\n      <td>...</td>\n      <td>...</td>\n      <td>...</td>\n      <td>...</td>\n      <td>...</td>\n      <td>...</td>\n    </tr>\n    <tr>\n      <td>0</td>\n      <td>TRAVEL</td>\n      <td>UCfYCRj25JJQ41JGPqiqXmJw</td>\n      <td>I9RVdRNvpj6NBcPga2tSH7bvJd0</td>\n      <td>4x47msAlW_ADrIrsukpJZvTmFSE</td>\n      <td>UCfYCRj25JJQ41JGPqiqXmJw</td>\n      <td>youtube#channel</td>\n      <td>youtube#searchResult</td>\n      <td>UCfYCRj25JJQ41JGPqiqXmJw</td>\n      <td>Sam Chui</td>\n      <td>My soul is in the sky! I hope my videos can br...</td>\n      <td>...</td>\n      <td>vC5YFAjpRl8hxm0Ocycbqcu11-k</td>\n      <td>UCfYCRj25JJQ41JGPqiqXmJw</td>\n      <td>youtube#channel</td>\n      <td>0</td>\n      <td>False</td>\n      <td>2340000</td>\n      <td>337</td>\n      <td>511078250</td>\n      <td>youtube#channelListResponse</td>\n      <td>1</td>\n    </tr>\n    <tr>\n      <td>1</td>\n      <td>TRAVEL</td>\n      <td>UCxDZs_ltFFvn0FDHT6kmoXA</td>\n      <td>mXdlLiUp--nCfe4MYQ7EaRpYKVk</td>\n      <td>7-rRkjFTiCwbpBwqdl9lsf3mRy8</td>\n      <td>UCxDZs_ltFFvn0FDHT6kmoXA</td>\n      <td>youtube#channel</td>\n      <td>youtube#searchResult</td>\n      <td>UCxDZs_ltFFvn0FDHT6kmoXA</td>\n      <td>bald and bankrupt</td>\n      <td>Going off the map in former Soviet lands...</td>\n      <td>...</td>\n      <td>#NAME?</td>\n      <td>UCxDZs_ltFFvn0FDHT6kmoXA</td>\n      <td>youtube#channel</td>\n      <td>0</td>\n      <td>False</td>\n      <td>2250000</td>\n      <td>212</td>\n      <td>293687890</td>\n      <td>youtube#channelListResponse</td>\n      <td>1</td>\n    </tr>\n    <tr>\n      <td>2</td>\n      <td>TRAVEL</td>\n      <td>UC9avFXTdbSo5ATvzTRnAVFg</td>\n      <td>SAhSXgMWggyVlwBCgCyU8HKAgJM</td>\n      <td>PjypIkg5u4oPtU2sTTV5J1ZpHjE</td>\n      <td>UC9avFXTdbSo5ATvzTRnAVFg</td>\n      <td>youtube#channel</td>\n      <td>youtube#searchResult</td>\n      <td>UC9avFXTdbSo5ATvzTRnAVFg</td>\n      <td>FUNG BROS.</td>\n      <td>NEW VIDEOS MONDAYS AND THURSDAYS** Two brother...</td>\n      <td>...</td>\n      <td>3uXWpqBjCRHbI-Yvy-tF1zzbWFw</td>\n      <td>UC9avFXTdbSo5ATvzTRnAVFg</td>\n      <td>youtube#channel</td>\n      <td>0</td>\n      <td>False</td>\n      <td>2120000</td>\n      <td>873</td>\n      <td>422298713</td>\n      <td>youtube#channelListResponse</td>\n      <td>1</td>\n    </tr>\n    <tr>\n      <td>3</td>\n      <td>TRAVEL</td>\n      <td>UC0Ize0RLIbGdH5x4wI45G-A</td>\n      <td>uUTqpriys5XDA-eyC25oVb6PoL0</td>\n      <td>bkjHGnksvat35e8Gdhr1AO4zRG0</td>\n      <td>UC0Ize0RLIbGdH5x4wI45G-A</td>\n      <td>youtube#channel</td>\n      <td>youtube#searchResult</td>\n      <td>UC0Ize0RLIbGdH5x4wI45G-A</td>\n      <td>Drew Binsky</td>\n      <td>Hey guys! My name is Drew Binsky and I make da...</td>\n      <td>...</td>\n      <td>4WkQQdle8a1PyvlBvuLx_8d2Wf8</td>\n      <td>UC0Ize0RLIbGdH5x4wI45G-A</td>\n      <td>youtube#channel</td>\n      <td>0</td>\n      <td>False</td>\n      <td>1940000</td>\n      <td>781</td>\n      <td>379113325</td>\n      <td>youtube#channelListResponse</td>\n      <td>1</td>\n    </tr>\n    <tr>\n      <td>4</td>\n      <td>TRAVEL</td>\n      <td>UCwiTOchWeKjrJZw7S1H__1g</td>\n      <td>HYJIj9T4rw61KvnkLdNXprNGUIo</td>\n      <td>DAzqQ0kNJ86Iw5SNia9LuARsAZw</td>\n      <td>UCwiTOchWeKjrJZw7S1H__1g</td>\n      <td>youtube#channel</td>\n      <td>youtube#searchResult</td>\n      <td>UCwiTOchWeKjrJZw7S1H__1g</td>\n      <td>Food Insider</td>\n      <td>What you want to know about food. A division o...</td>\n      <td>...</td>\n      <td>6eFHbc4Kg33PoLcl4uP0BVMU9LI</td>\n      <td>UCwiTOchWeKjrJZw7S1H__1g</td>\n      <td>youtube#channel</td>\n      <td>0</td>\n      <td>False</td>\n      <td>2560000</td>\n      <td>1052</td>\n      <td>864259797</td>\n      <td>youtube#channelListResponse</td>\n      <td>1</td>\n    </tr>\n  </tbody>\n</table>\n<p>160 rows × 32 columns</p>\n</div>"
     },
     "metadata": {},
     "execution_count": 25
    }
   ],
   "source": [
    "raw_channel_df"
   ]
  },
  {
   "source": [
    "#### Checking channel data extracted"
   ],
   "cell_type": "markdown",
   "metadata": {}
  },
  {
   "cell_type": "code",
   "execution_count": 11,
   "metadata": {},
   "outputs": [
    {
     "output_type": "execute_result",
     "data": {
      "text/plain": [
       "160"
      ]
     },
     "metadata": {},
     "execution_count": 11
    }
   ],
   "source": [
    "len(raw_channel_df)"
   ]
  },
  {
   "cell_type": "code",
   "execution_count": 12,
   "metadata": {},
   "outputs": [
    {
     "output_type": "execute_result",
     "data": {
      "text/plain": [
       "(160, 32)"
      ]
     },
     "metadata": {},
     "execution_count": 12
    }
   ],
   "source": [
    "raw_channel_df.shape"
   ]
  },
  {
   "cell_type": "code",
   "execution_count": 13,
   "metadata": {},
   "outputs": [
    {
     "output_type": "stream",
     "name": "stdout",
     "text": [
      "<class 'pandas.core.frame.DataFrame'>\nInt64Index: 160 entries, 0 to 4\nData columns (total 32 columns):\ncategory                                             160 non-null object\nchannelID                                            160 non-null object\nsnippet_etag                                         160 non-null object\nsnippet_items_etag                                   160 non-null object\nsnippet_items_id_channelId                           160 non-null object\nsnippet_items_id_kind                                160 non-null object\nsnippet_items_kind                                   160 non-null object\nsnippet_items_snippet_channelId                      160 non-null object\nsnippet_items_snippet_channelTitle                   160 non-null object\nsnippet_items_snippet_description                    154 non-null object\nsnippet_items_snippet_liveBroadcastContent           160 non-null object\nsnippet_items_snippet_publishTime                    160 non-null object\nsnippet_items_snippet_publishedAt                    160 non-null object\nsnippet_items_snippet_thumbnails_default_url         160 non-null object\nsnippet_items_snippet_thumbnails_high_url            160 non-null object\nsnippet_items_snippet_thumbnails_medium_url          160 non-null object\nsnippet_items_snippet_title                          160 non-null object\nsnippet_kind                                         160 non-null object\nsnippet_pageInfo_resultsPerPage                      160 non-null int64\nsnippet_pageInfo_totalResults                        160 non-null int64\nsnippet_regionCode                                   160 non-null object\nstatistics_etag                                      160 non-null object\nstatistics_items_etag                                160 non-null object\nstatistics_items_id                                  160 non-null object\nstatistics_items_kind                                160 non-null object\nstatistics_items_statistics_commentCount             160 non-null int64\nstatistics_items_statistics_hiddenSubscriberCount    160 non-null bool\nstatistics_items_statistics_subscriberCount          160 non-null int64\nstatistics_items_statistics_videoCount               160 non-null int64\nstatistics_items_statistics_viewCount                160 non-null int64\nstatistics_kind                                      160 non-null object\nstatistics_pageInfo_resultsPerPage                   160 non-null int64\ndtypes: bool(1), int64(7), object(24)\nmemory usage: 40.2+ KB\n"
     ]
    }
   ],
   "source": [
    "raw_channel_df.info() #there are 6 missing channel description"
   ]
  },
  {
   "source": [
    "Cols to keep: 'channelID' ,'snippet_items_snippet_description','snippet_items_snippet_publishedAt','snippet_regionCode','statistics_items_statistics_subscriberCount', 'statistics_items_statistics_videoCount','statistics_items_statistics_viewCount'"
   ],
   "cell_type": "markdown",
   "metadata": {}
  },
  {
   "cell_type": "code",
   "execution_count": 39,
   "metadata": {},
   "outputs": [
    {
     "output_type": "stream",
     "name": "stdout",
     "text": [
      "-----------------------------ChannelID--------------------------------------------------\nUCgFXm4TI8htWmCyJ6cVPG_A    1\nUCNL1ZadSjHpjm4q9j2sVtOA    1\nUC4rlAVgAK0SGk-yTfe48Qpw    1\nUC0DZmkupLYwc0yDsfocLh0A    1\nUCYVinkwSX7szARULgYpvhLw    1\n                           ..\nUCS5Oz6CHmeoF7vSad0qqXfw    1\nUCm3hAp1m1xlAz0ve_EKAo4g    1\nUC6E2mP01ZLH_kbAyeazCNdg    1\nUCoookXUzPciGrEZEXmh4Jjg    1\nUCsXVk37bltHxD1rDPwtNM8Q    1\nName: channelID, Length: 160, dtype: int64\n-----------------------------Description--------------------------------------------------\nNaN                                                                                                                                                                      6\nFun diy-projects, crafts, experience the joy of doing it yourself! OFFICIAL CHANNEL. For brand partnership enquires: brands@thesoul-publishing.com.                      2\nКанал для всей семьи Family friendly content.                                                                                                                            2\nFor Business Inquiries: http://jennamarblesblog.com/contact-me/ http://www.facebook.com/pages/Jenna-Mourey/311917224927 ...                                              1\nPrimitive technology is a hobby where you build things in the wild completely from scratch using no modern tools or materials. These are the strict rules: If you ...    1\n                                                                                                                                                                        ..\nWelcome to THE ACE FAMILY channel. Join The ACE Family and SUBSCRIBE! Our videos include vlogs, crazy experiences, challenges, pranks, and fun family ...                1\nWelcome to Sesame Street! A colorful community of monsters, birds, grouches, and humans. A place where everyone counts. Spend time with all your favorite ...            1\nOur World is Amazing. Questions? Ideas? Tweet me: http://www.twitter.com/tweetsauce Vsauce was created by Michael Stevens in the summer of 2010. Vsauce ...              1\nWhen I was a kid, I had a fascination for programming and graphic design. Music kind of just happened spontaneously a few years back. I found a track on ...             1\nCheck Out My New Second Channel in the Link Below! This is the people's automotive channel! The most honest and funniest car channel on YouTube.                         1\nName: snippet_items_snippet_description, Length: 153, dtype: int64\n-----------------------------publishedAt--------------------------------------------------\n2008-03-14T17:13:45Z    1\n2013-05-24T04:54:22Z    1\n2016-06-29T03:15:23Z    1\n2012-07-24T00:13:25Z    1\n2012-09-05T12:09:54Z    1\n                       ..\n2013-10-25T23:18:43Z    1\n2012-08-24T01:44:00Z    1\n2007-02-24T14:28:56Z    1\n2012-02-20T00:43:50Z    1\n2011-10-20T06:17:58Z    1\nName: snippet_items_snippet_publishedAt, Length: 160, dtype: int64\n-----------------------------region--------------------------------------------------\nUS    160\nName: snippet_regionCode, dtype: int64\n-----------------------------subcriber count--------------------------------------------------\n13600000    3\n17100000    3\n19400000    3\n44600000    2\n12500000    2\n           ..\n19100000    1\n9650000     1\n95500000    1\n2750000     1\n40800000    1\nName: statistics_items_statistics_subscriberCount, Length: 140, dtype: int64\n-----------------------------video count--------------------------------------------------\n134     2\n337     2\n179     2\n491     2\n767     1\n       ..\n4000    1\n158     1\n157     1\n156     1\n4608    1\nName: statistics_items_statistics_videoCount, Length: 156, dtype: int64\n-----------------------------view count--------------------------------------------------\n1176072189    1\n458841789     1\n4059159141    1\n79229538      1\n30837600      1\n             ..\n363377842     1\n7465924277    1\n2402287280    1\n642526895     1\n2086632392    1\nName: statistics_items_statistics_viewCount, Length: 160, dtype: int64\n"
     ]
    }
   ],
   "source": [
    "#checking the values of cols that we will keep\n",
    "print(\"-----------------------------ChannelID--------------------------------------------------\")\n",
    "print(raw_channel_df[\"channelID\"].value_counts(dropna=False))\n",
    "print(\"-----------------------------Description--------------------------------------------------\")\n",
    "print(raw_channel_df[\"snippet_items_snippet_description\"].value_counts(dropna=False))\n",
    "print(\"-----------------------------publishedAt--------------------------------------------------\")\n",
    "print(raw_channel_df[\"snippet_items_snippet_publishedAt\"].value_counts(dropna=False))\n",
    "print(\"-----------------------------region--------------------------------------------------\")\n",
    "print(raw_channel_df[\"snippet_regionCode\"].value_counts(dropna=False))\n",
    "print(\"-----------------------------subcriber count--------------------------------------------------\")\n",
    "print(raw_channel_df[\"statistics_items_statistics_subscriberCount\"].value_counts(dropna=False))\n",
    "print(\"-----------------------------video count--------------------------------------------------\")\n",
    "print(raw_channel_df[\"statistics_items_statistics_videoCount\"].value_counts(dropna=False))\n",
    "print(\"-----------------------------view count--------------------------------------------------\")\n",
    "print(raw_channel_df[\"statistics_items_statistics_viewCount\"].value_counts(dropna=False))"
   ]
  },
  {
   "cell_type": "code",
   "execution_count": 44,
   "metadata": {},
   "outputs": [
    {
     "output_type": "stream",
     "name": "stdout",
     "text": [
      "-----------------------------HiddenSubscribercount--------------------------------------------------\nFalse    160\nName: statistics_items_statistics_hiddenSubscriberCount, dtype: int64\n"
     ]
    }
   ],
   "source": [
    "#is it due to hidden subscriber? -> data not shown\n",
    "print(\"-----------------------------HiddenSubscribercount--------------------------------------------------\")\n",
    "print(raw_channel_df[\"statistics_items_statistics_hiddenSubscriberCount\"].value_counts(dropna=False))"
   ]
  },
  {
   "source": [
    "#### Finalised channel data that we will be using "
   ],
   "cell_type": "markdown",
   "metadata": {}
  },
  {
   "cell_type": "code",
   "execution_count": 5,
   "metadata": {},
   "outputs": [],
   "source": [
    "#drop columns\n",
    "channel_df = raw_channel_df.drop(columns=['category', 'snippet_etag','snippet_items_etag','snippet_items_id_channelId','snippet_items_id_kind','snippet_items_kind','snippet_items_snippet_channelId','snippet_items_snippet_channelTitle','snippet_items_snippet_liveBroadcastContent','snippet_items_snippet_publishTime','snippet_items_snippet_thumbnails_default_url','snippet_items_snippet_thumbnails_high_url','snippet_items_snippet_thumbnails_medium_url','snippet_items_snippet_title','snippet_kind','snippet_pageInfo_resultsPerPage','snippet_pageInfo_totalResults','statistics_etag', 'statistics_items_etag', 'statistics_items_id','statistics_items_kind','statistics_items_statistics_commentCount','statistics_items_statistics_hiddenSubscriberCount','statistics_kind','statistics_pageInfo_resultsPerPage'])"
   ]
  },
  {
   "cell_type": "code",
   "execution_count": 6,
   "metadata": {},
   "outputs": [
    {
     "output_type": "execute_result",
     "data": {
      "text/plain": [
       "                   channelID  \\\n",
       "0   UCjOl2AUblVmg2rA_cRgZkFg   \n",
       "1   UCes1EvRjcKU4sY_UEavndBw   \n",
       "2   UCsAegdhiYLEoaFGuJFVrqFQ   \n",
       "3   UCUhFaUpnq31m6TNX2VKVSVA   \n",
       "4   UCKSVUHI9rbbkXhvAXK-2uxA   \n",
       "..                       ...   \n",
       "0   UCfYCRj25JJQ41JGPqiqXmJw   \n",
       "1   UCxDZs_ltFFvn0FDHT6kmoXA   \n",
       "2   UC9avFXTdbSo5ATvzTRnAVFg   \n",
       "3   UC0Ize0RLIbGdH5x4wI45G-A   \n",
       "4   UCwiTOchWeKjrJZw7S1H__1g   \n",
       "\n",
       "                    snippet_items_snippet_description  \\\n",
       "0   Welcome to the official home of Top Gear on Yo...   \n",
       "1   Learn how to fix your own car with my easy to ...   \n",
       "2   The ultimate automotive streaming service. Get...   \n",
       "3   On the lookout for your next car? Head to carw...   \n",
       "4   I'm Alex, that girl with the cars and I hunt d...   \n",
       "..                                                ...   \n",
       "0   My soul is in the sky! I hope my videos can br...   \n",
       "1         Going off the map in former Soviet lands...   \n",
       "2   NEW VIDEOS MONDAYS AND THURSDAYS** Two brother...   \n",
       "3   Hey guys! My name is Drew Binsky and I make da...   \n",
       "4   What you want to know about food. A division o...   \n",
       "\n",
       "   snippet_items_snippet_publishedAt snippet_regionCode  \\\n",
       "0               2006-03-27T10:22:50Z                 US   \n",
       "1               2008-07-30T14:59:12Z                 US   \n",
       "2               2006-03-11T08:32:34Z                 US   \n",
       "3               2014-01-02T16:32:13Z                 US   \n",
       "4               2007-09-12T17:33:49Z                 US   \n",
       "..                               ...                ...   \n",
       "0               2007-11-04T00:22:28Z                 US   \n",
       "1               2018-06-12T11:56:25Z                 US   \n",
       "2               2011-05-22T00:19:55Z                 US   \n",
       "3               2012-07-26T03:24:35Z                 US   \n",
       "4               2017-10-17T21:11:29Z                 US   \n",
       "\n",
       "    statistics_items_statistics_subscriberCount  \\\n",
       "0                                       7610000   \n",
       "1                                       6920000   \n",
       "2                                       6580000   \n",
       "3                                       4650000   \n",
       "4                                       4700000   \n",
       "..                                          ...   \n",
       "0                                       2340000   \n",
       "1                                       2250000   \n",
       "2                                       2120000   \n",
       "3                                       1940000   \n",
       "4                                       2560000   \n",
       "\n",
       "    statistics_items_statistics_videoCount  \\\n",
       "0                                     1354   \n",
       "1                                      337   \n",
       "2                                     2214   \n",
       "3                                     1317   \n",
       "4                                      239   \n",
       "..                                     ...   \n",
       "0                                      337   \n",
       "1                                      212   \n",
       "2                                      873   \n",
       "3                                      781   \n",
       "4                                     1052   \n",
       "\n",
       "    statistics_items_statistics_viewCount  \n",
       "0                              3012156814  \n",
       "1                              1020793024  \n",
       "2                              1169502258  \n",
       "3                              1401956976  \n",
       "4                               363377842  \n",
       "..                                    ...  \n",
       "0                               511078250  \n",
       "1                               293687890  \n",
       "2                               422298713  \n",
       "3                               379113325  \n",
       "4                               864259797  \n",
       "\n",
       "[160 rows x 7 columns]"
      ],
      "text/html": "<div>\n<style scoped>\n    .dataframe tbody tr th:only-of-type {\n        vertical-align: middle;\n    }\n\n    .dataframe tbody tr th {\n        vertical-align: top;\n    }\n\n    .dataframe thead th {\n        text-align: right;\n    }\n</style>\n<table border=\"1\" class=\"dataframe\">\n  <thead>\n    <tr style=\"text-align: right;\">\n      <th></th>\n      <th>channelID</th>\n      <th>snippet_items_snippet_description</th>\n      <th>snippet_items_snippet_publishedAt</th>\n      <th>snippet_regionCode</th>\n      <th>statistics_items_statistics_subscriberCount</th>\n      <th>statistics_items_statistics_videoCount</th>\n      <th>statistics_items_statistics_viewCount</th>\n    </tr>\n  </thead>\n  <tbody>\n    <tr>\n      <td>0</td>\n      <td>UCjOl2AUblVmg2rA_cRgZkFg</td>\n      <td>Welcome to the official home of Top Gear on Yo...</td>\n      <td>2006-03-27T10:22:50Z</td>\n      <td>US</td>\n      <td>7610000</td>\n      <td>1354</td>\n      <td>3012156814</td>\n    </tr>\n    <tr>\n      <td>1</td>\n      <td>UCes1EvRjcKU4sY_UEavndBw</td>\n      <td>Learn how to fix your own car with my easy to ...</td>\n      <td>2008-07-30T14:59:12Z</td>\n      <td>US</td>\n      <td>6920000</td>\n      <td>337</td>\n      <td>1020793024</td>\n    </tr>\n    <tr>\n      <td>2</td>\n      <td>UCsAegdhiYLEoaFGuJFVrqFQ</td>\n      <td>The ultimate automotive streaming service. Get...</td>\n      <td>2006-03-11T08:32:34Z</td>\n      <td>US</td>\n      <td>6580000</td>\n      <td>2214</td>\n      <td>1169502258</td>\n    </tr>\n    <tr>\n      <td>3</td>\n      <td>UCUhFaUpnq31m6TNX2VKVSVA</td>\n      <td>On the lookout for your next car? Head to carw...</td>\n      <td>2014-01-02T16:32:13Z</td>\n      <td>US</td>\n      <td>4650000</td>\n      <td>1317</td>\n      <td>1401956976</td>\n    </tr>\n    <tr>\n      <td>4</td>\n      <td>UCKSVUHI9rbbkXhvAXK-2uxA</td>\n      <td>I'm Alex, that girl with the cars and I hunt d...</td>\n      <td>2007-09-12T17:33:49Z</td>\n      <td>US</td>\n      <td>4700000</td>\n      <td>239</td>\n      <td>363377842</td>\n    </tr>\n    <tr>\n      <td>...</td>\n      <td>...</td>\n      <td>...</td>\n      <td>...</td>\n      <td>...</td>\n      <td>...</td>\n      <td>...</td>\n      <td>...</td>\n    </tr>\n    <tr>\n      <td>0</td>\n      <td>UCfYCRj25JJQ41JGPqiqXmJw</td>\n      <td>My soul is in the sky! I hope my videos can br...</td>\n      <td>2007-11-04T00:22:28Z</td>\n      <td>US</td>\n      <td>2340000</td>\n      <td>337</td>\n      <td>511078250</td>\n    </tr>\n    <tr>\n      <td>1</td>\n      <td>UCxDZs_ltFFvn0FDHT6kmoXA</td>\n      <td>Going off the map in former Soviet lands...</td>\n      <td>2018-06-12T11:56:25Z</td>\n      <td>US</td>\n      <td>2250000</td>\n      <td>212</td>\n      <td>293687890</td>\n    </tr>\n    <tr>\n      <td>2</td>\n      <td>UC9avFXTdbSo5ATvzTRnAVFg</td>\n      <td>NEW VIDEOS MONDAYS AND THURSDAYS** Two brother...</td>\n      <td>2011-05-22T00:19:55Z</td>\n      <td>US</td>\n      <td>2120000</td>\n      <td>873</td>\n      <td>422298713</td>\n    </tr>\n    <tr>\n      <td>3</td>\n      <td>UC0Ize0RLIbGdH5x4wI45G-A</td>\n      <td>Hey guys! My name is Drew Binsky and I make da...</td>\n      <td>2012-07-26T03:24:35Z</td>\n      <td>US</td>\n      <td>1940000</td>\n      <td>781</td>\n      <td>379113325</td>\n    </tr>\n    <tr>\n      <td>4</td>\n      <td>UCwiTOchWeKjrJZw7S1H__1g</td>\n      <td>What you want to know about food. A division o...</td>\n      <td>2017-10-17T21:11:29Z</td>\n      <td>US</td>\n      <td>2560000</td>\n      <td>1052</td>\n      <td>864259797</td>\n    </tr>\n  </tbody>\n</table>\n<p>160 rows × 7 columns</p>\n</div>"
     },
     "metadata": {},
     "execution_count": 6
    }
   ],
   "source": [
    "channel_df"
   ]
  },
  {
   "cell_type": "code",
   "execution_count": 7,
   "metadata": {},
   "outputs": [],
   "source": [
    "#rename columns\n",
    "channel_df.rename(columns={'channelID': 'channelId', 'snippet_items_snippet_description': 'description','snippet_items_snippet_publishedAt':'publishedAt','snippet_regionCode':'region','statistics_items_statistics_subscriberCount':'subscriberCount', 'statistics_items_statistics_videoCount':'videoCount','statistics_items_statistics_viewCount':'viewCount'}, inplace=True)"
   ]
  },
  {
   "cell_type": "code",
   "execution_count": 8,
   "metadata": {},
   "outputs": [
    {
     "output_type": "execute_result",
     "data": {
      "text/plain": [
       "                   channelId  \\\n",
       "0   UCjOl2AUblVmg2rA_cRgZkFg   \n",
       "1   UCes1EvRjcKU4sY_UEavndBw   \n",
       "2   UCsAegdhiYLEoaFGuJFVrqFQ   \n",
       "3   UCUhFaUpnq31m6TNX2VKVSVA   \n",
       "4   UCKSVUHI9rbbkXhvAXK-2uxA   \n",
       "..                       ...   \n",
       "0   UCfYCRj25JJQ41JGPqiqXmJw   \n",
       "1   UCxDZs_ltFFvn0FDHT6kmoXA   \n",
       "2   UC9avFXTdbSo5ATvzTRnAVFg   \n",
       "3   UC0Ize0RLIbGdH5x4wI45G-A   \n",
       "4   UCwiTOchWeKjrJZw7S1H__1g   \n",
       "\n",
       "                                          description           publishedAt  \\\n",
       "0   Welcome to the official home of Top Gear on Yo...  2006-03-27T10:22:50Z   \n",
       "1   Learn how to fix your own car with my easy to ...  2008-07-30T14:59:12Z   \n",
       "2   The ultimate automotive streaming service. Get...  2006-03-11T08:32:34Z   \n",
       "3   On the lookout for your next car? Head to carw...  2014-01-02T16:32:13Z   \n",
       "4   I'm Alex, that girl with the cars and I hunt d...  2007-09-12T17:33:49Z   \n",
       "..                                                ...                   ...   \n",
       "0   My soul is in the sky! I hope my videos can br...  2007-11-04T00:22:28Z   \n",
       "1         Going off the map in former Soviet lands...  2018-06-12T11:56:25Z   \n",
       "2   NEW VIDEOS MONDAYS AND THURSDAYS** Two brother...  2011-05-22T00:19:55Z   \n",
       "3   Hey guys! My name is Drew Binsky and I make da...  2012-07-26T03:24:35Z   \n",
       "4   What you want to know about food. A division o...  2017-10-17T21:11:29Z   \n",
       "\n",
       "   region  subscriberCount  videoCount   viewCount  \n",
       "0      US          7610000        1354  3012156814  \n",
       "1      US          6920000         337  1020793024  \n",
       "2      US          6580000        2214  1169502258  \n",
       "3      US          4650000        1317  1401956976  \n",
       "4      US          4700000         239   363377842  \n",
       "..    ...              ...         ...         ...  \n",
       "0      US          2340000         337   511078250  \n",
       "1      US          2250000         212   293687890  \n",
       "2      US          2120000         873   422298713  \n",
       "3      US          1940000         781   379113325  \n",
       "4      US          2560000        1052   864259797  \n",
       "\n",
       "[160 rows x 7 columns]"
      ],
      "text/html": "<div>\n<style scoped>\n    .dataframe tbody tr th:only-of-type {\n        vertical-align: middle;\n    }\n\n    .dataframe tbody tr th {\n        vertical-align: top;\n    }\n\n    .dataframe thead th {\n        text-align: right;\n    }\n</style>\n<table border=\"1\" class=\"dataframe\">\n  <thead>\n    <tr style=\"text-align: right;\">\n      <th></th>\n      <th>channelId</th>\n      <th>description</th>\n      <th>publishedAt</th>\n      <th>region</th>\n      <th>subscriberCount</th>\n      <th>videoCount</th>\n      <th>viewCount</th>\n    </tr>\n  </thead>\n  <tbody>\n    <tr>\n      <td>0</td>\n      <td>UCjOl2AUblVmg2rA_cRgZkFg</td>\n      <td>Welcome to the official home of Top Gear on Yo...</td>\n      <td>2006-03-27T10:22:50Z</td>\n      <td>US</td>\n      <td>7610000</td>\n      <td>1354</td>\n      <td>3012156814</td>\n    </tr>\n    <tr>\n      <td>1</td>\n      <td>UCes1EvRjcKU4sY_UEavndBw</td>\n      <td>Learn how to fix your own car with my easy to ...</td>\n      <td>2008-07-30T14:59:12Z</td>\n      <td>US</td>\n      <td>6920000</td>\n      <td>337</td>\n      <td>1020793024</td>\n    </tr>\n    <tr>\n      <td>2</td>\n      <td>UCsAegdhiYLEoaFGuJFVrqFQ</td>\n      <td>The ultimate automotive streaming service. Get...</td>\n      <td>2006-03-11T08:32:34Z</td>\n      <td>US</td>\n      <td>6580000</td>\n      <td>2214</td>\n      <td>1169502258</td>\n    </tr>\n    <tr>\n      <td>3</td>\n      <td>UCUhFaUpnq31m6TNX2VKVSVA</td>\n      <td>On the lookout for your next car? Head to carw...</td>\n      <td>2014-01-02T16:32:13Z</td>\n      <td>US</td>\n      <td>4650000</td>\n      <td>1317</td>\n      <td>1401956976</td>\n    </tr>\n    <tr>\n      <td>4</td>\n      <td>UCKSVUHI9rbbkXhvAXK-2uxA</td>\n      <td>I'm Alex, that girl with the cars and I hunt d...</td>\n      <td>2007-09-12T17:33:49Z</td>\n      <td>US</td>\n      <td>4700000</td>\n      <td>239</td>\n      <td>363377842</td>\n    </tr>\n    <tr>\n      <td>...</td>\n      <td>...</td>\n      <td>...</td>\n      <td>...</td>\n      <td>...</td>\n      <td>...</td>\n      <td>...</td>\n      <td>...</td>\n    </tr>\n    <tr>\n      <td>0</td>\n      <td>UCfYCRj25JJQ41JGPqiqXmJw</td>\n      <td>My soul is in the sky! I hope my videos can br...</td>\n      <td>2007-11-04T00:22:28Z</td>\n      <td>US</td>\n      <td>2340000</td>\n      <td>337</td>\n      <td>511078250</td>\n    </tr>\n    <tr>\n      <td>1</td>\n      <td>UCxDZs_ltFFvn0FDHT6kmoXA</td>\n      <td>Going off the map in former Soviet lands...</td>\n      <td>2018-06-12T11:56:25Z</td>\n      <td>US</td>\n      <td>2250000</td>\n      <td>212</td>\n      <td>293687890</td>\n    </tr>\n    <tr>\n      <td>2</td>\n      <td>UC9avFXTdbSo5ATvzTRnAVFg</td>\n      <td>NEW VIDEOS MONDAYS AND THURSDAYS** Two brother...</td>\n      <td>2011-05-22T00:19:55Z</td>\n      <td>US</td>\n      <td>2120000</td>\n      <td>873</td>\n      <td>422298713</td>\n    </tr>\n    <tr>\n      <td>3</td>\n      <td>UC0Ize0RLIbGdH5x4wI45G-A</td>\n      <td>Hey guys! My name is Drew Binsky and I make da...</td>\n      <td>2012-07-26T03:24:35Z</td>\n      <td>US</td>\n      <td>1940000</td>\n      <td>781</td>\n      <td>379113325</td>\n    </tr>\n    <tr>\n      <td>4</td>\n      <td>UCwiTOchWeKjrJZw7S1H__1g</td>\n      <td>What you want to know about food. A division o...</td>\n      <td>2017-10-17T21:11:29Z</td>\n      <td>US</td>\n      <td>2560000</td>\n      <td>1052</td>\n      <td>864259797</td>\n    </tr>\n  </tbody>\n</table>\n<p>160 rows × 7 columns</p>\n</div>"
     },
     "metadata": {},
     "execution_count": 8
    }
   ],
   "source": [
    "channel_df"
   ]
  },
  {
   "source": [
    "#write csv \n",
    "channel_df.to_csv('channel_df.csv',index = False, header = True)"
   ],
   "cell_type": "code",
   "metadata": {},
   "execution_count": 9,
   "outputs": []
  },
  {
   "source": [
    "### Video data"
   ],
   "cell_type": "markdown",
   "metadata": {}
  },
  {
   "cell_type": "code",
   "execution_count": 10,
   "metadata": {},
   "outputs": [],
   "source": [
    "#import video csv\n",
    "df6 = pd.read_csv('Extracted_video_1.csv')\n",
    "df7 = pd.read_csv('Extracted_video_2.csv')\n",
    "df8 = pd.read_csv('Extracted_video_3.csv')\n",
    "df9 = pd.read_csv('Extracted_video_4.csv')\n",
    "df10 = pd.read_csv('Extracted_video_5.csv')"
   ]
  },
  {
   "cell_type": "code",
   "execution_count": 11,
   "metadata": {},
   "outputs": [],
   "source": [
    "#join video frames\n",
    "frames_vid = [df6,df7, df8, df9,df10]\n",
    "raw_videos_df = pd.concat(frames_vid)"
   ]
  },
  {
   "cell_type": "code",
   "execution_count": 32,
   "metadata": {},
   "outputs": [
    {
     "output_type": "execute_result",
     "data": {
      "text/plain": [
       "                  channelID                 snippet_etag  \\\n",
       "0  UCjOl2AUblVmg2rA_cRgZkFg  WAahMk9WtWpySnY2lCASw4ePXok   \n",
       "1  UCjOl2AUblVmg2rA_cRgZkFg  AykVkbQumaaRIMCfNCNxpugEJt8   \n",
       "2  UCjOl2AUblVmg2rA_cRgZkFg  7aAk4SUaTt3yJnPfWHzxbPOhC_I   \n",
       "3  UCjOl2AUblVmg2rA_cRgZkFg  tCH3_MDRUHal9-HYTGCp7OcARRs   \n",
       "4  UCjOl2AUblVmg2rA_cRgZkFg  eM4cN4Fg-yAlbZetlnQCAg7NhJA   \n",
       "\n",
       "                                          snippet_id          snippet_kind  \\\n",
       "0  VVVqT2wyQVVibFZtZzJyQV9jUmdaa0ZnLjU2QjQ0RjZEMT...  youtube#playlistItem   \n",
       "1  VVVqT2wyQVVibFZtZzJyQV9jUmdaa0ZnLjI4OUY0QTQ2RE...  youtube#playlistItem   \n",
       "2  VVVqT2wyQVVibFZtZzJyQV9jUmdaa0ZnLjAxNzIwOEZBQT...  youtube#playlistItem   \n",
       "3  VVVqT2wyQVVibFZtZzJyQV9jUmdaa0ZnLjUyMTUyQjQ5ND...  youtube#playlistItem   \n",
       "4  VVVqT2wyQVVibFZtZzJyQV9jUmdaa0ZnLjA5MDc5NkE3NU...  youtube#playlistItem   \n",
       "\n",
       "  snippet_snippet_channelId snippet_snippet_channelTitle  \\\n",
       "0  UCjOl2AUblVmg2rA_cRgZkFg                     Top Gear   \n",
       "1  UCjOl2AUblVmg2rA_cRgZkFg                     Top Gear   \n",
       "2  UCjOl2AUblVmg2rA_cRgZkFg                     Top Gear   \n",
       "3  UCjOl2AUblVmg2rA_cRgZkFg                     Top Gear   \n",
       "4  UCjOl2AUblVmg2rA_cRgZkFg                     Top Gear   \n",
       "\n",
       "                         snippet_snippet_description  \\\n",
       "0  In this week's Top Gear, Flintoff gets his han...   \n",
       "1  From the humble new Volkswagen GTI, right down...   \n",
       "2  Here's Chris Harris' take on the rocket-disgui...   \n",
       "3  16 contenders, 8,553bhp and a festival to reme...   \n",
       "4  The 986bhp Ferrari SF90 is, unsurprisingly, no...   \n",
       "\n",
       "  snippet_snippet_playlistId  snippet_snippet_position  \\\n",
       "0   UUjOl2AUblVmg2rA_cRgZkFg                       0.0   \n",
       "1   UUjOl2AUblVmg2rA_cRgZkFg                       1.0   \n",
       "2   UUjOl2AUblVmg2rA_cRgZkFg                       2.0   \n",
       "3   UUjOl2AUblVmg2rA_cRgZkFg                       3.0   \n",
       "4   UUjOl2AUblVmg2rA_cRgZkFg                       4.0   \n",
       "\n",
       "  snippet_snippet_publishedAt  ...  \\\n",
       "0        2020-10-09T09:35:54Z  ...   \n",
       "1        2020-10-09T11:21:23Z  ...   \n",
       "2        2020-10-07T07:40:22Z  ...   \n",
       "3        2020-10-06T13:59:38Z  ...   \n",
       "4        2020-10-06T07:36:13Z  ...   \n",
       "\n",
       "                               snippet_snippet_title  \\\n",
       "0  PREVIEW: Attempting 200mph in the Jaguar XJ220...   \n",
       "1  Which car will win Top Gear Speed Week 2020? (...   \n",
       "2  Chris Harris on... the Ferrari SF90 Stradale |...   \n",
       "3  Chris Harris vs 2020’s Best Performance Cars |...   \n",
       "4  FASTEST TOP GEAR LAP? Ferrari SF90 Stiglap | T...   \n",
       "\n",
       "               statistics_etag  statistics_id statistics_kind  \\\n",
       "0  36CP5IifcBP_B0Mii868uAygRQI    NXX338WY_Lw   youtube#video   \n",
       "1  gnLBCGarZQ7Z6NIIdIi5an29A7k    dtHcdU2c71Y   youtube#video   \n",
       "2  Ju9af5glQvYp6rlwu15TpSLjYU0    vnrtWe-RAzg   youtube#video   \n",
       "3  EYvTlQThWM0QpTidePq3ukUpLSk    Ra1F0TsOCPs   youtube#video   \n",
       "4  QnmmjB54wGcY4suqmiBOoyWMc7k    fXysipmTxcQ   youtube#video   \n",
       "\n",
       "   statistics_statistics_commentCount  statistics_statistics_dislikeCount  \\\n",
       "0                               528.0                               257.0   \n",
       "1                               568.0                               273.0   \n",
       "2                              1091.0                               408.0   \n",
       "3                               579.0                               202.0   \n",
       "4                               888.0                               168.0   \n",
       "\n",
       "  statistics_statistics_favoriteCount  statistics_statistics_likeCount  \\\n",
       "0                                 0.0                           5819.0   \n",
       "1                                 0.0                           7136.0   \n",
       "2                                 0.0                          10189.0   \n",
       "3                                 0.0                           7126.0   \n",
       "4                                 0.0                           9697.0   \n",
       "\n",
       "   statistics_statistics_viewCount                  uploadId  \n",
       "0                         184447.0  UUjOl2AUblVmg2rA_cRgZkFg  \n",
       "1                         217619.0  UUjOl2AUblVmg2rA_cRgZkFg  \n",
       "2                         437777.0  UUjOl2AUblVmg2rA_cRgZkFg  \n",
       "3                         191070.0  UUjOl2AUblVmg2rA_cRgZkFg  \n",
       "4                         572569.0  UUjOl2AUblVmg2rA_cRgZkFg  \n",
       "\n",
       "[5 rows x 37 columns]"
      ],
      "text/html": "<div>\n<style scoped>\n    .dataframe tbody tr th:only-of-type {\n        vertical-align: middle;\n    }\n\n    .dataframe tbody tr th {\n        vertical-align: top;\n    }\n\n    .dataframe thead th {\n        text-align: right;\n    }\n</style>\n<table border=\"1\" class=\"dataframe\">\n  <thead>\n    <tr style=\"text-align: right;\">\n      <th></th>\n      <th>channelID</th>\n      <th>snippet_etag</th>\n      <th>snippet_id</th>\n      <th>snippet_kind</th>\n      <th>snippet_snippet_channelId</th>\n      <th>snippet_snippet_channelTitle</th>\n      <th>snippet_snippet_description</th>\n      <th>snippet_snippet_playlistId</th>\n      <th>snippet_snippet_position</th>\n      <th>snippet_snippet_publishedAt</th>\n      <th>...</th>\n      <th>snippet_snippet_title</th>\n      <th>statistics_etag</th>\n      <th>statistics_id</th>\n      <th>statistics_kind</th>\n      <th>statistics_statistics_commentCount</th>\n      <th>statistics_statistics_dislikeCount</th>\n      <th>statistics_statistics_favoriteCount</th>\n      <th>statistics_statistics_likeCount</th>\n      <th>statistics_statistics_viewCount</th>\n      <th>uploadId</th>\n    </tr>\n  </thead>\n  <tbody>\n    <tr>\n      <td>0</td>\n      <td>UCjOl2AUblVmg2rA_cRgZkFg</td>\n      <td>WAahMk9WtWpySnY2lCASw4ePXok</td>\n      <td>VVVqT2wyQVVibFZtZzJyQV9jUmdaa0ZnLjU2QjQ0RjZEMT...</td>\n      <td>youtube#playlistItem</td>\n      <td>UCjOl2AUblVmg2rA_cRgZkFg</td>\n      <td>Top Gear</td>\n      <td>In this week's Top Gear, Flintoff gets his han...</td>\n      <td>UUjOl2AUblVmg2rA_cRgZkFg</td>\n      <td>0.0</td>\n      <td>2020-10-09T09:35:54Z</td>\n      <td>...</td>\n      <td>PREVIEW: Attempting 200mph in the Jaguar XJ220...</td>\n      <td>36CP5IifcBP_B0Mii868uAygRQI</td>\n      <td>NXX338WY_Lw</td>\n      <td>youtube#video</td>\n      <td>528.0</td>\n      <td>257.0</td>\n      <td>0.0</td>\n      <td>5819.0</td>\n      <td>184447.0</td>\n      <td>UUjOl2AUblVmg2rA_cRgZkFg</td>\n    </tr>\n    <tr>\n      <td>1</td>\n      <td>UCjOl2AUblVmg2rA_cRgZkFg</td>\n      <td>AykVkbQumaaRIMCfNCNxpugEJt8</td>\n      <td>VVVqT2wyQVVibFZtZzJyQV9jUmdaa0ZnLjI4OUY0QTQ2RE...</td>\n      <td>youtube#playlistItem</td>\n      <td>UCjOl2AUblVmg2rA_cRgZkFg</td>\n      <td>Top Gear</td>\n      <td>From the humble new Volkswagen GTI, right down...</td>\n      <td>UUjOl2AUblVmg2rA_cRgZkFg</td>\n      <td>1.0</td>\n      <td>2020-10-09T11:21:23Z</td>\n      <td>...</td>\n      <td>Which car will win Top Gear Speed Week 2020? (...</td>\n      <td>gnLBCGarZQ7Z6NIIdIi5an29A7k</td>\n      <td>dtHcdU2c71Y</td>\n      <td>youtube#video</td>\n      <td>568.0</td>\n      <td>273.0</td>\n      <td>0.0</td>\n      <td>7136.0</td>\n      <td>217619.0</td>\n      <td>UUjOl2AUblVmg2rA_cRgZkFg</td>\n    </tr>\n    <tr>\n      <td>2</td>\n      <td>UCjOl2AUblVmg2rA_cRgZkFg</td>\n      <td>7aAk4SUaTt3yJnPfWHzxbPOhC_I</td>\n      <td>VVVqT2wyQVVibFZtZzJyQV9jUmdaa0ZnLjAxNzIwOEZBQT...</td>\n      <td>youtube#playlistItem</td>\n      <td>UCjOl2AUblVmg2rA_cRgZkFg</td>\n      <td>Top Gear</td>\n      <td>Here's Chris Harris' take on the rocket-disgui...</td>\n      <td>UUjOl2AUblVmg2rA_cRgZkFg</td>\n      <td>2.0</td>\n      <td>2020-10-07T07:40:22Z</td>\n      <td>...</td>\n      <td>Chris Harris on... the Ferrari SF90 Stradale |...</td>\n      <td>Ju9af5glQvYp6rlwu15TpSLjYU0</td>\n      <td>vnrtWe-RAzg</td>\n      <td>youtube#video</td>\n      <td>1091.0</td>\n      <td>408.0</td>\n      <td>0.0</td>\n      <td>10189.0</td>\n      <td>437777.0</td>\n      <td>UUjOl2AUblVmg2rA_cRgZkFg</td>\n    </tr>\n    <tr>\n      <td>3</td>\n      <td>UCjOl2AUblVmg2rA_cRgZkFg</td>\n      <td>tCH3_MDRUHal9-HYTGCp7OcARRs</td>\n      <td>VVVqT2wyQVVibFZtZzJyQV9jUmdaa0ZnLjUyMTUyQjQ5ND...</td>\n      <td>youtube#playlistItem</td>\n      <td>UCjOl2AUblVmg2rA_cRgZkFg</td>\n      <td>Top Gear</td>\n      <td>16 contenders, 8,553bhp and a festival to reme...</td>\n      <td>UUjOl2AUblVmg2rA_cRgZkFg</td>\n      <td>3.0</td>\n      <td>2020-10-06T13:59:38Z</td>\n      <td>...</td>\n      <td>Chris Harris vs 2020’s Best Performance Cars |...</td>\n      <td>EYvTlQThWM0QpTidePq3ukUpLSk</td>\n      <td>Ra1F0TsOCPs</td>\n      <td>youtube#video</td>\n      <td>579.0</td>\n      <td>202.0</td>\n      <td>0.0</td>\n      <td>7126.0</td>\n      <td>191070.0</td>\n      <td>UUjOl2AUblVmg2rA_cRgZkFg</td>\n    </tr>\n    <tr>\n      <td>4</td>\n      <td>UCjOl2AUblVmg2rA_cRgZkFg</td>\n      <td>eM4cN4Fg-yAlbZetlnQCAg7NhJA</td>\n      <td>VVVqT2wyQVVibFZtZzJyQV9jUmdaa0ZnLjA5MDc5NkE3NU...</td>\n      <td>youtube#playlistItem</td>\n      <td>UCjOl2AUblVmg2rA_cRgZkFg</td>\n      <td>Top Gear</td>\n      <td>The 986bhp Ferrari SF90 is, unsurprisingly, no...</td>\n      <td>UUjOl2AUblVmg2rA_cRgZkFg</td>\n      <td>4.0</td>\n      <td>2020-10-06T07:36:13Z</td>\n      <td>...</td>\n      <td>FASTEST TOP GEAR LAP? Ferrari SF90 Stiglap | T...</td>\n      <td>QnmmjB54wGcY4suqmiBOoyWMc7k</td>\n      <td>fXysipmTxcQ</td>\n      <td>youtube#video</td>\n      <td>888.0</td>\n      <td>168.0</td>\n      <td>0.0</td>\n      <td>9697.0</td>\n      <td>572569.0</td>\n      <td>UUjOl2AUblVmg2rA_cRgZkFg</td>\n    </tr>\n  </tbody>\n</table>\n<p>5 rows × 37 columns</p>\n</div>"
     },
     "metadata": {},
     "execution_count": 32
    }
   ],
   "source": [
    "raw_videos_df.head()"
   ]
  },
  {
   "source": [
    "#### Checking extracted video data"
   ],
   "cell_type": "markdown",
   "metadata": {}
  },
  {
   "cell_type": "code",
   "execution_count": 35,
   "metadata": {},
   "outputs": [
    {
     "output_type": "stream",
     "name": "stdout",
     "text": [
      "<class 'pandas.core.frame.DataFrame'>\nInt64Index: 586809 entries, 0 to 3254\nData columns (total 37 columns):\nchannelID                                     586809 non-null object\nsnippet_etag                                  570410 non-null object\nsnippet_id                                    570410 non-null object\nsnippet_kind                                  570410 non-null object\nsnippet_snippet_channelId                     570410 non-null object\nsnippet_snippet_channelTitle                  570410 non-null object\nsnippet_snippet_description                   567869 non-null object\nsnippet_snippet_playlistId                    570397 non-null object\nsnippet_snippet_position                      570397 non-null float64\nsnippet_snippet_publishedAt                   570397 non-null object\nsnippet_snippet_resourceId_kind               570390 non-null object\nsnippet_snippet_resourceId_videoId            570390 non-null object\nsnippet_snippet_thumbnails_default_height     570362 non-null float64\nsnippet_snippet_thumbnails_default_url        570362 non-null object\nsnippet_snippet_thumbnails_default_width      570362 non-null float64\nsnippet_snippet_thumbnails_high_height        570375 non-null float64\nsnippet_snippet_thumbnails_high_url           570375 non-null object\nsnippet_snippet_thumbnails_high_width         570375 non-null float64\nsnippet_snippet_thumbnails_maxres_height      476368 non-null float64\nsnippet_snippet_thumbnails_maxres_url         476368 non-null object\nsnippet_snippet_thumbnails_maxres_width       476368 non-null float64\nsnippet_snippet_thumbnails_medium_height      570375 non-null object\nsnippet_snippet_thumbnails_medium_url         474529 non-null object\nsnippet_snippet_thumbnails_medium_width       474529 non-null object\nsnippet_snippet_thumbnails_standard_height    428461 non-null object\nsnippet_snippet_thumbnails_standard_url       428455 non-null object\nsnippet_snippet_thumbnails_standard_width     428461 non-null float64\nsnippet_snippet_title                         474542 non-null object\nstatistics_etag                               474537 non-null object\nstatistics_id                                 474537 non-null object\nstatistics_kind                               474537 non-null object\nstatistics_statistics_commentCount            456656 non-null float64\nstatistics_statistics_dislikeCount            472599 non-null float64\nstatistics_statistics_favoriteCount           474524 non-null float64\nstatistics_statistics_likeCount               472599 non-null float64\nstatistics_statistics_viewCount               474318 non-null float64\nuploadId                                      474524 non-null object\ndtypes: float64(13), object(24)\nmemory usage: 170.1+ MB\n"
     ]
    }
   ],
   "source": [
    "raw_videos_df.info() #about 100k data dont have statistics (commentCount,likeCount,etc)"
   ]
  },
  {
   "cell_type": "code",
   "execution_count": 33,
   "metadata": {},
   "outputs": [
    {
     "output_type": "execute_result",
     "data": {
      "text/plain": [
       "(586809, 37)"
      ]
     },
     "metadata": {},
     "execution_count": 33
    }
   ],
   "source": [
    "raw_videos_df.shape"
   ]
  },
  {
   "source": [
    "cols to keep 'snippet_snippet_channelId', 'snippet_snippet_description','snippet_snippet_publishedAt','snippet_snippet_resourceId_videoId',\n",
    "'snippet_snippet_thumbnails_default_url',\n",
    "'snippet_snippet_title',\n",
    "'statistics_statistics_commentCount',\n",
    "'statistics_statistics_likeCount', 'statistics_statistics_dislikeCount','statistics_statistics_viewCount'"
   ],
   "cell_type": "markdown",
   "metadata": {}
  },
  {
   "cell_type": "code",
   "execution_count": 34,
   "metadata": {},
   "outputs": [],
   "source": [
    "#drop columns\n",
    "raw_videos_df = raw_videos_df.drop(columns=['snippet_etag','snippet_id','snippet_kind','channelID','snippet_snippet_channelTitle','snippet_snippet_playlistId','snippet_snippet_position','snippet_snippet_resourceId_kind','snippet_snippet_thumbnails_default_height','snippet_snippet_thumbnails_default_width','snippet_snippet_thumbnails_high_height','snippet_snippet_thumbnails_high_url','snippet_snippet_thumbnails_high_width','snippet_snippet_thumbnails_maxres_height','snippet_snippet_thumbnails_maxres_url','snippet_snippet_thumbnails_maxres_width','snippet_snippet_thumbnails_medium_height','snippet_snippet_thumbnails_medium_url','snippet_snippet_thumbnails_medium_width','snippet_snippet_thumbnails_standard_height','snippet_snippet_thumbnails_standard_url','snippet_snippet_thumbnails_standard_width','statistics_etag', 'statistics_id','statistics_kind','statistics_statistics_favoriteCount','uploadId'])"
   ]
  },
  {
   "cell_type": "code",
   "execution_count": 35,
   "metadata": {
    "tags": [
     "outputPrepend"
    ]
   },
   "outputs": [
    {
     "output_type": "stream",
     "name": "stdout",
     "text": [
      "                                                                                                                                                                                                                                                                                                                                                                                                                                                                                                                                                                                                                                                                                                                                                                                                                                                                                                                                                                                                                                                                                                                                                                                                                                                                                                                                                                                                                                                                                                                                                                                                                                                                                                                                                                                                                                                                                                                                                                                                                                                                                                                                                                                                                                                                                                                                                                                                                                                                                                                                     1\n",
      "As Kobe Bryant takes on the Heat for the last time, take a look back at his best moments in Miami.\\n\\nAbout the NBA: \\nThe NBA is the premier professional basketball league in the United States and Canada. The league is truly global, with games and programming in 215 countries and territories in 47 languages, as well as NBA rosters at the start of the 2015-16 season featuring  100 international players from 37 countries and territories. For the 2015-16 season, each of the league's 30 teams will play 82 regular-season games, followed by a postseason for those that qualify. \\n\\nThe NBA consists of the following teams: Atlanta Hawks; Boston Celtics; Brooklyn Nets; Charlotte Hornets; Chicago Bulls; Cleveland Cavaliers; Dallas Mavericks; Denver Nuggets; Detroit Pistons; Golden State Warriors; Houston Rockets; Indiana Pacers; Los Angeles Clippers; Los Angeles Lakers; Memphis Grizzlies; Miami Heat; Milwaukee Bucks; Minnesota Timberwolves; New Orleans Pelicans; New York Knicks; Oklahoma City Thunder; Orlando Magic; Philadelphia 76ers; Phoenix Suns; Portland Trail Blazers; Sacramento Kings; San Antonio Spurs; Toronto Raptors; Utah Jazz; Washington Wizards. \\n\\nThe NBA offers real time access to live regular season NBA games with a subscription to NBA LEAGUE PASS, available globally for TV, broadband, and mobile.  Real-time Stats, Scores, Highlights and more are available to fans on web and mobile with the NBA App. \\n\\n\\nFor more information, as well as all the latest NBA news and highlights, log onto the league's official website at http://www.NBA.com \\n\\nSubscribe on YouTube:                        http://www.youtube.com/nba\\nSubscribe to NBA LEAGUE PASS       http://www.nba.com/leaguepass\\nDownload NBA Game Time                 http://www.nba.com/mobile\\nLike us on Facebook:                           http://www.facebook.com/nba\\nFollow us on Twitter:                            http://www.twitter.com/nba\\nFollow us on Instagram:                       http://www.instagram.com/nba\\nFollow us on Tumblr                             http://nba.tumblr.com\\nShop for NBA Gear:                              http://store.nba.com                                                                                                                                                                                                                                                                                                                                                                                                                                                                                                                                                                                                                                                                                                                                                                                                                                                                                                                                                                                                                                                                                                                                                                                                                                                                                                                                                                                                                                                                                                                                                                                                                                                                                                                                                                                                                                                                                                                                                                                                                                                                                       1\n",
      "How to Lose Belly Fat Quickly. With summer finally here, a lot of us are looking for ways to get in shape quickly and with not dieting or hours at the gym. If you’re ready to transform your body and get the perfectly toned stomach of your dreams, then grab your sportswear and let’s do this. \\nWe’ll show you some simple yet super effective exercises that’ll help you burn fat and get a flat belly in no time. \\n\\nTIMESTAMPS\\nExercise #1. Crunches 0:32\\nExercise #2. Side bends 2:03\\nExercise #3. Vertical leg lifts 3:31\\nExercise #4. Forearm plank 5:09\\nExercise #5. Bridge exercise 6:02\\nExercise #6. Side plank 8:02\\nExercise #7. Cobra pose 8:52\\nExercise #8. Boat pose 9:50\\n\\nCrunches 0:32\\nCrunches are a champion of burning belly fat and flattening the stomach in a snap. So lie on your back with your knees bent and your feet planted firmly on the mat about hip-width apart. Put your hands behind your head, making sure that your thumbs are placed behind your ears and that your fingers support your head. Then, use your abs to lift your upper body off the floor, keeping your elbows wide apart. Go back to the initial position and repeat.\\n\\nVertical leg lifts 3:31\\nLeg lifts are a true miracle-worker for toning the lower abs. Lie on your back with your arms down at your sides and your legs straight and pulled together. From this position, lift both legs up until your hips form a 90-degree angle. Then, lower them back down until they hover above the floor. Hold this position for about 2-3 seconds, and then lift your legs up again.\\n\\nBridge exercise 6:02\\nLie on your back with your knees bent and your feet hip-width apart. Keep your arms down at your sides. Now, raise your hips up to create a straight line from your knees to your shoulders, curl your spine, and come back down. We’re gonna do 3 sets of 20.\\n\\nCobra pose 8:52\\nCobra pose tones your abs, strengthens your arms and shoulders, and even boosts your mood! You'll see these results in no time once you start doing this simple exercise regularly. Lie on your stomach, straighten your legs out behind you, keep your hands under your shoulders, and point your elbows back. Press your feet and thighs against the floor, then straighten your arms, and lift your chest off the ground. Press your tailbone towards your pubic bone and your shoulder blades towards each other. Hold this pose for 30 seconds.\\n\\nBoat pose 9:50\\nThis exercise stimulates the kidneys and helps improve digestion. It’ll also leave you with a perfectly flat and toned belly. Sit on your bottom with your knees bent and your feet flat on the floor. Now, lean back slightly and lift your feet so that your shins are parallel to the floor. Stretch your arms out in front of you at shoulder-height to keep your balance. Hold this position for 30 seconds.\\n\\nMusic: \\nhttps://www.youtube.com/audiolibrary/music\\n\\nSUMMARY\\n-Crunches are a champion of burning belly fat and flattening the stomach in a snap.\\n-Doing side bends regularly will obliterate that annoying muffin top we all hate so much.\\n-Leg lifts are a true miracle-worker for toning the lower abs.\\n-Plank might look simple, but it’s actually extremely effective for strengthening your abs, obliques, back, and pelvic floor.\\n-Do bridges regularly, and you’ll see not only tightened abs but a nicely shaped rear-end too.\\n-The side plank is a great exercise that will tone your core muscles, boost your metabolism, and improve your stamina.\\n-Cobra pose tones your abs, strengthens your arms and shoulders, and even boosts your mood.\\n-The boat pose is by far the hardest exercise in our workout. This exercise stimulates the kidneys and helps improve digestion.\\n\\nSubscribe to Bright Side : https://goo.gl/rQTJZz\\n\\n----------------------------------------------------------------------------------------\\nOur Social Media:\\n\\nFacebook: https://www.facebook.com/brightside/\\nInstagram: https://www.instagram.com/brightgram/\\n\\n5-Minute Crafts Youtube: https://www.goo.gl/8JVmuC\\n\\n----------------------------------------------------------------------------------------\\nFor more videos and articles visit:\\nhttp://www.brightside.me/        1\n",
      "Scotty Kilmer, mechanic for the last 43 years, shows some useful auto repair tools that you might giving to any car guy for Christmas or whenever as a gift. Top 4 Christmas Gift Ideas. Here are all of the coolest gadgets and tools for this year.\\n\\n⬇️Things used in this video:\\n1. Stubby Ratcheting Wrench Set: http://amzn.to/2BvR1iu\\n2. Power Probe: http://amzn.to/2Au7OUO\\n3. Wireless Chassis Ear Diagnostic Device: http://amzn.to/2BuQuNN\\n4. Penetrating Catalyst: http://amzn.to/2BtBvn3\\n5. Common Sense\\n6. Full HD Camera: http://amzn.to/2AvoEk7\\n7. My computer for editing / uploading: http://amzn.to/2i2sKYz\\n8. Video editing software: http://amzn.to/2jv5Fhf\\n9. Thumbnail software: http://amzn.to/2k7tz6C\\n\\n🛠Check out my Garage to see what I use every day and highly recommend:\\nhttps://www.amazon.com/shop/scottykilmer\\n\\n❗️Check out the Scotty store:\\nhttps://goo.gl/RwhRGU\\n\\n👉Follow me on Instagram for the latest news, funnies, and exclusive info / pics:\\nhttps://goo.gl/ohy2cA\\n\\nIf you liked this video, consider subscribing and press the bell Icon to get updated on the latest videos every week.\\n\\nAnd remember, every day (7 days a week), I upload a new video on the Scotty Kilmer Channel: https://www.youtube.com/user/scottykilmer\\n\\nAlso, if you like my car help, be sure to watch my live car talk show, every Thursday afternoon at 1 CST and Saturday morning at 10 AM CST on YouTube. I answer your car questions LIVE there. Just check it out at: https://www.youtube.com/watch?v=yQtdBelbqdg\\nScotty Kilmer is a participant in the Amazon Influencer Program.\\n#savagescotty                                                                                                                                                                                                                                                                                                                                                                                                                                                                                                                                                                                                                                                                                                                                                                                                                                                                                                                                                                                                                                                                                                                                                                                                                                                                                                                                                                                                                                                                                                                                                                                                                                                                                                                                                                                                                                                                                                                                                                                                                                                                                                                                                                                                                                                                                                                                                                                                                                                                                                                                                                                                                                                                   1\n",
      "After the Houston Rockets posted one of the greatest offensive seasons in the history of the NBA, coach Mike D'Antoni was named 2016-17 NBA Coach of the Year at the NBA Awards Show on June 26, 2017. Led by James Harden, D'Antoni's team set an NBA record for 3-pointers in a season and finished third in the Western Conference.\\n\\nThe NBA held the first-ever NBA Awards on TNT to honor all of the league’s top performers on one night. The official award show, held at Basketball City at Pier 36 in New York City, will present awards for Kia NBA Most Valuable Player, Kia NBA Rookie of the Year, Kia NBA Sixth Man Award, Kia NBA Defensive Player of the Year, Kia NBA Most Improved Player and NBA Coach of the Year among others.                                                                                                                                                                                                                                                                                                                                                                                                                                                                                                                                                                                                                                                                                                                                                                                                                                                                                                                                                                                                                                                                                                                                                                                                                                                                                                                                                                                                                                                                                                                                                                                                                                                                                                                                                                                                                                                                                                                                                                                                                                                                                                                                                                                                                                                                                                                                                                                                                                                                                                                                                                                                                                                                                                                                                                                                                                                                                                                                                                                                                                                                                                                                                                                                                                                                                                                                                                                                                                                                                                                                                                    1\n",
      "Name: snippet_snippet_description, Length: 452110, dtype: int64\n",
      "-----------------------------publishedAt--------------------------------------------------\n",
      "360                     72997\n",
      "360.0                   22862\n",
      "NaN                     16412\n",
      "2009-08-25T16:11:38Z       17\n",
      "2009-08-25T16:11:39Z       12\n",
      "                        ...  \n",
      "2019-10-26T12:33:22Z        1\n",
      "2020-07-30T21:00:06Z        1\n",
      "2016-04-21T16:50:55Z        1\n",
      "2017-03-15T16:06:07Z        1\n",
      "2015-02-14T05:21:17Z        1\n",
      "Name: snippet_snippet_publishedAt, Length: 472257, dtype: int64\n",
      "-----------------------------video ID--------------------------------------------------\n",
      "480            72997\n",
      "480.0          22862\n",
      "NaN            16419\n",
      "#NAME?            43\n",
      "IDEuVsutcO0        1\n",
      "               ...  \n",
      "5Zk_Q6bAjss        1\n",
      "RLMpH2w6Jvw        1\n",
      "3w-MGV1cC78        1\n",
      "RFrPqZu0d7o        1\n",
      "-GNj9GCH9K0        1\n",
      "Name: snippet_snippet_resourceId_videoId, Length: 474492, dtype: int64\n"
     ]
    }
   ],
   "source": [
    "print(\"-----------------------------ChannelID--------------------------------------------------\")\n",
    "print(raw_videos_df[\"snippet_snippet_channelId\"].value_counts(dropna=False))\n",
    "print(\"-----------------------------decription--------------------------------------------------\")\n",
    "print(raw_videos_df[\"snippet_snippet_description\"].value_counts(dropna=False))\n",
    "print(\"-----------------------------publishedAt--------------------------------------------------\")\n",
    "print(raw_videos_df[\"snippet_snippet_publishedAt\"].value_counts(dropna=False))\n",
    "print(\"-----------------------------video ID--------------------------------------------------\")\n",
    "print(raw_videos_df[\"snippet_snippet_resourceId_videoId\"].value_counts(dropna=False))"
   ]
  },
  {
   "cell_type": "code",
   "execution_count": 43,
   "metadata": {},
   "outputs": [
    {
     "output_type": "stream",
     "name": "stdout",
     "text": [
      "-----------------------------video Title--------------------------------------------------\n",
      "NaN                                                                        112267\n",
      "DAILY MOFA BRIEFING                                                           149\n",
      "NBA Meme Team - Top 5                                                         103\n",
      "Обзор игрушек                                                                  75\n",
      "NBA Bloopers: The Starters                                                     70\n",
      "                                                                            ...  \n",
      "Christine (1983) - Run, Moochie, Run Scene (5/10) | Movieclips                  1\n",
      "LIGHTSABER DUELS | Dino Horde Duels #1                                          1\n",
      "The Fourth Phase (2016) - I'm Scared, Finally Scene (7/10) | Movieclips         1\n",
      "UFC Vegas 6: Fighters You Should Know                                           1\n",
      "Indian Parents Explain Why Girls Get Their Period                               1\n",
      "Name: snippet_snippet_title, Length: 465722, dtype: int64\n",
      "-----------------------------comment count--------------------------------------------------\n",
      "NaN        130153\n",
      "0.0         34365\n",
      "1.0         17726\n",
      "2.0         12722\n",
      "3.0          9184\n",
      "            ...  \n",
      "48068.0         1\n",
      "28361.0         1\n",
      "62724.0         1\n",
      "28369.0         1\n",
      "32765.0         1\n",
      "Name: statistics_statistics_commentCount, Length: 22803, dtype: int64\n",
      "-----------------------------like count--------------------------------------------------\n",
      "NaN         114210\n",
      "2.0           5425\n",
      "3.0           5310\n",
      "4.0           4914\n",
      "1.0           4716\n",
      "             ...  \n",
      "385273.0         1\n",
      "38508.0          1\n",
      "59417.0          1\n",
      "59416.0          1\n",
      "131069.0         1\n",
      "Name: statistics_statistics_likeCount, Length: 77998, dtype: int64\n",
      "-----------------------------dislike count--------------------------------------------------\n",
      "NaN         114210\n",
      "0.0          32301\n",
      "1.0          21422\n",
      "2.0          15289\n",
      "3.0          11339\n",
      "             ...  \n",
      "264679.0         1\n",
      "16542.0          1\n",
      "16541.0          1\n",
      "16538.0          1\n",
      "131067.0         1\n",
      "Name: statistics_statistics_dislikeCount, Length: 20082, dtype: int64\n",
      "-----------------------------view count--------------------------------------------------\n",
      "NaN           112491\n",
      "235.0            112\n",
      "197.0            110\n",
      "165.0            109\n",
      "270.0            108\n",
      "               ...  \n",
      "4807001.0          1\n",
      "300436.0           1\n",
      "4806946.0          1\n",
      "19227747.0         1\n",
      "2097146.0          1\n",
      "Name: statistics_statistics_viewCount, Length: 283456, dtype: int64\n"
     ]
    }
   ],
   "source": [
    "print(\"-----------------------------video Title--------------------------------------------------\")\n",
    "print(raw_videos_df[\"snippet_snippet_title\"].value_counts(dropna=False))\n",
    "print(\"-----------------------------comment count--------------------------------------------------\")\n",
    "print(raw_videos_df[\"statistics_statistics_commentCount\"].value_counts(dropna=False))\n",
    "print(\"-----------------------------like count--------------------------------------------------\")\n",
    "print(raw_videos_df[\"statistics_statistics_likeCount\"].value_counts(dropna=False))\n",
    "print(\"-----------------------------dislike count--------------------------------------------------\")\n",
    "print(raw_videos_df[\"statistics_statistics_dislikeCount\"].value_counts(dropna=False))\n",
    "print(\"-----------------------------view count--------------------------------------------------\")\n",
    "print(raw_videos_df[\"statistics_statistics_viewCount\"].value_counts(dropna=False))"
   ]
  },
  {
   "cell_type": "code",
   "execution_count": 34,
   "metadata": {},
   "outputs": [
    {
     "output_type": "execute_result",
     "data": {
      "text/plain": [
       "169"
      ]
     },
     "metadata": {},
     "execution_count": 34
    }
   ],
   "source": [
    "len(raw_videos_df[\"snippet_snippet_channelId\"].unique()) # but we only have 160 channels"
   ]
  },
  {
   "cell_type": "code",
   "execution_count": 36,
   "metadata": {},
   "outputs": [],
   "source": [
    "#checking video data of those with invalid video Id, are they the ones responsible for the invalid values in other fields?\n",
    "rowsInvalidID = raw_videos_df[raw_videos_df['snippet_snippet_resourceId_videoId'].apply(lambda x: len(str(x)) != len(\"wh1dIIhjjIw\"))] #length != a typical videoID\n"
   ]
  },
  {
   "cell_type": "code",
   "execution_count": 37,
   "metadata": {
    "tags": []
   },
   "outputs": [
    {
     "output_type": "stream",
     "name": "stdout",
     "text": [
      "-----------------------------ChannelID--------------------------------------------------\nyoutube#video               95859\nNaN                         16399\nUC0Ize0RLIbGdH5x4wI45G-A       16\nUCp0hYYBW6IMayGgR-WeoCvQ       13\nUCwiTOchWeKjrJZw7S1H__1g       10\nUC9avFXTdbSo5ATvzTRnAVFg       10\nUCxDZs_ltFFvn0FDHT6kmoXA        4\nUCfYCRj25JJQ41JGPqiqXmJw        3\n117                             1\n165                             1\n408                             1\n670                             1\n688                             1\n47                              1\n724                             1\nName: snippet_snippet_channelId, dtype: int64\n-----------------------------publishedAt--------------------------------------------------\n360                         72997\n360.0                       22862\nNaN                         16412\nUU16niRr50-MSBwiO3YDb3RA        5\nUU4i_9WvfPRTuRWEaWyfKuFw        2\n2020-05-14T05:15:42Z            1\n2016-09-05T07:53:16Z            1\n2015-06-01T09:18:55Z            1\n2018-09-28T19:45:01Z            1\n2018-10-24T07:01:31Z            1\n2018-10-06T16:59:25Z            1\n2018-05-23T05:15:54Z            1\n2019-12-07T08:37:51Z            1\n2015-10-26T19:45:02Z            1\n2019-02-03T08:57:49Z            1\n2014-10-02T00:39:40Z            1\n2018-04-19T06:00:00Z            1\n2020-04-18T02:43:57Z            1\n2018-02-10T19:13:42Z            1\n2014-03-12T08:42:47Z            1\n2020-04-13T16:10:09Z            1\n2019-06-26T18:26:30Z            1\n2019-07-04T21:37:45Z            1\n2019-11-08T01:13:08Z            1\n2019-08-29T18:49:25Z            1\n2017-05-19T13:40:51Z            1\n2020-04-14T18:25:10Z            1\n2018-05-06T14:46:11Z            1\n2017-12-13T15:21:23Z            1\n2014-06-26T07:24:34Z            1\n2018-05-09T14:09:42Z            1\n2017-11-30T09:18:43Z            1\n2016-01-18T16:22:25Z            1\n2019-03-03T15:06:10Z            1\n2015-12-07T15:58:15Z            1\n2018-02-16T17:40:43Z            1\n2015-12-24T16:00:10Z            1\n2017-12-04T21:15:42Z            1\n2018-11-20T18:04:37Z            1\n2020-01-23T04:58:44Z            1\n2020-08-04T13:44:15Z            1\n2018-10-16T20:00:49Z            1\n2014-11-28T16:59:04Z            1\n2018-06-12T13:57:07Z            1\n2014-12-22T09:15:53Z            1\n2019-03-29T14:39:21Z            1\n2018-04-17T08:08:11Z            1\n2018-06-23T10:15:47Z            1\nName: snippet_snippet_publishedAt, dtype: int64\n-----------------------------video ID--------------------------------------------------\n480       72997\n480.0     22862\nNaN       16419\n#NAME?       43\nName: snippet_snippet_resourceId_videoId, dtype: int64\n"
     ]
    }
   ],
   "source": [
    "print(\"-----------------------------ChannelID--------------------------------------------------\")\n",
    "print(rowsInvalidID[\"snippet_snippet_channelId\"].value_counts(dropna=False))\n",
    "# print(\"-----------------------------decription--------------------------------------------------\")\n",
    "# print(rowsInvalidID[\"snippet_snippet_description\"].value_counts(dropna=False))\n",
    "print(\"-----------------------------publishedAt--------------------------------------------------\")\n",
    "print(rowsInvalidID[\"snippet_snippet_publishedAt\"].value_counts(dropna=False))\n",
    "print(\"-----------------------------video ID--------------------------------------------------\")\n",
    "print(rowsInvalidID[\"snippet_snippet_resourceId_videoId\"].value_counts(dropna=False))"
   ]
  },
  {
   "cell_type": "code",
   "execution_count": 59,
   "metadata": {},
   "outputs": [
    {
     "output_type": "stream",
     "name": "stdout",
     "text": [
      "-----------------------------video Title--------------------------------------------------\nNaN                                                                            112265\n0                                                                                  13\nWORLD'S STRANGEST BORDERS                                                           1\nINDIAN FOOD! (ALL THE DISHES) - Fung Bros Food                                      1\nUS vs UK KFC | Food Wars                                                            1\nLGBT Pride in Timor-Leste?                                                          1\nASIAN GUYS TALK NBA (2014-2015 Seasons Preview) | Fung Bros                         1\nThe Internet Couldn't Get Enough Of These Foods In 2017                             1\nTHE HITCHHIKER (Amazing Travel Story)                                               1\nTaco Bell Secret Menu: The Incredible Hulk Burrito | Fast Food Secret Menus         1\nTHIS IS LIBYA 🇱🇾(I can't believe I am here...)                                      1\nCoppia Ferrarese Is A Cross-Shaped Italian Bread | Regional Eats                    1\nMy 3 Scariest Travel Stories 😰                                                      1\nHow to Visit IRAN? 10 Travel Tips                                                   1\nVictoria Falls - The Most FUN Place on Earth?!                                      1\nTHE ORIGINAL HIPPIE (on Lamma Island, Hong Kong)                                    1\nWe Tried A Grilled Cheese Toaster                                                   1\nThey Are Living With CROCODILES (Burkina Faso)                                      1\n🇲🇲 Trying 20¢ Cold Burmese Noodles | Worst Meal Ever!                               1\nA Story to Warm Your Heart :)                                                       1\nASIA TRIP! Taiwan, Hong Kong, Singapore! | Fung Bros                                1\nInside The Factory That Makes NYC's Most Legendary Bread                            1\nFlying the Presidential VIP Boeing 727 Private Jet                                  1\nPizza Served With A Mountain Of Cold Cheese                                         1\nCheesiest Burger In London                                                          1\nIt's a Party at KFC!! (Seriously)                                                   1\nChechnya Isn't What You'd Expect!                                                   1\nTHINGS ASIAN PARENTS DO #8 | Fung Bros                                              1\nASIANS IN AUSTRALIA BEING ADVENTUROUS World Tour | Fung Bros                        1\nQatar Airways Al Safwa First Class Lounge, the best First Class Lounge!             1\nDo Tourists Ruin Travel? | Angkor Wat, Cambodia                                     1\nMALAYSIAN STEREOTYPES? ft. JinnyBoyTV, GrimFilm and more! | Fung Bros               1\nProfessional Chef Debunks 13 Cooking Myths                                          1\nSCARIEST TRAVEL STORIES (Part 3)                                                    1\nIndia's Russian Beach | Arambol 🇷🇺                                                  1\nBEST CHEESESTEAK IN PHILLY? (Pat's VS Geno's) | Fung Bros                           1\nNBA SIGNATURE MOVES 8 - Kevin Durant's Greatest Moments | Fung Bros                 1\nIs This Really Europe?!                                                             1\n2015 GoPro Selfie Video in 33 Countries                                             1\n22 Signs You Were Raised by Chinese Immigrants | Fung Bros                          1\nHOMEMADE ORGANIC BOBA RECIPES?!?! | Fung Bros                                       1\nDominique Ansel Bakery Has Garden-Themed Afternoon Tea                              1\nWorld's BEST Business Class - Qatar Airways Qsuite                                  1\nMy Thoughts on Tipping in the USA                                                   1\nThis is 1,900 Years Old (DJEMILA, ALGERIA)                                          1\nName: snippet_snippet_title, dtype: int64\n-----------------------------comment count--------------------------------------------------\nNaN       112278\n159.0          1\n821.0          1\n410.0          1\n1124.0         1\n945.0          1\n1632.0         1\n5479.0         1\n203.0          1\n416.0          1\n276.0          1\n1615.0         1\n3738.0         1\n274.0          1\n42.0           1\n2172.0         1\n543.0          1\n3634.0         1\n195.0          1\n1037.0         1\n128.0          1\n119.0          1\n1534.0         1\n702.0          1\n74.0           1\n1773.0         1\n3031.0         1\n4050.0         1\n754.0          1\n28.0           1\n103.0          1\n1712.0         1\n9487.0         1\n2366.0         1\n9204.0         1\n975.0          1\n358.0          1\n562.0          1\n355.0          1\n4646.0         1\n354.0          1\n64.0           1\n104.0          1\n414.0          1\nName: statistics_statistics_commentCount, dtype: int64\n-----------------------------like count--------------------------------------------------\nNaN        112278\n5081.0          1\n15180.0         1\n7528.0          1\n4452.0          1\n59788.0         1\n3725.0          1\n12820.0         1\n25619.0         1\n5354.0          1\n8636.0          1\n5307.0          1\n34180.0         1\n456.0           1\n4205.0          1\n24992.0         1\n4186.0          1\n49800.0         1\n66600.0         1\n2053.0          1\n2051.0          1\n5605.0          1\n10176.0         1\n256.0           1\n1181.0          1\n888.0           1\n24097.0         1\n3510.0          1\n1498.0          1\n23870.0         1\n55333.0         1\n11716.0         1\n1190.0          1\n1689.0          1\n705.0           1\n4705.0          1\n74890.0         1\n22794.0         1\n1422.0          1\n7720.0          1\n1673.0          1\n481.0           1\n5646.0          1\n2815.0          1\nName: statistics_statistics_likeCount, dtype: int64\n-----------------------------dislike count--------------------------------------------------\nNaN       112278\n22.0           2\n98.0           2\n29.0           1\n56.0           1\n516.0          1\n192.0          1\n400.0          1\n529.0          1\n1330.0         1\n268.0          1\n1058.0         1\n198.0          1\n1565.0         1\n116.0          1\n18.0           1\n900.0          1\n1027.0         1\n8.0            1\n128.0          1\n30.0           1\n510.0          1\n420.0          1\n1683.0         1\n1778.0         1\n157.0          1\n112.0          1\n47.0           1\n623.0          1\n311.0          1\n45.0           1\n314.0          1\n369.0          1\n124.0          1\n592.0          1\n246.0          1\n20.0           1\n74.0           1\n27.0           1\n486.0          1\n970.0          1\n16.0           1\nName: statistics_statistics_dislikeCount, dtype: int64\n-----------------------------view count--------------------------------------------------\nNaN          112278\n2604905.0         1\n179738.0          1\n1961568.0         1\n359079.0          1\n292993.0          1\n3892002.0         1\n2797286.0         1\n698509.0          1\n347462.0          1\n173414.0          1\n2753244.0         1\n551282.0          1\n58617.0           1\n805299.0          1\n116927.0          1\n116425.0          1\n232304.0          1\n49723.0           1\n198512.0          1\n82132.0           1\n721306.0          1\n114461.0          1\n3937343.0         1\n27798.0           1\n57020.0           1\n40496.0           1\n40357.0           1\n644666.0          1\n320858.0          1\n39930.0           1\n899377.0          1\n382680.0          1\n887053.0          1\n1194680.0         1\n2026245.0         1\n2026114.0         1\n15730.0           1\n2430127.0         1\n46149.0           1\n867534.0          1\n302045.0          1\n107730.0          1\n90234.0           1\nName: statistics_statistics_viewCount, dtype: int64\n"
     ]
    }
   ],
   "source": [
    "print(\"-----------------------------video Title--------------------------------------------------\")\n",
    "print(rowsInvalidID[\"snippet_snippet_title\"].value_counts(dropna=False))\n",
    "print(\"-----------------------------comment count--------------------------------------------------\")\n",
    "print(rowsInvalidID[\"statistics_statistics_commentCount\"].value_counts(dropna=False))\n",
    "print(\"-----------------------------like count--------------------------------------------------\")\n",
    "print(rowsInvalidID[\"statistics_statistics_likeCount\"].value_counts(dropna=False))\n",
    "print(\"-----------------------------dislike count--------------------------------------------------\")\n",
    "print(rowsInvalidID[\"statistics_statistics_dislikeCount\"].value_counts(dropna=False))\n",
    "print(\"-----------------------------view count--------------------------------------------------\")\n",
    "print(rowsInvalidID[\"statistics_statistics_viewCount\"].value_counts(dropna=False))"
   ]
  },
  {
   "cell_type": "code",
   "execution_count": 38,
   "metadata": {},
   "outputs": [
    {
     "output_type": "execute_result",
     "data": {
      "text/plain": [
       "      snippet_snippet_channelId  \\\n",
       "42843  UCp0hYYBW6IMayGgR-WeoCvQ   \n",
       "42844             youtube#video   \n",
       "43131  UCp0hYYBW6IMayGgR-WeoCvQ   \n",
       "43132             youtube#video   \n",
       "43401  UCp0hYYBW6IMayGgR-WeoCvQ   \n",
       "\n",
       "                             snippet_snippet_description  \\\n",
       "42843  Check out Ellen’s fun new game in which you tr...   \n",
       "42844                                                 90   \n",
       "43131  Ellen sent her friend Kathy on a Carnival crui...   \n",
       "43132                                                 90   \n",
       "43401  Ellen sent her executive producer Andy Lassner...   \n",
       "\n",
       "      snippet_snippet_publishedAt snippet_snippet_resourceId_videoId  \\\n",
       "42843                         NaN                                NaN   \n",
       "42844                         360                                480   \n",
       "43131                         NaN                                NaN   \n",
       "43132                         360                                480   \n",
       "43401                         NaN                                NaN   \n",
       "\n",
       "      snippet_snippet_thumbnails_default_url snippet_snippet_title  \\\n",
       "42843                                    NaN                   NaN   \n",
       "42844                                    NaN                     0   \n",
       "43131                                    NaN                   NaN   \n",
       "43132                                    NaN                     0   \n",
       "43401                                    NaN                   NaN   \n",
       "\n",
       "       statistics_statistics_commentCount  statistics_statistics_dislikeCount  \\\n",
       "42843                                 NaN                                 NaN   \n",
       "42844                                 NaN                                 NaN   \n",
       "43131                                 NaN                                 NaN   \n",
       "43132                                 NaN                                 NaN   \n",
       "43401                                 NaN                                 NaN   \n",
       "\n",
       "       statistics_statistics_likeCount  statistics_statistics_viewCount  \n",
       "42843                              NaN                              NaN  \n",
       "42844                              NaN                              NaN  \n",
       "43131                              NaN                              NaN  \n",
       "43132                              NaN                              NaN  \n",
       "43401                              NaN                              NaN  "
      ],
      "text/html": "<div>\n<style scoped>\n    .dataframe tbody tr th:only-of-type {\n        vertical-align: middle;\n    }\n\n    .dataframe tbody tr th {\n        vertical-align: top;\n    }\n\n    .dataframe thead th {\n        text-align: right;\n    }\n</style>\n<table border=\"1\" class=\"dataframe\">\n  <thead>\n    <tr style=\"text-align: right;\">\n      <th></th>\n      <th>snippet_snippet_channelId</th>\n      <th>snippet_snippet_description</th>\n      <th>snippet_snippet_publishedAt</th>\n      <th>snippet_snippet_resourceId_videoId</th>\n      <th>snippet_snippet_thumbnails_default_url</th>\n      <th>snippet_snippet_title</th>\n      <th>statistics_statistics_commentCount</th>\n      <th>statistics_statistics_dislikeCount</th>\n      <th>statistics_statistics_likeCount</th>\n      <th>statistics_statistics_viewCount</th>\n    </tr>\n  </thead>\n  <tbody>\n    <tr>\n      <td>42843</td>\n      <td>UCp0hYYBW6IMayGgR-WeoCvQ</td>\n      <td>Check out Ellen’s fun new game in which you tr...</td>\n      <td>NaN</td>\n      <td>NaN</td>\n      <td>NaN</td>\n      <td>NaN</td>\n      <td>NaN</td>\n      <td>NaN</td>\n      <td>NaN</td>\n      <td>NaN</td>\n    </tr>\n    <tr>\n      <td>42844</td>\n      <td>youtube#video</td>\n      <td>90</td>\n      <td>360</td>\n      <td>480</td>\n      <td>NaN</td>\n      <td>0</td>\n      <td>NaN</td>\n      <td>NaN</td>\n      <td>NaN</td>\n      <td>NaN</td>\n    </tr>\n    <tr>\n      <td>43131</td>\n      <td>UCp0hYYBW6IMayGgR-WeoCvQ</td>\n      <td>Ellen sent her friend Kathy on a Carnival crui...</td>\n      <td>NaN</td>\n      <td>NaN</td>\n      <td>NaN</td>\n      <td>NaN</td>\n      <td>NaN</td>\n      <td>NaN</td>\n      <td>NaN</td>\n      <td>NaN</td>\n    </tr>\n    <tr>\n      <td>43132</td>\n      <td>youtube#video</td>\n      <td>90</td>\n      <td>360</td>\n      <td>480</td>\n      <td>NaN</td>\n      <td>0</td>\n      <td>NaN</td>\n      <td>NaN</td>\n      <td>NaN</td>\n      <td>NaN</td>\n    </tr>\n    <tr>\n      <td>43401</td>\n      <td>UCp0hYYBW6IMayGgR-WeoCvQ</td>\n      <td>Ellen sent her executive producer Andy Lassner...</td>\n      <td>NaN</td>\n      <td>NaN</td>\n      <td>NaN</td>\n      <td>NaN</td>\n      <td>NaN</td>\n      <td>NaN</td>\n      <td>NaN</td>\n      <td>NaN</td>\n    </tr>\n  </tbody>\n</table>\n</div>"
     },
     "metadata": {},
     "execution_count": 38
    }
   ],
   "source": [
    "rowsInvalidID.head()"
   ]
  },
  {
   "cell_type": "code",
   "execution_count": 59,
   "metadata": {},
   "outputs": [],
   "source": [
    "raw_videos_df2 = raw_videos_df[raw_videos_df['snippet_snippet_resourceId_videoId'].apply(lambda x: len(str(x)) == len(\"wh1dIIhjjIw\"))] #extract rows w/ id = a typical videoID"
   ]
  },
  {
   "cell_type": "code",
   "execution_count": 40,
   "metadata": {
    "tags": []
   },
   "outputs": [
    {
     "output_type": "stream",
     "name": "stdout",
     "text": [
      "-----------------------------ChannelID--------------------------------------------------\n",
      "UCVSNOxehfALut52NbkfRBaA    20000\n",
      "UChLtXXpo4Ge1ReTEboVvTDg    20000\n",
      "UC8p1vwvWtl6T73JiExfWs1g    20000\n",
      "UCupvZG-5ko_eiXAupbDfxWw    20000\n",
      "UCBi2mrWuNuyYy4gbM6fU18Q    20000\n",
      "                            ...  \n",
      "UCI8FQkQ-Iv73GZcsJ-6pNWw       74\n",
      "UCB7BryuXaMe1pUMznYAq4Jg       57\n",
      "UCAL3JXZSzSm8AlZyD3nQdBA       51\n",
      "UCiGm_E4ZwYSHV3bcW1pnSeQ       31\n",
      "UCBP4B896svWOcWdRp8UjH2Q       28\n",
      "Name: snippet_snippet_channelId, Length: 160, dtype: int64\n",
      "-----------------------------publishedAt--------------------------------------------------\n",
      "2009-08-25T16:11:38Z    17\n",
      "2009-08-25T16:11:39Z    12\n",
      "2009-09-04T11:35:47Z    12\n",
      "2009-10-15T13:50:57Z    10\n",
      "2010-02-05T10:52:56Z    10\n",
      "                        ..\n",
      "2019-08-26T23:02:19Z     1\n",
      "2019-10-26T12:33:22Z     1\n",
      "2020-07-30T21:00:06Z     1\n",
      "2016-04-21T16:50:55Z     1\n",
      "2020-04-29T21:07:40Z     1\n",
      "Name: snippet_snippet_publishedAt, Length: 472209, dtype: int64\n",
      "-----------------------------video ID--------------------------------------------------\n",
      "y6Me3XXR8T4    1\n",
      "BIqFl1Kv6X0    1\n",
      "sVJmua0CkhE    1\n",
      "UpVOYnO5tc8    1\n",
      "8dTelszbObM    1\n",
      "              ..\n",
      "RLMpH2w6Jvw    1\n",
      "3w-MGV1cC78    1\n",
      "RFrPqZu0d7o    1\n",
      "DMI298-yv4Q    1\n",
      "0O3gEPaMZkk    1\n",
      "Name: snippet_snippet_resourceId_videoId, Length: 474488, dtype: int64\n"
     ]
    }
   ],
   "source": [
    "print(\"-----------------------------ChannelID--------------------------------------------------\")\n",
    "print(raw_videos_df2[\"snippet_snippet_channelId\"].value_counts(dropna=False))\n",
    "# print(\"-----------------------------decription--------------------------------------------------\")\n",
    "# print(raw_videos_df2[\"snippet_snippet_description\"].value_counts(dropna=False))\n",
    "print(\"-----------------------------publishedAt--------------------------------------------------\")\n",
    "print(raw_videos_df2[\"snippet_snippet_publishedAt\"].value_counts(dropna=False))\n",
    "print(\"-----------------------------video ID--------------------------------------------------\")\n",
    "print(raw_videos_df2[\"snippet_snippet_resourceId_videoId\"].value_counts(dropna=False))"
   ]
  },
  {
   "cell_type": "code",
   "execution_count": 63,
   "metadata": {},
   "outputs": [
    {
     "output_type": "stream",
     "name": "stdout",
     "text": [
      "-----------------------------video Title--------------------------------------------------\n",
      "DAILY MOFA BRIEFING                                                        149\n",
      "NBA Meme Team - Top 5                                                      103\n",
      "Обзор игрушек                                                               75\n",
      "NBA Bloopers: The Starters                                                  70\n",
      "Top 10 Plays: The Starters                                                  65\n",
      "                                                                          ... \n",
      "Christine (1983) - Run, Moochie, Run Scene (5/10) | Movieclips               1\n",
      "LIGHTSABER DUELS | Dino Horde Duels #1                                       1\n",
      "The Fourth Phase (2016) - I'm Scared, Finally Scene (7/10) | Movieclips      1\n",
      "UFC Vegas 6: Fighters You Should Know                                        1\n",
      "6 things you  need to know before tonight's Raw: April 16, 2018              1\n",
      "Name: snippet_snippet_title, Length: 465678, dtype: int64\n",
      "-----------------------------comment count--------------------------------------------------\n",
      "0.0        34365\n",
      "NaN        17875\n",
      "1.0        17726\n",
      "2.0        12722\n",
      "3.0         9184\n",
      "           ...  \n",
      "23369.0        1\n",
      "31018.0        1\n",
      "23367.0        1\n",
      "11683.0        1\n",
      "89940.0        1\n",
      "Name: statistics_statistics_commentCount, Length: 22803, dtype: int64\n",
      "-----------------------------like count--------------------------------------------------\n",
      "2.0         5425\n",
      "3.0         5310\n",
      "4.0         4914\n",
      "1.0         4716\n",
      "5.0         4335\n",
      "            ... \n",
      "457078.0       1\n",
      "90199.0        1\n",
      "721579.0       1\n",
      "721572.0       1\n",
      "95034.0        1\n",
      "Name: statistics_statistics_likeCount, Length: 77993, dtype: int64\n",
      "-----------------------------dislike count--------------------------------------------------\n",
      "0.0        32301\n",
      "1.0        21422\n",
      "2.0        15289\n",
      "3.0        11339\n",
      "4.0         9272\n",
      "           ...  \n",
      "49673.0        1\n",
      "9104.0         1\n",
      "99342.0        1\n",
      "49668.0        1\n",
      "23799.0        1\n",
      "Name: statistics_statistics_dislikeCount, Length: 20082, dtype: int64\n",
      "-----------------------------view count--------------------------------------------------\n",
      "NaN           213\n",
      "235.0         112\n",
      "197.0         110\n",
      "165.0         109\n",
      "270.0         108\n",
      "             ... \n",
      "26575106.0      1\n",
      "3321881.0       1\n",
      "4158077.0       1\n",
      "345103.0        1\n",
      "2097146.0       1\n",
      "Name: statistics_statistics_viewCount, Length: 283425, dtype: int64\n"
     ]
    }
   ],
   "source": [
    "print(\"-----------------------------video Title--------------------------------------------------\")\n",
    "print(raw_videos_df2[\"snippet_snippet_title\"].value_counts(dropna=False))\n",
    "print(\"-----------------------------comment count--------------------------------------------------\")\n",
    "print(raw_videos_df2[\"statistics_statistics_commentCount\"].value_counts(dropna=False))\n",
    "print(\"-----------------------------like count--------------------------------------------------\")\n",
    "print(raw_videos_df2[\"statistics_statistics_likeCount\"].value_counts(dropna=False))\n",
    "print(\"-----------------------------dislike count--------------------------------------------------\")\n",
    "print(raw_videos_df2[\"statistics_statistics_dislikeCount\"].value_counts(dropna=False))\n",
    "print(\"-----------------------------view count--------------------------------------------------\")\n",
    "print(raw_videos_df2[\"statistics_statistics_viewCount\"].value_counts(dropna=False))"
   ]
  },
  {
   "cell_type": "code",
   "execution_count": 60,
   "metadata": {},
   "outputs": [
    {
     "output_type": "execute_result",
     "data": {
      "text/plain": [
       "(474488, 10)"
      ]
     },
     "metadata": {},
     "execution_count": 60
    }
   ],
   "source": [
    "raw_videos_df2.shape"
   ]
  },
  {
   "cell_type": "code",
   "execution_count": 41,
   "metadata": {},
   "outputs": [],
   "source": [
    "### Extract only videos from the past 5 years\n",
    "from time import gmtime, strftime\n",
    "from datetime import datetime\n",
    "import re"
   ]
  },
  {
   "cell_type": "code",
   "execution_count": 61,
   "metadata": {},
   "outputs": [],
   "source": [
    "raw_videos_df2['snippet_snippet_publishedAt'] = raw_videos_df2['snippet_snippet_publishedAt'].astype(str)\n",
    "raw_videos_df2['snippet_snippet_publishedAt'] = raw_videos_df2['snippet_snippet_publishedAt'].apply(lambda x: re.sub('[TZ]',' ',x))\n",
    "raw_videos_df2['snippet_snippet_publishedAt'] = raw_videos_df2['snippet_snippet_publishedAt'].map(lambda x: datetime.strptime(x, '%Y-%m-%d %H:%M:%S ')) "
   ]
  },
  {
   "cell_type": "code",
   "execution_count": 62,
   "metadata": {},
   "outputs": [],
   "source": [
    "raw_videos_df2 = raw_videos_df2[raw_videos_df2['snippet_snippet_publishedAt'] >= pd.Timestamp(datetime(2015,1,1))]"
   ]
  },
  {
   "cell_type": "code",
   "execution_count": 63,
   "metadata": {},
   "outputs": [
    {
     "output_type": "execute_result",
     "data": {
      "text/plain": [
       "(408765, 10)"
      ]
     },
     "metadata": {},
     "execution_count": 63
    }
   ],
   "source": [
    "raw_videos_df2.shape"
   ]
  },
  {
   "cell_type": "code",
   "execution_count": 66,
   "metadata": {},
   "outputs": [],
   "source": [
    "#drop rows that have null likeCount, dislikeCount,viewCount and commentCount\n",
    "raw_videos_df2 = raw_videos_df2.dropna(subset=[\"statistics_statistics_likeCount\",'statistics_statistics_dislikeCount','statistics_statistics_viewCount','statistics_statistics_commentCount'],how='all')"
   ]
  },
  {
   "cell_type": "code",
   "execution_count": 67,
   "metadata": {},
   "outputs": [
    {
     "output_type": "execute_result",
     "data": {
      "text/plain": [
       "(408690, 10)"
      ]
     },
     "metadata": {},
     "execution_count": 67
    }
   ],
   "source": [
    "raw_videos_df2.shape"
   ]
  },
  {
   "cell_type": "code",
   "execution_count": 68,
   "metadata": {},
   "outputs": [
    {
     "output_type": "stream",
     "name": "stdout",
     "text": [
      "-----------------------------ChannelID--------------------------------------------------\n",
      "UCsT0YIqwnpJCM-mx7-gSA4Q    20000\n",
      "UCBi2mrWuNuyYy4gbM6fU18Q    20000\n",
      "UCeY0bbntWzzVIaj2z3QigXg    20000\n",
      "UCVSNOxehfALut52NbkfRBaA    20000\n",
      "UC8p1vwvWtl6T73JiExfWs1g    20000\n",
      "                            ...  \n",
      "UCBP4B896svWOcWdRp8UjH2Q       28\n",
      "UC2xskkQVFEpLcGFnNSLQY0A       22\n",
      "UCb2HGwORFBo94DmRx4oLzow       20\n",
      "UCNL1ZadSjHpjm4q9j2sVtOA       17\n",
      "UCPNxhDvTcytIdvwXWAm43cA       13\n",
      "Name: snippet_snippet_channelId, Length: 160, dtype: int64\n",
      "-----------------------------publishedAt--------------------------------------------------\n",
      "2020-05-01 17:03:32    7\n",
      "2015-10-13 00:19:14    5\n",
      "2020-05-02 01:27:56    5\n",
      "2020-05-02 02:24:04    5\n",
      "2017-12-28 08:24:55    4\n",
      "                      ..\n",
      "2018-08-24 20:40:52    1\n",
      "2019-10-16 01:34:24    1\n",
      "2017-03-09 19:15:40    1\n",
      "2019-03-14 15:26:00    1\n",
      "2019-09-20 23:05:14    1\n",
      "Name: snippet_snippet_publishedAt, Length: 406854, dtype: int64\n",
      "-----------------------------video ID--------------------------------------------------\n",
      "y6Me3XXR8T4    1\n",
      "OixsK7u_Wk4    1\n",
      "YV0SnMGeatQ    1\n",
      "wPDuIsU0-Xg    1\n",
      "fwijCB6cH-0    1\n",
      "              ..\n",
      "ogmpqTGy-O4    1\n",
      "iJvM-VuI7e0    1\n",
      "JkF7KQlq7is    1\n",
      "plu4CKLFDPs    1\n",
      "0O3gEPaMZkk    1\n",
      "Name: snippet_snippet_resourceId_videoId, Length: 408690, dtype: int64\n"
     ]
    }
   ],
   "source": [
    "print(\"-----------------------------ChannelID--------------------------------------------------\")\n",
    "print(raw_videos_df2[\"snippet_snippet_channelId\"].value_counts(dropna=False))\n",
    "# print(\"-----------------------------decription--------------------------------------------------\")\n",
    "# print(raw_videos_df2[\"snippet_snippet_description\"].value_counts(dropna=False))\n",
    "print(\"-----------------------------publishedAt--------------------------------------------------\")\n",
    "print(raw_videos_df2[\"snippet_snippet_publishedAt\"].value_counts(dropna=False))\n",
    "print(\"-----------------------------video ID--------------------------------------------------\")\n",
    "print(raw_videos_df2[\"snippet_snippet_resourceId_videoId\"].value_counts(dropna=False))"
   ]
  },
  {
   "cell_type": "code",
   "execution_count": 69,
   "metadata": {},
   "outputs": [
    {
     "output_type": "stream",
     "name": "stdout",
     "text": [
      "-----------------------------video Title--------------------------------------------------\n",
      "DAILY MOFA BRIEFING                                              149\n",
      "NBA Meme Team - Top 5                                            103\n",
      "Обзор игрушек                                                     70\n",
      "Top 10 Plays: The Starters                                        65\n",
      "NBA Bloopers: The Starters                                        63\n",
      "                                                                ... \n",
      "The 20 Best Food at TRADER JOE'S...YOU MUST BUY! | Fung Bros       1\n",
      "Trump: ‘Stay at home and save lives’                               1\n",
      "33 EPIC TEXT MESSAGE FAILS                                         1\n",
      "Karl Anthony-Towns Asks Frank Kaminsky \"What Are Those?\"           1\n",
      "US soccer star Megan Rapinoe on staying focused for semifinal      1\n",
      "Name: snippet_snippet_title, Length: 400408, dtype: int64\n",
      "-----------------------------comment count--------------------------------------------------\n",
      "0.0          28696\n",
      "NaN          16134\n",
      "1.0          15586\n",
      "2.0          11425\n",
      "3.0           8261\n",
      "             ...  \n",
      "22144.0          1\n",
      "22869.0          1\n",
      "30035.0          1\n",
      "22865.0          1\n",
      "1526278.0        1\n",
      "Name: statistics_statistics_commentCount, Length: 21396, dtype: int64\n",
      "-----------------------------like count--------------------------------------------------\n",
      "3.0         4728\n",
      "2.0         4635\n",
      "4.0         4475\n",
      "5.0         3986\n",
      "1.0         3656\n",
      "            ... \n",
      "189022.0       1\n",
      "31384.0        1\n",
      "47255.0        1\n",
      "378038.0       1\n",
      "22018.0        1\n",
      "Name: statistics_statistics_likeCount, Length: 71648, dtype: int64\n",
      "-----------------------------dislike count--------------------------------------------------\n",
      "0.0         27281\n",
      "1.0         19073\n",
      "2.0         13661\n",
      "3.0          9916\n",
      "4.0          8156\n",
      "            ...  \n",
      "24877.0         1\n",
      "17988.0         1\n",
      "199010.0        1\n",
      "10032.0         1\n",
      "23807.0         1\n",
      "Name: statistics_statistics_dislikeCount, Length: 19411, dtype: int64\n",
      "-----------------------------view count--------------------------------------------------\n",
      "NaN           107\n",
      "184.0         102\n",
      "270.0         101\n",
      "223.0         100\n",
      "235.0          99\n",
      "             ... \n",
      "3335125.0       1\n",
      "1667560.0       1\n",
      "87394.0         1\n",
      "364452.0        1\n",
      "12228869.0      1\n",
      "Name: statistics_statistics_viewCount, Length: 243947, dtype: int64\n"
     ]
    }
   ],
   "source": [
    "print(\"-----------------------------video Title--------------------------------------------------\")\n",
    "print(raw_videos_df2[\"snippet_snippet_title\"].value_counts(dropna=False))\n",
    "print(\"-----------------------------comment count--------------------------------------------------\")\n",
    "print(raw_videos_df2[\"statistics_statistics_commentCount\"].value_counts(dropna=False))\n",
    "print(\"-----------------------------like count--------------------------------------------------\")\n",
    "print(raw_videos_df2[\"statistics_statistics_likeCount\"].value_counts(dropna=False))\n",
    "print(\"-----------------------------dislike count--------------------------------------------------\")\n",
    "print(raw_videos_df2[\"statistics_statistics_dislikeCount\"].value_counts(dropna=False))\n",
    "print(\"-----------------------------view count--------------------------------------------------\")\n",
    "print(raw_videos_df2[\"statistics_statistics_viewCount\"].value_counts(dropna=False))"
   ]
  },
  {
   "cell_type": "code",
   "execution_count": 70,
   "metadata": {},
   "outputs": [
    {
     "output_type": "execute_result",
     "data": {
      "text/plain": [
       "     statistics_statistics_commentCount  statistics_statistics_dislikeCount  \\\n",
       "min                                 0.0                                 0.0   \n",
       "max                           2921705.0                          18429502.0   \n",
       "\n",
       "     statistics_statistics_likeCount  statistics_statistics_viewCount  \n",
       "min                              0.0                     0.000000e+00  \n",
       "max                       24568733.0                     6.810774e+09  "
      ],
      "text/html": "<div>\n<style scoped>\n    .dataframe tbody tr th:only-of-type {\n        vertical-align: middle;\n    }\n\n    .dataframe tbody tr th {\n        vertical-align: top;\n    }\n\n    .dataframe thead th {\n        text-align: right;\n    }\n</style>\n<table border=\"1\" class=\"dataframe\">\n  <thead>\n    <tr style=\"text-align: right;\">\n      <th></th>\n      <th>statistics_statistics_commentCount</th>\n      <th>statistics_statistics_dislikeCount</th>\n      <th>statistics_statistics_likeCount</th>\n      <th>statistics_statistics_viewCount</th>\n    </tr>\n  </thead>\n  <tbody>\n    <tr>\n      <td>min</td>\n      <td>0.0</td>\n      <td>0.0</td>\n      <td>0.0</td>\n      <td>0.000000e+00</td>\n    </tr>\n    <tr>\n      <td>max</td>\n      <td>2921705.0</td>\n      <td>18429502.0</td>\n      <td>24568733.0</td>\n      <td>6.810774e+09</td>\n    </tr>\n  </tbody>\n</table>\n</div>"
     },
     "metadata": {},
     "execution_count": 70
    }
   ],
   "source": [
    "raw_videos_df2.describe().loc[['min','max']]"
   ]
  },
  {
   "source": [
    "#### FInalised video data"
   ],
   "cell_type": "markdown",
   "metadata": {}
  },
  {
   "cell_type": "code",
   "execution_count": 71,
   "metadata": {},
   "outputs": [],
   "source": [
    "#rename columns\n",
    "videos_df = raw_videos_df2.rename(columns={'snippet_snippet_channelId': 'channelId', 'snippet_snippet_description': 'description','snippet_snippet_publishedAt':'publishedAt','snippet_snippet_resourceId_videoId':'videoId',\n",
    "'snippet_snippet_thumbnails_default_url':'thumbnails',\n",
    "'snippet_snippet_title':'videoTitle',\n",
    "'statistics_statistics_commentCount':'commentCount',\n",
    "'statistics_statistics_likeCount':'likeCount', 'statistics_statistics_dislikeCount':'dislikeCount','statistics_statistics_viewCount':'viewCount'})"
   ]
  },
  {
   "cell_type": "code",
   "execution_count": 72,
   "metadata": {},
   "outputs": [
    {
     "output_type": "execute_result",
     "data": {
      "text/plain": [
       "                     channelId  \\\n",
       "0     UCjOl2AUblVmg2rA_cRgZkFg   \n",
       "1     UCjOl2AUblVmg2rA_cRgZkFg   \n",
       "2     UCjOl2AUblVmg2rA_cRgZkFg   \n",
       "3     UCjOl2AUblVmg2rA_cRgZkFg   \n",
       "4     UCjOl2AUblVmg2rA_cRgZkFg   \n",
       "...                        ...   \n",
       "3250  UCwiTOchWeKjrJZw7S1H__1g   \n",
       "3251  UCwiTOchWeKjrJZw7S1H__1g   \n",
       "3252  UCwiTOchWeKjrJZw7S1H__1g   \n",
       "3253  UCwiTOchWeKjrJZw7S1H__1g   \n",
       "3254  UCwiTOchWeKjrJZw7S1H__1g   \n",
       "\n",
       "                                            description         publishedAt  \\\n",
       "0     In this week's Top Gear, Flintoff gets his han... 2020-10-09 09:35:54   \n",
       "1     From the humble new Volkswagen GTI, right down... 2020-10-09 11:21:23   \n",
       "2     Here's Chris Harris' take on the rocket-disgui... 2020-10-07 07:40:22   \n",
       "3     16 contenders, 8,553bhp and a festival to reme... 2020-10-06 13:59:38   \n",
       "4     The 986bhp Ferrari SF90 is, unsurprisingly, no... 2020-10-06 07:36:13   \n",
       "...                                                 ...                 ...   \n",
       "3250  London cafe Sloane Brothers sells rainbow crep... 2017-02-28 18:04:16   \n",
       "3251  Run by the Condurro family since the 1870s and... 2017-02-06 09:28:13   \n",
       "3252  People line up for hours at the Good Food Karv... 2016-04-28 17:38:03   \n",
       "3253  We went to one of the eight Ping Pong restaura... 2016-04-28 17:32:27   \n",
       "3254  We tried out a 5-course avocado meal at a pop-... 2016-04-28 16:55:13   \n",
       "\n",
       "          videoId                                      thumbnails  \\\n",
       "0     NXX338WY_Lw  https://i.ytimg.com/vi/NXX338WY_Lw/default.jpg   \n",
       "1     dtHcdU2c71Y  https://i.ytimg.com/vi/dtHcdU2c71Y/default.jpg   \n",
       "2     vnrtWe-RAzg  https://i.ytimg.com/vi/vnrtWe-RAzg/default.jpg   \n",
       "3     Ra1F0TsOCPs  https://i.ytimg.com/vi/Ra1F0TsOCPs/default.jpg   \n",
       "4     fXysipmTxcQ  https://i.ytimg.com/vi/fXysipmTxcQ/default.jpg   \n",
       "...           ...                                             ...   \n",
       "3250  DaoL1-H1ReE  https://i.ytimg.com/vi/DaoL1-H1ReE/default.jpg   \n",
       "3251  ERMJ5xE7-6A  https://i.ytimg.com/vi/ERMJ5xE7-6A/default.jpg   \n",
       "3252  scdq2xfCE34  https://i.ytimg.com/vi/scdq2xfCE34/default.jpg   \n",
       "3253  HgJI5ybtk5Y  https://i.ytimg.com/vi/HgJI5ybtk5Y/default.jpg   \n",
       "3254  zg2yqK-5_U0  https://i.ytimg.com/vi/zg2yqK-5_U0/default.jpg   \n",
       "\n",
       "                                             videoTitle  commentCount  \\\n",
       "0     PREVIEW: Attempting 200mph in the Jaguar XJ220...         528.0   \n",
       "1     Which car will win Top Gear Speed Week 2020? (...         568.0   \n",
       "2     Chris Harris on... the Ferrari SF90 Stradale |...        1091.0   \n",
       "3     Chris Harris vs 2020’s Best Performance Cars |...         579.0   \n",
       "4     FASTEST TOP GEAR LAP? Ferrari SF90 Stiglap | T...         888.0   \n",
       "...                                                 ...           ...   \n",
       "3250             Rainbow crepes with chocolate brownies           4.0   \n",
       "3251          The \"world's best pizzeria'\" is in London          43.0   \n",
       "3252             Ice cream-filled donut cones in Prague           7.0   \n",
       "3253            Inside London's dim sum chain Ping Pong           5.0   \n",
       "3254  Pop-up restaurant only serves avocado food and...          29.0   \n",
       "\n",
       "      dislikeCount  likeCount  viewCount  \n",
       "0            257.0     5819.0   184447.0  \n",
       "1            273.0     7136.0   217619.0  \n",
       "2            408.0    10189.0   437777.0  \n",
       "3            202.0     7126.0   191070.0  \n",
       "4            168.0     9697.0   572569.0  \n",
       "...            ...        ...        ...  \n",
       "3250           4.0       75.0     5555.0  \n",
       "3251          25.0      424.0    36623.0  \n",
       "3252           4.0      114.0     9213.0  \n",
       "3253           3.0       64.0     5868.0  \n",
       "3254          17.0      114.0     5930.0  \n",
       "\n",
       "[408690 rows x 10 columns]"
      ],
      "text/html": "<div>\n<style scoped>\n    .dataframe tbody tr th:only-of-type {\n        vertical-align: middle;\n    }\n\n    .dataframe tbody tr th {\n        vertical-align: top;\n    }\n\n    .dataframe thead th {\n        text-align: right;\n    }\n</style>\n<table border=\"1\" class=\"dataframe\">\n  <thead>\n    <tr style=\"text-align: right;\">\n      <th></th>\n      <th>channelId</th>\n      <th>description</th>\n      <th>publishedAt</th>\n      <th>videoId</th>\n      <th>thumbnails</th>\n      <th>videoTitle</th>\n      <th>commentCount</th>\n      <th>dislikeCount</th>\n      <th>likeCount</th>\n      <th>viewCount</th>\n    </tr>\n  </thead>\n  <tbody>\n    <tr>\n      <td>0</td>\n      <td>UCjOl2AUblVmg2rA_cRgZkFg</td>\n      <td>In this week's Top Gear, Flintoff gets his han...</td>\n      <td>2020-10-09 09:35:54</td>\n      <td>NXX338WY_Lw</td>\n      <td>https://i.ytimg.com/vi/NXX338WY_Lw/default.jpg</td>\n      <td>PREVIEW: Attempting 200mph in the Jaguar XJ220...</td>\n      <td>528.0</td>\n      <td>257.0</td>\n      <td>5819.0</td>\n      <td>184447.0</td>\n    </tr>\n    <tr>\n      <td>1</td>\n      <td>UCjOl2AUblVmg2rA_cRgZkFg</td>\n      <td>From the humble new Volkswagen GTI, right down...</td>\n      <td>2020-10-09 11:21:23</td>\n      <td>dtHcdU2c71Y</td>\n      <td>https://i.ytimg.com/vi/dtHcdU2c71Y/default.jpg</td>\n      <td>Which car will win Top Gear Speed Week 2020? (...</td>\n      <td>568.0</td>\n      <td>273.0</td>\n      <td>7136.0</td>\n      <td>217619.0</td>\n    </tr>\n    <tr>\n      <td>2</td>\n      <td>UCjOl2AUblVmg2rA_cRgZkFg</td>\n      <td>Here's Chris Harris' take on the rocket-disgui...</td>\n      <td>2020-10-07 07:40:22</td>\n      <td>vnrtWe-RAzg</td>\n      <td>https://i.ytimg.com/vi/vnrtWe-RAzg/default.jpg</td>\n      <td>Chris Harris on... the Ferrari SF90 Stradale |...</td>\n      <td>1091.0</td>\n      <td>408.0</td>\n      <td>10189.0</td>\n      <td>437777.0</td>\n    </tr>\n    <tr>\n      <td>3</td>\n      <td>UCjOl2AUblVmg2rA_cRgZkFg</td>\n      <td>16 contenders, 8,553bhp and a festival to reme...</td>\n      <td>2020-10-06 13:59:38</td>\n      <td>Ra1F0TsOCPs</td>\n      <td>https://i.ytimg.com/vi/Ra1F0TsOCPs/default.jpg</td>\n      <td>Chris Harris vs 2020’s Best Performance Cars |...</td>\n      <td>579.0</td>\n      <td>202.0</td>\n      <td>7126.0</td>\n      <td>191070.0</td>\n    </tr>\n    <tr>\n      <td>4</td>\n      <td>UCjOl2AUblVmg2rA_cRgZkFg</td>\n      <td>The 986bhp Ferrari SF90 is, unsurprisingly, no...</td>\n      <td>2020-10-06 07:36:13</td>\n      <td>fXysipmTxcQ</td>\n      <td>https://i.ytimg.com/vi/fXysipmTxcQ/default.jpg</td>\n      <td>FASTEST TOP GEAR LAP? Ferrari SF90 Stiglap | T...</td>\n      <td>888.0</td>\n      <td>168.0</td>\n      <td>9697.0</td>\n      <td>572569.0</td>\n    </tr>\n    <tr>\n      <td>...</td>\n      <td>...</td>\n      <td>...</td>\n      <td>...</td>\n      <td>...</td>\n      <td>...</td>\n      <td>...</td>\n      <td>...</td>\n      <td>...</td>\n      <td>...</td>\n      <td>...</td>\n    </tr>\n    <tr>\n      <td>3250</td>\n      <td>UCwiTOchWeKjrJZw7S1H__1g</td>\n      <td>London cafe Sloane Brothers sells rainbow crep...</td>\n      <td>2017-02-28 18:04:16</td>\n      <td>DaoL1-H1ReE</td>\n      <td>https://i.ytimg.com/vi/DaoL1-H1ReE/default.jpg</td>\n      <td>Rainbow crepes with chocolate brownies</td>\n      <td>4.0</td>\n      <td>4.0</td>\n      <td>75.0</td>\n      <td>5555.0</td>\n    </tr>\n    <tr>\n      <td>3251</td>\n      <td>UCwiTOchWeKjrJZw7S1H__1g</td>\n      <td>Run by the Condurro family since the 1870s and...</td>\n      <td>2017-02-06 09:28:13</td>\n      <td>ERMJ5xE7-6A</td>\n      <td>https://i.ytimg.com/vi/ERMJ5xE7-6A/default.jpg</td>\n      <td>The \"world's best pizzeria'\" is in London</td>\n      <td>43.0</td>\n      <td>25.0</td>\n      <td>424.0</td>\n      <td>36623.0</td>\n    </tr>\n    <tr>\n      <td>3252</td>\n      <td>UCwiTOchWeKjrJZw7S1H__1g</td>\n      <td>People line up for hours at the Good Food Karv...</td>\n      <td>2016-04-28 17:38:03</td>\n      <td>scdq2xfCE34</td>\n      <td>https://i.ytimg.com/vi/scdq2xfCE34/default.jpg</td>\n      <td>Ice cream-filled donut cones in Prague</td>\n      <td>7.0</td>\n      <td>4.0</td>\n      <td>114.0</td>\n      <td>9213.0</td>\n    </tr>\n    <tr>\n      <td>3253</td>\n      <td>UCwiTOchWeKjrJZw7S1H__1g</td>\n      <td>We went to one of the eight Ping Pong restaura...</td>\n      <td>2016-04-28 17:32:27</td>\n      <td>HgJI5ybtk5Y</td>\n      <td>https://i.ytimg.com/vi/HgJI5ybtk5Y/default.jpg</td>\n      <td>Inside London's dim sum chain Ping Pong</td>\n      <td>5.0</td>\n      <td>3.0</td>\n      <td>64.0</td>\n      <td>5868.0</td>\n    </tr>\n    <tr>\n      <td>3254</td>\n      <td>UCwiTOchWeKjrJZw7S1H__1g</td>\n      <td>We tried out a 5-course avocado meal at a pop-...</td>\n      <td>2016-04-28 16:55:13</td>\n      <td>zg2yqK-5_U0</td>\n      <td>https://i.ytimg.com/vi/zg2yqK-5_U0/default.jpg</td>\n      <td>Pop-up restaurant only serves avocado food and...</td>\n      <td>29.0</td>\n      <td>17.0</td>\n      <td>114.0</td>\n      <td>5930.0</td>\n    </tr>\n  </tbody>\n</table>\n<p>408690 rows × 10 columns</p>\n</div>"
     },
     "metadata": {},
     "execution_count": 72
    }
   ],
   "source": [
    "videos_df"
   ]
  },
  {
   "cell_type": "code",
   "execution_count": 73,
   "metadata": {},
   "outputs": [],
   "source": [
    "#write csv\n",
    "videos_df.to_csv('videos_df.csv',index = False, header = True)"
   ]
  },
  {
   "cell_type": "code",
   "execution_count": 74,
   "metadata": {},
   "outputs": [
    {
     "output_type": "stream",
     "name": "stdout",
     "text": [
      "(160, 7)\n(408690, 10)\n"
     ]
    }
   ],
   "source": [
    "print(channel_df.shape)\n",
    "print(videos_df.shape)"
   ]
  },
  {
   "cell_type": "code",
   "execution_count": 76,
   "metadata": {},
   "outputs": [
    {
     "output_type": "stream",
     "name": "stdout",
     "text": [
      "<class 'pandas.core.frame.DataFrame'>\nInt64Index: 408690 entries, 0 to 3254\nData columns (total 10 columns):\nchannelId       408690 non-null object\ndescription     406594 non-null object\npublishedAt     408690 non-null datetime64[ns]\nvideoId         408690 non-null object\nthumbnails      408675 non-null object\nvideoTitle      408690 non-null object\ncommentCount    392556 non-null float64\ndislikeCount    407143 non-null float64\nlikeCount       407143 non-null float64\nviewCount       408583 non-null float64\ndtypes: datetime64[ns](1), float64(4), object(5)\nmemory usage: 34.3+ MB\n"
     ]
    }
   ],
   "source": [
    "videos_df.info()"
   ]
  },
  {
   "cell_type": "code",
   "execution_count": 77,
   "metadata": {},
   "outputs": [
    {
     "output_type": "execute_result",
     "data": {
      "text/plain": [
       "                       channelId  \\\n",
       "1944    UCsAegdhiYLEoaFGuJFVrqFQ   \n",
       "1946    UCsAegdhiYLEoaFGuJFVrqFQ   \n",
       "1949    UCsAegdhiYLEoaFGuJFVrqFQ   \n",
       "1951    UCsAegdhiYLEoaFGuJFVrqFQ   \n",
       "1952    UCsAegdhiYLEoaFGuJFVrqFQ   \n",
       "...                          ...   \n",
       "153900  UCHKVXtT1YBCYUnnr4apqXfg   \n",
       "153906  UCHKVXtT1YBCYUnnr4apqXfg   \n",
       "153909  UCHKVXtT1YBCYUnnr4apqXfg   \n",
       "612     UC9avFXTdbSo5ATvzTRnAVFg   \n",
       "742     UC9avFXTdbSo5ATvzTRnAVFg   \n",
       "\n",
       "                                              description         publishedAt  \\\n",
       "1944                                                  NaN 2019-09-04 21:27:33   \n",
       "1946                                                  NaN 2019-09-04 21:23:06   \n",
       "1949                                                  NaN 2019-09-04 21:17:48   \n",
       "1951                                                  NaN 2019-09-04 19:57:54   \n",
       "1952                                                  NaN 2019-09-09 13:11:47   \n",
       "...                                                   ...                 ...   \n",
       "153900                                                NaN 2016-05-27 15:05:29   \n",
       "153906                                                NaN 2016-03-17 18:57:40   \n",
       "153909                                                NaN 2016-03-02 22:35:09   \n",
       "612     The real reason why Chinese restaurants are cl... 2020-02-10 09:48:12   \n",
       "742     Check Out https://go.onelink.me/GF9q/noasn\\n#1... 2018-10-26 09:54:08   \n",
       "\n",
       "            videoId                                      thumbnails  \\\n",
       "1944    a3PHzPrx8FU  https://i.ytimg.com/vi/a3PHzPrx8FU/default.jpg   \n",
       "1946    bUnHy68I-Jo  https://i.ytimg.com/vi/bUnHy68I-Jo/default.jpg   \n",
       "1949    xB9e8Dal-2o  https://i.ytimg.com/vi/xB9e8Dal-2o/default.jpg   \n",
       "1951    bn_Pimi6BDM  https://i.ytimg.com/vi/bn_Pimi6BDM/default.jpg   \n",
       "1952    aOCkZsWutvM  https://i.ytimg.com/vi/aOCkZsWutvM/default.jpg   \n",
       "...             ...                                             ...   \n",
       "153900  3B2d7hiY_4I  https://i.ytimg.com/vi/3B2d7hiY_4I/default.jpg   \n",
       "153906  W4C8RW8vHpE  https://i.ytimg.com/vi/W4C8RW8vHpE/default.jpg   \n",
       "153909  jXXJAjtKKzY  https://i.ytimg.com/vi/jXXJAjtKKzY/default.jpg   \n",
       "612     O1Jm6SWYKx8  https://i.ytimg.com/vi/O1Jm6SWYKx8/default.jpg   \n",
       "742     52dQSX-DCN0  https://i.ytimg.com/vi/52dQSX-DCN0/default.jpg   \n",
       "\n",
       "                                               videoTitle  commentCount  \\\n",
       "1944    REPLAY: Day 5 – HOT ROD Drag Week from Virgini...         107.0   \n",
       "1946    REPLAY: Day 4 – HOT ROD Drag Week from Marylan...          93.0   \n",
       "1949    REPLAY: Day 3 – HOT ROD Drag Week from Atco Dr...          93.0   \n",
       "1951    REPLAY: Day 2 – HOT ROD Drag Week from Cecil C...         112.0   \n",
       "1952    REPLAY: Day 1 – HOT ROD Drag Week from Virgini...         143.0   \n",
       "...                                                   ...           ...   \n",
       "153900                Cute Cotton Candy Art: Bunny Rabbit          15.0   \n",
       "153906                        Eating Raw Beef in Ethiopia         186.0   \n",
       "153909  Taiwan Street Food - LOBSTER SASHIMI Taiwanese...         296.0   \n",
       "612     WHY CHINESE RESTAURANTS ARE CLOSING DOWN | Fun...           NaN   \n",
       "742     IS HAVING A \"No Asian Policy\" MESSED UP WHEN D...           NaN   \n",
       "\n",
       "        dislikeCount  likeCount  viewCount  \n",
       "1944            82.0     2332.0   211947.0  \n",
       "1946            54.0     1813.0   129627.0  \n",
       "1949            63.0     1432.0   119544.0  \n",
       "1951            61.0     1922.0   171914.0  \n",
       "1952            73.0     1817.0   151603.0  \n",
       "...              ...        ...        ...  \n",
       "153900          50.0      560.0   116090.0  \n",
       "153906         256.0      314.0   120793.0  \n",
       "153909         580.0      704.0   199517.0  \n",
       "612            732.0     8855.0   663343.0  \n",
       "742            595.0     7638.0   460080.0  \n",
       "\n",
       "[17889 rows x 10 columns]"
      ],
      "text/html": "<div>\n<style scoped>\n    .dataframe tbody tr th:only-of-type {\n        vertical-align: middle;\n    }\n\n    .dataframe tbody tr th {\n        vertical-align: top;\n    }\n\n    .dataframe thead th {\n        text-align: right;\n    }\n</style>\n<table border=\"1\" class=\"dataframe\">\n  <thead>\n    <tr style=\"text-align: right;\">\n      <th></th>\n      <th>channelId</th>\n      <th>description</th>\n      <th>publishedAt</th>\n      <th>videoId</th>\n      <th>thumbnails</th>\n      <th>videoTitle</th>\n      <th>commentCount</th>\n      <th>dislikeCount</th>\n      <th>likeCount</th>\n      <th>viewCount</th>\n    </tr>\n  </thead>\n  <tbody>\n    <tr>\n      <td>1944</td>\n      <td>UCsAegdhiYLEoaFGuJFVrqFQ</td>\n      <td>NaN</td>\n      <td>2019-09-04 21:27:33</td>\n      <td>a3PHzPrx8FU</td>\n      <td>https://i.ytimg.com/vi/a3PHzPrx8FU/default.jpg</td>\n      <td>REPLAY: Day 5 – HOT ROD Drag Week from Virgini...</td>\n      <td>107.0</td>\n      <td>82.0</td>\n      <td>2332.0</td>\n      <td>211947.0</td>\n    </tr>\n    <tr>\n      <td>1946</td>\n      <td>UCsAegdhiYLEoaFGuJFVrqFQ</td>\n      <td>NaN</td>\n      <td>2019-09-04 21:23:06</td>\n      <td>bUnHy68I-Jo</td>\n      <td>https://i.ytimg.com/vi/bUnHy68I-Jo/default.jpg</td>\n      <td>REPLAY: Day 4 – HOT ROD Drag Week from Marylan...</td>\n      <td>93.0</td>\n      <td>54.0</td>\n      <td>1813.0</td>\n      <td>129627.0</td>\n    </tr>\n    <tr>\n      <td>1949</td>\n      <td>UCsAegdhiYLEoaFGuJFVrqFQ</td>\n      <td>NaN</td>\n      <td>2019-09-04 21:17:48</td>\n      <td>xB9e8Dal-2o</td>\n      <td>https://i.ytimg.com/vi/xB9e8Dal-2o/default.jpg</td>\n      <td>REPLAY: Day 3 – HOT ROD Drag Week from Atco Dr...</td>\n      <td>93.0</td>\n      <td>63.0</td>\n      <td>1432.0</td>\n      <td>119544.0</td>\n    </tr>\n    <tr>\n      <td>1951</td>\n      <td>UCsAegdhiYLEoaFGuJFVrqFQ</td>\n      <td>NaN</td>\n      <td>2019-09-04 19:57:54</td>\n      <td>bn_Pimi6BDM</td>\n      <td>https://i.ytimg.com/vi/bn_Pimi6BDM/default.jpg</td>\n      <td>REPLAY: Day 2 – HOT ROD Drag Week from Cecil C...</td>\n      <td>112.0</td>\n      <td>61.0</td>\n      <td>1922.0</td>\n      <td>171914.0</td>\n    </tr>\n    <tr>\n      <td>1952</td>\n      <td>UCsAegdhiYLEoaFGuJFVrqFQ</td>\n      <td>NaN</td>\n      <td>2019-09-09 13:11:47</td>\n      <td>aOCkZsWutvM</td>\n      <td>https://i.ytimg.com/vi/aOCkZsWutvM/default.jpg</td>\n      <td>REPLAY: Day 1 – HOT ROD Drag Week from Virgini...</td>\n      <td>143.0</td>\n      <td>73.0</td>\n      <td>1817.0</td>\n      <td>151603.0</td>\n    </tr>\n    <tr>\n      <td>...</td>\n      <td>...</td>\n      <td>...</td>\n      <td>...</td>\n      <td>...</td>\n      <td>...</td>\n      <td>...</td>\n      <td>...</td>\n      <td>...</td>\n      <td>...</td>\n      <td>...</td>\n    </tr>\n    <tr>\n      <td>153900</td>\n      <td>UCHKVXtT1YBCYUnnr4apqXfg</td>\n      <td>NaN</td>\n      <td>2016-05-27 15:05:29</td>\n      <td>3B2d7hiY_4I</td>\n      <td>https://i.ytimg.com/vi/3B2d7hiY_4I/default.jpg</td>\n      <td>Cute Cotton Candy Art: Bunny Rabbit</td>\n      <td>15.0</td>\n      <td>50.0</td>\n      <td>560.0</td>\n      <td>116090.0</td>\n    </tr>\n    <tr>\n      <td>153906</td>\n      <td>UCHKVXtT1YBCYUnnr4apqXfg</td>\n      <td>NaN</td>\n      <td>2016-03-17 18:57:40</td>\n      <td>W4C8RW8vHpE</td>\n      <td>https://i.ytimg.com/vi/W4C8RW8vHpE/default.jpg</td>\n      <td>Eating Raw Beef in Ethiopia</td>\n      <td>186.0</td>\n      <td>256.0</td>\n      <td>314.0</td>\n      <td>120793.0</td>\n    </tr>\n    <tr>\n      <td>153909</td>\n      <td>UCHKVXtT1YBCYUnnr4apqXfg</td>\n      <td>NaN</td>\n      <td>2016-03-02 22:35:09</td>\n      <td>jXXJAjtKKzY</td>\n      <td>https://i.ytimg.com/vi/jXXJAjtKKzY/default.jpg</td>\n      <td>Taiwan Street Food - LOBSTER SASHIMI Taiwanese...</td>\n      <td>296.0</td>\n      <td>580.0</td>\n      <td>704.0</td>\n      <td>199517.0</td>\n    </tr>\n    <tr>\n      <td>612</td>\n      <td>UC9avFXTdbSo5ATvzTRnAVFg</td>\n      <td>The real reason why Chinese restaurants are cl...</td>\n      <td>2020-02-10 09:48:12</td>\n      <td>O1Jm6SWYKx8</td>\n      <td>https://i.ytimg.com/vi/O1Jm6SWYKx8/default.jpg</td>\n      <td>WHY CHINESE RESTAURANTS ARE CLOSING DOWN | Fun...</td>\n      <td>NaN</td>\n      <td>732.0</td>\n      <td>8855.0</td>\n      <td>663343.0</td>\n    </tr>\n    <tr>\n      <td>742</td>\n      <td>UC9avFXTdbSo5ATvzTRnAVFg</td>\n      <td>Check Out https://go.onelink.me/GF9q/noasn\\n#1...</td>\n      <td>2018-10-26 09:54:08</td>\n      <td>52dQSX-DCN0</td>\n      <td>https://i.ytimg.com/vi/52dQSX-DCN0/default.jpg</td>\n      <td>IS HAVING A \"No Asian Policy\" MESSED UP WHEN D...</td>\n      <td>NaN</td>\n      <td>595.0</td>\n      <td>7638.0</td>\n      <td>460080.0</td>\n    </tr>\n  </tbody>\n</table>\n<p>17889 rows × 10 columns</p>\n</div>"
     },
     "metadata": {},
     "execution_count": 77
    }
   ],
   "source": [
    "videos_df[videos_df.isnull().any(axis=1)]"
   ]
  },
  {
   "source": [
    "# Aggregating Data"
   ],
   "cell_type": "markdown",
   "metadata": {}
  },
  {
   "source": [
    "### daysPublished"
   ],
   "cell_type": "markdown",
   "metadata": {}
  },
  {
   "cell_type": "code",
   "execution_count": 78,
   "metadata": {},
   "outputs": [],
   "source": [
    "from time import gmtime, strftime\n",
    "from datetime import datetime\n",
    "import re"
   ]
  },
  {
   "cell_type": "code",
   "execution_count": 39,
   "metadata": {},
   "outputs": [],
   "source": [
    "videos_df['publishedAt'] = videos_df['publishedAt'].astype(str)\n",
    "# videos_df['publishedAt'] = videos_df['publishedAt'].apply(lambda x: re.sub('[TZ]',' ',x))\n",
    "# videos_df['publishedAt'] = videos_df['publishedAt'].map(lambda x: datetime.strptime(x, '%Y-%m-%d %H:%M:%S ')  if re.match('^[0-9\\W ]*$',x) and len(x) > len('%Y-%m-%d %H:%M:%S ') else x)\n",
    "# videos_df['daysPublished'] = videos_df['publishedAt'].map(lambda x: (datetime.today() - x).days if type(x) != str else None)"
   ]
  },
  {
   "cell_type": "code",
   "execution_count": 79,
   "metadata": {},
   "outputs": [],
   "source": [
    "videos_df['daysPublished'] = videos_df['publishedAt'].map(lambda x: (datetime.today() - x).days) #12 october 2020"
   ]
  },
  {
   "cell_type": "code",
   "execution_count": 81,
   "metadata": {},
   "outputs": [
    {
     "output_type": "execute_result",
     "data": {
      "text/plain": [
       "<bound method IndexOpsMixin.value_counts of 0          3\n",
       "1          3\n",
       "2          5\n",
       "3          6\n",
       "4          6\n",
       "        ... \n",
       "3250    1322\n",
       "3251    1344\n",
       "3252    1628\n",
       "3253    1628\n",
       "3254    1628\n",
       "Name: daysPublished, Length: 408690, dtype: int64>"
      ]
     },
     "metadata": {},
     "execution_count": 81
    }
   ],
   "source": [
    "videos_df['daysPublished'].value_counts"
   ]
  },
  {
   "cell_type": "code",
   "execution_count": 83,
   "metadata": {},
   "outputs": [
    {
     "output_type": "execute_result",
     "data": {
      "text/plain": [
       "     commentCount  dislikeCount   likeCount     viewCount  daysPublished\n",
       "min           0.0           0.0         0.0  0.000000e+00            1.0\n",
       "max     2921705.0    18429502.0  24568733.0  6.810774e+09         2111.0"
      ],
      "text/html": "<div>\n<style scoped>\n    .dataframe tbody tr th:only-of-type {\n        vertical-align: middle;\n    }\n\n    .dataframe tbody tr th {\n        vertical-align: top;\n    }\n\n    .dataframe thead th {\n        text-align: right;\n    }\n</style>\n<table border=\"1\" class=\"dataframe\">\n  <thead>\n    <tr style=\"text-align: right;\">\n      <th></th>\n      <th>commentCount</th>\n      <th>dislikeCount</th>\n      <th>likeCount</th>\n      <th>viewCount</th>\n      <th>daysPublished</th>\n    </tr>\n  </thead>\n  <tbody>\n    <tr>\n      <td>min</td>\n      <td>0.0</td>\n      <td>0.0</td>\n      <td>0.0</td>\n      <td>0.000000e+00</td>\n      <td>1.0</td>\n    </tr>\n    <tr>\n      <td>max</td>\n      <td>2921705.0</td>\n      <td>18429502.0</td>\n      <td>24568733.0</td>\n      <td>6.810774e+09</td>\n      <td>2111.0</td>\n    </tr>\n  </tbody>\n</table>\n</div>"
     },
     "metadata": {},
     "execution_count": 83
    }
   ],
   "source": [
    "videos_df.describe().loc[['min','max']]"
   ]
  },
  {
   "cell_type": "code",
   "execution_count": 85,
   "metadata": {},
   "outputs": [
    {
     "output_type": "execute_result",
     "data": {
      "text/plain": [
       "Empty DataFrame\n",
       "Columns: [channelId, description, publishedAt, videoId, thumbnails, videoTitle, commentCount, dislikeCount, likeCount, viewCount, daysPublished]\n",
       "Index: []"
      ],
      "text/html": "<div>\n<style scoped>\n    .dataframe tbody tr th:only-of-type {\n        vertical-align: middle;\n    }\n\n    .dataframe tbody tr th {\n        vertical-align: top;\n    }\n\n    .dataframe thead th {\n        text-align: right;\n    }\n</style>\n<table border=\"1\" class=\"dataframe\">\n  <thead>\n    <tr style=\"text-align: right;\">\n      <th></th>\n      <th>channelId</th>\n      <th>description</th>\n      <th>publishedAt</th>\n      <th>videoId</th>\n      <th>thumbnails</th>\n      <th>videoTitle</th>\n      <th>commentCount</th>\n      <th>dislikeCount</th>\n      <th>likeCount</th>\n      <th>viewCount</th>\n      <th>daysPublished</th>\n    </tr>\n  </thead>\n  <tbody>\n  </tbody>\n</table>\n</div>"
     },
     "metadata": {},
     "execution_count": 85
    }
   ],
   "source": [
    "videos_df[videos_df['daysPublished'].isnull()]"
   ]
  },
  {
   "source": [
    "### Likes:Dislike Ratio"
   ],
   "cell_type": "markdown",
   "metadata": {}
  },
  {
   "cell_type": "code",
   "execution_count": 94,
   "metadata": {},
   "outputs": [],
   "source": [
    "conditions = [\n",
    "    (videos_df['likeCount'].isnull() | videos_df['dislikeCount'].isnull()),\n",
    "    (videos_df['likeCount'].notnull() | videos_df['dislikeCount'].notnull())\n",
    "\n",
    "]\n",
    "choices = [np.nan,videos_df['likeCount']/videos_df['dislikeCount']]\n"
   ]
  },
  {
   "cell_type": "code",
   "execution_count": 96,
   "metadata": {},
   "outputs": [],
   "source": [
    "videos_df['likeDislikeRatio'] = np.select(condlist=conditions, choicelist=choices)"
   ]
  },
  {
   "cell_type": "code",
   "execution_count": 97,
   "metadata": {},
   "outputs": [
    {
     "output_type": "execute_result",
     "data": {
      "text/plain": [
       "<bound method IndexOpsMixin.value_counts of 0       22.642023\n",
       "1       26.139194\n",
       "2       24.973039\n",
       "3       35.277228\n",
       "4       57.720238\n",
       "          ...    \n",
       "3250    18.750000\n",
       "3251    16.960000\n",
       "3252    28.500000\n",
       "3253    21.333333\n",
       "3254     6.705882\n",
       "Name: likeDislikeRatio, Length: 408690, dtype: float64>"
      ]
     },
     "metadata": {},
     "execution_count": 97
    }
   ],
   "source": [
    "videos_df['likeDislikeRatio'].value_counts"
   ]
  },
  {
   "cell_type": "code",
   "execution_count": 98,
   "metadata": {},
   "outputs": [
    {
     "output_type": "execute_result",
     "data": {
      "text/plain": [
       "                       channelId  \\\n",
       "2374    UCsAegdhiYLEoaFGuJFVrqFQ   \n",
       "2375    UCsAegdhiYLEoaFGuJFVrqFQ   \n",
       "2379    UCsAegdhiYLEoaFGuJFVrqFQ   \n",
       "2380    UCsAegdhiYLEoaFGuJFVrqFQ   \n",
       "2381    UCsAegdhiYLEoaFGuJFVrqFQ   \n",
       "...                          ...   \n",
       "105441  UCqhnX4jA0A5paNd1v-zEysw   \n",
       "106823  UC4i_9WvfPRTuRWEaWyfKuFw   \n",
       "150525  UC4i_9WvfPRTuRWEaWyfKuFw   \n",
       "150527  UC4i_9WvfPRTuRWEaWyfKuFw   \n",
       "150529  UC4i_9WvfPRTuRWEaWyfKuFw   \n",
       "\n",
       "                                              description         publishedAt  \\\n",
       "2374    Watch the full episode for FREE right now on M... 2018-05-01 05:15:02   \n",
       "2375    The Continental Tire Week to Wicked 2013 Musta... 2018-04-26 20:16:53   \n",
       "2379    What happens when two companies who are sharin... 2018-04-21 15:41:01   \n",
       "2380    What happens when two companies who are sharin... 2018-04-20 17:54:12   \n",
       "2381    What happens when two companies who are sharin... 2018-04-19 17:27:12   \n",
       "...                                                   ...                 ...   \n",
       "105441  Earlier this year, GoPro announced plans to re... 2015-10-28 00:47:21   \n",
       "106823  BT Sport brings you live coverage of the very ... 2020-09-02 10:19:29   \n",
       "150525  Watch live streaming of day three of the only ... 2017-11-07 10:53:38   \n",
       "150527  Watch live streaming of day two of the only wo... 2017-11-07 10:49:58   \n",
       "150529  Watch live streaming of day one of the only wo... 2017-11-06 10:55:06   \n",
       "\n",
       "            videoId                                      thumbnails  \\\n",
       "2374    Q7ysio3r2TE  https://i.ytimg.com/vi/Q7ysio3r2TE/default.jpg   \n",
       "2375    WNO5OCza94o  https://i.ytimg.com/vi/WNO5OCza94o/default.jpg   \n",
       "2379    iN2ofb44Wyo  https://i.ytimg.com/vi/iN2ofb44Wyo/default.jpg   \n",
       "2380    U9Ug0fNjIdw  https://i.ytimg.com/vi/U9Ug0fNjIdw/default.jpg   \n",
       "2381    msKIRmkRZDQ  https://i.ytimg.com/vi/msKIRmkRZDQ/default.jpg   \n",
       "...             ...                                             ...   \n",
       "105441  JADCZuSOQRU  https://i.ytimg.com/vi/JADCZuSOQRU/default.jpg   \n",
       "106823  APK4_kivx6o  https://i.ytimg.com/vi/APK4_kivx6o/default.jpg   \n",
       "150525  Sp6G2SuDzbY  https://i.ytimg.com/vi/Sp6G2SuDzbY/default.jpg   \n",
       "150527  72IQHmTC4Gg  https://i.ytimg.com/vi/72IQHmTC4Gg/default.jpg   \n",
       "150529  21SakRoVWFY  https://i.ytimg.com/vi/21SakRoVWFY/default.jpg   \n",
       "\n",
       "                                               videoTitle  commentCount  \\\n",
       "2374    Building an Off-Road RV! - Dirt Every Day Prev...         215.0   \n",
       "2375    Mustang 360 Week To Wicked – Mustang GT – Full...         122.0   \n",
       "2379    Hot Rod Week To Wicked - STA-BIL Apache Fleets...          80.0   \n",
       "2380    Hot Rod Week To Wicked - STA-BIL Apache Fleets...          42.0   \n",
       "2381    Hot Rod Week To Wicked - STA-BIL Apache Fleets...          20.0   \n",
       "...                                                   ...           ...   \n",
       "105441      GoPro: Sneak Peek of GoPro Quadcopter Footage         494.0   \n",
       "106823  Aston Villa v Man City | The first game of the...          67.0   \n",
       "150525  Live streaming: Women's Ashes 2017 - Australia...           9.0   \n",
       "150527  Live streaming: Women's Ashes 2017 - Australia...          11.0   \n",
       "150529  Live streaming: Women's Ashes 2017 - Australia...           3.0   \n",
       "\n",
       "        dislikeCount  likeCount  viewCount  daysPublished  likeDislikeRatio  \n",
       "2374             NaN        NaN   275480.0            895               NaN  \n",
       "2375             NaN        NaN    70663.0            900               NaN  \n",
       "2379             NaN        NaN    30665.0            905               NaN  \n",
       "2380             NaN        NaN    26145.0            906               NaN  \n",
       "2381             NaN        NaN    19128.0            907               NaN  \n",
       "...              ...        ...        ...            ...               ...  \n",
       "105441           NaN        NaN  3931636.0           1811               NaN  \n",
       "106823           NaN        NaN        NaN             40               NaN  \n",
       "150525           NaN        NaN        NaN           1070               NaN  \n",
       "150527           NaN        NaN        NaN           1070               NaN  \n",
       "150529           NaN        NaN    10199.0           1071               NaN  \n",
       "\n",
       "[2752 rows x 12 columns]"
      ],
      "text/html": "<div>\n<style scoped>\n    .dataframe tbody tr th:only-of-type {\n        vertical-align: middle;\n    }\n\n    .dataframe tbody tr th {\n        vertical-align: top;\n    }\n\n    .dataframe thead th {\n        text-align: right;\n    }\n</style>\n<table border=\"1\" class=\"dataframe\">\n  <thead>\n    <tr style=\"text-align: right;\">\n      <th></th>\n      <th>channelId</th>\n      <th>description</th>\n      <th>publishedAt</th>\n      <th>videoId</th>\n      <th>thumbnails</th>\n      <th>videoTitle</th>\n      <th>commentCount</th>\n      <th>dislikeCount</th>\n      <th>likeCount</th>\n      <th>viewCount</th>\n      <th>daysPublished</th>\n      <th>likeDislikeRatio</th>\n    </tr>\n  </thead>\n  <tbody>\n    <tr>\n      <td>2374</td>\n      <td>UCsAegdhiYLEoaFGuJFVrqFQ</td>\n      <td>Watch the full episode for FREE right now on M...</td>\n      <td>2018-05-01 05:15:02</td>\n      <td>Q7ysio3r2TE</td>\n      <td>https://i.ytimg.com/vi/Q7ysio3r2TE/default.jpg</td>\n      <td>Building an Off-Road RV! - Dirt Every Day Prev...</td>\n      <td>215.0</td>\n      <td>NaN</td>\n      <td>NaN</td>\n      <td>275480.0</td>\n      <td>895</td>\n      <td>NaN</td>\n    </tr>\n    <tr>\n      <td>2375</td>\n      <td>UCsAegdhiYLEoaFGuJFVrqFQ</td>\n      <td>The Continental Tire Week to Wicked 2013 Musta...</td>\n      <td>2018-04-26 20:16:53</td>\n      <td>WNO5OCza94o</td>\n      <td>https://i.ytimg.com/vi/WNO5OCza94o/default.jpg</td>\n      <td>Mustang 360 Week To Wicked – Mustang GT – Full...</td>\n      <td>122.0</td>\n      <td>NaN</td>\n      <td>NaN</td>\n      <td>70663.0</td>\n      <td>900</td>\n      <td>NaN</td>\n    </tr>\n    <tr>\n      <td>2379</td>\n      <td>UCsAegdhiYLEoaFGuJFVrqFQ</td>\n      <td>What happens when two companies who are sharin...</td>\n      <td>2018-04-21 15:41:01</td>\n      <td>iN2ofb44Wyo</td>\n      <td>https://i.ytimg.com/vi/iN2ofb44Wyo/default.jpg</td>\n      <td>Hot Rod Week To Wicked - STA-BIL Apache Fleets...</td>\n      <td>80.0</td>\n      <td>NaN</td>\n      <td>NaN</td>\n      <td>30665.0</td>\n      <td>905</td>\n      <td>NaN</td>\n    </tr>\n    <tr>\n      <td>2380</td>\n      <td>UCsAegdhiYLEoaFGuJFVrqFQ</td>\n      <td>What happens when two companies who are sharin...</td>\n      <td>2018-04-20 17:54:12</td>\n      <td>U9Ug0fNjIdw</td>\n      <td>https://i.ytimg.com/vi/U9Ug0fNjIdw/default.jpg</td>\n      <td>Hot Rod Week To Wicked - STA-BIL Apache Fleets...</td>\n      <td>42.0</td>\n      <td>NaN</td>\n      <td>NaN</td>\n      <td>26145.0</td>\n      <td>906</td>\n      <td>NaN</td>\n    </tr>\n    <tr>\n      <td>2381</td>\n      <td>UCsAegdhiYLEoaFGuJFVrqFQ</td>\n      <td>What happens when two companies who are sharin...</td>\n      <td>2018-04-19 17:27:12</td>\n      <td>msKIRmkRZDQ</td>\n      <td>https://i.ytimg.com/vi/msKIRmkRZDQ/default.jpg</td>\n      <td>Hot Rod Week To Wicked - STA-BIL Apache Fleets...</td>\n      <td>20.0</td>\n      <td>NaN</td>\n      <td>NaN</td>\n      <td>19128.0</td>\n      <td>907</td>\n      <td>NaN</td>\n    </tr>\n    <tr>\n      <td>...</td>\n      <td>...</td>\n      <td>...</td>\n      <td>...</td>\n      <td>...</td>\n      <td>...</td>\n      <td>...</td>\n      <td>...</td>\n      <td>...</td>\n      <td>...</td>\n      <td>...</td>\n      <td>...</td>\n      <td>...</td>\n    </tr>\n    <tr>\n      <td>105441</td>\n      <td>UCqhnX4jA0A5paNd1v-zEysw</td>\n      <td>Earlier this year, GoPro announced plans to re...</td>\n      <td>2015-10-28 00:47:21</td>\n      <td>JADCZuSOQRU</td>\n      <td>https://i.ytimg.com/vi/JADCZuSOQRU/default.jpg</td>\n      <td>GoPro: Sneak Peek of GoPro Quadcopter Footage</td>\n      <td>494.0</td>\n      <td>NaN</td>\n      <td>NaN</td>\n      <td>3931636.0</td>\n      <td>1811</td>\n      <td>NaN</td>\n    </tr>\n    <tr>\n      <td>106823</td>\n      <td>UC4i_9WvfPRTuRWEaWyfKuFw</td>\n      <td>BT Sport brings you live coverage of the very ...</td>\n      <td>2020-09-02 10:19:29</td>\n      <td>APK4_kivx6o</td>\n      <td>https://i.ytimg.com/vi/APK4_kivx6o/default.jpg</td>\n      <td>Aston Villa v Man City | The first game of the...</td>\n      <td>67.0</td>\n      <td>NaN</td>\n      <td>NaN</td>\n      <td>NaN</td>\n      <td>40</td>\n      <td>NaN</td>\n    </tr>\n    <tr>\n      <td>150525</td>\n      <td>UC4i_9WvfPRTuRWEaWyfKuFw</td>\n      <td>Watch live streaming of day three of the only ...</td>\n      <td>2017-11-07 10:53:38</td>\n      <td>Sp6G2SuDzbY</td>\n      <td>https://i.ytimg.com/vi/Sp6G2SuDzbY/default.jpg</td>\n      <td>Live streaming: Women's Ashes 2017 - Australia...</td>\n      <td>9.0</td>\n      <td>NaN</td>\n      <td>NaN</td>\n      <td>NaN</td>\n      <td>1070</td>\n      <td>NaN</td>\n    </tr>\n    <tr>\n      <td>150527</td>\n      <td>UC4i_9WvfPRTuRWEaWyfKuFw</td>\n      <td>Watch live streaming of day two of the only wo...</td>\n      <td>2017-11-07 10:49:58</td>\n      <td>72IQHmTC4Gg</td>\n      <td>https://i.ytimg.com/vi/72IQHmTC4Gg/default.jpg</td>\n      <td>Live streaming: Women's Ashes 2017 - Australia...</td>\n      <td>11.0</td>\n      <td>NaN</td>\n      <td>NaN</td>\n      <td>NaN</td>\n      <td>1070</td>\n      <td>NaN</td>\n    </tr>\n    <tr>\n      <td>150529</td>\n      <td>UC4i_9WvfPRTuRWEaWyfKuFw</td>\n      <td>Watch live streaming of day one of the only wo...</td>\n      <td>2017-11-06 10:55:06</td>\n      <td>21SakRoVWFY</td>\n      <td>https://i.ytimg.com/vi/21SakRoVWFY/default.jpg</td>\n      <td>Live streaming: Women's Ashes 2017 - Australia...</td>\n      <td>3.0</td>\n      <td>NaN</td>\n      <td>NaN</td>\n      <td>10199.0</td>\n      <td>1071</td>\n      <td>NaN</td>\n    </tr>\n  </tbody>\n</table>\n<p>2752 rows × 12 columns</p>\n</div>"
     },
     "metadata": {},
     "execution_count": 98
    }
   ],
   "source": [
    "videos_df[videos_df['likeDislikeRatio'].isnull()]"
   ]
  },
  {
   "source": [
    "### likeCountByDay"
   ],
   "cell_type": "markdown",
   "metadata": {}
  },
  {
   "cell_type": "code",
   "execution_count": 65,
   "metadata": {},
   "outputs": [],
   "source": [
    "# videos_df['likeCountByDay'] = videos_df['likeCount']/videos_df['daysPublished']"
   ]
  },
  {
   "cell_type": "code",
   "execution_count": 99,
   "metadata": {},
   "outputs": [],
   "source": [
    "conditions = [\n",
    "    (videos_df['likeCount'].isnull()),\n",
    "    (videos_df['likeCount'].notnull())\n",
    "\n",
    "]\n",
    "choices = [np.nan,videos_df['likeCount']/videos_df['daysPublished']]\n",
    "videos_df['likeCountByDay'] = np.select(condlist=conditions, choicelist=choices)\n"
   ]
  },
  {
   "cell_type": "code",
   "execution_count": 100,
   "metadata": {},
   "outputs": [
    {
     "output_type": "execute_result",
     "data": {
      "text/plain": [
       "<bound method IndexOpsMixin.value_counts of 0       1939.666667\n",
       "1       2378.666667\n",
       "2       2037.800000\n",
       "3       1187.666667\n",
       "4       1616.166667\n",
       "           ...     \n",
       "3250       0.056732\n",
       "3251       0.315476\n",
       "3252       0.070025\n",
       "3253       0.039312\n",
       "3254       0.070025\n",
       "Name: likeCountByDay, Length: 408690, dtype: float64>"
      ]
     },
     "metadata": {},
     "execution_count": 100
    }
   ],
   "source": [
    "videos_df['likeCountByDay'].value_counts\n"
   ]
  },
  {
   "cell_type": "code",
   "execution_count": 101,
   "metadata": {},
   "outputs": [
    {
     "output_type": "execute_result",
     "data": {
      "text/plain": [
       "                       channelId  \\\n",
       "2374    UCsAegdhiYLEoaFGuJFVrqFQ   \n",
       "2375    UCsAegdhiYLEoaFGuJFVrqFQ   \n",
       "2379    UCsAegdhiYLEoaFGuJFVrqFQ   \n",
       "2380    UCsAegdhiYLEoaFGuJFVrqFQ   \n",
       "2381    UCsAegdhiYLEoaFGuJFVrqFQ   \n",
       "...                          ...   \n",
       "105441  UCqhnX4jA0A5paNd1v-zEysw   \n",
       "106823  UC4i_9WvfPRTuRWEaWyfKuFw   \n",
       "150525  UC4i_9WvfPRTuRWEaWyfKuFw   \n",
       "150527  UC4i_9WvfPRTuRWEaWyfKuFw   \n",
       "150529  UC4i_9WvfPRTuRWEaWyfKuFw   \n",
       "\n",
       "                                              description         publishedAt  \\\n",
       "2374    Watch the full episode for FREE right now on M... 2018-05-01 05:15:02   \n",
       "2375    The Continental Tire Week to Wicked 2013 Musta... 2018-04-26 20:16:53   \n",
       "2379    What happens when two companies who are sharin... 2018-04-21 15:41:01   \n",
       "2380    What happens when two companies who are sharin... 2018-04-20 17:54:12   \n",
       "2381    What happens when two companies who are sharin... 2018-04-19 17:27:12   \n",
       "...                                                   ...                 ...   \n",
       "105441  Earlier this year, GoPro announced plans to re... 2015-10-28 00:47:21   \n",
       "106823  BT Sport brings you live coverage of the very ... 2020-09-02 10:19:29   \n",
       "150525  Watch live streaming of day three of the only ... 2017-11-07 10:53:38   \n",
       "150527  Watch live streaming of day two of the only wo... 2017-11-07 10:49:58   \n",
       "150529  Watch live streaming of day one of the only wo... 2017-11-06 10:55:06   \n",
       "\n",
       "            videoId                                      thumbnails  \\\n",
       "2374    Q7ysio3r2TE  https://i.ytimg.com/vi/Q7ysio3r2TE/default.jpg   \n",
       "2375    WNO5OCza94o  https://i.ytimg.com/vi/WNO5OCza94o/default.jpg   \n",
       "2379    iN2ofb44Wyo  https://i.ytimg.com/vi/iN2ofb44Wyo/default.jpg   \n",
       "2380    U9Ug0fNjIdw  https://i.ytimg.com/vi/U9Ug0fNjIdw/default.jpg   \n",
       "2381    msKIRmkRZDQ  https://i.ytimg.com/vi/msKIRmkRZDQ/default.jpg   \n",
       "...             ...                                             ...   \n",
       "105441  JADCZuSOQRU  https://i.ytimg.com/vi/JADCZuSOQRU/default.jpg   \n",
       "106823  APK4_kivx6o  https://i.ytimg.com/vi/APK4_kivx6o/default.jpg   \n",
       "150525  Sp6G2SuDzbY  https://i.ytimg.com/vi/Sp6G2SuDzbY/default.jpg   \n",
       "150527  72IQHmTC4Gg  https://i.ytimg.com/vi/72IQHmTC4Gg/default.jpg   \n",
       "150529  21SakRoVWFY  https://i.ytimg.com/vi/21SakRoVWFY/default.jpg   \n",
       "\n",
       "                                               videoTitle  commentCount  \\\n",
       "2374    Building an Off-Road RV! - Dirt Every Day Prev...         215.0   \n",
       "2375    Mustang 360 Week To Wicked – Mustang GT – Full...         122.0   \n",
       "2379    Hot Rod Week To Wicked - STA-BIL Apache Fleets...          80.0   \n",
       "2380    Hot Rod Week To Wicked - STA-BIL Apache Fleets...          42.0   \n",
       "2381    Hot Rod Week To Wicked - STA-BIL Apache Fleets...          20.0   \n",
       "...                                                   ...           ...   \n",
       "105441      GoPro: Sneak Peek of GoPro Quadcopter Footage         494.0   \n",
       "106823  Aston Villa v Man City | The first game of the...          67.0   \n",
       "150525  Live streaming: Women's Ashes 2017 - Australia...           9.0   \n",
       "150527  Live streaming: Women's Ashes 2017 - Australia...          11.0   \n",
       "150529  Live streaming: Women's Ashes 2017 - Australia...           3.0   \n",
       "\n",
       "        dislikeCount  likeCount  viewCount  daysPublished  likeDislikeRatio  \\\n",
       "2374             NaN        NaN   275480.0            895               NaN   \n",
       "2375             NaN        NaN    70663.0            900               NaN   \n",
       "2379             NaN        NaN    30665.0            905               NaN   \n",
       "2380             NaN        NaN    26145.0            906               NaN   \n",
       "2381             NaN        NaN    19128.0            907               NaN   \n",
       "...              ...        ...        ...            ...               ...   \n",
       "105441           NaN        NaN  3931636.0           1811               NaN   \n",
       "106823           NaN        NaN        NaN             40               NaN   \n",
       "150525           NaN        NaN        NaN           1070               NaN   \n",
       "150527           NaN        NaN        NaN           1070               NaN   \n",
       "150529           NaN        NaN    10199.0           1071               NaN   \n",
       "\n",
       "        likeCountByDay  \n",
       "2374               NaN  \n",
       "2375               NaN  \n",
       "2379               NaN  \n",
       "2380               NaN  \n",
       "2381               NaN  \n",
       "...                ...  \n",
       "105441             NaN  \n",
       "106823             NaN  \n",
       "150525             NaN  \n",
       "150527             NaN  \n",
       "150529             NaN  \n",
       "\n",
       "[1547 rows x 13 columns]"
      ],
      "text/html": "<div>\n<style scoped>\n    .dataframe tbody tr th:only-of-type {\n        vertical-align: middle;\n    }\n\n    .dataframe tbody tr th {\n        vertical-align: top;\n    }\n\n    .dataframe thead th {\n        text-align: right;\n    }\n</style>\n<table border=\"1\" class=\"dataframe\">\n  <thead>\n    <tr style=\"text-align: right;\">\n      <th></th>\n      <th>channelId</th>\n      <th>description</th>\n      <th>publishedAt</th>\n      <th>videoId</th>\n      <th>thumbnails</th>\n      <th>videoTitle</th>\n      <th>commentCount</th>\n      <th>dislikeCount</th>\n      <th>likeCount</th>\n      <th>viewCount</th>\n      <th>daysPublished</th>\n      <th>likeDislikeRatio</th>\n      <th>likeCountByDay</th>\n    </tr>\n  </thead>\n  <tbody>\n    <tr>\n      <td>2374</td>\n      <td>UCsAegdhiYLEoaFGuJFVrqFQ</td>\n      <td>Watch the full episode for FREE right now on M...</td>\n      <td>2018-05-01 05:15:02</td>\n      <td>Q7ysio3r2TE</td>\n      <td>https://i.ytimg.com/vi/Q7ysio3r2TE/default.jpg</td>\n      <td>Building an Off-Road RV! - Dirt Every Day Prev...</td>\n      <td>215.0</td>\n      <td>NaN</td>\n      <td>NaN</td>\n      <td>275480.0</td>\n      <td>895</td>\n      <td>NaN</td>\n      <td>NaN</td>\n    </tr>\n    <tr>\n      <td>2375</td>\n      <td>UCsAegdhiYLEoaFGuJFVrqFQ</td>\n      <td>The Continental Tire Week to Wicked 2013 Musta...</td>\n      <td>2018-04-26 20:16:53</td>\n      <td>WNO5OCza94o</td>\n      <td>https://i.ytimg.com/vi/WNO5OCza94o/default.jpg</td>\n      <td>Mustang 360 Week To Wicked – Mustang GT – Full...</td>\n      <td>122.0</td>\n      <td>NaN</td>\n      <td>NaN</td>\n      <td>70663.0</td>\n      <td>900</td>\n      <td>NaN</td>\n      <td>NaN</td>\n    </tr>\n    <tr>\n      <td>2379</td>\n      <td>UCsAegdhiYLEoaFGuJFVrqFQ</td>\n      <td>What happens when two companies who are sharin...</td>\n      <td>2018-04-21 15:41:01</td>\n      <td>iN2ofb44Wyo</td>\n      <td>https://i.ytimg.com/vi/iN2ofb44Wyo/default.jpg</td>\n      <td>Hot Rod Week To Wicked - STA-BIL Apache Fleets...</td>\n      <td>80.0</td>\n      <td>NaN</td>\n      <td>NaN</td>\n      <td>30665.0</td>\n      <td>905</td>\n      <td>NaN</td>\n      <td>NaN</td>\n    </tr>\n    <tr>\n      <td>2380</td>\n      <td>UCsAegdhiYLEoaFGuJFVrqFQ</td>\n      <td>What happens when two companies who are sharin...</td>\n      <td>2018-04-20 17:54:12</td>\n      <td>U9Ug0fNjIdw</td>\n      <td>https://i.ytimg.com/vi/U9Ug0fNjIdw/default.jpg</td>\n      <td>Hot Rod Week To Wicked - STA-BIL Apache Fleets...</td>\n      <td>42.0</td>\n      <td>NaN</td>\n      <td>NaN</td>\n      <td>26145.0</td>\n      <td>906</td>\n      <td>NaN</td>\n      <td>NaN</td>\n    </tr>\n    <tr>\n      <td>2381</td>\n      <td>UCsAegdhiYLEoaFGuJFVrqFQ</td>\n      <td>What happens when two companies who are sharin...</td>\n      <td>2018-04-19 17:27:12</td>\n      <td>msKIRmkRZDQ</td>\n      <td>https://i.ytimg.com/vi/msKIRmkRZDQ/default.jpg</td>\n      <td>Hot Rod Week To Wicked - STA-BIL Apache Fleets...</td>\n      <td>20.0</td>\n      <td>NaN</td>\n      <td>NaN</td>\n      <td>19128.0</td>\n      <td>907</td>\n      <td>NaN</td>\n      <td>NaN</td>\n    </tr>\n    <tr>\n      <td>...</td>\n      <td>...</td>\n      <td>...</td>\n      <td>...</td>\n      <td>...</td>\n      <td>...</td>\n      <td>...</td>\n      <td>...</td>\n      <td>...</td>\n      <td>...</td>\n      <td>...</td>\n      <td>...</td>\n      <td>...</td>\n      <td>...</td>\n    </tr>\n    <tr>\n      <td>105441</td>\n      <td>UCqhnX4jA0A5paNd1v-zEysw</td>\n      <td>Earlier this year, GoPro announced plans to re...</td>\n      <td>2015-10-28 00:47:21</td>\n      <td>JADCZuSOQRU</td>\n      <td>https://i.ytimg.com/vi/JADCZuSOQRU/default.jpg</td>\n      <td>GoPro: Sneak Peek of GoPro Quadcopter Footage</td>\n      <td>494.0</td>\n      <td>NaN</td>\n      <td>NaN</td>\n      <td>3931636.0</td>\n      <td>1811</td>\n      <td>NaN</td>\n      <td>NaN</td>\n    </tr>\n    <tr>\n      <td>106823</td>\n      <td>UC4i_9WvfPRTuRWEaWyfKuFw</td>\n      <td>BT Sport brings you live coverage of the very ...</td>\n      <td>2020-09-02 10:19:29</td>\n      <td>APK4_kivx6o</td>\n      <td>https://i.ytimg.com/vi/APK4_kivx6o/default.jpg</td>\n      <td>Aston Villa v Man City | The first game of the...</td>\n      <td>67.0</td>\n      <td>NaN</td>\n      <td>NaN</td>\n      <td>NaN</td>\n      <td>40</td>\n      <td>NaN</td>\n      <td>NaN</td>\n    </tr>\n    <tr>\n      <td>150525</td>\n      <td>UC4i_9WvfPRTuRWEaWyfKuFw</td>\n      <td>Watch live streaming of day three of the only ...</td>\n      <td>2017-11-07 10:53:38</td>\n      <td>Sp6G2SuDzbY</td>\n      <td>https://i.ytimg.com/vi/Sp6G2SuDzbY/default.jpg</td>\n      <td>Live streaming: Women's Ashes 2017 - Australia...</td>\n      <td>9.0</td>\n      <td>NaN</td>\n      <td>NaN</td>\n      <td>NaN</td>\n      <td>1070</td>\n      <td>NaN</td>\n      <td>NaN</td>\n    </tr>\n    <tr>\n      <td>150527</td>\n      <td>UC4i_9WvfPRTuRWEaWyfKuFw</td>\n      <td>Watch live streaming of day two of the only wo...</td>\n      <td>2017-11-07 10:49:58</td>\n      <td>72IQHmTC4Gg</td>\n      <td>https://i.ytimg.com/vi/72IQHmTC4Gg/default.jpg</td>\n      <td>Live streaming: Women's Ashes 2017 - Australia...</td>\n      <td>11.0</td>\n      <td>NaN</td>\n      <td>NaN</td>\n      <td>NaN</td>\n      <td>1070</td>\n      <td>NaN</td>\n      <td>NaN</td>\n    </tr>\n    <tr>\n      <td>150529</td>\n      <td>UC4i_9WvfPRTuRWEaWyfKuFw</td>\n      <td>Watch live streaming of day one of the only wo...</td>\n      <td>2017-11-06 10:55:06</td>\n      <td>21SakRoVWFY</td>\n      <td>https://i.ytimg.com/vi/21SakRoVWFY/default.jpg</td>\n      <td>Live streaming: Women's Ashes 2017 - Australia...</td>\n      <td>3.0</td>\n      <td>NaN</td>\n      <td>NaN</td>\n      <td>10199.0</td>\n      <td>1071</td>\n      <td>NaN</td>\n      <td>NaN</td>\n    </tr>\n  </tbody>\n</table>\n<p>1547 rows × 13 columns</p>\n</div>"
     },
     "metadata": {},
     "execution_count": 101
    }
   ],
   "source": [
    "videos_df[videos_df['likeCountByDay'].isnull()]"
   ]
  },
  {
   "source": [
    "### commentCountByDay"
   ],
   "cell_type": "markdown",
   "metadata": {}
  },
  {
   "cell_type": "code",
   "execution_count": 67,
   "metadata": {},
   "outputs": [],
   "source": [
    "# videos_df['commentCountByDay'] = videos_df['commentCount']/videos_df['daysPublished']"
   ]
  },
  {
   "cell_type": "code",
   "execution_count": 102,
   "metadata": {},
   "outputs": [],
   "source": [
    "conditions = [\n",
    "    (videos_df['commentCount'].isnull()),\n",
    "    (videos_df['commentCount'].notnull())\n",
    "\n",
    "]\n",
    "choices = [np.nan,videos_df['commentCount']/videos_df['daysPublished']]\n",
    "videos_df['commentCountByDay'] = np.select(condlist=conditions, choicelist=choices)\n"
   ]
  },
  {
   "cell_type": "code",
   "execution_count": 103,
   "metadata": {},
   "outputs": [
    {
     "output_type": "execute_result",
     "data": {
      "text/plain": [
       "<bound method IndexOpsMixin.value_counts of 0       176.000000\n",
       "1       189.333333\n",
       "2       218.200000\n",
       "3        96.500000\n",
       "4       148.000000\n",
       "           ...    \n",
       "3250      0.003026\n",
       "3251      0.031994\n",
       "3252      0.004300\n",
       "3253      0.003071\n",
       "3254      0.017813\n",
       "Name: commentCountByDay, Length: 408690, dtype: float64>"
      ]
     },
     "metadata": {},
     "execution_count": 103
    }
   ],
   "source": [
    "videos_df['commentCountByDay'].value_counts\n"
   ]
  },
  {
   "cell_type": "code",
   "execution_count": 104,
   "metadata": {},
   "outputs": [
    {
     "output_type": "execute_result",
     "data": {
      "text/plain": [
       "                       channelId  \\\n",
       "2049    UCsAegdhiYLEoaFGuJFVrqFQ   \n",
       "2050    UCsAegdhiYLEoaFGuJFVrqFQ   \n",
       "2052    UCsAegdhiYLEoaFGuJFVrqFQ   \n",
       "2056    UCsAegdhiYLEoaFGuJFVrqFQ   \n",
       "2078    UCsAegdhiYLEoaFGuJFVrqFQ   \n",
       "...                          ...   \n",
       "100322  UCblfuW_4rakIf2h6aqANefA   \n",
       "104744  UCqhnX4jA0A5paNd1v-zEysw   \n",
       "148304  UC4i_9WvfPRTuRWEaWyfKuFw   \n",
       "612     UC9avFXTdbSo5ATvzTRnAVFg   \n",
       "742     UC9avFXTdbSo5ATvzTRnAVFg   \n",
       "\n",
       "                                              description         publishedAt  \\\n",
       "2049    Diesel Power Editor KJ Jones, staff, sponsors ... 2019-06-06 21:57:58   \n",
       "2050    Brute strength and torque are put to the ultim... 2019-06-05 23:29:59   \n",
       "2052    Truck speed and driver skill are put to the te... 2019-06-04 20:46:05   \n",
       "2056    Our 10 competitors battle it out for horsepowe... 2019-06-04 15:15:46   \n",
       "2078    Jack Hawksworth challenges his recently-retire... 2019-04-23 20:10:23   \n",
       "...                                                   ...                 ...   \n",
       "100322  » CLICK for more 360 videos! http://win.gs/Red... 2015-12-18 00:35:34   \n",
       "104744  Hit some smooth trick jumps with 7 year old Re... 2018-06-11 21:42:01   \n",
       "148304  Lyon take on Barcelona in the final of Europe'... 2019-05-17 10:10:13   \n",
       "612     The real reason why Chinese restaurants are cl... 2020-02-10 09:48:12   \n",
       "742     Check Out https://go.onelink.me/GF9q/noasn\\n#1... 2018-10-26 09:54:08   \n",
       "\n",
       "            videoId                                      thumbnails  \\\n",
       "2049    eZEnTVkIuAw  https://i.ytimg.com/vi/eZEnTVkIuAw/default.jpg   \n",
       "2050    -Z5r_UeqFzw  https://i.ytimg.com/vi/-Z5r_UeqFzw/default.jpg   \n",
       "2052    ugpizKRglc0  https://i.ytimg.com/vi/ugpizKRglc0/default.jpg   \n",
       "2056    d0u7iASLv5U  https://i.ytimg.com/vi/d0u7iASLv5U/default.jpg   \n",
       "2078    5vNrkTvSam4  https://i.ytimg.com/vi/5vNrkTvSam4/default.jpg   \n",
       "...             ...                                             ...   \n",
       "100322  FKwfDBUZA3c  https://i.ytimg.com/vi/FKwfDBUZA3c/default.jpg   \n",
       "104744  i3rgqivE94Y  https://i.ytimg.com/vi/i3rgqivE94Y/default.jpg   \n",
       "148304  MZjaWGwbtEc  https://i.ytimg.com/vi/MZjaWGwbtEc/default.jpg   \n",
       "612     O1Jm6SWYKx8  https://i.ytimg.com/vi/O1Jm6SWYKx8/default.jpg   \n",
       "742     52dQSX-DCN0  https://i.ytimg.com/vi/52dQSX-DCN0/default.jpg   \n",
       "\n",
       "                                               videoTitle  commentCount  \\\n",
       "2049    Diesel Power Challenge 2019 Presented by XDP –...           NaN   \n",
       "2050    Diesel Power Challenge 2019 Presented by XDP–D...           NaN   \n",
       "2052    Diesel Power Challenge 2019 Presented by XDP–D...           NaN   \n",
       "2056    Diesel Power Challenge 2019 Presented by XDP–D...           NaN   \n",
       "2078               The Shootout: A Lap Around Laguna Seca           NaN   \n",
       "...                                                   ...           ...   \n",
       "100322    RADBUL conquers Highlands | 360° POV Experience           NaN   \n",
       "104744                      GoPro Awards: Rex the BMX Kid           NaN   \n",
       "148304  Lyon vs Barcelona (4-1) | UEFA Women's Champio...           NaN   \n",
       "612     WHY CHINESE RESTAURANTS ARE CLOSING DOWN | Fun...           NaN   \n",
       "742     IS HAVING A \"No Asian Policy\" MESSED UP WHEN D...           NaN   \n",
       "\n",
       "        dislikeCount  likeCount  viewCount  daysPublished  likeDislikeRatio  \\\n",
       "2049            33.0      140.0    35983.0            494          4.242424   \n",
       "2050            70.0      227.0    46334.0            494          3.242857   \n",
       "2052           134.0      454.0    65570.0            496          3.388060   \n",
       "2056            97.0      557.0    63898.0            496          5.742268   \n",
       "2078           324.0     1387.0  2965092.0            538          4.280864   \n",
       "...              ...        ...        ...            ...               ...   \n",
       "100322         211.0     5347.0   606466.0           1760         25.341232   \n",
       "104744        1004.0     8478.0   461090.0            854          8.444223   \n",
       "148304         135.0      747.0        NaN            514          5.533333   \n",
       "612            732.0     8855.0   663343.0            245         12.096995   \n",
       "742            595.0     7638.0   460080.0            717         12.836975   \n",
       "\n",
       "        likeCountByDay  commentCountByDay  \n",
       "2049          0.283401                NaN  \n",
       "2050          0.459514                NaN  \n",
       "2052          0.915323                NaN  \n",
       "2056          1.122984                NaN  \n",
       "2078          2.578067                NaN  \n",
       "...                ...                ...  \n",
       "100322        3.038068                NaN  \n",
       "104744        9.927400                NaN  \n",
       "148304        1.453307                NaN  \n",
       "612          36.142857                NaN  \n",
       "742          10.652720                NaN  \n",
       "\n",
       "[16134 rows x 14 columns]"
      ],
      "text/html": "<div>\n<style scoped>\n    .dataframe tbody tr th:only-of-type {\n        vertical-align: middle;\n    }\n\n    .dataframe tbody tr th {\n        vertical-align: top;\n    }\n\n    .dataframe thead th {\n        text-align: right;\n    }\n</style>\n<table border=\"1\" class=\"dataframe\">\n  <thead>\n    <tr style=\"text-align: right;\">\n      <th></th>\n      <th>channelId</th>\n      <th>description</th>\n      <th>publishedAt</th>\n      <th>videoId</th>\n      <th>thumbnails</th>\n      <th>videoTitle</th>\n      <th>commentCount</th>\n      <th>dislikeCount</th>\n      <th>likeCount</th>\n      <th>viewCount</th>\n      <th>daysPublished</th>\n      <th>likeDislikeRatio</th>\n      <th>likeCountByDay</th>\n      <th>commentCountByDay</th>\n    </tr>\n  </thead>\n  <tbody>\n    <tr>\n      <td>2049</td>\n      <td>UCsAegdhiYLEoaFGuJFVrqFQ</td>\n      <td>Diesel Power Editor KJ Jones, staff, sponsors ...</td>\n      <td>2019-06-06 21:57:58</td>\n      <td>eZEnTVkIuAw</td>\n      <td>https://i.ytimg.com/vi/eZEnTVkIuAw/default.jpg</td>\n      <td>Diesel Power Challenge 2019 Presented by XDP –...</td>\n      <td>NaN</td>\n      <td>33.0</td>\n      <td>140.0</td>\n      <td>35983.0</td>\n      <td>494</td>\n      <td>4.242424</td>\n      <td>0.283401</td>\n      <td>NaN</td>\n    </tr>\n    <tr>\n      <td>2050</td>\n      <td>UCsAegdhiYLEoaFGuJFVrqFQ</td>\n      <td>Brute strength and torque are put to the ultim...</td>\n      <td>2019-06-05 23:29:59</td>\n      <td>-Z5r_UeqFzw</td>\n      <td>https://i.ytimg.com/vi/-Z5r_UeqFzw/default.jpg</td>\n      <td>Diesel Power Challenge 2019 Presented by XDP–D...</td>\n      <td>NaN</td>\n      <td>70.0</td>\n      <td>227.0</td>\n      <td>46334.0</td>\n      <td>494</td>\n      <td>3.242857</td>\n      <td>0.459514</td>\n      <td>NaN</td>\n    </tr>\n    <tr>\n      <td>2052</td>\n      <td>UCsAegdhiYLEoaFGuJFVrqFQ</td>\n      <td>Truck speed and driver skill are put to the te...</td>\n      <td>2019-06-04 20:46:05</td>\n      <td>ugpizKRglc0</td>\n      <td>https://i.ytimg.com/vi/ugpizKRglc0/default.jpg</td>\n      <td>Diesel Power Challenge 2019 Presented by XDP–D...</td>\n      <td>NaN</td>\n      <td>134.0</td>\n      <td>454.0</td>\n      <td>65570.0</td>\n      <td>496</td>\n      <td>3.388060</td>\n      <td>0.915323</td>\n      <td>NaN</td>\n    </tr>\n    <tr>\n      <td>2056</td>\n      <td>UCsAegdhiYLEoaFGuJFVrqFQ</td>\n      <td>Our 10 competitors battle it out for horsepowe...</td>\n      <td>2019-06-04 15:15:46</td>\n      <td>d0u7iASLv5U</td>\n      <td>https://i.ytimg.com/vi/d0u7iASLv5U/default.jpg</td>\n      <td>Diesel Power Challenge 2019 Presented by XDP–D...</td>\n      <td>NaN</td>\n      <td>97.0</td>\n      <td>557.0</td>\n      <td>63898.0</td>\n      <td>496</td>\n      <td>5.742268</td>\n      <td>1.122984</td>\n      <td>NaN</td>\n    </tr>\n    <tr>\n      <td>2078</td>\n      <td>UCsAegdhiYLEoaFGuJFVrqFQ</td>\n      <td>Jack Hawksworth challenges his recently-retire...</td>\n      <td>2019-04-23 20:10:23</td>\n      <td>5vNrkTvSam4</td>\n      <td>https://i.ytimg.com/vi/5vNrkTvSam4/default.jpg</td>\n      <td>The Shootout: A Lap Around Laguna Seca</td>\n      <td>NaN</td>\n      <td>324.0</td>\n      <td>1387.0</td>\n      <td>2965092.0</td>\n      <td>538</td>\n      <td>4.280864</td>\n      <td>2.578067</td>\n      <td>NaN</td>\n    </tr>\n    <tr>\n      <td>...</td>\n      <td>...</td>\n      <td>...</td>\n      <td>...</td>\n      <td>...</td>\n      <td>...</td>\n      <td>...</td>\n      <td>...</td>\n      <td>...</td>\n      <td>...</td>\n      <td>...</td>\n      <td>...</td>\n      <td>...</td>\n      <td>...</td>\n      <td>...</td>\n    </tr>\n    <tr>\n      <td>100322</td>\n      <td>UCblfuW_4rakIf2h6aqANefA</td>\n      <td>» CLICK for more 360 videos! http://win.gs/Red...</td>\n      <td>2015-12-18 00:35:34</td>\n      <td>FKwfDBUZA3c</td>\n      <td>https://i.ytimg.com/vi/FKwfDBUZA3c/default.jpg</td>\n      <td>RADBUL conquers Highlands | 360° POV Experience</td>\n      <td>NaN</td>\n      <td>211.0</td>\n      <td>5347.0</td>\n      <td>606466.0</td>\n      <td>1760</td>\n      <td>25.341232</td>\n      <td>3.038068</td>\n      <td>NaN</td>\n    </tr>\n    <tr>\n      <td>104744</td>\n      <td>UCqhnX4jA0A5paNd1v-zEysw</td>\n      <td>Hit some smooth trick jumps with 7 year old Re...</td>\n      <td>2018-06-11 21:42:01</td>\n      <td>i3rgqivE94Y</td>\n      <td>https://i.ytimg.com/vi/i3rgqivE94Y/default.jpg</td>\n      <td>GoPro Awards: Rex the BMX Kid</td>\n      <td>NaN</td>\n      <td>1004.0</td>\n      <td>8478.0</td>\n      <td>461090.0</td>\n      <td>854</td>\n      <td>8.444223</td>\n      <td>9.927400</td>\n      <td>NaN</td>\n    </tr>\n    <tr>\n      <td>148304</td>\n      <td>UC4i_9WvfPRTuRWEaWyfKuFw</td>\n      <td>Lyon take on Barcelona in the final of Europe'...</td>\n      <td>2019-05-17 10:10:13</td>\n      <td>MZjaWGwbtEc</td>\n      <td>https://i.ytimg.com/vi/MZjaWGwbtEc/default.jpg</td>\n      <td>Lyon vs Barcelona (4-1) | UEFA Women's Champio...</td>\n      <td>NaN</td>\n      <td>135.0</td>\n      <td>747.0</td>\n      <td>NaN</td>\n      <td>514</td>\n      <td>5.533333</td>\n      <td>1.453307</td>\n      <td>NaN</td>\n    </tr>\n    <tr>\n      <td>612</td>\n      <td>UC9avFXTdbSo5ATvzTRnAVFg</td>\n      <td>The real reason why Chinese restaurants are cl...</td>\n      <td>2020-02-10 09:48:12</td>\n      <td>O1Jm6SWYKx8</td>\n      <td>https://i.ytimg.com/vi/O1Jm6SWYKx8/default.jpg</td>\n      <td>WHY CHINESE RESTAURANTS ARE CLOSING DOWN | Fun...</td>\n      <td>NaN</td>\n      <td>732.0</td>\n      <td>8855.0</td>\n      <td>663343.0</td>\n      <td>245</td>\n      <td>12.096995</td>\n      <td>36.142857</td>\n      <td>NaN</td>\n    </tr>\n    <tr>\n      <td>742</td>\n      <td>UC9avFXTdbSo5ATvzTRnAVFg</td>\n      <td>Check Out https://go.onelink.me/GF9q/noasn\\n#1...</td>\n      <td>2018-10-26 09:54:08</td>\n      <td>52dQSX-DCN0</td>\n      <td>https://i.ytimg.com/vi/52dQSX-DCN0/default.jpg</td>\n      <td>IS HAVING A \"No Asian Policy\" MESSED UP WHEN D...</td>\n      <td>NaN</td>\n      <td>595.0</td>\n      <td>7638.0</td>\n      <td>460080.0</td>\n      <td>717</td>\n      <td>12.836975</td>\n      <td>10.652720</td>\n      <td>NaN</td>\n    </tr>\n  </tbody>\n</table>\n<p>16134 rows × 14 columns</p>\n</div>"
     },
     "metadata": {},
     "execution_count": 104
    }
   ],
   "source": [
    "videos_df[videos_df['commentCountByDay'].isnull()]"
   ]
  },
  {
   "source": [
    "### viewCountByDay"
   ],
   "cell_type": "markdown",
   "metadata": {}
  },
  {
   "cell_type": "code",
   "execution_count": 69,
   "metadata": {},
   "outputs": [],
   "source": [
    "# videos_df['viewCountByDay'] = videos_df['viewCount']/videos_df['daysPublished']"
   ]
  },
  {
   "cell_type": "code",
   "execution_count": 106,
   "metadata": {},
   "outputs": [],
   "source": [
    "conditions = [\n",
    "    (videos_df['viewCount'].isnull()),\n",
    "    (videos_df['viewCount'].notnull())\n",
    "\n",
    "]\n",
    "choices = [np.nan,videos_df['viewCount']/videos_df['daysPublished']]\n",
    "videos_df['viewCountByDay'] = np.select(condlist=conditions, choicelist=choices)\n"
   ]
  },
  {
   "cell_type": "code",
   "execution_count": 107,
   "metadata": {},
   "outputs": [
    {
     "output_type": "execute_result",
     "data": {
      "text/plain": [
       "<bound method IndexOpsMixin.value_counts of 0       61482.333333\n",
       "1       72539.666667\n",
       "2       87555.400000\n",
       "3       31845.000000\n",
       "4       95428.166667\n",
       "            ...     \n",
       "3250        4.201967\n",
       "3251       27.249256\n",
       "3252        5.659091\n",
       "3253        3.604423\n",
       "3254        3.642506\n",
       "Name: viewCountByDay, Length: 408690, dtype: float64>"
      ]
     },
     "metadata": {},
     "execution_count": 107
    }
   ],
   "source": [
    "videos_df['viewCountByDay'].value_counts\n"
   ]
  },
  {
   "cell_type": "code",
   "execution_count": 108,
   "metadata": {},
   "outputs": [
    {
     "output_type": "execute_result",
     "data": {
      "text/plain": [
       "                       channelId  \\\n",
       "20677   UCfm4y4rHF5HGrSr-qbvOwOg   \n",
       "33461   UC-lHJZR3Gqxm24_Vd_AJ5Yw   \n",
       "57547   UCIwFjwMjI0y7PDBVEO9-bkQ   \n",
       "57548   UCIwFjwMjI0y7PDBVEO9-bkQ   \n",
       "57563   UCIwFjwMjI0y7PDBVEO9-bkQ   \n",
       "...                          ...   \n",
       "150379  UC4i_9WvfPRTuRWEaWyfKuFw   \n",
       "150387  UC4i_9WvfPRTuRWEaWyfKuFw   \n",
       "150520  UC4i_9WvfPRTuRWEaWyfKuFw   \n",
       "150525  UC4i_9WvfPRTuRWEaWyfKuFw   \n",
       "150527  UC4i_9WvfPRTuRWEaWyfKuFw   \n",
       "\n",
       "                                              description         publishedAt  \\\n",
       "20677   Go behind the scenes with Lilly at her photosh... 2016-01-29 00:48:55   \n",
       "33461   Check out what they put me through to make Sca... 2016-01-29 19:55:38   \n",
       "57547   On the verge of the album release and stadium ... 2020-02-23 22:07:18   \n",
       "57548   Justin faces one of his biggest tests to date:... 2020-02-14 02:12:22   \n",
       "57563   A look inside Hailey and Justin's intimate wed... 2020-02-06 23:01:51   \n",
       "...                                                   ...                 ...   \n",
       "150379  Watch Perth Scorchers take on the Melbourne St... 2017-12-19 12:23:59   \n",
       "150387  Watch Brisbane Heat take take on Melbourne Sta... 2017-12-19 12:00:36   \n",
       "150520  Watch live streaming of day four of the only w... 2017-11-07 10:55:32   \n",
       "150525  Watch live streaming of day three of the only ... 2017-11-07 10:53:38   \n",
       "150527  Watch live streaming of day two of the only wo... 2017-11-07 10:49:58   \n",
       "\n",
       "            videoId                                      thumbnails  \\\n",
       "20677   IdBjVMTdBV4  https://i.ytimg.com/vi/IdBjVMTdBV4/default.jpg   \n",
       "33461   AkdZiERMjjI  https://i.ytimg.com/vi/AkdZiERMjjI/default.jpg   \n",
       "57547   IilZLGt_Ufo  https://i.ytimg.com/vi/IilZLGt_Ufo/default.jpg   \n",
       "57548   pWcI-BeQqls  https://i.ytimg.com/vi/pWcI-BeQqls/default.jpg   \n",
       "57563   G-4tJ63X5vo  https://i.ytimg.com/vi/G-4tJ63X5vo/default.jpg   \n",
       "...             ...                                             ...   \n",
       "150379  fV_hE9LQ1Jw  https://i.ytimg.com/vi/fV_hE9LQ1Jw/default.jpg   \n",
       "150387  fZ3enlWvhyk  https://i.ytimg.com/vi/fZ3enlWvhyk/default.jpg   \n",
       "150520  yzax7nFcJJU  https://i.ytimg.com/vi/yzax7nFcJJU/default.jpg   \n",
       "150525  Sp6G2SuDzbY  https://i.ytimg.com/vi/Sp6G2SuDzbY/default.jpg   \n",
       "150527  72IQHmTC4Gg  https://i.ytimg.com/vi/72IQHmTC4Gg/default.jpg   \n",
       "\n",
       "                                               videoTitle  commentCount  \\\n",
       "20677      Behind the scenes with Lilly at her photoshoot         145.0   \n",
       "33461   BEHIND THE SCENES FOR THE MAKING OF SCARE PEWD...         690.0   \n",
       "57547                 The Finale - Justin Bieber: Seasons        7272.0   \n",
       "57548          Album on the Way  - Justin Bieber: Seasons        2795.0   \n",
       "57563   The Wedding: Officially Mr. & Mrs. Bieber - Ju...       31068.0   \n",
       "...                                                   ...           ...   \n",
       "150379  FULL MATCH: Perth Scorchers v Melbourne Stars ...          21.0   \n",
       "150387  FULL MATCH: Adelaide Strikers v Sydney Thunder...          15.0   \n",
       "150520  Live streaming: Women's Ashes 2017 - Australia...           5.0   \n",
       "150525  Live streaming: Women's Ashes 2017 - Australia...           9.0   \n",
       "150527  Live streaming: Women's Ashes 2017 - Australia...          11.0   \n",
       "\n",
       "        dislikeCount  likeCount  viewCount  daysPublished  likeDislikeRatio  \\\n",
       "20677          675.0    12883.0        NaN           1718         19.085926   \n",
       "33461          522.0    26632.0        NaN           1718         51.019157   \n",
       "57547            NaN        NaN        NaN            232               NaN   \n",
       "57548            NaN        NaN        NaN            241               NaN   \n",
       "57563            NaN        NaN        NaN            248               NaN   \n",
       "...              ...        ...        ...            ...               ...   \n",
       "150379          34.0      304.0        NaN           1028          8.941176   \n",
       "150387          21.0      310.0        NaN           1028         14.761905   \n",
       "150520          10.0       75.0        NaN           1070          7.500000   \n",
       "150525           NaN        NaN        NaN           1070               NaN   \n",
       "150527           NaN        NaN        NaN           1070               NaN   \n",
       "\n",
       "        likeCountByDay  commentCountByDay  viewCountByDay  \n",
       "20677         7.498836           0.084400             NaN  \n",
       "33461        15.501746           0.401630             NaN  \n",
       "57547              NaN          31.344828             NaN  \n",
       "57548              NaN          11.597510             NaN  \n",
       "57563              NaN         125.274194             NaN  \n",
       "...                ...                ...             ...  \n",
       "150379        0.295720           0.020428             NaN  \n",
       "150387        0.301556           0.014591             NaN  \n",
       "150520        0.070093           0.004673             NaN  \n",
       "150525             NaN           0.008411             NaN  \n",
       "150527             NaN           0.010280             NaN  \n",
       "\n",
       "[107 rows x 15 columns]"
      ],
      "text/html": "<div>\n<style scoped>\n    .dataframe tbody tr th:only-of-type {\n        vertical-align: middle;\n    }\n\n    .dataframe tbody tr th {\n        vertical-align: top;\n    }\n\n    .dataframe thead th {\n        text-align: right;\n    }\n</style>\n<table border=\"1\" class=\"dataframe\">\n  <thead>\n    <tr style=\"text-align: right;\">\n      <th></th>\n      <th>channelId</th>\n      <th>description</th>\n      <th>publishedAt</th>\n      <th>videoId</th>\n      <th>thumbnails</th>\n      <th>videoTitle</th>\n      <th>commentCount</th>\n      <th>dislikeCount</th>\n      <th>likeCount</th>\n      <th>viewCount</th>\n      <th>daysPublished</th>\n      <th>likeDislikeRatio</th>\n      <th>likeCountByDay</th>\n      <th>commentCountByDay</th>\n      <th>viewCountByDay</th>\n    </tr>\n  </thead>\n  <tbody>\n    <tr>\n      <td>20677</td>\n      <td>UCfm4y4rHF5HGrSr-qbvOwOg</td>\n      <td>Go behind the scenes with Lilly at her photosh...</td>\n      <td>2016-01-29 00:48:55</td>\n      <td>IdBjVMTdBV4</td>\n      <td>https://i.ytimg.com/vi/IdBjVMTdBV4/default.jpg</td>\n      <td>Behind the scenes with Lilly at her photoshoot</td>\n      <td>145.0</td>\n      <td>675.0</td>\n      <td>12883.0</td>\n      <td>NaN</td>\n      <td>1718</td>\n      <td>19.085926</td>\n      <td>7.498836</td>\n      <td>0.084400</td>\n      <td>NaN</td>\n    </tr>\n    <tr>\n      <td>33461</td>\n      <td>UC-lHJZR3Gqxm24_Vd_AJ5Yw</td>\n      <td>Check out what they put me through to make Sca...</td>\n      <td>2016-01-29 19:55:38</td>\n      <td>AkdZiERMjjI</td>\n      <td>https://i.ytimg.com/vi/AkdZiERMjjI/default.jpg</td>\n      <td>BEHIND THE SCENES FOR THE MAKING OF SCARE PEWD...</td>\n      <td>690.0</td>\n      <td>522.0</td>\n      <td>26632.0</td>\n      <td>NaN</td>\n      <td>1718</td>\n      <td>51.019157</td>\n      <td>15.501746</td>\n      <td>0.401630</td>\n      <td>NaN</td>\n    </tr>\n    <tr>\n      <td>57547</td>\n      <td>UCIwFjwMjI0y7PDBVEO9-bkQ</td>\n      <td>On the verge of the album release and stadium ...</td>\n      <td>2020-02-23 22:07:18</td>\n      <td>IilZLGt_Ufo</td>\n      <td>https://i.ytimg.com/vi/IilZLGt_Ufo/default.jpg</td>\n      <td>The Finale - Justin Bieber: Seasons</td>\n      <td>7272.0</td>\n      <td>NaN</td>\n      <td>NaN</td>\n      <td>NaN</td>\n      <td>232</td>\n      <td>NaN</td>\n      <td>NaN</td>\n      <td>31.344828</td>\n      <td>NaN</td>\n    </tr>\n    <tr>\n      <td>57548</td>\n      <td>UCIwFjwMjI0y7PDBVEO9-bkQ</td>\n      <td>Justin faces one of his biggest tests to date:...</td>\n      <td>2020-02-14 02:12:22</td>\n      <td>pWcI-BeQqls</td>\n      <td>https://i.ytimg.com/vi/pWcI-BeQqls/default.jpg</td>\n      <td>Album on the Way  - Justin Bieber: Seasons</td>\n      <td>2795.0</td>\n      <td>NaN</td>\n      <td>NaN</td>\n      <td>NaN</td>\n      <td>241</td>\n      <td>NaN</td>\n      <td>NaN</td>\n      <td>11.597510</td>\n      <td>NaN</td>\n    </tr>\n    <tr>\n      <td>57563</td>\n      <td>UCIwFjwMjI0y7PDBVEO9-bkQ</td>\n      <td>A look inside Hailey and Justin's intimate wed...</td>\n      <td>2020-02-06 23:01:51</td>\n      <td>G-4tJ63X5vo</td>\n      <td>https://i.ytimg.com/vi/G-4tJ63X5vo/default.jpg</td>\n      <td>The Wedding: Officially Mr. &amp; Mrs. Bieber - Ju...</td>\n      <td>31068.0</td>\n      <td>NaN</td>\n      <td>NaN</td>\n      <td>NaN</td>\n      <td>248</td>\n      <td>NaN</td>\n      <td>NaN</td>\n      <td>125.274194</td>\n      <td>NaN</td>\n    </tr>\n    <tr>\n      <td>...</td>\n      <td>...</td>\n      <td>...</td>\n      <td>...</td>\n      <td>...</td>\n      <td>...</td>\n      <td>...</td>\n      <td>...</td>\n      <td>...</td>\n      <td>...</td>\n      <td>...</td>\n      <td>...</td>\n      <td>...</td>\n      <td>...</td>\n      <td>...</td>\n      <td>...</td>\n    </tr>\n    <tr>\n      <td>150379</td>\n      <td>UC4i_9WvfPRTuRWEaWyfKuFw</td>\n      <td>Watch Perth Scorchers take on the Melbourne St...</td>\n      <td>2017-12-19 12:23:59</td>\n      <td>fV_hE9LQ1Jw</td>\n      <td>https://i.ytimg.com/vi/fV_hE9LQ1Jw/default.jpg</td>\n      <td>FULL MATCH: Perth Scorchers v Melbourne Stars ...</td>\n      <td>21.0</td>\n      <td>34.0</td>\n      <td>304.0</td>\n      <td>NaN</td>\n      <td>1028</td>\n      <td>8.941176</td>\n      <td>0.295720</td>\n      <td>0.020428</td>\n      <td>NaN</td>\n    </tr>\n    <tr>\n      <td>150387</td>\n      <td>UC4i_9WvfPRTuRWEaWyfKuFw</td>\n      <td>Watch Brisbane Heat take take on Melbourne Sta...</td>\n      <td>2017-12-19 12:00:36</td>\n      <td>fZ3enlWvhyk</td>\n      <td>https://i.ytimg.com/vi/fZ3enlWvhyk/default.jpg</td>\n      <td>FULL MATCH: Adelaide Strikers v Sydney Thunder...</td>\n      <td>15.0</td>\n      <td>21.0</td>\n      <td>310.0</td>\n      <td>NaN</td>\n      <td>1028</td>\n      <td>14.761905</td>\n      <td>0.301556</td>\n      <td>0.014591</td>\n      <td>NaN</td>\n    </tr>\n    <tr>\n      <td>150520</td>\n      <td>UC4i_9WvfPRTuRWEaWyfKuFw</td>\n      <td>Watch live streaming of day four of the only w...</td>\n      <td>2017-11-07 10:55:32</td>\n      <td>yzax7nFcJJU</td>\n      <td>https://i.ytimg.com/vi/yzax7nFcJJU/default.jpg</td>\n      <td>Live streaming: Women's Ashes 2017 - Australia...</td>\n      <td>5.0</td>\n      <td>10.0</td>\n      <td>75.0</td>\n      <td>NaN</td>\n      <td>1070</td>\n      <td>7.500000</td>\n      <td>0.070093</td>\n      <td>0.004673</td>\n      <td>NaN</td>\n    </tr>\n    <tr>\n      <td>150525</td>\n      <td>UC4i_9WvfPRTuRWEaWyfKuFw</td>\n      <td>Watch live streaming of day three of the only ...</td>\n      <td>2017-11-07 10:53:38</td>\n      <td>Sp6G2SuDzbY</td>\n      <td>https://i.ytimg.com/vi/Sp6G2SuDzbY/default.jpg</td>\n      <td>Live streaming: Women's Ashes 2017 - Australia...</td>\n      <td>9.0</td>\n      <td>NaN</td>\n      <td>NaN</td>\n      <td>NaN</td>\n      <td>1070</td>\n      <td>NaN</td>\n      <td>NaN</td>\n      <td>0.008411</td>\n      <td>NaN</td>\n    </tr>\n    <tr>\n      <td>150527</td>\n      <td>UC4i_9WvfPRTuRWEaWyfKuFw</td>\n      <td>Watch live streaming of day two of the only wo...</td>\n      <td>2017-11-07 10:49:58</td>\n      <td>72IQHmTC4Gg</td>\n      <td>https://i.ytimg.com/vi/72IQHmTC4Gg/default.jpg</td>\n      <td>Live streaming: Women's Ashes 2017 - Australia...</td>\n      <td>11.0</td>\n      <td>NaN</td>\n      <td>NaN</td>\n      <td>NaN</td>\n      <td>1070</td>\n      <td>NaN</td>\n      <td>NaN</td>\n      <td>0.010280</td>\n      <td>NaN</td>\n    </tr>\n  </tbody>\n</table>\n<p>107 rows × 15 columns</p>\n</div>"
     },
     "metadata": {},
     "execution_count": 108
    }
   ],
   "source": [
    "videos_df[videos_df['viewCountByDay'].isnull()]"
   ]
  },
  {
   "source": [
    "#### Length of video title"
   ],
   "cell_type": "markdown",
   "metadata": {}
  },
  {
   "cell_type": "code",
   "execution_count": 111,
   "metadata": {},
   "outputs": [],
   "source": [
    "videos_df['titleLen'] = videos_df['videoTitle'].map(lambda x: len(re.findall(r'\\w+', x)))"
   ]
  },
  {
   "cell_type": "code",
   "execution_count": 113,
   "metadata": {},
   "outputs": [
    {
     "output_type": "execute_result",
     "data": {
      "text/plain": [
       "min     0.0\n",
       "max    35.0\n",
       "Name: titleLen, dtype: float64"
      ]
     },
     "metadata": {},
     "execution_count": 113
    }
   ],
   "source": [
    "videos_df['titleLen'].describe().loc[['min','max']]"
   ]
  },
  {
   "cell_type": "code",
   "execution_count": 130,
   "metadata": {},
   "outputs": [
    {
     "output_type": "execute_result",
     "data": {
      "text/plain": [
       "array(['1,2,3,4,5,6,7,8,9,10,11,12,13,14,15,16,17,18,19,20,21,22,23,24,25,26,27,28,29,30,31,32,33,34,35...'],\n",
       "      dtype=object)"
      ]
     },
     "metadata": {},
     "execution_count": 130
    }
   ],
   "source": [
    "videos_df[videos_df['titleLen'] >30]['videoTitle'].values"
   ]
  },
  {
   "cell_type": "code",
   "execution_count": null,
   "metadata": {},
   "outputs": [],
   "source": []
  },
  {
   "source": [
    "Agg videos"
   ],
   "cell_type": "markdown",
   "metadata": {}
  },
  {
   "source": [
    "\n",
    "agg_videos_df = videos_df[[\"videoId\", \"daysPublished\",\"likeDislikeRatio\",\"likeCountByDay\", \"commentCountByDay\",\"viewCountByDay\",'titleLen']]\n"
   ],
   "cell_type": "code",
   "metadata": {},
   "execution_count": 131,
   "outputs": []
  },
  {
   "cell_type": "code",
   "execution_count": 132,
   "metadata": {},
   "outputs": [
    {
     "output_type": "execute_result",
     "data": {
      "text/plain": [
       "          videoId  daysPublished  likeDislikeRatio  likeCountByDay  \\\n",
       "0     NXX338WY_Lw              3         22.642023     1939.666667   \n",
       "1     dtHcdU2c71Y              3         26.139194     2378.666667   \n",
       "2     vnrtWe-RAzg              5         24.973039     2037.800000   \n",
       "3     Ra1F0TsOCPs              6         35.277228     1187.666667   \n",
       "4     fXysipmTxcQ              6         57.720238     1616.166667   \n",
       "...           ...            ...               ...             ...   \n",
       "3250  DaoL1-H1ReE           1322         18.750000        0.056732   \n",
       "3251  ERMJ5xE7-6A           1344         16.960000        0.315476   \n",
       "3252  scdq2xfCE34           1628         28.500000        0.070025   \n",
       "3253  HgJI5ybtk5Y           1628         21.333333        0.039312   \n",
       "3254  zg2yqK-5_U0           1628          6.705882        0.070025   \n",
       "\n",
       "      commentCountByDay  viewCountByDay  titleLen  \n",
       "0            176.000000    61482.333333        11  \n",
       "1            189.333333    72539.666667        14  \n",
       "2            218.200000    87555.400000         9  \n",
       "3             96.500000    31845.000000        13  \n",
       "4            148.000000    95428.166667        11  \n",
       "...                 ...             ...       ...  \n",
       "3250           0.003026        4.201967         5  \n",
       "3251           0.031994       27.249256         8  \n",
       "3252           0.004300        5.659091         7  \n",
       "3253           0.003071        3.604423         8  \n",
       "3254           0.017813        3.642506         9  \n",
       "\n",
       "[408690 rows x 7 columns]"
      ],
      "text/html": "<div>\n<style scoped>\n    .dataframe tbody tr th:only-of-type {\n        vertical-align: middle;\n    }\n\n    .dataframe tbody tr th {\n        vertical-align: top;\n    }\n\n    .dataframe thead th {\n        text-align: right;\n    }\n</style>\n<table border=\"1\" class=\"dataframe\">\n  <thead>\n    <tr style=\"text-align: right;\">\n      <th></th>\n      <th>videoId</th>\n      <th>daysPublished</th>\n      <th>likeDislikeRatio</th>\n      <th>likeCountByDay</th>\n      <th>commentCountByDay</th>\n      <th>viewCountByDay</th>\n      <th>titleLen</th>\n    </tr>\n  </thead>\n  <tbody>\n    <tr>\n      <td>0</td>\n      <td>NXX338WY_Lw</td>\n      <td>3</td>\n      <td>22.642023</td>\n      <td>1939.666667</td>\n      <td>176.000000</td>\n      <td>61482.333333</td>\n      <td>11</td>\n    </tr>\n    <tr>\n      <td>1</td>\n      <td>dtHcdU2c71Y</td>\n      <td>3</td>\n      <td>26.139194</td>\n      <td>2378.666667</td>\n      <td>189.333333</td>\n      <td>72539.666667</td>\n      <td>14</td>\n    </tr>\n    <tr>\n      <td>2</td>\n      <td>vnrtWe-RAzg</td>\n      <td>5</td>\n      <td>24.973039</td>\n      <td>2037.800000</td>\n      <td>218.200000</td>\n      <td>87555.400000</td>\n      <td>9</td>\n    </tr>\n    <tr>\n      <td>3</td>\n      <td>Ra1F0TsOCPs</td>\n      <td>6</td>\n      <td>35.277228</td>\n      <td>1187.666667</td>\n      <td>96.500000</td>\n      <td>31845.000000</td>\n      <td>13</td>\n    </tr>\n    <tr>\n      <td>4</td>\n      <td>fXysipmTxcQ</td>\n      <td>6</td>\n      <td>57.720238</td>\n      <td>1616.166667</td>\n      <td>148.000000</td>\n      <td>95428.166667</td>\n      <td>11</td>\n    </tr>\n    <tr>\n      <td>...</td>\n      <td>...</td>\n      <td>...</td>\n      <td>...</td>\n      <td>...</td>\n      <td>...</td>\n      <td>...</td>\n      <td>...</td>\n    </tr>\n    <tr>\n      <td>3250</td>\n      <td>DaoL1-H1ReE</td>\n      <td>1322</td>\n      <td>18.750000</td>\n      <td>0.056732</td>\n      <td>0.003026</td>\n      <td>4.201967</td>\n      <td>5</td>\n    </tr>\n    <tr>\n      <td>3251</td>\n      <td>ERMJ5xE7-6A</td>\n      <td>1344</td>\n      <td>16.960000</td>\n      <td>0.315476</td>\n      <td>0.031994</td>\n      <td>27.249256</td>\n      <td>8</td>\n    </tr>\n    <tr>\n      <td>3252</td>\n      <td>scdq2xfCE34</td>\n      <td>1628</td>\n      <td>28.500000</td>\n      <td>0.070025</td>\n      <td>0.004300</td>\n      <td>5.659091</td>\n      <td>7</td>\n    </tr>\n    <tr>\n      <td>3253</td>\n      <td>HgJI5ybtk5Y</td>\n      <td>1628</td>\n      <td>21.333333</td>\n      <td>0.039312</td>\n      <td>0.003071</td>\n      <td>3.604423</td>\n      <td>8</td>\n    </tr>\n    <tr>\n      <td>3254</td>\n      <td>zg2yqK-5_U0</td>\n      <td>1628</td>\n      <td>6.705882</td>\n      <td>0.070025</td>\n      <td>0.017813</td>\n      <td>3.642506</td>\n      <td>9</td>\n    </tr>\n  </tbody>\n</table>\n<p>408690 rows × 7 columns</p>\n</div>"
     },
     "metadata": {},
     "execution_count": 132
    }
   ],
   "source": [
    "agg_videos_df"
   ]
  },
  {
   "cell_type": "code",
   "execution_count": 133,
   "metadata": {},
   "outputs": [],
   "source": [
    "agg_videos_df.to_csv('agg_videos_df.csv',index = False, header = True)"
   ]
  }
 ]
}