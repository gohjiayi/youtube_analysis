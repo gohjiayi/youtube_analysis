{
 "cells": [
  {
   "cell_type": "code",
   "execution_count": 1,
   "metadata": {},
   "outputs": [],
   "source": [
    "import pandas as pd\n",
    "import numpy as np"
   ]
  },
  {
   "cell_type": "code",
   "execution_count": 2,
   "metadata": {},
   "outputs": [],
   "source": [
    "videos_df = pd.read_csv(\"videos_df.csv\")"
   ]
  },
  {
   "cell_type": "code",
   "execution_count": 3,
   "metadata": {},
   "outputs": [],
   "source": [
    "socialblade = pd.read_csv(\"socialblade_df.csv\")"
   ]
  },
  {
   "cell_type": "code",
   "execution_count": 4,
   "metadata": {},
   "outputs": [
    {
     "data": {
      "text/html": [
       "<div>\n",
       "<style scoped>\n",
       "    .dataframe tbody tr th:only-of-type {\n",
       "        vertical-align: middle;\n",
       "    }\n",
       "\n",
       "    .dataframe tbody tr th {\n",
       "        vertical-align: top;\n",
       "    }\n",
       "\n",
       "    .dataframe thead th {\n",
       "        text-align: right;\n",
       "    }\n",
       "</style>\n",
       "<table border=\"1\" class=\"dataframe\">\n",
       "  <thead>\n",
       "    <tr style=\"text-align: right;\">\n",
       "      <th></th>\n",
       "      <th>Channel Name</th>\n",
       "      <th>Channel ID</th>\n",
       "      <th>Category</th>\n",
       "    </tr>\n",
       "  </thead>\n",
       "  <tbody>\n",
       "    <tr>\n",
       "      <td>0</td>\n",
       "      <td>Top Gear</td>\n",
       "      <td>UCjOl2AUblVmg2rA_cRgZkFg</td>\n",
       "      <td>AUTO &amp; VEHICLES</td>\n",
       "    </tr>\n",
       "    <tr>\n",
       "      <td>1</td>\n",
       "      <td>ChrisFix</td>\n",
       "      <td>UCes1EvRjcKU4sY_UEavndBw</td>\n",
       "      <td>AUTO &amp; VEHICLES</td>\n",
       "    </tr>\n",
       "    <tr>\n",
       "      <td>2</td>\n",
       "      <td>MotorTrend Channel</td>\n",
       "      <td>UCsAegdhiYLEoaFGuJFVrqFQ</td>\n",
       "      <td>AUTO &amp; VEHICLES</td>\n",
       "    </tr>\n",
       "    <tr>\n",
       "      <td>3</td>\n",
       "      <td>carwow</td>\n",
       "      <td>UCUhFaUpnq31m6TNX2VKVSVA</td>\n",
       "      <td>AUTO &amp; VEHICLES</td>\n",
       "    </tr>\n",
       "    <tr>\n",
       "      <td>4</td>\n",
       "      <td>Supercar Blondie</td>\n",
       "      <td>UCKSVUHI9rbbkXhvAXK-2uxA</td>\n",
       "      <td>AUTO &amp; VEHICLES</td>\n",
       "    </tr>\n",
       "  </tbody>\n",
       "</table>\n",
       "</div>"
      ],
      "text/plain": [
       "         Channel Name                Channel ID         Category\n",
       "0            Top Gear  UCjOl2AUblVmg2rA_cRgZkFg  AUTO & VEHICLES\n",
       "1            ChrisFix  UCes1EvRjcKU4sY_UEavndBw  AUTO & VEHICLES\n",
       "2  MotorTrend Channel  UCsAegdhiYLEoaFGuJFVrqFQ  AUTO & VEHICLES\n",
       "3              carwow  UCUhFaUpnq31m6TNX2VKVSVA  AUTO & VEHICLES\n",
       "4    Supercar Blondie  UCKSVUHI9rbbkXhvAXK-2uxA  AUTO & VEHICLES"
      ]
     },
     "execution_count": 4,
     "metadata": {},
     "output_type": "execute_result"
    }
   ],
   "source": [
    "socialblade.head()"
   ]
  },
  {
   "cell_type": "code",
   "execution_count": 5,
   "metadata": {},
   "outputs": [],
   "source": [
    "socialblade = socialblade.rename(columns={'Channel ID': 'channelId'})"
   ]
  },
  {
   "cell_type": "code",
   "execution_count": 6,
   "metadata": {},
   "outputs": [
    {
     "data": {
      "text/html": [
       "<div>\n",
       "<style scoped>\n",
       "    .dataframe tbody tr th:only-of-type {\n",
       "        vertical-align: middle;\n",
       "    }\n",
       "\n",
       "    .dataframe tbody tr th {\n",
       "        vertical-align: top;\n",
       "    }\n",
       "\n",
       "    .dataframe thead th {\n",
       "        text-align: right;\n",
       "    }\n",
       "</style>\n",
       "<table border=\"1\" class=\"dataframe\">\n",
       "  <thead>\n",
       "    <tr style=\"text-align: right;\">\n",
       "      <th></th>\n",
       "      <th>channelId</th>\n",
       "      <th>description</th>\n",
       "      <th>publishedAt</th>\n",
       "      <th>videoId</th>\n",
       "      <th>thumbnails</th>\n",
       "      <th>videoTitle</th>\n",
       "      <th>commentCount</th>\n",
       "      <th>dislikeCount</th>\n",
       "      <th>likeCount</th>\n",
       "      <th>viewCount</th>\n",
       "    </tr>\n",
       "  </thead>\n",
       "  <tbody>\n",
       "    <tr>\n",
       "      <td>0</td>\n",
       "      <td>UCjOl2AUblVmg2rA_cRgZkFg</td>\n",
       "      <td>In this week's Top Gear, Flintoff gets his han...</td>\n",
       "      <td>2020-10-09 09:35:54</td>\n",
       "      <td>NXX338WY_Lw</td>\n",
       "      <td>https://i.ytimg.com/vi/NXX338WY_Lw/default.jpg</td>\n",
       "      <td>PREVIEW: Attempting 200mph in the Jaguar XJ220...</td>\n",
       "      <td>528.0</td>\n",
       "      <td>257.0</td>\n",
       "      <td>5819.0</td>\n",
       "      <td>184447.0</td>\n",
       "    </tr>\n",
       "    <tr>\n",
       "      <td>1</td>\n",
       "      <td>UCjOl2AUblVmg2rA_cRgZkFg</td>\n",
       "      <td>From the humble new Volkswagen GTI, right down...</td>\n",
       "      <td>2020-10-09 11:21:23</td>\n",
       "      <td>dtHcdU2c71Y</td>\n",
       "      <td>https://i.ytimg.com/vi/dtHcdU2c71Y/default.jpg</td>\n",
       "      <td>Which car will win Top Gear Speed Week 2020? (...</td>\n",
       "      <td>568.0</td>\n",
       "      <td>273.0</td>\n",
       "      <td>7136.0</td>\n",
       "      <td>217619.0</td>\n",
       "    </tr>\n",
       "    <tr>\n",
       "      <td>2</td>\n",
       "      <td>UCjOl2AUblVmg2rA_cRgZkFg</td>\n",
       "      <td>Here's Chris Harris' take on the rocket-disgui...</td>\n",
       "      <td>2020-10-07 07:40:22</td>\n",
       "      <td>vnrtWe-RAzg</td>\n",
       "      <td>https://i.ytimg.com/vi/vnrtWe-RAzg/default.jpg</td>\n",
       "      <td>Chris Harris on... the Ferrari SF90 Stradale |...</td>\n",
       "      <td>1091.0</td>\n",
       "      <td>408.0</td>\n",
       "      <td>10189.0</td>\n",
       "      <td>437777.0</td>\n",
       "    </tr>\n",
       "    <tr>\n",
       "      <td>3</td>\n",
       "      <td>UCjOl2AUblVmg2rA_cRgZkFg</td>\n",
       "      <td>16 contenders, 8,553bhp and a festival to reme...</td>\n",
       "      <td>2020-10-06 13:59:38</td>\n",
       "      <td>Ra1F0TsOCPs</td>\n",
       "      <td>https://i.ytimg.com/vi/Ra1F0TsOCPs/default.jpg</td>\n",
       "      <td>Chris Harris vs 2020’s Best Performance Cars |...</td>\n",
       "      <td>579.0</td>\n",
       "      <td>202.0</td>\n",
       "      <td>7126.0</td>\n",
       "      <td>191070.0</td>\n",
       "    </tr>\n",
       "    <tr>\n",
       "      <td>4</td>\n",
       "      <td>UCjOl2AUblVmg2rA_cRgZkFg</td>\n",
       "      <td>The 986bhp Ferrari SF90 is, unsurprisingly, no...</td>\n",
       "      <td>2020-10-06 07:36:13</td>\n",
       "      <td>fXysipmTxcQ</td>\n",
       "      <td>https://i.ytimg.com/vi/fXysipmTxcQ/default.jpg</td>\n",
       "      <td>FASTEST TOP GEAR LAP? Ferrari SF90 Stiglap | T...</td>\n",
       "      <td>888.0</td>\n",
       "      <td>168.0</td>\n",
       "      <td>9697.0</td>\n",
       "      <td>572569.0</td>\n",
       "    </tr>\n",
       "  </tbody>\n",
       "</table>\n",
       "</div>"
      ],
      "text/plain": [
       "                  channelId  \\\n",
       "0  UCjOl2AUblVmg2rA_cRgZkFg   \n",
       "1  UCjOl2AUblVmg2rA_cRgZkFg   \n",
       "2  UCjOl2AUblVmg2rA_cRgZkFg   \n",
       "3  UCjOl2AUblVmg2rA_cRgZkFg   \n",
       "4  UCjOl2AUblVmg2rA_cRgZkFg   \n",
       "\n",
       "                                         description          publishedAt  \\\n",
       "0  In this week's Top Gear, Flintoff gets his han...  2020-10-09 09:35:54   \n",
       "1  From the humble new Volkswagen GTI, right down...  2020-10-09 11:21:23   \n",
       "2  Here's Chris Harris' take on the rocket-disgui...  2020-10-07 07:40:22   \n",
       "3  16 contenders, 8,553bhp and a festival to reme...  2020-10-06 13:59:38   \n",
       "4  The 986bhp Ferrari SF90 is, unsurprisingly, no...  2020-10-06 07:36:13   \n",
       "\n",
       "       videoId                                      thumbnails  \\\n",
       "0  NXX338WY_Lw  https://i.ytimg.com/vi/NXX338WY_Lw/default.jpg   \n",
       "1  dtHcdU2c71Y  https://i.ytimg.com/vi/dtHcdU2c71Y/default.jpg   \n",
       "2  vnrtWe-RAzg  https://i.ytimg.com/vi/vnrtWe-RAzg/default.jpg   \n",
       "3  Ra1F0TsOCPs  https://i.ytimg.com/vi/Ra1F0TsOCPs/default.jpg   \n",
       "4  fXysipmTxcQ  https://i.ytimg.com/vi/fXysipmTxcQ/default.jpg   \n",
       "\n",
       "                                          videoTitle  commentCount  \\\n",
       "0  PREVIEW: Attempting 200mph in the Jaguar XJ220...         528.0   \n",
       "1  Which car will win Top Gear Speed Week 2020? (...         568.0   \n",
       "2  Chris Harris on... the Ferrari SF90 Stradale |...        1091.0   \n",
       "3  Chris Harris vs 2020’s Best Performance Cars |...         579.0   \n",
       "4  FASTEST TOP GEAR LAP? Ferrari SF90 Stiglap | T...         888.0   \n",
       "\n",
       "   dislikeCount  likeCount  viewCount  \n",
       "0         257.0     5819.0   184447.0  \n",
       "1         273.0     7136.0   217619.0  \n",
       "2         408.0    10189.0   437777.0  \n",
       "3         202.0     7126.0   191070.0  \n",
       "4         168.0     9697.0   572569.0  "
      ]
     },
     "execution_count": 6,
     "metadata": {},
     "output_type": "execute_result"
    }
   ],
   "source": [
    "videos_df.head()"
   ]
  },
  {
   "cell_type": "code",
   "execution_count": 7,
   "metadata": {},
   "outputs": [],
   "source": [
    "videos = pd.merge(socialblade, videos_df, on='channelId')"
   ]
  },
  {
   "cell_type": "code",
   "execution_count": 8,
   "metadata": {},
   "outputs": [
    {
     "name": "stdout",
     "output_type": "stream",
     "text": [
      "<class 'pandas.core.frame.DataFrame'>\n",
      "Int64Index: 408690 entries, 0 to 408689\n",
      "Data columns (total 12 columns):\n",
      "Channel Name    408690 non-null object\n",
      "channelId       408690 non-null object\n",
      "Category        408690 non-null object\n",
      "description     406594 non-null object\n",
      "publishedAt     408690 non-null object\n",
      "videoId         408690 non-null object\n",
      "thumbnails      408675 non-null object\n",
      "videoTitle      408690 non-null object\n",
      "commentCount    392556 non-null float64\n",
      "dislikeCount    407143 non-null float64\n",
      "likeCount       407143 non-null float64\n",
      "viewCount       408583 non-null float64\n",
      "dtypes: float64(4), object(8)\n",
      "memory usage: 40.5+ MB\n"
     ]
    }
   ],
   "source": [
    "videos.info()"
   ]
  },
  {
   "cell_type": "code",
   "execution_count": 9,
   "metadata": {},
   "outputs": [],
   "source": [
    "videos1 = videos.loc[(videos['likeCount'].notnull() & videos['dislikeCount'].notnull() & videos['viewCount'].notnull())]"
   ]
  },
  {
   "cell_type": "code",
   "execution_count": 10,
   "metadata": {},
   "outputs": [
    {
     "name": "stdout",
     "output_type": "stream",
     "text": [
      "null comments\n",
      "15554\n"
     ]
    }
   ],
   "source": [
    "#check null values, need to fill those\n",
    "print(\"null comments\")\n",
    "print(len(videos1.loc[videos1['commentCount'].isna()]))\n"
   ]
  },
  {
   "cell_type": "markdown",
   "metadata": {},
   "source": [
    "Mainly predicting comment counts"
   ]
  },
  {
   "cell_type": "code",
   "execution_count": 11,
   "metadata": {},
   "outputs": [
    {
     "data": {
      "text/plain": [
       "407093"
      ]
     },
     "execution_count": 11,
     "metadata": {},
     "output_type": "execute_result"
    }
   ],
   "source": [
    "len(videos1)"
   ]
  },
  {
   "cell_type": "code",
   "execution_count": 12,
   "metadata": {},
   "outputs": [
    {
     "data": {
      "text/plain": [
       "['AUTO & VEHICLES',\n",
       " 'COMEDY',\n",
       " 'EDUCATION',\n",
       " 'ENTERTAINMENT',\n",
       " 'FILM',\n",
       " 'GAMING',\n",
       " 'HOW TO & STYLE',\n",
       " 'MADE FOR KIDS',\n",
       " 'MUSIC',\n",
       " 'NEWS & POLITICS',\n",
       " 'NONPROFIT & ACTIVISM',\n",
       " 'PEOPLE & BLOGS',\n",
       " 'PETS & ANIMALS',\n",
       " 'SCIENCE & TECHNOLOGY',\n",
       " 'SPORTS',\n",
       " 'TRAVEL']"
      ]
     },
     "execution_count": 12,
     "metadata": {},
     "output_type": "execute_result"
    }
   ],
   "source": [
    "# get a list of categories\n",
    "cat=videos1['Category'].unique().tolist()\n",
    "cat"
   ]
  },
  {
   "cell_type": "code",
   "execution_count": 13,
   "metadata": {},
   "outputs": [],
   "source": [
    "from sklearn.linear_model import LinearRegression\n",
    "from sklearn.metrics import mean_squared_error\n",
    "from sklearn.metrics import r2_score\n",
    "import statsmodels.api as sm\n",
    "from sklearn.model_selection import train_test_split\n",
    "seed = 123"
   ]
  },
  {
   "cell_type": "markdown",
   "metadata": {},
   "source": [
    "### Regression on Videos"
   ]
  },
  {
   "cell_type": "code",
   "execution_count": 14,
   "metadata": {},
   "outputs": [
    {
     "name": "stdout",
     "output_type": "stream",
     "text": [
      "(313231, 3) (78308, 3) (313231,) (78308,)\n"
     ]
    }
   ],
   "source": [
    "noNull = videos1[videos1['commentCount'].notnull()] #remove null from comments for training data\n",
    "commentX = noNull[['viewCount','dislikeCount','likeCount']]\n",
    "commentY = noNull['commentCount']\n",
    "train,test,y_train,y_test=train_test_split(commentX,commentY, test_size=0.2,shuffle=False,random_state = seed)\n",
    "print(train.shape,test.shape,y_train.shape,y_test.shape)"
   ]
  },
  {
   "cell_type": "code",
   "execution_count": 15,
   "metadata": {},
   "outputs": [
    {
     "name": "stdout",
     "output_type": "stream",
     "text": [
      "Root means score 7345.495417002755\n",
      "R^2 : 0.17800195919791728\n",
      "        True Labels  Predicted Labels\n",
      "329420         74.0        401.024611\n",
      "329421        570.0       1290.860828\n",
      "329422         47.0        299.053212\n",
      "329423         87.0        412.919105\n",
      "329424         75.0        336.722431\n",
      "...             ...               ...\n",
      "408685         14.0        266.597516\n",
      "408686          9.0        261.749835\n",
      "408687          8.0        263.055681\n",
      "408688        151.0        278.400628\n",
      "408689         24.0        265.219457\n",
      "\n",
      "[78308 rows x 2 columns]\n"
     ]
    }
   ],
   "source": [
    "model = LinearRegression()\n",
    "model.fit(train, y_train)\n",
    "# predicting the  test set results\n",
    "y_pred = np.maximum(0, model.predict(test))\n",
    "print('Root means score', np.sqrt(mean_squared_error(y_test, y_pred)))\n",
    "print(\"R^2 :\",model.score(test, y_test))\n",
    "d1 = {'True Labels': y_test, 'Predicted Labels': y_pred}\n",
    "SK = pd.DataFrame(data = d1)\n",
    "print(SK)"
   ]
  },
  {
   "cell_type": "markdown",
   "metadata": {},
   "source": [
    "The model has a high mean squared error and low R-squared score, thus it is not a good prediction model."
   ]
  },
  {
   "cell_type": "code",
   "execution_count": 16,
   "metadata": {},
   "outputs": [],
   "source": [
    "#with zeros\n",
    "commentZero = np.array([0]*len(y_pred))"
   ]
  },
  {
   "cell_type": "code",
   "execution_count": 17,
   "metadata": {},
   "outputs": [
    {
     "name": "stdout",
     "output_type": "stream",
     "text": [
      "Root means score 8182.8456325873485\n",
      "R^2: -0.02\n",
      "        True Labels  Predicted Labels\n",
      "329420         74.0                 0\n",
      "329421        570.0                 0\n",
      "329422         47.0                 0\n",
      "329423         87.0                 0\n",
      "329424         75.0                 0\n",
      "...             ...               ...\n",
      "408685         14.0                 0\n",
      "408686          9.0                 0\n",
      "408687          8.0                 0\n",
      "408688        151.0                 0\n",
      "408689         24.0                 0\n",
      "\n",
      "[78308 rows x 2 columns]\n"
     ]
    }
   ],
   "source": [
    "print('Root means score', np.sqrt(mean_squared_error(y_test, commentZero)))\n",
    "print('R^2: %.2f' % r2_score(y_test, commentZero))\n",
    "#print(\"R^2:\",model.score(test, y_test))\n",
    "d1 = {'True Labels': y_test, 'Predicted Labels':commentZero}\n",
    "SK = pd.DataFrame(data = d1)\n",
    "print(SK)"
   ]
  },
  {
   "cell_type": "code",
   "execution_count": 18,
   "metadata": {},
   "outputs": [
    {
     "data": {
      "text/plain": [
       "1785.1573399689996"
      ]
     },
     "execution_count": 18,
     "metadata": {},
     "output_type": "execute_result"
    }
   ],
   "source": [
    "#with average\n",
    "avg = sum(noNull['commentCount'])/len(videos1)\n",
    "commentAvg = np.array([avg]*len(y_pred))\n",
    "avg"
   ]
  },
  {
   "cell_type": "code",
   "execution_count": 19,
   "metadata": {},
   "outputs": [
    {
     "name": "stdout",
     "output_type": "stream",
     "text": [
      "Root means score 8131.525071335478\n",
      "R^2: -0.01\n",
      "        True Labels  Predicted Labels\n",
      "329420         74.0        1785.15734\n",
      "329421        570.0        1785.15734\n",
      "329422         47.0        1785.15734\n",
      "329423         87.0        1785.15734\n",
      "329424         75.0        1785.15734\n",
      "...             ...               ...\n",
      "408685         14.0        1785.15734\n",
      "408686          9.0        1785.15734\n",
      "408687          8.0        1785.15734\n",
      "408688        151.0        1785.15734\n",
      "408689         24.0        1785.15734\n",
      "\n",
      "[78308 rows x 2 columns]\n"
     ]
    }
   ],
   "source": [
    "print('Root means score', np.sqrt(mean_squared_error(y_test, commentAvg)))\n",
    "print('R^2: %.2f' % r2_score(y_test, commentAvg))\n",
    "#print(\"R^2:\",model.score(test, y_test))\n",
    "d1 = {'True Labels': y_test, 'Predicted Labels':commentAvg}\n",
    "SK = pd.DataFrame(data = d1)\n",
    "print(SK)"
   ]
  },
  {
   "cell_type": "markdown",
   "metadata": {},
   "source": [
    "By imputing the null values with 0 or mean yields low R^2 score and high mean sqaured error"
   ]
  },
  {
   "cell_type": "markdown",
   "metadata": {},
   "source": [
    "### Auto and Vehicles"
   ]
  },
  {
   "cell_type": "code",
   "execution_count": 20,
   "metadata": {},
   "outputs": [],
   "source": [
    "auto = videos1.loc[videos1['Category']=='AUTO & VEHICLES']"
   ]
  },
  {
   "cell_type": "code",
   "execution_count": 21,
   "metadata": {},
   "outputs": [
    {
     "name": "stdout",
     "output_type": "stream",
     "text": [
      "null comments\n",
      "12\n"
     ]
    }
   ],
   "source": [
    "#check null values, need to fill those\n",
    "print(\"null comments\")\n",
    "print(len(auto.loc[auto['commentCount'].isna()]))"
   ]
  },
  {
   "cell_type": "code",
   "execution_count": 22,
   "metadata": {},
   "outputs": [
    {
     "name": "stdout",
     "output_type": "stream",
     "text": [
      "(5788, 3) (1448, 3) (5788,) (1448,)\n"
     ]
    }
   ],
   "source": [
    "#fill view - start with the least missing values\n",
    "\n",
    "auto_noNull = auto.loc[auto['commentCount'].notnull()] #remove null from comments for training data\n",
    "commentX = auto_noNull[['viewCount','dislikeCount','likeCount']]\n",
    "commentY = auto_noNull['commentCount']\n",
    "train,test,y_train,y_test=train_test_split(commentX,commentY, test_size=0.2,shuffle=False,random_state = seed)\n",
    "print(train.shape,test.shape,y_train.shape,y_test.shape)"
   ]
  },
  {
   "cell_type": "code",
   "execution_count": 23,
   "metadata": {},
   "outputs": [
    {
     "name": "stdout",
     "output_type": "stream",
     "text": [
      "Root means score 1673.0886811288349\n",
      "R^2 : 0.41653638193753567\n",
      "      True Labels  Predicted Labels\n",
      "5807        839.0       1047.699479\n",
      "5808        868.0       1116.628477\n",
      "5809        889.0       1101.461168\n",
      "5810       1526.0       1136.672749\n",
      "5811       2104.0       1492.792444\n",
      "...           ...               ...\n",
      "7250       5626.0       3291.985363\n",
      "7251       1786.0       1621.026273\n",
      "7252       2252.0       1860.857573\n",
      "7253       1592.0       1764.879730\n",
      "7254       2750.0       1985.828117\n",
      "\n",
      "[1448 rows x 2 columns]\n"
     ]
    }
   ],
   "source": [
    "model = LinearRegression()\n",
    "model.fit(train, y_train)\n",
    "# predicting the  test set results\n",
    "y_pred = model.predict(test)\n",
    "print('Root means score', np.sqrt(mean_squared_error(y_test, y_pred)))\n",
    "print(\"R^2 :\",model.score(test, y_test))\n",
    "d1 = {'True Labels': y_test, 'Predicted Labels': y_pred}\n",
    "SK = pd.DataFrame(data = d1)\n",
    "print(SK)"
   ]
  },
  {
   "cell_type": "code",
   "execution_count": 24,
   "metadata": {},
   "outputs": [
    {
     "name": "stdout",
     "output_type": "stream",
     "text": [
      "                                 OLS Regression Results                                \n",
      "=======================================================================================\n",
      "Dep. Variable:           commentCount   R-squared (uncentered):                   0.748\n",
      "Model:                            OLS   Adj. R-squared (uncentered):              0.748\n",
      "Method:                 Least Squares   F-statistic:                              5732.\n",
      "Date:                Wed, 28 Oct 2020   Prob (F-statistic):                        0.00\n",
      "Time:                        11:41:03   Log-Likelihood:                         -52440.\n",
      "No. Observations:                5788   AIC:                                  1.049e+05\n",
      "Df Residuals:                    5785   BIC:                                  1.049e+05\n",
      "Df Model:                           3                                                  \n",
      "Covariance Type:            nonrobust                                                  \n",
      "================================================================================\n",
      "                   coef    std err          t      P>|t|      [0.025      0.975]\n",
      "--------------------------------------------------------------------------------\n",
      "viewCount       -0.0001   2.89e-05     -5.105      0.000      -0.000   -9.08e-05\n",
      "dislikeCount     0.3022      0.014     21.177      0.000       0.274       0.330\n",
      "likeCount        0.0892      0.002     57.138      0.000       0.086       0.092\n",
      "==============================================================================\n",
      "Omnibus:                     4062.623   Durbin-Watson:                   1.363\n",
      "Prob(Omnibus):                  0.000   Jarque-Bera (JB):           712665.550\n",
      "Skew:                           2.392   Prob(JB):                         0.00\n",
      "Kurtosis:                      57.150   Cond. No.                     1.12e+03\n",
      "==============================================================================\n",
      "\n",
      "Warnings:\n",
      "[1] Standard Errors assume that the covariance matrix of the errors is correctly specified.\n",
      "[2] The condition number is large, 1.12e+03. This might indicate that there are\n",
      "strong multicollinearity or other numerical problems.\n"
     ]
    }
   ],
   "source": [
    "est = sm.OLS(y_train, train)\n",
    "est2 = est.fit()\n",
    "print(est2.summary())"
   ]
  },
  {
   "cell_type": "markdown",
   "metadata": {},
   "source": [
    "All p-values < 0.05, significant\n",
    "\n",
    "The difference between the 2 models:\n",
    "- In the OLS model you are using the training data to fit and predict.\n",
    "- With the LinearRegression model you are using training data to fit and test data to predict, therefore different results in R2 scores."
   ]
  },
  {
   "cell_type": "code",
   "execution_count": 25,
   "metadata": {},
   "outputs": [],
   "source": [
    "#predict missing comment count\n",
    "missingAuto = auto.loc[auto['commentCount'].isna()]\n",
    "pred = np.maximum(0,model.predict(missingAuto[['viewCount','dislikeCount','likeCount']]))"
   ]
  },
  {
   "cell_type": "code",
   "execution_count": 26,
   "metadata": {},
   "outputs": [
    {
     "name": "stderr",
     "output_type": "stream",
     "text": [
      "C:\\Users\\Kai Bing\\Anaconda3\\lib\\site-packages\\pandas\\core\\indexing.py:494: SettingWithCopyWarning: \n",
      "A value is trying to be set on a copy of a slice from a DataFrame.\n",
      "Try using .loc[row_indexer,col_indexer] = value instead\n",
      "\n",
      "See the caveats in the documentation: http://pandas.pydata.org/pandas-docs/stable/user_guide/indexing.html#returning-a-view-versus-a-copy\n",
      "  self.obj[item] = s\n"
     ]
    }
   ],
   "source": [
    "#fill auto \n",
    "auto.loc[auto.commentCount.isnull(), 'commentCount'] = pred"
   ]
  },
  {
   "cell_type": "markdown",
   "metadata": {},
   "source": [
    "### Comedy"
   ]
  },
  {
   "cell_type": "code",
   "execution_count": 27,
   "metadata": {},
   "outputs": [],
   "source": [
    "comedy = videos1.loc[videos1['Category']=='COMEDY']"
   ]
  },
  {
   "cell_type": "code",
   "execution_count": 28,
   "metadata": {},
   "outputs": [
    {
     "name": "stdout",
     "output_type": "stream",
     "text": [
      "null comments\n",
      "5\n"
     ]
    }
   ],
   "source": [
    "#check null values, need to fill those\n",
    "print(\"null comments\")\n",
    "print(len(comedy.loc[comedy['commentCount'].isna()]))\n"
   ]
  },
  {
   "cell_type": "code",
   "execution_count": 29,
   "metadata": {},
   "outputs": [
    {
     "name": "stdout",
     "output_type": "stream",
     "text": [
      "(7492, 3) (1873, 3) (7492,) (1873,)\n"
     ]
    }
   ],
   "source": [
    "#comment\n",
    "comedy_noNull = comedy.loc[comedy['commentCount'].notnull()]\n",
    "commentX = comedy_noNull[['viewCount','dislikeCount','likeCount']]\n",
    "commentY = comedy_noNull['commentCount']\n",
    "train,test,y_train,y_test=train_test_split(commentX,commentY, test_size=0.2,shuffle=False)\n",
    "print(train.shape,test.shape,y_train.shape,y_test.shape)"
   ]
  },
  {
   "cell_type": "code",
   "execution_count": 30,
   "metadata": {},
   "outputs": [
    {
     "name": "stdout",
     "output_type": "stream",
     "text": [
      "Root means score 17374.590156368948\n",
      "R^2 : 0.5636174867723003\n",
      "       True Labels  Predicted Labels\n",
      "14750      27318.0      20971.731572\n",
      "14751       8697.0       8619.763247\n",
      "14752      13096.0      12519.716843\n",
      "14753      12139.0      11351.800136\n",
      "14754       6595.0       6085.620045\n",
      "...            ...               ...\n",
      "16628       5162.0      10812.935924\n",
      "16629       2971.0       4826.312652\n",
      "16630      12899.0       8131.266767\n",
      "16631       2319.0       5295.574735\n",
      "16632       5171.0       5926.027047\n",
      "\n",
      "[1873 rows x 2 columns]\n"
     ]
    }
   ],
   "source": [
    "model = LinearRegression()\n",
    "model.fit(train, y_train)\n",
    "# predicting the  test set results\n",
    "y_pred = model.predict(test)\n",
    "print('Root means score', np.sqrt(mean_squared_error(y_test, y_pred)))\n",
    "#print('Variance score: %.2f' % r2_score(y_test, y_pred))\n",
    "print(\"R^2 :\",model.score(test, y_test))\n",
    "d1 = {'True Labels': y_test, 'Predicted Labels': y_pred}\n",
    "SK = pd.DataFrame(data = d1)\n",
    "print(SK)"
   ]
  },
  {
   "cell_type": "code",
   "execution_count": 31,
   "metadata": {},
   "outputs": [
    {
     "name": "stderr",
     "output_type": "stream",
     "text": [
      "C:\\Users\\Kai Bing\\Anaconda3\\lib\\site-packages\\pandas\\core\\indexing.py:494: SettingWithCopyWarning: \n",
      "A value is trying to be set on a copy of a slice from a DataFrame.\n",
      "Try using .loc[row_indexer,col_indexer] = value instead\n",
      "\n",
      "See the caveats in the documentation: http://pandas.pydata.org/pandas-docs/stable/user_guide/indexing.html#returning-a-view-versus-a-copy\n",
      "  self.obj[item] = s\n"
     ]
    }
   ],
   "source": [
    "missingComCom = comedy.loc[comedy['commentCount'].isna()]\n",
    "pred = np.maximum(0,model.predict(missingComCom[['viewCount','dislikeCount','likeCount']]))\n",
    "comedy.loc[comedy.commentCount.isnull(), 'commentCount'] = pred"
   ]
  },
  {
   "cell_type": "code",
   "execution_count": 32,
   "metadata": {},
   "outputs": [
    {
     "data": {
      "text/html": [
       "<div>\n",
       "<style scoped>\n",
       "    .dataframe tbody tr th:only-of-type {\n",
       "        vertical-align: middle;\n",
       "    }\n",
       "\n",
       "    .dataframe tbody tr th {\n",
       "        vertical-align: top;\n",
       "    }\n",
       "\n",
       "    .dataframe thead th {\n",
       "        text-align: right;\n",
       "    }\n",
       "</style>\n",
       "<table border=\"1\" class=\"dataframe\">\n",
       "  <thead>\n",
       "    <tr style=\"text-align: right;\">\n",
       "      <th></th>\n",
       "      <th>Channel Name</th>\n",
       "      <th>channelId</th>\n",
       "      <th>Category</th>\n",
       "      <th>description</th>\n",
       "      <th>publishedAt</th>\n",
       "      <th>videoId</th>\n",
       "      <th>thumbnails</th>\n",
       "      <th>videoTitle</th>\n",
       "      <th>commentCount</th>\n",
       "      <th>dislikeCount</th>\n",
       "      <th>likeCount</th>\n",
       "      <th>viewCount</th>\n",
       "    </tr>\n",
       "  </thead>\n",
       "  <tbody>\n",
       "  </tbody>\n",
       "</table>\n",
       "</div>"
      ],
      "text/plain": [
       "Empty DataFrame\n",
       "Columns: [Channel Name, channelId, Category, description, publishedAt, videoId, thumbnails, videoTitle, commentCount, dislikeCount, likeCount, viewCount]\n",
       "Index: []"
      ]
     },
     "execution_count": 32,
     "metadata": {},
     "output_type": "execute_result"
    }
   ],
   "source": [
    "comedy.loc[comedy['commentCount'].isna()]"
   ]
  },
  {
   "cell_type": "markdown",
   "metadata": {},
   "source": [
    "### Education"
   ]
  },
  {
   "cell_type": "code",
   "execution_count": 33,
   "metadata": {},
   "outputs": [],
   "source": [
    "edu = videos1.loc[videos1['Category']=='EDUCATION']"
   ]
  },
  {
   "cell_type": "code",
   "execution_count": 34,
   "metadata": {},
   "outputs": [
    {
     "name": "stdout",
     "output_type": "stream",
     "text": [
      "null comments\n",
      "2316\n"
     ]
    }
   ],
   "source": [
    "#check null values, need to fill those\n",
    "print(\"null comments\")\n",
    "print(len(edu.loc[edu['commentCount'].isna()]))\n"
   ]
  },
  {
   "cell_type": "code",
   "execution_count": 35,
   "metadata": {},
   "outputs": [
    {
     "name": "stdout",
     "output_type": "stream",
     "text": [
      "(5075, 3) (1269, 3) (5075,) (1269,)\n"
     ]
    }
   ],
   "source": [
    "edu_noNull = edu.loc[edu['commentCount'].notnull()]\n",
    "commentX = edu_noNull[['viewCount','dislikeCount','likeCount']]\n",
    "commentY = edu_noNull['commentCount']\n",
    "train,test,y_train,y_test=train_test_split(commentX,commentY, test_size=0.2,shuffle=False,random_state = seed)\n",
    "print(train.shape,test.shape,y_train.shape,y_test.shape)\n"
   ]
  },
  {
   "cell_type": "code",
   "execution_count": 36,
   "metadata": {},
   "outputs": [
    {
     "name": "stdout",
     "output_type": "stream",
     "text": [
      "Root means score 4151.703106527555\n",
      "R^2 : 0.8006313492879549\n",
      "       True Labels  Predicted Labels\n",
      "24134        263.0       1667.771159\n",
      "24135         37.0       1731.255461\n",
      "24136         16.0       1907.943915\n",
      "24137          3.0        595.630834\n",
      "24138        107.0        423.365772\n",
      "...            ...               ...\n",
      "25522       6924.0       6041.973261\n",
      "25523       4057.0       5587.448234\n",
      "25524       6060.0       8865.696882\n",
      "25525      17760.0       7692.191629\n",
      "25526       5847.0       7980.133308\n",
      "\n",
      "[1269 rows x 2 columns]\n"
     ]
    }
   ],
   "source": [
    "model = LinearRegression()\n",
    "model.fit(train, y_train)\n",
    "# predicting the  test set results\n",
    "y_pred = model.predict(test)\n",
    "print('Root means score', np.sqrt(mean_squared_error(y_test, y_pred)))\n",
    "#print('Variance score: %.2f' % r2_score(y_test, y_pred))\n",
    "print(\"R^2 :\",model.score(test, y_test))\n",
    "d1 = {'True Labels': y_test, 'Predicted Labels': y_pred}\n",
    "SK = pd.DataFrame(data = d1)\n",
    "print(SK)\n"
   ]
  },
  {
   "cell_type": "code",
   "execution_count": 37,
   "metadata": {},
   "outputs": [
    {
     "name": "stderr",
     "output_type": "stream",
     "text": [
      "C:\\Users\\Kai Bing\\Anaconda3\\lib\\site-packages\\pandas\\core\\indexing.py:494: SettingWithCopyWarning: \n",
      "A value is trying to be set on a copy of a slice from a DataFrame.\n",
      "Try using .loc[row_indexer,col_indexer] = value instead\n",
      "\n",
      "See the caveats in the documentation: http://pandas.pydata.org/pandas-docs/stable/user_guide/indexing.html#returning-a-view-versus-a-copy\n",
      "  self.obj[item] = s\n"
     ]
    }
   ],
   "source": [
    "#fill missig values\n",
    "missingEdu = edu.loc[edu['commentCount'].isna()]\n",
    "pred = np.maximum(0,model.predict(missingEdu[['viewCount','dislikeCount','likeCount']]))\n",
    "edu.loc[edu.commentCount.isnull(), 'commentCount'] = pred"
   ]
  },
  {
   "cell_type": "code",
   "execution_count": 38,
   "metadata": {},
   "outputs": [
    {
     "data": {
      "text/html": [
       "<div>\n",
       "<style scoped>\n",
       "    .dataframe tbody tr th:only-of-type {\n",
       "        vertical-align: middle;\n",
       "    }\n",
       "\n",
       "    .dataframe tbody tr th {\n",
       "        vertical-align: top;\n",
       "    }\n",
       "\n",
       "    .dataframe thead th {\n",
       "        text-align: right;\n",
       "    }\n",
       "</style>\n",
       "<table border=\"1\" class=\"dataframe\">\n",
       "  <thead>\n",
       "    <tr style=\"text-align: right;\">\n",
       "      <th></th>\n",
       "      <th>Channel Name</th>\n",
       "      <th>channelId</th>\n",
       "      <th>Category</th>\n",
       "      <th>description</th>\n",
       "      <th>publishedAt</th>\n",
       "      <th>videoId</th>\n",
       "      <th>thumbnails</th>\n",
       "      <th>videoTitle</th>\n",
       "      <th>commentCount</th>\n",
       "      <th>dislikeCount</th>\n",
       "      <th>likeCount</th>\n",
       "      <th>viewCount</th>\n",
       "    </tr>\n",
       "  </thead>\n",
       "  <tbody>\n",
       "  </tbody>\n",
       "</table>\n",
       "</div>"
      ],
      "text/plain": [
       "Empty DataFrame\n",
       "Columns: [Channel Name, channelId, Category, description, publishedAt, videoId, thumbnails, videoTitle, commentCount, dislikeCount, likeCount, viewCount]\n",
       "Index: []"
      ]
     },
     "execution_count": 38,
     "metadata": {},
     "output_type": "execute_result"
    }
   ],
   "source": [
    "edu.loc[edu['commentCount'].isna()]"
   ]
  },
  {
   "cell_type": "markdown",
   "metadata": {},
   "source": [
    "### ENTERTAINMENT"
   ]
  },
  {
   "cell_type": "code",
   "execution_count": 39,
   "metadata": {},
   "outputs": [],
   "source": [
    "ent = videos1.loc[videos1['Category']=='ENTERTAINMENT']"
   ]
  },
  {
   "cell_type": "code",
   "execution_count": 40,
   "metadata": {},
   "outputs": [
    {
     "name": "stdout",
     "output_type": "stream",
     "text": [
      "null comments\n",
      "4918\n"
     ]
    }
   ],
   "source": [
    "#check null values, need to fill those\n",
    "print(\"null comments\")\n",
    "print(len(ent.loc[ent['commentCount'].isna()]))"
   ]
  },
  {
   "cell_type": "code",
   "execution_count": 41,
   "metadata": {},
   "outputs": [
    {
     "name": "stdout",
     "output_type": "stream",
     "text": [
      "(8843, 3) (2211, 3) (8843,) (2211,)\n"
     ]
    }
   ],
   "source": [
    "ent_noNull = ent.loc[ ent['commentCount'].notnull()]\n",
    "commentX = ent_noNull[['viewCount','dislikeCount','likeCount']]\n",
    "commentY = ent_noNull['commentCount']\n",
    "train,test,y_train,y_test=train_test_split(commentX,commentY, test_size=0.2,shuffle=False,random_state = seed)\n",
    "print(train.shape,test.shape,y_train.shape,y_test.shape)\n"
   ]
  },
  {
   "cell_type": "code",
   "execution_count": 42,
   "metadata": {},
   "outputs": [
    {
     "name": "stdout",
     "output_type": "stream",
     "text": [
      "Root means score 11746.952047195382\n",
      "R^2 : 0.5412613249640561\n",
      "       True Labels  Predicted Labels\n",
      "38064        869.0         15.715279\n",
      "38065       1048.0        483.529664\n",
      "38066        578.0        189.695063\n",
      "38067       1651.0        923.290063\n",
      "38068       1327.0       2657.920079\n",
      "...            ...               ...\n",
      "41150          0.0       1650.483952\n",
      "41151          0.0       7828.434270\n",
      "41154          0.0       2080.553403\n",
      "41155          0.0       2636.049805\n",
      "41156          0.0        473.989380\n",
      "\n",
      "[2211 rows x 2 columns]\n"
     ]
    }
   ],
   "source": [
    "model = LinearRegression()\n",
    "model.fit(train, y_train)\n",
    "# predicting the  test set results\n",
    "y_pred = model.predict(test)\n",
    "print('Root means score', np.sqrt(mean_squared_error(y_test, y_pred)))\n",
    "#print('Variance score: %.2f' % r2_score(y_test, y_pred))\n",
    "print(\"R^2 :\",model.score(test, y_test))\n",
    "d1 = {'True Labels': y_test, 'Predicted Labels': y_pred}\n",
    "SK = pd.DataFrame(data = d1)\n",
    "print(SK)\n"
   ]
  },
  {
   "cell_type": "code",
   "execution_count": 43,
   "metadata": {},
   "outputs": [
    {
     "name": "stderr",
     "output_type": "stream",
     "text": [
      "C:\\Users\\Kai Bing\\Anaconda3\\lib\\site-packages\\pandas\\core\\indexing.py:494: SettingWithCopyWarning: \n",
      "A value is trying to be set on a copy of a slice from a DataFrame.\n",
      "Try using .loc[row_indexer,col_indexer] = value instead\n",
      "\n",
      "See the caveats in the documentation: http://pandas.pydata.org/pandas-docs/stable/user_guide/indexing.html#returning-a-view-versus-a-copy\n",
      "  self.obj[item] = s\n"
     ]
    }
   ],
   "source": [
    "#fill missing values\n",
    "missingEnt = ent.loc[ent['commentCount'].isna()]\n",
    "pred = np.maximum(0,model.predict(missingEnt[['viewCount','dislikeCount','likeCount']]))\n",
    "np.maximum(0, model.predict(test))\n",
    "ent.loc[ent.commentCount.isnull(), 'commentCount'] = pred"
   ]
  },
  {
   "cell_type": "code",
   "execution_count": 44,
   "metadata": {},
   "outputs": [
    {
     "data": {
      "text/html": [
       "<div>\n",
       "<style scoped>\n",
       "    .dataframe tbody tr th:only-of-type {\n",
       "        vertical-align: middle;\n",
       "    }\n",
       "\n",
       "    .dataframe tbody tr th {\n",
       "        vertical-align: top;\n",
       "    }\n",
       "\n",
       "    .dataframe thead th {\n",
       "        text-align: right;\n",
       "    }\n",
       "</style>\n",
       "<table border=\"1\" class=\"dataframe\">\n",
       "  <thead>\n",
       "    <tr style=\"text-align: right;\">\n",
       "      <th></th>\n",
       "      <th>Channel Name</th>\n",
       "      <th>channelId</th>\n",
       "      <th>Category</th>\n",
       "      <th>description</th>\n",
       "      <th>publishedAt</th>\n",
       "      <th>videoId</th>\n",
       "      <th>thumbnails</th>\n",
       "      <th>videoTitle</th>\n",
       "      <th>commentCount</th>\n",
       "      <th>dislikeCount</th>\n",
       "      <th>likeCount</th>\n",
       "      <th>viewCount</th>\n",
       "    </tr>\n",
       "  </thead>\n",
       "  <tbody>\n",
       "  </tbody>\n",
       "</table>\n",
       "</div>"
      ],
      "text/plain": [
       "Empty DataFrame\n",
       "Columns: [Channel Name, channelId, Category, description, publishedAt, videoId, thumbnails, videoTitle, commentCount, dislikeCount, likeCount, viewCount]\n",
       "Index: []"
      ]
     },
     "execution_count": 44,
     "metadata": {},
     "output_type": "execute_result"
    }
   ],
   "source": [
    "ent.loc[ent['commentCount'].isna()]"
   ]
  },
  {
   "cell_type": "code",
   "execution_count": 45,
   "metadata": {},
   "outputs": [
    {
     "data": {
      "text/html": [
       "<div>\n",
       "<style scoped>\n",
       "    .dataframe tbody tr th:only-of-type {\n",
       "        vertical-align: middle;\n",
       "    }\n",
       "\n",
       "    .dataframe tbody tr th {\n",
       "        vertical-align: top;\n",
       "    }\n",
       "\n",
       "    .dataframe thead th {\n",
       "        text-align: right;\n",
       "    }\n",
       "</style>\n",
       "<table border=\"1\" class=\"dataframe\">\n",
       "  <thead>\n",
       "    <tr style=\"text-align: right;\">\n",
       "      <th></th>\n",
       "      <th>Channel Name</th>\n",
       "      <th>channelId</th>\n",
       "      <th>Category</th>\n",
       "      <th>description</th>\n",
       "      <th>publishedAt</th>\n",
       "      <th>videoId</th>\n",
       "      <th>thumbnails</th>\n",
       "      <th>videoTitle</th>\n",
       "      <th>commentCount</th>\n",
       "      <th>dislikeCount</th>\n",
       "      <th>likeCount</th>\n",
       "      <th>viewCount</th>\n",
       "    </tr>\n",
       "  </thead>\n",
       "  <tbody>\n",
       "  </tbody>\n",
       "</table>\n",
       "</div>"
      ],
      "text/plain": [
       "Empty DataFrame\n",
       "Columns: [Channel Name, channelId, Category, description, publishedAt, videoId, thumbnails, videoTitle, commentCount, dislikeCount, likeCount, viewCount]\n",
       "Index: []"
      ]
     },
     "execution_count": 45,
     "metadata": {},
     "output_type": "execute_result"
    }
   ],
   "source": [
    "ent.loc[ent.commentCount < 0]"
   ]
  },
  {
   "cell_type": "markdown",
   "metadata": {},
   "source": [
    "### FILM"
   ]
  },
  {
   "cell_type": "code",
   "execution_count": 46,
   "metadata": {},
   "outputs": [],
   "source": [
    "film = videos1.loc[videos1['Category']=='FILM']"
   ]
  },
  {
   "cell_type": "code",
   "execution_count": 47,
   "metadata": {},
   "outputs": [
    {
     "name": "stdout",
     "output_type": "stream",
     "text": [
      "null comments\n",
      "1778\n"
     ]
    }
   ],
   "source": [
    "#check null values, need to fill those\n",
    "print(\"null comments\")\n",
    "print(len(film.loc[film['commentCount'].isna()]))"
   ]
  },
  {
   "cell_type": "code",
   "execution_count": 48,
   "metadata": {},
   "outputs": [
    {
     "name": "stdout",
     "output_type": "stream",
     "text": [
      "(23268, 3) (5818, 3) (23268,) (5818,)\n"
     ]
    }
   ],
   "source": [
    "film_noNull = film.loc[film['commentCount'].notnull()]\n",
    "commentX = film_noNull[['viewCount','dislikeCount','likeCount']]\n",
    "commentY = film_noNull['commentCount']\n",
    "train,test,y_train,y_test=train_test_split(commentX,commentY, test_size=0.2,shuffle=False,random_state = seed)\n",
    "print(train.shape,test.shape,y_train.shape,y_test.shape)\n"
   ]
  },
  {
   "cell_type": "code",
   "execution_count": 49,
   "metadata": {},
   "outputs": [
    {
     "name": "stdout",
     "output_type": "stream",
     "text": [
      "Root means score 2095.0462763369574\n",
      "R^2 : 0.38636404074352015\n",
      "       True Labels  Predicted Labels\n",
      "65741          4.0        130.152763\n",
      "65742         38.0        167.779003\n",
      "65743          2.0        265.722027\n",
      "65744          0.0         63.307902\n",
      "65745          1.0         78.450789\n",
      "...            ...               ...\n",
      "73321       2969.0        988.622553\n",
      "73322       5647.0       4599.631757\n",
      "73323       3977.0       3010.138043\n",
      "73324       1628.0        801.082738\n",
      "73325       1990.0        719.906402\n",
      "\n",
      "[5818 rows x 2 columns]\n"
     ]
    }
   ],
   "source": [
    "model = LinearRegression()\n",
    "model.fit(train, y_train)\n",
    "# predicting the  test set results\n",
    "y_pred = model.predict(test)\n",
    "print('Root means score', np.sqrt(mean_squared_error(y_test, y_pred)))\n",
    "#print('Variance score: %.2f' % r2_score(y_test, y_pred))\n",
    "print(\"R^2 :\",model.score(test, y_test))\n",
    "d1 = {'True Labels': y_test, 'Predicted Labels': y_pred}\n",
    "SK = pd.DataFrame(data = d1)\n",
    "print(SK)\n"
   ]
  },
  {
   "cell_type": "code",
   "execution_count": 50,
   "metadata": {},
   "outputs": [
    {
     "name": "stderr",
     "output_type": "stream",
     "text": [
      "C:\\Users\\Kai Bing\\Anaconda3\\lib\\site-packages\\pandas\\core\\indexing.py:494: SettingWithCopyWarning: \n",
      "A value is trying to be set on a copy of a slice from a DataFrame.\n",
      "Try using .loc[row_indexer,col_indexer] = value instead\n",
      "\n",
      "See the caveats in the documentation: http://pandas.pydata.org/pandas-docs/stable/user_guide/indexing.html#returning-a-view-versus-a-copy\n",
      "  self.obj[item] = s\n"
     ]
    }
   ],
   "source": [
    "#fill missing values\n",
    "missingFilm = film.loc[film['commentCount'].isna()]\n",
    "pred = np.maximum(0,model.predict(missingFilm[['viewCount','dislikeCount','likeCount']]))\n",
    "film.loc[film.commentCount.isnull(), 'commentCount'] = pred"
   ]
  },
  {
   "cell_type": "code",
   "execution_count": 51,
   "metadata": {},
   "outputs": [
    {
     "data": {
      "text/html": [
       "<div>\n",
       "<style scoped>\n",
       "    .dataframe tbody tr th:only-of-type {\n",
       "        vertical-align: middle;\n",
       "    }\n",
       "\n",
       "    .dataframe tbody tr th {\n",
       "        vertical-align: top;\n",
       "    }\n",
       "\n",
       "    .dataframe thead th {\n",
       "        text-align: right;\n",
       "    }\n",
       "</style>\n",
       "<table border=\"1\" class=\"dataframe\">\n",
       "  <thead>\n",
       "    <tr style=\"text-align: right;\">\n",
       "      <th></th>\n",
       "      <th>Channel Name</th>\n",
       "      <th>channelId</th>\n",
       "      <th>Category</th>\n",
       "      <th>description</th>\n",
       "      <th>publishedAt</th>\n",
       "      <th>videoId</th>\n",
       "      <th>thumbnails</th>\n",
       "      <th>videoTitle</th>\n",
       "      <th>commentCount</th>\n",
       "      <th>dislikeCount</th>\n",
       "      <th>likeCount</th>\n",
       "      <th>viewCount</th>\n",
       "    </tr>\n",
       "  </thead>\n",
       "  <tbody>\n",
       "  </tbody>\n",
       "</table>\n",
       "</div>"
      ],
      "text/plain": [
       "Empty DataFrame\n",
       "Columns: [Channel Name, channelId, Category, description, publishedAt, videoId, thumbnails, videoTitle, commentCount, dislikeCount, likeCount, viewCount]\n",
       "Index: []"
      ]
     },
     "execution_count": 51,
     "metadata": {},
     "output_type": "execute_result"
    }
   ],
   "source": [
    "film.loc[film['commentCount'].isna()]"
   ]
  },
  {
   "cell_type": "code",
   "execution_count": null,
   "metadata": {},
   "outputs": [],
   "source": []
  },
  {
   "cell_type": "markdown",
   "metadata": {},
   "source": [
    "### GAMING\n"
   ]
  },
  {
   "cell_type": "code",
   "execution_count": 52,
   "metadata": {},
   "outputs": [],
   "source": [
    "game = videos1.loc[videos1['Category']=='GAMING']"
   ]
  },
  {
   "cell_type": "code",
   "execution_count": 53,
   "metadata": {},
   "outputs": [
    {
     "name": "stdout",
     "output_type": "stream",
     "text": [
      "null comments\n",
      "28\n"
     ]
    }
   ],
   "source": [
    "#check null values, need to fill those\n",
    "print(\"null comments\")\n",
    "print(len(game.loc[game['commentCount'].isna()]))"
   ]
  },
  {
   "cell_type": "code",
   "execution_count": 54,
   "metadata": {},
   "outputs": [
    {
     "name": "stdout",
     "output_type": "stream",
     "text": [
      "(16212, 3) (4054, 3) (16212,) (4054,)\n"
     ]
    }
   ],
   "source": [
    "game_noNull = game.loc[game['commentCount'].notnull()]\n",
    "commentX = game_noNull[['viewCount','dislikeCount','likeCount']]\n",
    "commentY = game_noNull['commentCount']\n",
    "train,test,y_train,y_test=train_test_split(commentX,commentY, test_size=0.2,shuffle=False,random_state = seed)\n",
    "print(train.shape,test.shape,y_train.shape,y_test.shape)\n"
   ]
  },
  {
   "cell_type": "code",
   "execution_count": 55,
   "metadata": {},
   "outputs": [
    {
     "name": "stdout",
     "output_type": "stream",
     "text": [
      "Root means score 12705.26209130222\n",
      "R^2 : 0.027019511105150325\n",
      "       True Labels  Predicted Labels\n",
      "89561       6008.0       8604.795165\n",
      "89562       3315.0       5613.745333\n",
      "89563       3371.0       6238.387046\n",
      "89564       4173.0       6423.895659\n",
      "89565       3344.0       5447.792618\n",
      "...            ...               ...\n",
      "93615        767.0       3399.381836\n",
      "93616        699.0       3884.492958\n",
      "93617        706.0       3516.440891\n",
      "93618       2464.0       3967.512319\n",
      "93619        426.0       3061.067173\n",
      "\n",
      "[4054 rows x 2 columns]\n"
     ]
    }
   ],
   "source": [
    "model = LinearRegression()\n",
    "model.fit(train, y_train)\n",
    "# predicting the  test set results\n",
    "y_pred = model.predict(test)\n",
    "print('Root means score', np.sqrt(mean_squared_error(y_test, y_pred)))\n",
    "#print('Variance score: %.2f' % r2_score(y_test, y_pred))\n",
    "print(\"R^2 :\",model.score(test, y_test))\n",
    "d1 = {'True Labels': y_test, 'Predicted Labels': y_pred}\n",
    "SK = pd.DataFrame(data = d1)\n",
    "print(SK)\n"
   ]
  },
  {
   "cell_type": "code",
   "execution_count": 56,
   "metadata": {},
   "outputs": [
    {
     "name": "stderr",
     "output_type": "stream",
     "text": [
      "C:\\Users\\Kai Bing\\Anaconda3\\lib\\site-packages\\pandas\\core\\indexing.py:494: SettingWithCopyWarning: \n",
      "A value is trying to be set on a copy of a slice from a DataFrame.\n",
      "Try using .loc[row_indexer,col_indexer] = value instead\n",
      "\n",
      "See the caveats in the documentation: http://pandas.pydata.org/pandas-docs/stable/user_guide/indexing.html#returning-a-view-versus-a-copy\n",
      "  self.obj[item] = s\n"
     ]
    }
   ],
   "source": [
    "#fill missing values\n",
    "missingGame = game.loc[game['commentCount'].isna()]\n",
    "pred = np.maximum(0,model.predict(missingGame[['viewCount','dislikeCount','likeCount']]))\n",
    "game.loc[game.commentCount.isnull(), 'commentCount'] = pred"
   ]
  },
  {
   "cell_type": "code",
   "execution_count": 57,
   "metadata": {},
   "outputs": [
    {
     "data": {
      "text/html": [
       "<div>\n",
       "<style scoped>\n",
       "    .dataframe tbody tr th:only-of-type {\n",
       "        vertical-align: middle;\n",
       "    }\n",
       "\n",
       "    .dataframe tbody tr th {\n",
       "        vertical-align: top;\n",
       "    }\n",
       "\n",
       "    .dataframe thead th {\n",
       "        text-align: right;\n",
       "    }\n",
       "</style>\n",
       "<table border=\"1\" class=\"dataframe\">\n",
       "  <thead>\n",
       "    <tr style=\"text-align: right;\">\n",
       "      <th></th>\n",
       "      <th>Channel Name</th>\n",
       "      <th>channelId</th>\n",
       "      <th>Category</th>\n",
       "      <th>description</th>\n",
       "      <th>publishedAt</th>\n",
       "      <th>videoId</th>\n",
       "      <th>thumbnails</th>\n",
       "      <th>videoTitle</th>\n",
       "      <th>commentCount</th>\n",
       "      <th>dislikeCount</th>\n",
       "      <th>likeCount</th>\n",
       "      <th>viewCount</th>\n",
       "    </tr>\n",
       "  </thead>\n",
       "  <tbody>\n",
       "  </tbody>\n",
       "</table>\n",
       "</div>"
      ],
      "text/plain": [
       "Empty DataFrame\n",
       "Columns: [Channel Name, channelId, Category, description, publishedAt, videoId, thumbnails, videoTitle, commentCount, dislikeCount, likeCount, viewCount]\n",
       "Index: []"
      ]
     },
     "execution_count": 57,
     "metadata": {},
     "output_type": "execute_result"
    }
   ],
   "source": [
    "game.loc[game['commentCount'].isna()]"
   ]
  },
  {
   "cell_type": "markdown",
   "metadata": {},
   "source": [
    "### HOW TO & STYLE"
   ]
  },
  {
   "cell_type": "code",
   "execution_count": 58,
   "metadata": {},
   "outputs": [],
   "source": [
    "how = videos1.loc[videos1['Category']=='HOW TO & STYLE']"
   ]
  },
  {
   "cell_type": "code",
   "execution_count": 59,
   "metadata": {},
   "outputs": [
    {
     "name": "stdout",
     "output_type": "stream",
     "text": [
      "null comments\n",
      "18\n"
     ]
    }
   ],
   "source": [
    "#check null values, need to fill those\n",
    "print(\"null comments\")\n",
    "print(len(how.loc[how['commentCount'].isna()]))"
   ]
  },
  {
   "cell_type": "code",
   "execution_count": 60,
   "metadata": {},
   "outputs": [
    {
     "name": "stdout",
     "output_type": "stream",
     "text": [
      "(13556, 3) (3389, 3) (13556,) (3389,)\n"
     ]
    }
   ],
   "source": [
    "how_noNull = how.loc[how['commentCount'].notnull()]\n",
    "commentX = how_noNull[['viewCount','dislikeCount','likeCount']]\n",
    "commentY = how_noNull['commentCount']\n",
    "train,test,y_train,y_test=train_test_split(commentX,commentY, test_size=0.2,shuffle=False,random_state = seed)\n",
    "print(train.shape,test.shape,y_train.shape,y_test.shape)\n"
   ]
  },
  {
   "cell_type": "code",
   "execution_count": 61,
   "metadata": {},
   "outputs": [
    {
     "name": "stdout",
     "output_type": "stream",
     "text": [
      "Root means score 24031.225071931694\n",
      "R^2 : 0.19187259244458177\n",
      "        True Labels  Predicted Labels\n",
      "107177         88.0        199.484786\n",
      "107178         35.0         84.176222\n",
      "107179         66.0        128.555154\n",
      "107180       1023.0       3888.234494\n",
      "107181        174.0        598.557413\n",
      "...             ...               ...\n",
      "110580        532.0        454.801327\n",
      "110581       2428.0       2995.631152\n",
      "110582        921.0       1102.068329\n",
      "110583        812.0        559.547705\n",
      "110584       1149.0        393.893633\n",
      "\n",
      "[3389 rows x 2 columns]\n"
     ]
    }
   ],
   "source": [
    "model = LinearRegression()\n",
    "model.fit(train, y_train)\n",
    "# predicting the  test set results\n",
    "y_pred = model.predict(test)\n",
    "print('Root means score', np.sqrt(mean_squared_error(y_test, y_pred)))\n",
    "#print('Variance score: %.2f' % r2_score(y_test, y_pred))\n",
    "print(\"R^2 :\",model.score(test, y_test))\n",
    "d1 = {'True Labels': y_test, 'Predicted Labels': y_pred}\n",
    "SK = pd.DataFrame(data = d1)\n",
    "print(SK)\n"
   ]
  },
  {
   "cell_type": "code",
   "execution_count": 62,
   "metadata": {},
   "outputs": [
    {
     "name": "stderr",
     "output_type": "stream",
     "text": [
      "C:\\Users\\Kai Bing\\Anaconda3\\lib\\site-packages\\pandas\\core\\indexing.py:494: SettingWithCopyWarning: \n",
      "A value is trying to be set on a copy of a slice from a DataFrame.\n",
      "Try using .loc[row_indexer,col_indexer] = value instead\n",
      "\n",
      "See the caveats in the documentation: http://pandas.pydata.org/pandas-docs/stable/user_guide/indexing.html#returning-a-view-versus-a-copy\n",
      "  self.obj[item] = s\n"
     ]
    }
   ],
   "source": [
    "#fill missing values\n",
    "missingHow = how.loc[how['commentCount'].isna()]\n",
    "pred = np.maximum(0,model.predict(missingHow[['viewCount','dislikeCount','likeCount']]))\n",
    "how.loc[how.commentCount.isnull(), 'commentCount'] = pred"
   ]
  },
  {
   "cell_type": "code",
   "execution_count": null,
   "metadata": {},
   "outputs": [],
   "source": []
  },
  {
   "cell_type": "markdown",
   "metadata": {},
   "source": [
    "### MADE FOR KIDS"
   ]
  },
  {
   "cell_type": "code",
   "execution_count": 63,
   "metadata": {},
   "outputs": [],
   "source": [
    "kids = videos1.loc[videos1['Category']=='MADE FOR KIDS']"
   ]
  },
  {
   "cell_type": "code",
   "execution_count": 64,
   "metadata": {},
   "outputs": [
    {
     "name": "stdout",
     "output_type": "stream",
     "text": [
      "null comments\n",
      "2755\n"
     ]
    }
   ],
   "source": [
    "#check null values, need to fill those\n",
    "print(\"null comments\")\n",
    "print(len(kids.loc[kids['commentCount'].isna()]))"
   ]
  },
  {
   "cell_type": "code",
   "execution_count": 65,
   "metadata": {},
   "outputs": [
    {
     "name": "stdout",
     "output_type": "stream",
     "text": [
      "(4014, 3) (1004, 3) (4014,) (1004,)\n"
     ]
    }
   ],
   "source": [
    "kids_noNull = kids.loc[kids['commentCount'].notnull()]\n",
    "commentX = kids_noNull[['viewCount','dislikeCount','likeCount']]\n",
    "commentY = kids_noNull['commentCount']\n",
    "train,test,y_train,y_test=train_test_split(commentX,commentY, test_size=0.2,shuffle=False,random_state = seed)\n",
    "print(train.shape,test.shape,y_train.shape,y_test.shape)\n"
   ]
  },
  {
   "cell_type": "code",
   "execution_count": 66,
   "metadata": {},
   "outputs": [
    {
     "name": "stdout",
     "output_type": "stream",
     "text": [
      "                                 OLS Regression Results                                \n",
      "=======================================================================================\n",
      "Dep. Variable:           commentCount   R-squared (uncentered):                   0.827\n",
      "Model:                            OLS   Adj. R-squared (uncentered):              0.827\n",
      "Method:                 Least Squares   F-statistic:                              6406.\n",
      "Date:                Wed, 28 Oct 2020   Prob (F-statistic):                        0.00\n",
      "Time:                        11:41:04   Log-Likelihood:                         -30419.\n",
      "No. Observations:                4014   AIC:                                  6.084e+04\n",
      "Df Residuals:                    4011   BIC:                                  6.086e+04\n",
      "Df Model:                           3                                                  \n",
      "Covariance Type:            nonrobust                                                  \n",
      "================================================================================\n",
      "                   coef    std err          t      P>|t|      [0.025      0.975]\n",
      "--------------------------------------------------------------------------------\n",
      "viewCount     4.323e-06   6.28e-07      6.886      0.000    3.09e-06    5.55e-06\n",
      "dislikeCount    -0.0255      0.001    -39.708      0.000      -0.027      -0.024\n",
      "likeCount        0.0202      0.001     35.355      0.000       0.019       0.021\n",
      "==============================================================================\n",
      "Omnibus:                     8604.413   Durbin-Watson:                   1.871\n",
      "Prob(Omnibus):                  0.000   Jarque-Bera (JB):         64142728.114\n",
      "Skew:                          18.476   Prob(JB):                         0.00\n",
      "Kurtosis:                     621.182   Cond. No.                     9.00e+03\n",
      "==============================================================================\n",
      "\n",
      "Warnings:\n",
      "[1] Standard Errors assume that the covariance matrix of the errors is correctly specified.\n",
      "[2] The condition number is large,  9e+03. This might indicate that there are\n",
      "strong multicollinearity or other numerical problems.\n"
     ]
    }
   ],
   "source": [
    "est = sm.OLS(y_train, train)\n",
    "est2 = est.fit()\n",
    "print(est2.summary())"
   ]
  },
  {
   "cell_type": "code",
   "execution_count": 67,
   "metadata": {},
   "outputs": [
    {
     "name": "stdout",
     "output_type": "stream",
     "text": [
      "Root means score 373.70693847401395\n",
      "R^2: -0.9922933055043289\n",
      "        True Labels  Predicted Labels\n",
      "117051          7.0        145.239352\n",
      "117052         93.0         57.811803\n",
      "117053         13.0         58.856678\n",
      "117054         15.0         58.281161\n",
      "117055         64.0        511.437327\n",
      "...             ...               ...\n",
      "118056          2.0         10.868541\n",
      "118057          2.0         16.027439\n",
      "118058         21.0        206.233056\n",
      "118059          0.0         10.220877\n",
      "118060          6.0         29.305825\n",
      "\n",
      "[1004 rows x 2 columns]\n"
     ]
    }
   ],
   "source": [
    "model = LinearRegression()\n",
    "model.fit(train, y_train)\n",
    "# predicting the  test set results\n",
    "y_pred = model.predict(test)\n",
    "print('Root means score', np.sqrt(mean_squared_error(y_test, y_pred)))\n",
    "#print('Variance score: %.2f' % r2_score(y_test, y_pred))\n",
    "print(\"R^2:\",model.score(test, y_test))\n",
    "d1 = {'True Labels': y_test, 'Predicted Labels': y_pred}\n",
    "SK = pd.DataFrame(data = d1)\n",
    "print(SK)\n"
   ]
  },
  {
   "cell_type": "markdown",
   "metadata": {},
   "source": [
    "A negative R^2 means that the chosen model fits worse than a horizontal line, it does not follow the trend of the data"
   ]
  },
  {
   "cell_type": "code",
   "execution_count": 68,
   "metadata": {},
   "outputs": [],
   "source": [
    "average = sum(kids_noNull['commentCount'])/len(kids_noNull['commentCount'])"
   ]
  },
  {
   "cell_type": "code",
   "execution_count": 69,
   "metadata": {},
   "outputs": [
    {
     "data": {
      "text/plain": [
       "array([124.56895177, 124.56895177, 124.56895177, ..., 124.56895177,\n",
       "       124.56895177, 124.56895177])"
      ]
     },
     "execution_count": 69,
     "metadata": {},
     "output_type": "execute_result"
    }
   ],
   "source": [
    "commentAvg = np.array([average]*len(y_pred))\n",
    "commentAvg"
   ]
  },
  {
   "cell_type": "code",
   "execution_count": 70,
   "metadata": {},
   "outputs": [
    {
     "name": "stdout",
     "output_type": "stream",
     "text": [
      "Root means score 266.5841606947479\n",
      "Variance score: -0.01\n"
     ]
    }
   ],
   "source": [
    "print('Root means score', np.sqrt(mean_squared_error(y_test, commentAvg)))\n",
    "print('Variance score: %.2f' % r2_score(y_test, commentAvg))\n",
    "#print(\"R^2:\",model.score(test, y_test))\n",
    "d1 = {'True Labels': y_test, 'Predicted Labels':average}"
   ]
  },
  {
   "cell_type": "markdown",
   "metadata": {},
   "source": [
    "By using the average comment count, the mean squared error and variance is lower. Thus for this category, the average comment count will be used instead."
   ]
  },
  {
   "cell_type": "code",
   "execution_count": 71,
   "metadata": {},
   "outputs": [
    {
     "data": {
      "text/plain": [
       "2755"
      ]
     },
     "execution_count": 71,
     "metadata": {},
     "output_type": "execute_result"
    }
   ],
   "source": [
    " len(kids.loc[kids['commentCount'].isna()])"
   ]
  },
  {
   "cell_type": "code",
   "execution_count": 72,
   "metadata": {},
   "outputs": [],
   "source": [
    "commentAvg = np.array([average]* len(kids.loc[kids['commentCount'].isna()]))"
   ]
  },
  {
   "cell_type": "code",
   "execution_count": 73,
   "metadata": {},
   "outputs": [
    {
     "name": "stderr",
     "output_type": "stream",
     "text": [
      "C:\\Users\\Kai Bing\\Anaconda3\\lib\\site-packages\\pandas\\core\\indexing.py:494: SettingWithCopyWarning: \n",
      "A value is trying to be set on a copy of a slice from a DataFrame.\n",
      "Try using .loc[row_indexer,col_indexer] = value instead\n",
      "\n",
      "See the caveats in the documentation: http://pandas.pydata.org/pandas-docs/stable/user_guide/indexing.html#returning-a-view-versus-a-copy\n",
      "  self.obj[item] = s\n"
     ]
    }
   ],
   "source": [
    "#fill missing values\n",
    "missingKids = kids.loc[kids['commentCount'].isna()]\n",
    "#pred = model.predict(missingKids[['viewCount','dislikeCount','likeCount']])\n",
    "kids.loc[kids.commentCount.isnull(), 'commentCount'] = commentAvg"
   ]
  },
  {
   "cell_type": "code",
   "execution_count": null,
   "metadata": {},
   "outputs": [],
   "source": []
  },
  {
   "cell_type": "markdown",
   "metadata": {},
   "source": [
    "### MUSIC"
   ]
  },
  {
   "cell_type": "code",
   "execution_count": 74,
   "metadata": {},
   "outputs": [],
   "source": [
    "music = videos1.loc[videos1['Category']=='MUSIC']"
   ]
  },
  {
   "cell_type": "code",
   "execution_count": 75,
   "metadata": {},
   "outputs": [
    {
     "name": "stdout",
     "output_type": "stream",
     "text": [
      "null comments\n",
      "4\n"
     ]
    }
   ],
   "source": [
    "#check null values, need to fill those\n",
    "print(\"null comments\")\n",
    "print(len(music.loc[music['commentCount'].isna()]))"
   ]
  },
  {
   "cell_type": "code",
   "execution_count": 76,
   "metadata": {},
   "outputs": [
    {
     "name": "stdout",
     "output_type": "stream",
     "text": [
      "(1079, 3) (270, 3) (1079,) (270,)\n"
     ]
    }
   ],
   "source": [
    "music_noNull = music.loc[music['commentCount'].notnull()]\n",
    "commentX = music_noNull[['viewCount','dislikeCount','likeCount']]\n",
    "commentY = music_noNull['commentCount']\n",
    "train,test,y_train,y_test=train_test_split(commentX,commentY, test_size=0.2,shuffle=False,random_state = seed)\n",
    "print(train.shape,test.shape,y_train.shape,y_test.shape)\n"
   ]
  },
  {
   "cell_type": "code",
   "execution_count": 77,
   "metadata": {},
   "outputs": [
    {
     "name": "stdout",
     "output_type": "stream",
     "text": [
      "Root means score 54903.378941947696\n",
      "R^2 : 0.5449468281846672\n",
      "        True Labels  Predicted Labels\n",
      "119479       4568.0       4971.910973\n",
      "119480      44502.0      97708.192381\n",
      "119481       6022.0      18159.172557\n",
      "119482       2035.0      -3382.581303\n",
      "119483       3635.0       4279.045455\n",
      "...             ...               ...\n",
      "119745        312.0      -4660.413704\n",
      "119746       1386.0      -3839.590697\n",
      "119747        339.0      -4592.463438\n",
      "119748        540.0      -4369.228625\n",
      "119749        712.0      -4430.992268\n",
      "\n",
      "[270 rows x 2 columns]\n"
     ]
    }
   ],
   "source": [
    "model = LinearRegression()\n",
    "model.fit(train, y_train)\n",
    "# predicting the  test set results\n",
    "y_pred = model.predict(test)\n",
    "print('Root means score', np.sqrt(mean_squared_error(y_test, y_pred)))\n",
    "#print('Variance score: %.2f' % r2_score(y_test, y_pred))\n",
    "print(\"R^2 :\",model.score(test, y_test))\n",
    "d1 = {'True Labels': y_test, 'Predicted Labels': y_pred}\n",
    "SK = pd.DataFrame(data = d1)\n",
    "print(SK)\n"
   ]
  },
  {
   "cell_type": "code",
   "execution_count": 78,
   "metadata": {},
   "outputs": [
    {
     "name": "stderr",
     "output_type": "stream",
     "text": [
      "C:\\Users\\Kai Bing\\Anaconda3\\lib\\site-packages\\pandas\\core\\indexing.py:494: SettingWithCopyWarning: \n",
      "A value is trying to be set on a copy of a slice from a DataFrame.\n",
      "Try using .loc[row_indexer,col_indexer] = value instead\n",
      "\n",
      "See the caveats in the documentation: http://pandas.pydata.org/pandas-docs/stable/user_guide/indexing.html#returning-a-view-versus-a-copy\n",
      "  self.obj[item] = s\n"
     ]
    }
   ],
   "source": [
    "#fill missing values\n",
    "missingMusic = music.loc[music['commentCount'].isna()]\n",
    "pred = np.maximum(0,model.predict(missingMusic[['viewCount','dislikeCount','likeCount']]))\n",
    "music.loc[music.commentCount.isnull(), 'commentCount'] = pred"
   ]
  },
  {
   "cell_type": "code",
   "execution_count": null,
   "metadata": {},
   "outputs": [],
   "source": []
  },
  {
   "cell_type": "markdown",
   "metadata": {},
   "source": [
    "### NEWS & POLITICS"
   ]
  },
  {
   "cell_type": "code",
   "execution_count": 79,
   "metadata": {},
   "outputs": [],
   "source": [
    "news = videos1.loc[videos1['Category']=='NEWS & POLITICS']"
   ]
  },
  {
   "cell_type": "code",
   "execution_count": 80,
   "metadata": {},
   "outputs": [
    {
     "name": "stdout",
     "output_type": "stream",
     "text": [
      "null comments\n",
      "1430\n"
     ]
    }
   ],
   "source": [
    "#check null values, need to fill those\n",
    "print(\"null comments\")\n",
    "print(len(news.loc[news['commentCount'].isna()]))"
   ]
  },
  {
   "cell_type": "code",
   "execution_count": 81,
   "metadata": {},
   "outputs": [
    {
     "name": "stdout",
     "output_type": "stream",
     "text": [
      "(133079, 3) (33270, 3) (133079,) (33270,)\n"
     ]
    }
   ],
   "source": [
    "news_noNull = news.loc[news['commentCount'].notnull()]\n",
    "commentX = news_noNull[['viewCount','dislikeCount','likeCount']]\n",
    "commentY = news_noNull['commentCount']\n",
    "train,test,y_train,y_test=train_test_split(commentX,commentY, test_size=0.2,shuffle=False,random_state = seed)\n",
    "print(train.shape,test.shape,y_train.shape,y_test.shape)\n"
   ]
  },
  {
   "cell_type": "code",
   "execution_count": 82,
   "metadata": {},
   "outputs": [
    {
     "name": "stdout",
     "output_type": "stream",
     "text": [
      "Root means score 707.0635794152695\n",
      "R^2 : 0.28865948227097593\n",
      "        True Labels  Predicted Labels\n",
      "254319          7.0        185.653768\n",
      "254320         10.0        180.278017\n",
      "254321          0.0        180.392568\n",
      "254322        137.0        228.567101\n",
      "254323          5.0        185.361945\n",
      "...             ...               ...\n",
      "287594         22.0        249.057225\n",
      "287595       1728.0       1978.232018\n",
      "287596         13.0        190.709046\n",
      "287597         13.0        196.486707\n",
      "287598         43.0        233.960635\n",
      "\n",
      "[33270 rows x 2 columns]\n"
     ]
    }
   ],
   "source": [
    "model = LinearRegression()\n",
    "model.fit(train, y_train)\n",
    "# predicting the  test set results\n",
    "y_pred = model.predict(test)\n",
    "print('Root means score', np.sqrt(mean_squared_error(y_test, y_pred)))\n",
    "print(\"R^2 :\",model.score(test, y_test))\n",
    "d1 = {'True Labels': y_test, 'Predicted Labels': y_pred}\n",
    "SK = pd.DataFrame(data = d1)\n",
    "print(SK)\n"
   ]
  },
  {
   "cell_type": "code",
   "execution_count": 83,
   "metadata": {},
   "outputs": [
    {
     "name": "stderr",
     "output_type": "stream",
     "text": [
      "C:\\Users\\Kai Bing\\Anaconda3\\lib\\site-packages\\pandas\\core\\indexing.py:494: SettingWithCopyWarning: \n",
      "A value is trying to be set on a copy of a slice from a DataFrame.\n",
      "Try using .loc[row_indexer,col_indexer] = value instead\n",
      "\n",
      "See the caveats in the documentation: http://pandas.pydata.org/pandas-docs/stable/user_guide/indexing.html#returning-a-view-versus-a-copy\n",
      "  self.obj[item] = s\n"
     ]
    }
   ],
   "source": [
    "#fill missing values\n",
    "missingnews = news.loc[news['commentCount'].isna()]\n",
    "pred = np.maximum(0,model.predict(missingnews[['viewCount','dislikeCount','likeCount']]))\n",
    "news.loc[news.commentCount.isnull(), 'commentCount'] = pred"
   ]
  },
  {
   "cell_type": "code",
   "execution_count": null,
   "metadata": {},
   "outputs": [],
   "source": []
  },
  {
   "cell_type": "markdown",
   "metadata": {},
   "source": [
    "### NONPROFIT & ACTIVISM\n"
   ]
  },
  {
   "cell_type": "code",
   "execution_count": 84,
   "metadata": {},
   "outputs": [],
   "source": [
    "nonprof = videos1.loc[videos1['Category']=='NONPROFIT & ACTIVISM']"
   ]
  },
  {
   "cell_type": "code",
   "execution_count": 85,
   "metadata": {},
   "outputs": [
    {
     "name": "stdout",
     "output_type": "stream",
     "text": [
      "null comments\n",
      "67\n"
     ]
    }
   ],
   "source": [
    "#check null values, need to fill those\n",
    "print(\"null comments\")\n",
    "print(len(nonprof.loc[nonprof['commentCount'].isna()]))"
   ]
  },
  {
   "cell_type": "code",
   "execution_count": 86,
   "metadata": {},
   "outputs": [
    {
     "name": "stdout",
     "output_type": "stream",
     "text": [
      "(19714, 3) (4929, 3) (19714,) (4929,)\n"
     ]
    }
   ],
   "source": [
    "nonprof_noNull = nonprof.loc[nonprof['commentCount'].notnull()]\n",
    "commentX = nonprof_noNull[['viewCount','dislikeCount','likeCount']]\n",
    "commentY = nonprof_noNull['commentCount']\n",
    "train,test,y_train,y_test=train_test_split(commentX,commentY, test_size=0.2,shuffle=False,random_state = seed)\n",
    "print(train.shape,test.shape,y_train.shape,y_test.shape)\n"
   ]
  },
  {
   "cell_type": "code",
   "execution_count": 87,
   "metadata": {},
   "outputs": [
    {
     "name": "stdout",
     "output_type": "stream",
     "text": [
      "Root means score 758.8464663464863\n",
      "R^2 : 0.1399779064411465\n",
      "        True Labels  Predicted Labels\n",
      "307370          0.0          2.574141\n",
      "307371          1.0          1.817806\n",
      "307372          6.0          2.088785\n",
      "307373          2.0          2.218036\n",
      "307374          1.0          2.188354\n",
      "...             ...               ...\n",
      "312397         21.0         15.402259\n",
      "312398          1.0          1.684493\n",
      "312399          1.0          1.678881\n",
      "312400          0.0          2.270122\n",
      "312401          4.0          1.668645\n",
      "\n",
      "[4929 rows x 2 columns]\n"
     ]
    }
   ],
   "source": [
    "model = LinearRegression()\n",
    "model.fit(train, y_train)\n",
    "# predicting the  test set results\n",
    "y_pred = model.predict(test)\n",
    "print('Root means score', np.sqrt(mean_squared_error(y_test, y_pred)))\n",
    "print(\"R^2 :\",model.score(test, y_test))\n",
    "d1 = {'True Labels': y_test, 'Predicted Labels': y_pred}\n",
    "SK = pd.DataFrame(data = d1)\n",
    "print(SK)\n"
   ]
  },
  {
   "cell_type": "code",
   "execution_count": 88,
   "metadata": {},
   "outputs": [
    {
     "name": "stderr",
     "output_type": "stream",
     "text": [
      "C:\\Users\\Kai Bing\\Anaconda3\\lib\\site-packages\\pandas\\core\\indexing.py:494: SettingWithCopyWarning: \n",
      "A value is trying to be set on a copy of a slice from a DataFrame.\n",
      "Try using .loc[row_indexer,col_indexer] = value instead\n",
      "\n",
      "See the caveats in the documentation: http://pandas.pydata.org/pandas-docs/stable/user_guide/indexing.html#returning-a-view-versus-a-copy\n",
      "  self.obj[item] = s\n"
     ]
    }
   ],
   "source": [
    "#fill missing values\n",
    "missingnonprof = nonprof.loc[nonprof['commentCount'].isna()]\n",
    "pred = np.maximum(0,model.predict(missingnonprof[['viewCount','dislikeCount','likeCount']]))\n",
    "nonprof.loc[nonprof.commentCount.isnull(), 'commentCount'] = pred"
   ]
  },
  {
   "cell_type": "code",
   "execution_count": null,
   "metadata": {},
   "outputs": [],
   "source": []
  },
  {
   "cell_type": "markdown",
   "metadata": {},
   "source": [
    "### PEOPLE & BLOGS"
   ]
  },
  {
   "cell_type": "code",
   "execution_count": 89,
   "metadata": {},
   "outputs": [],
   "source": [
    "ppl = videos1.loc[videos1['Category']=='PEOPLE & BLOGS']"
   ]
  },
  {
   "cell_type": "code",
   "execution_count": 90,
   "metadata": {},
   "outputs": [
    {
     "name": "stdout",
     "output_type": "stream",
     "text": [
      "null comments\n",
      "1364\n"
     ]
    }
   ],
   "source": [
    "#check null values, need to fill those\n",
    "print(\"null comments\")\n",
    "print(len(ppl.loc[ppl['commentCount'].isna()]))"
   ]
  },
  {
   "cell_type": "code",
   "execution_count": 91,
   "metadata": {},
   "outputs": [
    {
     "name": "stdout",
     "output_type": "stream",
     "text": [
      "(7909, 3) (1978, 3) (7909,) (1978,)\n"
     ]
    }
   ],
   "source": [
    "ppl_noNull = ppl.loc[ppl['commentCount'].notnull()]\n",
    "commentX = ppl_noNull[['viewCount','dislikeCount','likeCount']]\n",
    "commentY = ppl_noNull['commentCount']\n",
    "train,test,y_train,y_test=train_test_split(commentX,commentY, test_size=0.2,shuffle=False,random_state = seed)\n",
    "print(train.shape,test.shape,y_train.shape,y_test.shape)\n"
   ]
  },
  {
   "cell_type": "code",
   "execution_count": 92,
   "metadata": {},
   "outputs": [
    {
     "name": "stdout",
     "output_type": "stream",
     "text": [
      "Root means score 16147.917322988353\n",
      "R^2 : 0.23519361580728282\n",
      "        True Labels  Predicted Labels\n",
      "320352       4889.0      11004.396307\n",
      "320353       4104.0       6940.620727\n",
      "320354       4190.0       6503.007271\n",
      "320355       8933.0      10122.561486\n",
      "320356       3306.0       6019.211299\n",
      "...             ...               ...\n",
      "323241       2349.0       3692.202961\n",
      "323242       2441.0       2377.448515\n",
      "323243       1551.0       2705.935619\n",
      "323244       5928.0       6132.416988\n",
      "323245      10326.0      21706.857130\n",
      "\n",
      "[1978 rows x 2 columns]\n"
     ]
    }
   ],
   "source": [
    "model = LinearRegression()\n",
    "model.fit(train, y_train)\n",
    "# predicting the  test set results\n",
    "y_pred = model.predict(test)\n",
    "print('Root means score', np.sqrt(mean_squared_error(y_test, y_pred)))\n",
    "print(\"R^2 :\",model.score(test, y_test))\n",
    "d1 = {'True Labels': y_test, 'Predicted Labels': y_pred}\n",
    "SK = pd.DataFrame(data = d1)\n",
    "print(SK)\n"
   ]
  },
  {
   "cell_type": "code",
   "execution_count": 93,
   "metadata": {},
   "outputs": [
    {
     "name": "stderr",
     "output_type": "stream",
     "text": [
      "C:\\Users\\Kai Bing\\Anaconda3\\lib\\site-packages\\pandas\\core\\indexing.py:494: SettingWithCopyWarning: \n",
      "A value is trying to be set on a copy of a slice from a DataFrame.\n",
      "Try using .loc[row_indexer,col_indexer] = value instead\n",
      "\n",
      "See the caveats in the documentation: http://pandas.pydata.org/pandas-docs/stable/user_guide/indexing.html#returning-a-view-versus-a-copy\n",
      "  self.obj[item] = s\n"
     ]
    }
   ],
   "source": [
    "#fill missing values\n",
    "missingppl = ppl.loc[ppl['commentCount'].isna()]\n",
    "pred = np.maximum(0,model.predict(missingppl[['viewCount','dislikeCount','likeCount']]))\n",
    "ppl.loc[ppl.commentCount.isnull(), 'commentCount'] = pred"
   ]
  },
  {
   "cell_type": "markdown",
   "metadata": {},
   "source": [
    "### PETS & ANIMALS"
   ]
  },
  {
   "cell_type": "code",
   "execution_count": 94,
   "metadata": {},
   "outputs": [],
   "source": [
    "pets = videos1.loc[videos1['Category']=='PETS & ANIMALS']"
   ]
  },
  {
   "cell_type": "code",
   "execution_count": 95,
   "metadata": {},
   "outputs": [
    {
     "name": "stdout",
     "output_type": "stream",
     "text": [
      "null comments\n",
      "180\n"
     ]
    }
   ],
   "source": [
    "#check null values, need to fill those\n",
    "print(\"null comments\")\n",
    "print(len(pets.loc[pets['commentCount'].isna()]))"
   ]
  },
  {
   "cell_type": "code",
   "execution_count": 96,
   "metadata": {},
   "outputs": [
    {
     "name": "stdout",
     "output_type": "stream",
     "text": [
      "(7730, 3) (1933, 3) (7730,) (1933,)\n"
     ]
    }
   ],
   "source": [
    "pets_noNull = pets.loc[pets['commentCount'].notnull()]\n",
    "commentX = pets_noNull[['viewCount','dislikeCount','likeCount']]\n",
    "commentY = pets_noNull['commentCount']\n",
    "train,test,y_train,y_test=train_test_split(commentX,commentY, test_size=0.2,shuffle=False,random_state = seed)\n",
    "print(train.shape,test.shape,y_train.shape,y_test.shape)\n"
   ]
  },
  {
   "cell_type": "code",
   "execution_count": 97,
   "metadata": {},
   "outputs": [
    {
     "name": "stdout",
     "output_type": "stream",
     "text": [
      "Root means score 4212.825842966304\n",
      "R^2 : 0.7059043933173575\n",
      "        True Labels  Predicted Labels\n",
      "331465          4.0       -149.338683\n",
      "331466         65.0         -0.076981\n",
      "331467          1.0       -152.335339\n",
      "331468        175.0        191.246310\n",
      "331469        242.0        245.933226\n",
      "...             ...               ...\n",
      "333562         14.0       -114.886496\n",
      "333563       1377.0       5073.496945\n",
      "333564          7.0       -150.175837\n",
      "333565          8.0       -151.008215\n",
      "333566         21.0       -138.923848\n",
      "\n",
      "[1933 rows x 2 columns]\n"
     ]
    }
   ],
   "source": [
    "model = LinearRegression()\n",
    "model.fit(train, y_train)\n",
    "# predicting the  test set results\n",
    "y_pred = model.predict(test)\n",
    "print('Root means score', np.sqrt(mean_squared_error(y_test, y_pred)))\n",
    "print(\"R^2 :\",model.score(test, y_test))\n",
    "d1 = {'True Labels': y_test, 'Predicted Labels': y_pred}\n",
    "SK = pd.DataFrame(data = d1)\n",
    "print(SK)\n"
   ]
  },
  {
   "cell_type": "code",
   "execution_count": 98,
   "metadata": {},
   "outputs": [
    {
     "name": "stderr",
     "output_type": "stream",
     "text": [
      "C:\\Users\\Kai Bing\\Anaconda3\\lib\\site-packages\\pandas\\core\\indexing.py:494: SettingWithCopyWarning: \n",
      "A value is trying to be set on a copy of a slice from a DataFrame.\n",
      "Try using .loc[row_indexer,col_indexer] = value instead\n",
      "\n",
      "See the caveats in the documentation: http://pandas.pydata.org/pandas-docs/stable/user_guide/indexing.html#returning-a-view-versus-a-copy\n",
      "  self.obj[item] = s\n"
     ]
    }
   ],
   "source": [
    "#fill missing values\n",
    "missingpets = pets.loc[pets['commentCount'].isna()]\n",
    "pred = np.maximum(0,model.predict(missingpets[['viewCount','dislikeCount','likeCount']]))\n",
    "pets.loc[pets.commentCount.isnull(), 'commentCount'] = pred"
   ]
  },
  {
   "cell_type": "markdown",
   "metadata": {},
   "source": [
    "### SCIENCE & TECHNOLOGY"
   ]
  },
  {
   "cell_type": "code",
   "execution_count": 99,
   "metadata": {},
   "outputs": [],
   "source": [
    "sci = videos1.loc[videos1['Category']=='SCIENCE & TECHNOLOGY']"
   ]
  },
  {
   "cell_type": "code",
   "execution_count": 100,
   "metadata": {},
   "outputs": [
    {
     "name": "stdout",
     "output_type": "stream",
     "text": [
      "null comments\n",
      "268\n"
     ]
    }
   ],
   "source": [
    "#check null values, need to fill those\n",
    "print(\"null comments\")\n",
    "print(len(sci.loc[sci['commentCount'].isna()]))"
   ]
  },
  {
   "cell_type": "code",
   "execution_count": 101,
   "metadata": {},
   "outputs": [
    {
     "name": "stdout",
     "output_type": "stream",
     "text": [
      "(6053, 3) (1514, 3) (6053,) (1514,)\n"
     ]
    }
   ],
   "source": [
    "sci_noNull = sci.loc[sci['commentCount'].notnull()]\n",
    "commentX = sci_noNull[['viewCount','dislikeCount','likeCount']]\n",
    "commentY = sci_noNull['commentCount']\n",
    "train,test,y_train,y_test=train_test_split(commentX,commentY, test_size=0.2,shuffle=False,random_state = seed)\n",
    "print(train.shape,test.shape,y_train.shape,y_test.shape)\n"
   ]
  },
  {
   "cell_type": "code",
   "execution_count": 102,
   "metadata": {},
   "outputs": [
    {
     "name": "stdout",
     "output_type": "stream",
     "text": [
      "Root means score 6217.514007970589\n",
      "R^2 : 0.26980892324317096\n",
      "        True Labels  Predicted Labels\n",
      "339910       1462.0       1945.255294\n",
      "339911       2574.0       3446.250782\n",
      "339912       1310.0       1784.961135\n",
      "339913        715.0       1703.890336\n",
      "339914       1412.0       2644.250991\n",
      "...             ...               ...\n",
      "341420       4065.0       2512.354093\n",
      "341421      15765.0      15320.531214\n",
      "341422       1978.0       4099.464378\n",
      "341423       2459.0       4298.672247\n",
      "341424      23598.0      22328.148959\n",
      "\n",
      "[1514 rows x 2 columns]\n"
     ]
    }
   ],
   "source": [
    "model = LinearRegression()\n",
    "model.fit(train, y_train)\n",
    "# predicting the  test set results\n",
    "y_pred = model.predict(test)\n",
    "print('Root means score', np.sqrt(mean_squared_error(y_test, y_pred)))\n",
    "print(\"R^2 :\",model.score(test, y_test))\n",
    "d1 = {'True Labels': y_test, 'Predicted Labels': y_pred}\n",
    "SK = pd.DataFrame(data = d1)\n",
    "print(SK)\n"
   ]
  },
  {
   "cell_type": "code",
   "execution_count": 103,
   "metadata": {},
   "outputs": [
    {
     "name": "stderr",
     "output_type": "stream",
     "text": [
      "C:\\Users\\Kai Bing\\Anaconda3\\lib\\site-packages\\pandas\\core\\indexing.py:494: SettingWithCopyWarning: \n",
      "A value is trying to be set on a copy of a slice from a DataFrame.\n",
      "Try using .loc[row_indexer,col_indexer] = value instead\n",
      "\n",
      "See the caveats in the documentation: http://pandas.pydata.org/pandas-docs/stable/user_guide/indexing.html#returning-a-view-versus-a-copy\n",
      "  self.obj[item] = s\n"
     ]
    }
   ],
   "source": [
    "#fill missing values\n",
    "missingsci = sci.loc[sci['commentCount'].isna()]\n",
    "pred = np.maximum(0,model.predict(missingsci[['viewCount','dislikeCount','likeCount']]))\n",
    "sci.loc[sci.commentCount.isnull(), 'commentCount'] = pred"
   ]
  },
  {
   "cell_type": "markdown",
   "metadata": {},
   "source": [
    "### SPORTS"
   ]
  },
  {
   "cell_type": "code",
   "execution_count": 104,
   "metadata": {},
   "outputs": [],
   "source": [
    "sports = videos1.loc[videos1['Category']=='SPORTS']"
   ]
  },
  {
   "cell_type": "code",
   "execution_count": 105,
   "metadata": {},
   "outputs": [
    {
     "name": "stdout",
     "output_type": "stream",
     "text": [
      "null comments\n",
      "409\n"
     ]
    }
   ],
   "source": [
    "#check null values, need to fill those\n",
    "print(\"null comments\")\n",
    "print(len(sports.loc[sports['commentCount'].isna()]))"
   ]
  },
  {
   "cell_type": "code",
   "execution_count": 106,
   "metadata": {},
   "outputs": [
    {
     "name": "stdout",
     "output_type": "stream",
     "text": [
      "(49173, 3) (12294, 3) (49173,) (12294,)\n"
     ]
    }
   ],
   "source": [
    "sports_noNull = sports.loc[sports['commentCount'].notnull()]\n",
    "commentX = sports_noNull[['viewCount','dislikeCount','likeCount']]\n",
    "commentY = sports_noNull['commentCount']\n",
    "train,test,y_train,y_test=train_test_split(commentX,commentY, test_size=0.2,shuffle=False,random_state = seed)\n",
    "print(train.shape,test.shape,y_train.shape,y_test.shape)\n"
   ]
  },
  {
   "cell_type": "code",
   "execution_count": 107,
   "metadata": {},
   "outputs": [
    {
     "name": "stdout",
     "output_type": "stream",
     "text": [
      "Root means score 825.3730105740924\n",
      "R^2 : 0.2879971337724846\n",
      "        True Labels  Predicted Labels\n",
      "391061        376.0        238.078077\n",
      "391062        480.0        296.322795\n",
      "391063        287.0        211.078372\n",
      "391064        117.0        198.428792\n",
      "391065         87.0        214.207308\n",
      "...             ...               ...\n",
      "403383          3.0        185.812892\n",
      "403384          2.0        174.286879\n",
      "403385          0.0        174.322860\n",
      "403386          3.0        175.521845\n",
      "403387         21.0        187.680210\n",
      "\n",
      "[12294 rows x 2 columns]\n"
     ]
    }
   ],
   "source": [
    "model = LinearRegression()\n",
    "model.fit(train, y_train)\n",
    "# predicting the  test set results\n",
    "y_pred = model.predict(test)\n",
    "print('Root means score', np.sqrt(mean_squared_error(y_test, y_pred)))\n",
    "print(\"R^2 :\",model.score(test, y_test))\n",
    "d1 = {'True Labels': y_test, 'Predicted Labels': y_pred}\n",
    "SK = pd.DataFrame(data = d1)\n",
    "print(SK)\n"
   ]
  },
  {
   "cell_type": "code",
   "execution_count": 108,
   "metadata": {},
   "outputs": [
    {
     "name": "stderr",
     "output_type": "stream",
     "text": [
      "C:\\Users\\Kai Bing\\Anaconda3\\lib\\site-packages\\pandas\\core\\indexing.py:494: SettingWithCopyWarning: \n",
      "A value is trying to be set on a copy of a slice from a DataFrame.\n",
      "Try using .loc[row_indexer,col_indexer] = value instead\n",
      "\n",
      "See the caveats in the documentation: http://pandas.pydata.org/pandas-docs/stable/user_guide/indexing.html#returning-a-view-versus-a-copy\n",
      "  self.obj[item] = s\n"
     ]
    }
   ],
   "source": [
    "#fill missing values\n",
    "missingsports = sports.loc[sports['commentCount'].isna()]\n",
    "pred = np.maximum(0,model.predict(missingsports[['viewCount','dislikeCount','likeCount']]))\n",
    "sports.loc[sports.commentCount.isnull(), 'commentCount'] = pred"
   ]
  },
  {
   "cell_type": "markdown",
   "metadata": {},
   "source": [
    "### TRAVEL"
   ]
  },
  {
   "cell_type": "code",
   "execution_count": 109,
   "metadata": {},
   "outputs": [],
   "source": [
    "travel = videos1.loc[videos1['Category']=='TRAVEL']"
   ]
  },
  {
   "cell_type": "code",
   "execution_count": 110,
   "metadata": {},
   "outputs": [
    {
     "name": "stdout",
     "output_type": "stream",
     "text": [
      "null comments\n",
      "2\n"
     ]
    }
   ],
   "source": [
    "#check null values, need to fill those\n",
    "print(\"null comments\")\n",
    "print(len(travel.loc[travel['commentCount'].isna()]))"
   ]
  },
  {
   "cell_type": "code",
   "execution_count": 111,
   "metadata": {},
   "outputs": [
    {
     "name": "stdout",
     "output_type": "stream",
     "text": [
      "(4240, 3) (1060, 3) (4240,) (1060,)\n"
     ]
    }
   ],
   "source": [
    "travel_noNull = travel.loc[travel['commentCount'].notnull()]\n",
    "commentX = travel_noNull[['viewCount','dislikeCount','likeCount']]\n",
    "commentY = travel_noNull['commentCount']\n",
    "train,test,y_train,y_test=train_test_split(commentX,commentY, test_size=0.2,shuffle=False,random_state = seed)\n",
    "print(train.shape,test.shape,y_train.shape,y_test.shape)\n"
   ]
  },
  {
   "cell_type": "code",
   "execution_count": 112,
   "metadata": {},
   "outputs": [
    {
     "name": "stdout",
     "output_type": "stream",
     "text": [
      "Root means score 1215.281549319496\n",
      "R^2 : 0.8140490443883854\n",
      "        True Labels  Predicted Labels\n",
      "407630        155.0        221.766369\n",
      "407631        493.0       1639.608598\n",
      "407632        263.0        392.415498\n",
      "407633         70.0        120.890536\n",
      "407634        298.0        379.355068\n",
      "...             ...               ...\n",
      "408685         14.0         53.866335\n",
      "408686          9.0         48.551048\n",
      "408687          8.0         50.217108\n",
      "408688        151.0         71.409624\n",
      "408689         24.0         54.344044\n",
      "\n",
      "[1060 rows x 2 columns]\n"
     ]
    }
   ],
   "source": [
    "model = LinearRegression()\n",
    "model.fit(train, y_train)\n",
    "# predicting the  test set results\n",
    "y_pred = model.predict(test)\n",
    "print('Root means score', np.sqrt(mean_squared_error(y_test, y_pred)))\n",
    "print(\"R^2 :\",model.score(test, y_test))\n",
    "d1 = {'True Labels': y_test, 'Predicted Labels': y_pred}\n",
    "SK = pd.DataFrame(data = d1)\n",
    "print(SK)\n"
   ]
  },
  {
   "cell_type": "code",
   "execution_count": 113,
   "metadata": {},
   "outputs": [
    {
     "name": "stderr",
     "output_type": "stream",
     "text": [
      "C:\\Users\\Kai Bing\\Anaconda3\\lib\\site-packages\\pandas\\core\\indexing.py:494: SettingWithCopyWarning: \n",
      "A value is trying to be set on a copy of a slice from a DataFrame.\n",
      "Try using .loc[row_indexer,col_indexer] = value instead\n",
      "\n",
      "See the caveats in the documentation: http://pandas.pydata.org/pandas-docs/stable/user_guide/indexing.html#returning-a-view-versus-a-copy\n",
      "  self.obj[item] = s\n"
     ]
    }
   ],
   "source": [
    "#fill missing values\n",
    "missingtravel = travel.loc[travel['commentCount'].isna()]\n",
    "pred = np.maximum(0,model.predict(missingtravel[['viewCount','dislikeCount','likeCount']]))\n",
    "travel.loc[travel.commentCount.isnull(), 'commentCount'] = pred"
   ]
  },
  {
   "cell_type": "markdown",
   "metadata": {},
   "source": [
    "## Aggregate Results"
   ]
  },
  {
   "cell_type": "code",
   "execution_count": 126,
   "metadata": {},
   "outputs": [],
   "source": [
    "frames = [auto,comedy,edu,ent,film,game,how,kids,music,news,nonprof,ppl,pets,sci,sports,travel]\n",
    "pooled_videos_df = pd.concat(frames)"
   ]
  },
  {
   "cell_type": "code",
   "execution_count": 127,
   "metadata": {
    "scrolled": true
   },
   "outputs": [
    {
     "data": {
      "text/plain": [
       "407093"
      ]
     },
     "execution_count": 127,
     "metadata": {},
     "output_type": "execute_result"
    }
   ],
   "source": [
    "len(pooled_videos_df)"
   ]
  },
  {
   "cell_type": "code",
   "execution_count": 129,
   "metadata": {},
   "outputs": [],
   "source": [
    "pooled_videos_df.drop(columns = ['Category','Channel Name'], inplace=True)"
   ]
  },
  {
   "cell_type": "code",
   "execution_count": 131,
   "metadata": {},
   "outputs": [
    {
     "data": {
      "text/plain": [
       "(407093, 10)"
      ]
     },
     "execution_count": 131,
     "metadata": {},
     "output_type": "execute_result"
    }
   ],
   "source": [
    "pooled_videos_df.shape"
   ]
  },
  {
   "cell_type": "code",
   "execution_count": 133,
   "metadata": {},
   "outputs": [
    {
     "data": {
      "text/plain": [
       "False"
      ]
     },
     "execution_count": 133,
     "metadata": {},
     "output_type": "execute_result"
    }
   ],
   "source": [
    "pooled_videos_df[['viewCount','dislikeCount','likeCount','commentCount']].isnull().values.any()"
   ]
  },
  {
   "cell_type": "code",
   "execution_count": 132,
   "metadata": {},
   "outputs": [],
   "source": [
    "#write csv \n",
    "pooled_videos_df.to_csv('pooled_videos_df.csv',index = False, header = True)"
   ]
  }
 ],
 "metadata": {
  "kernelspec": {
   "display_name": "Python 3",
   "language": "python",
   "name": "python3"
  },
  "language_info": {
   "codemirror_mode": {
    "name": "ipython",
    "version": 3
   },
   "file_extension": ".py",
   "mimetype": "text/x-python",
   "name": "python",
   "nbconvert_exporter": "python",
   "pygments_lexer": "ipython3",
   "version": "3.7.4"
  }
 },
 "nbformat": 4,
 "nbformat_minor": 4
}
