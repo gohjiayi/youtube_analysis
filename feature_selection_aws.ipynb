{
 "cells": [
  {
   "cell_type": "code",
   "execution_count": 1,
   "metadata": {},
   "outputs": [],
   "source": [
    "import boto3\n",
    "import pandas as pd\n",
    "from sagemaker import get_execution_role\n",
    "\n",
    "role = get_execution_role()"
   ]
  },
  {
   "cell_type": "code",
   "execution_count": 2,
   "metadata": {},
   "outputs": [],
   "source": [
    "from sklearn.model_selection import train_test_split\n",
    "from sklearn.feature_selection import SelectKBest\n",
    "from sklearn.feature_selection import mutual_info_classif\n",
    "from matplotlib import pyplot\n",
    "from sklearn.model_selection import train_test_split\n",
    "from sklearn.preprocessing import LabelEncoder\n",
    "from sklearn.preprocessing import OrdinalEncoder\n",
    "import pandas as pd\n",
    "import matplotlib as plt"
   ]
  },
  {
   "cell_type": "code",
   "execution_count": 13,
   "metadata": {},
   "outputs": [
    {
     "data": {
      "text/html": [
       "<div>\n",
       "<style scoped>\n",
       "    .dataframe tbody tr th:only-of-type {\n",
       "        vertical-align: middle;\n",
       "    }\n",
       "\n",
       "    .dataframe tbody tr th {\n",
       "        vertical-align: top;\n",
       "    }\n",
       "\n",
       "    .dataframe thead th {\n",
       "        text-align: right;\n",
       "    }\n",
       "</style>\n",
       "<table border=\"1\" class=\"dataframe\">\n",
       "  <thead>\n",
       "    <tr style=\"text-align: right;\">\n",
       "      <th></th>\n",
       "      <th>channelId</th>\n",
       "      <th>videoId</th>\n",
       "      <th>viewCount</th>\n",
       "      <th>Friday</th>\n",
       "      <th>Monday</th>\n",
       "      <th>Saturday</th>\n",
       "      <th>Sunday</th>\n",
       "      <th>Thursday</th>\n",
       "      <th>Tuesday</th>\n",
       "      <th>Wednesday</th>\n",
       "      <th>...</th>\n",
       "      <th>titlePRON</th>\n",
       "      <th>titleSYM</th>\n",
       "      <th>titleSCONJ</th>\n",
       "      <th>titleINTJ</th>\n",
       "      <th>titlePART</th>\n",
       "      <th>titleCCONJ</th>\n",
       "      <th>subscriberCount</th>\n",
       "      <th>avgViewCount</th>\n",
       "      <th>humanCount</th>\n",
       "      <th>humanPresence</th>\n",
       "    </tr>\n",
       "  </thead>\n",
       "  <tbody>\n",
       "    <tr>\n",
       "      <th>0</th>\n",
       "      <td>UCjOl2AUblVmg2rA_cRgZkFg</td>\n",
       "      <td>NXX338WY_Lw</td>\n",
       "      <td>184447.0</td>\n",
       "      <td>1</td>\n",
       "      <td>0</td>\n",
       "      <td>0</td>\n",
       "      <td>0</td>\n",
       "      <td>0</td>\n",
       "      <td>0</td>\n",
       "      <td>0</td>\n",
       "      <td>...</td>\n",
       "      <td>0</td>\n",
       "      <td>0</td>\n",
       "      <td>0</td>\n",
       "      <td>0</td>\n",
       "      <td>0</td>\n",
       "      <td>0</td>\n",
       "      <td>7610000</td>\n",
       "      <td>2224636.0</td>\n",
       "      <td>0</td>\n",
       "      <td>0</td>\n",
       "    </tr>\n",
       "    <tr>\n",
       "      <th>1</th>\n",
       "      <td>UCjOl2AUblVmg2rA_cRgZkFg</td>\n",
       "      <td>dtHcdU2c71Y</td>\n",
       "      <td>217619.0</td>\n",
       "      <td>1</td>\n",
       "      <td>0</td>\n",
       "      <td>0</td>\n",
       "      <td>0</td>\n",
       "      <td>0</td>\n",
       "      <td>0</td>\n",
       "      <td>0</td>\n",
       "      <td>...</td>\n",
       "      <td>0</td>\n",
       "      <td>0</td>\n",
       "      <td>0</td>\n",
       "      <td>0</td>\n",
       "      <td>0</td>\n",
       "      <td>0</td>\n",
       "      <td>7610000</td>\n",
       "      <td>2224636.0</td>\n",
       "      <td>0</td>\n",
       "      <td>0</td>\n",
       "    </tr>\n",
       "    <tr>\n",
       "      <th>2</th>\n",
       "      <td>UCjOl2AUblVmg2rA_cRgZkFg</td>\n",
       "      <td>vnrtWe-RAzg</td>\n",
       "      <td>437777.0</td>\n",
       "      <td>0</td>\n",
       "      <td>0</td>\n",
       "      <td>0</td>\n",
       "      <td>0</td>\n",
       "      <td>0</td>\n",
       "      <td>0</td>\n",
       "      <td>1</td>\n",
       "      <td>...</td>\n",
       "      <td>0</td>\n",
       "      <td>0</td>\n",
       "      <td>0</td>\n",
       "      <td>0</td>\n",
       "      <td>0</td>\n",
       "      <td>0</td>\n",
       "      <td>7610000</td>\n",
       "      <td>2224636.0</td>\n",
       "      <td>2</td>\n",
       "      <td>1</td>\n",
       "    </tr>\n",
       "    <tr>\n",
       "      <th>3</th>\n",
       "      <td>UCjOl2AUblVmg2rA_cRgZkFg</td>\n",
       "      <td>Ra1F0TsOCPs</td>\n",
       "      <td>191070.0</td>\n",
       "      <td>0</td>\n",
       "      <td>0</td>\n",
       "      <td>0</td>\n",
       "      <td>0</td>\n",
       "      <td>0</td>\n",
       "      <td>1</td>\n",
       "      <td>0</td>\n",
       "      <td>...</td>\n",
       "      <td>0</td>\n",
       "      <td>0</td>\n",
       "      <td>0</td>\n",
       "      <td>0</td>\n",
       "      <td>0</td>\n",
       "      <td>0</td>\n",
       "      <td>7610000</td>\n",
       "      <td>2224636.0</td>\n",
       "      <td>1</td>\n",
       "      <td>1</td>\n",
       "    </tr>\n",
       "    <tr>\n",
       "      <th>4</th>\n",
       "      <td>UCjOl2AUblVmg2rA_cRgZkFg</td>\n",
       "      <td>fXysipmTxcQ</td>\n",
       "      <td>572569.0</td>\n",
       "      <td>0</td>\n",
       "      <td>0</td>\n",
       "      <td>0</td>\n",
       "      <td>0</td>\n",
       "      <td>0</td>\n",
       "      <td>1</td>\n",
       "      <td>0</td>\n",
       "      <td>...</td>\n",
       "      <td>0</td>\n",
       "      <td>0</td>\n",
       "      <td>0</td>\n",
       "      <td>0</td>\n",
       "      <td>0</td>\n",
       "      <td>0</td>\n",
       "      <td>7610000</td>\n",
       "      <td>2224636.0</td>\n",
       "      <td>0</td>\n",
       "      <td>0</td>\n",
       "    </tr>\n",
       "  </tbody>\n",
       "</table>\n",
       "<p>5 rows × 61 columns</p>\n",
       "</div>"
      ],
      "text/plain": [
       "                  channelId      videoId  viewCount  Friday  Monday  Saturday  \\\n",
       "0  UCjOl2AUblVmg2rA_cRgZkFg  NXX338WY_Lw   184447.0       1       0         0   \n",
       "1  UCjOl2AUblVmg2rA_cRgZkFg  dtHcdU2c71Y   217619.0       1       0         0   \n",
       "2  UCjOl2AUblVmg2rA_cRgZkFg  vnrtWe-RAzg   437777.0       0       0         0   \n",
       "3  UCjOl2AUblVmg2rA_cRgZkFg  Ra1F0TsOCPs   191070.0       0       0         0   \n",
       "4  UCjOl2AUblVmg2rA_cRgZkFg  fXysipmTxcQ   572569.0       0       0         0   \n",
       "\n",
       "   Sunday  Thursday  Tuesday  Wednesday  ...  titlePRON  titleSYM  titleSCONJ  \\\n",
       "0       0         0        0          0  ...          0         0           0   \n",
       "1       0         0        0          0  ...          0         0           0   \n",
       "2       0         0        0          1  ...          0         0           0   \n",
       "3       0         0        1          0  ...          0         0           0   \n",
       "4       0         0        1          0  ...          0         0           0   \n",
       "\n",
       "   titleINTJ  titlePART  titleCCONJ  subscriberCount  avgViewCount  \\\n",
       "0          0          0           0          7610000     2224636.0   \n",
       "1          0          0           0          7610000     2224636.0   \n",
       "2          0          0           0          7610000     2224636.0   \n",
       "3          0          0           0          7610000     2224636.0   \n",
       "4          0          0           0          7610000     2224636.0   \n",
       "\n",
       "   humanCount  humanPresence  \n",
       "0           0              0  \n",
       "1           0              0  \n",
       "2           2              1  \n",
       "3           1              1  \n",
       "4           0              0  \n",
       "\n",
       "[5 rows x 61 columns]"
      ]
     },
     "execution_count": 13,
     "metadata": {},
     "output_type": "execute_result"
    }
   ],
   "source": [
    "featuresdf = pd.read_csv('features_df.csv')\n",
    "featuresdf.head()"
   ]
  },
  {
   "cell_type": "markdown",
   "metadata": {},
   "source": [
    "## Model 1: ANOVA test for categorical input variables\n",
    "\n",
    "https://machinelearningmastery.com/feature-selection-with-real-and-categorical-data/\n",
    "\n",
    "https://machinelearningmastery.com/feature-selection-with-numerical-input-data/\n",
    "\n",
    "Your results may vary given the stochastic nature of the algorithm or evaluation procedure, or differences in numerical precision. Consider running the example a few times and compare the average outcome.\n",
    "\n",
    "In this case, we can see that some features stand out as perhaps being more relevant than others, with much larger test statistic values."
   ]
  },
  {
   "cell_type": "code",
   "execution_count": 14,
   "metadata": {},
   "outputs": [
    {
     "name": "stdout",
     "output_type": "stream",
     "text": [
      "(405759, 57)\n",
      "Index(['channelId', 'videoId', 'viewCount', 'Friday', 'Monday', 'Saturday',\n",
      "       'Sunday', 'Thursday', 'Tuesday', 'Wednesday', 'Afternoon',\n",
      "       'Early Morning', 'Evening', 'Late Night', 'Morning', 'Night', 'Autumn',\n",
      "       'Spring', 'Summer', 'Winter', 'AUTO & VEHICLES', 'COMEDY', 'EDUCATION',\n",
      "       'ENTERTAINMENT', 'FILM', 'GAMING', 'HOW TO & STYLE', 'MADE FOR KIDS',\n",
      "       'MUSIC', 'NEWS & POLITICS', 'NONPROFIT & ACTIVISM', 'PEOPLE & BLOGS',\n",
      "       'PETS & ANIMALS', 'SCIENCE & TECHNOLOGY', 'SPORTS', 'TRAVEL',\n",
      "       'Negative', 'Neutral', 'Positive', 'titlePROPN', 'titleDET', 'titleADJ',\n",
      "       'titleVERB', 'titleNOUN', 'titleNUM', 'titleAUX', 'titlePUNCT',\n",
      "       'titleADV', 'titleADP', 'titleX', 'titlePRON', 'titleSYM', 'titleSCONJ',\n",
      "       'titleINTJ', 'titlePART', 'titleCCONJ', 'humanPresence'],\n",
      "      dtype='object')\n"
     ]
    }
   ],
   "source": [
    "catdf = featuresdf.drop(columns=['titleLen','subscriberCount','avgViewCount','humanCount'])\n",
    "print(catdf.shape)\n",
    "print(catdf.columns)\n",
    "rows = len(catdf)"
   ]
  },
  {
   "cell_type": "code",
   "execution_count": 15,
   "metadata": {},
   "outputs": [
    {
     "name": "stdout",
     "output_type": "stream",
     "text": [
      "Train (271858, 54) (271858, 1)\n",
      "Test (133901, 54) (133901, 1)\n"
     ]
    }
   ],
   "source": [
    "# Split into input(x) and output(y)\n",
    "\n",
    "#retrieve numpy array & split\n",
    "dataset= catdf.values\n",
    "X = dataset[:,3:]\n",
    "y = dataset[:,2]\n",
    "\n",
    "#format all fields as string\n",
    "X = X.astype(str)\n",
    "y=y.astype('int64')\n",
    "y=y.reshape((rows,1))\n",
    "\n",
    "\n",
    "X_train, X_test, y_train, y_test = train_test_split(X, y, test_size=0.33, random_state=1)\n",
    "\n",
    "# summarize\n",
    "print('Train', X_train.shape, y_train.shape)\n",
    "print('Test', X_test.shape, y_test.shape)"
   ]
  },
  {
   "cell_type": "code",
   "execution_count": 16,
   "metadata": {},
   "outputs": [
    {
     "name": "stderr",
     "output_type": "stream",
     "text": [
      "/home/ec2-user/anaconda3/envs/python3/lib/python3.6/site-packages/sklearn/utils/validation.py:755: FutureWarning: Beginning in version 0.22, arrays of bytes/strings will be converted to decimal numbers if dtype='numeric'. It is recommended that you convert the array to a float dtype before using it in scikit-learn, for example by using your_array = your_array.astype(np.float64).\n",
      "  estimator=estimator)\n",
      "/home/ec2-user/anaconda3/envs/python3/lib/python3.6/site-packages/sklearn/utils/validation.py:755: FutureWarning: Beginning in version 0.22, arrays of bytes/strings will be converted to decimal numbers if dtype='numeric'. It is recommended that you convert the array to a float dtype before using it in scikit-learn, for example by using your_array = your_array.astype(np.float64).\n",
      "  estimator=estimator)\n",
      "/home/ec2-user/anaconda3/envs/python3/lib/python3.6/site-packages/sklearn/utils/validation.py:760: DataConversionWarning: A column-vector y was passed when a 1d array was expected. Please change the shape of y to (n_samples, ), for example using ravel().\n",
      "  y = column_or_1d(y, warn=True)\n"
     ]
    },
    {
     "name": "stdout",
     "output_type": "stream",
     "text": [
      "FEATURE SELECTION DONE\n"
     ]
    },
    {
     "data": {
      "text/html": [
       "<div>\n",
       "<style scoped>\n",
       "    .dataframe tbody tr th:only-of-type {\n",
       "        vertical-align: middle;\n",
       "    }\n",
       "\n",
       "    .dataframe tbody tr th {\n",
       "        vertical-align: top;\n",
       "    }\n",
       "\n",
       "    .dataframe thead th {\n",
       "        text-align: right;\n",
       "    }\n",
       "</style>\n",
       "<table border=\"1\" class=\"dataframe\">\n",
       "  <thead>\n",
       "    <tr style=\"text-align: right;\">\n",
       "      <th></th>\n",
       "      <th>0</th>\n",
       "    </tr>\n",
       "  </thead>\n",
       "  <tbody>\n",
       "    <tr>\n",
       "      <th>0</th>\n",
       "      <td>0.063981</td>\n",
       "    </tr>\n",
       "    <tr>\n",
       "      <th>1</th>\n",
       "      <td>0.052212</td>\n",
       "    </tr>\n",
       "    <tr>\n",
       "      <th>2</th>\n",
       "      <td>0.015753</td>\n",
       "    </tr>\n",
       "    <tr>\n",
       "      <th>3</th>\n",
       "      <td>0.009671</td>\n",
       "    </tr>\n",
       "    <tr>\n",
       "      <th>4</th>\n",
       "      <td>0.082198</td>\n",
       "    </tr>\n",
       "  </tbody>\n",
       "</table>\n",
       "</div>"
      ],
      "text/plain": [
       "          0\n",
       "0  0.063981\n",
       "1  0.052212\n",
       "2  0.015753\n",
       "3  0.009671\n",
       "4  0.082198"
      ]
     },
     "execution_count": 16,
     "metadata": {},
     "output_type": "execute_result"
    }
   ],
   "source": [
    "# feature selection\n",
    "def select_features(X_train, y_train, X_test):\n",
    "    # configure to select all features\n",
    "    fs = SelectKBest(score_func=mutual_info_classif, k='all')\n",
    "    # learn relationship from training data\n",
    "    fs.fit(X_train, y_train)\n",
    "    # transform train input data\n",
    "    X_train_fs = fs.transform(X_train)\n",
    "    # transform test input data\n",
    "    X_test_fs = fs.transform(X_test)\n",
    "    return X_train_fs, X_test_fs, fs\n",
    "\n",
    "# feature selection\n",
    "X_train_fs, X_test_fs, fs = select_features(X_train, y_train, X_test)\n",
    "print('FEATURE SELECTION DONE')\n",
    "catscoredf = pd.DataFrame(list(fs.scores_))\n",
    "catscoredf.to_csv('catscore_df.csv', index=False, header=True)\n",
    "catscoredf.head()"
   ]
  },
  {
   "cell_type": "code",
   "execution_count": 17,
   "metadata": {},
   "outputs": [
    {
     "name": "stdout",
     "output_type": "stream",
     "text": [
      "Feature 0: 0.063981\n",
      "Feature 1: 0.052212\n",
      "Feature 2: 0.015753\n",
      "Feature 3: 0.009671\n",
      "Feature 4: 0.082198\n",
      "Feature 5: 0.072116\n",
      "Feature 6: 0.086137\n",
      "Feature 7: 0.198378\n",
      "Feature 8: 0.021491\n",
      "Feature 9: 0.142540\n",
      "Feature 10: 0.091575\n",
      "Feature 11: 0.027779\n",
      "Feature 12: 0.068164\n",
      "Feature 13: 0.157454\n",
      "Feature 14: 0.211570\n",
      "Feature 15: 0.189043\n",
      "Feature 16: 0.180823\n",
      "Feature 17: 0.000541\n",
      "Feature 18: 0.000903\n",
      "Feature 19: 0.004578\n",
      "Feature 20: 0.002140\n",
      "Feature 21: 0.012135\n",
      "Feature 22: 0.000000\n",
      "Feature 23: 0.007958\n",
      "Feature 24: 0.000000\n",
      "Feature 25: 0.000000\n",
      "Feature 26: 2.051160\n",
      "Feature 27: 0.079635\n",
      "Feature 28: 0.000255\n",
      "Feature 29: 0.000164\n",
      "Feature 30: 0.004073\n",
      "Feature 31: 0.182120\n",
      "Feature 32: 0.000438\n",
      "Feature 33: 0.046689\n",
      "Feature 34: 1.596341\n",
      "Feature 35: 0.220304\n",
      "Feature 36: 1.246622\n",
      "Feature 37: 0.005886\n",
      "Feature 38: 0.016149\n",
      "Feature 39: 0.009988\n",
      "Feature 40: 0.043525\n",
      "Feature 41: 0.004214\n",
      "Feature 42: 0.000000\n",
      "Feature 43: 0.003640\n",
      "Feature 44: 0.000352\n",
      "Feature 45: 0.004391\n",
      "Feature 46: 0.000573\n",
      "Feature 47: 0.002832\n",
      "Feature 48: 0.004551\n",
      "Feature 49: 0.000000\n",
      "Feature 50: 0.000000\n",
      "Feature 51: 0.000000\n",
      "Feature 52: 0.000000\n",
      "Feature 53: 2.386547\n"
     ]
    },
    {
     "data": {
      "image/png": "[encoded data removed]",
      "text/plain": [
       "<Figure size 432x288 with 1 Axes>"
      ]
     },
     "metadata": {
      "needs_background": "light"
     },
     "output_type": "display_data"
    }
   ],
   "source": [
    "import numpy as np\n",
    "\n",
    "# what are scores for the features\n",
    "for i in range(len(fs.scores_)):\n",
    "    print('Feature %d: %f' % (i, fs.scores_[i]))\n",
    "\n",
    "# plot the scores\n",
    "pyplot.figure(figsize=(15,10))\n",
    "pyplot.bar([i for i in range(len(fs.scores_))], fs.scores_)\n",
    "pyplot.xticks(np.arange(0,55,5))\n",
    "pyplot.axhline(y=1, color='r', linestyle='-')\n",
    "pyplot.title('Feature Importance Scores of categorical variables')\n",
    "pyplot.xlabel('Feature Index Number')\n",
    "pyplot.ylabel('Feature Importance Score')\n",
    "pyplot.savefig('catbar.png')\n",
    "pyplot.show()"
   ]
  },
  {
   "cell_type": "code",
   "execution_count": 18,
   "metadata": {},
   "outputs": [
    {
     "name": "stdout",
     "output_type": "stream",
     "text": [
      "26: HOW TO & STYLE\n",
      "34: SPORTS\n",
      "36: Negative\n",
      "53: titleINTJ\n"
     ]
    }
   ],
   "source": [
    "index = []\n",
    "\n",
    "for i in range(len(list(fs.scores_))):\n",
    "    score = list(fs.scores_)[i]\n",
    "    if score>0.5:\n",
    "        print(str(i) + \": \" + catdf.columns[i])"
   ]
  },
  {
   "cell_type": "markdown",
   "metadata": {},
   "source": [
    "## Model 2: Pearson's Correlation test for numerical input variables\n",
    "https://medium.com/analytics-vidhya/feature-selection-techniques-2614b3b7efcd\n",
    "\n",
    "remove variables that are correlated to each other"
   ]
  },
  {
   "cell_type": "code",
   "execution_count": 44,
   "metadata": {},
   "outputs": [
    {
     "name": "stdout",
     "output_type": "stream",
     "text": [
      "(405759, 5)\n",
      "Index(['viewCount', 'titleLen', 'subscriberCount', 'avgViewCount',\n",
      "       'humanCount'],\n",
      "      dtype='object')\n"
     ]
    }
   ],
   "source": [
    "numdf = featuresdf.loc[:,['viewCount','titleLen','subscriberCount','avgViewCount','humanCount']]\n",
    "print(numdf.shape)\n",
    "print(numdf.columns)"
   ]
  },
  {
   "cell_type": "code",
   "execution_count": 45,
   "metadata": {},
   "outputs": [
    {
     "data": {
      "text/html": [
       "<div>\n",
       "<style scoped>\n",
       "    .dataframe tbody tr th:only-of-type {\n",
       "        vertical-align: middle;\n",
       "    }\n",
       "\n",
       "    .dataframe tbody tr th {\n",
       "        vertical-align: top;\n",
       "    }\n",
       "\n",
       "    .dataframe thead th {\n",
       "        text-align: right;\n",
       "    }\n",
       "</style>\n",
       "<table border=\"1\" class=\"dataframe\">\n",
       "  <thead>\n",
       "    <tr style=\"text-align: right;\">\n",
       "      <th></th>\n",
       "      <th>viewCount</th>\n",
       "      <th>titleLen</th>\n",
       "      <th>subscriberCount</th>\n",
       "      <th>avgViewCount</th>\n",
       "      <th>humanCount</th>\n",
       "    </tr>\n",
       "  </thead>\n",
       "  <tbody>\n",
       "    <tr>\n",
       "      <th>viewCount</th>\n",
       "      <td>1.000000</td>\n",
       "      <td>0.000177</td>\n",
       "      <td>0.091093</td>\n",
       "      <td>0.337469</td>\n",
       "      <td>-0.020841</td>\n",
       "    </tr>\n",
       "    <tr>\n",
       "      <th>titleLen</th>\n",
       "      <td>0.000177</td>\n",
       "      <td>1.000000</td>\n",
       "      <td>0.064078</td>\n",
       "      <td>0.022827</td>\n",
       "      <td>-0.016582</td>\n",
       "    </tr>\n",
       "    <tr>\n",
       "      <th>subscriberCount</th>\n",
       "      <td>0.091093</td>\n",
       "      <td>0.064078</td>\n",
       "      <td>1.000000</td>\n",
       "      <td>0.254701</td>\n",
       "      <td>-0.062342</td>\n",
       "    </tr>\n",
       "    <tr>\n",
       "      <th>avgViewCount</th>\n",
       "      <td>0.337469</td>\n",
       "      <td>0.022827</td>\n",
       "      <td>0.254701</td>\n",
       "      <td>1.000000</td>\n",
       "      <td>-0.079744</td>\n",
       "    </tr>\n",
       "    <tr>\n",
       "      <th>humanCount</th>\n",
       "      <td>-0.020841</td>\n",
       "      <td>-0.016582</td>\n",
       "      <td>-0.062342</td>\n",
       "      <td>-0.079744</td>\n",
       "      <td>1.000000</td>\n",
       "    </tr>\n",
       "  </tbody>\n",
       "</table>\n",
       "</div>"
      ],
      "text/plain": [
       "                 viewCount  titleLen  subscriberCount  avgViewCount  \\\n",
       "viewCount         1.000000  0.000177         0.091093      0.337469   \n",
       "titleLen          0.000177  1.000000         0.064078      0.022827   \n",
       "subscriberCount   0.091093  0.064078         1.000000      0.254701   \n",
       "avgViewCount      0.337469  0.022827         0.254701      1.000000   \n",
       "humanCount       -0.020841 -0.016582        -0.062342     -0.079744   \n",
       "\n",
       "                 humanCount  \n",
       "viewCount         -0.020841  \n",
       "titleLen          -0.016582  \n",
       "subscriberCount   -0.062342  \n",
       "avgViewCount      -0.079744  \n",
       "humanCount         1.000000  "
      ]
     },
     "execution_count": 45,
     "metadata": {},
     "output_type": "execute_result"
    }
   ],
   "source": [
    "cor = numdf.corr()\n",
    "cor"
   ]
  },
  {
   "cell_type": "code",
   "execution_count": 46,
   "metadata": {},
   "outputs": [
    {
     "data": {
      "image/png": "[encoded data removed]",
      "text/plain": [
       "<Figure size 720x576 with 2 Axes>"
      ]
     },
     "metadata": {
      "needs_background": "light"
     },
     "output_type": "display_data"
    }
   ],
   "source": [
    "import seaborn as sns\n",
    "import matplotlib.pyplot as plt\n",
    "plt.figure(figsize=(10,8))\n",
    "sns.heatmap(cor,annot=True)\n",
    "\n",
    "plt.savefig('heatmap.png')\n",
    "plt.show()"
   ]
  },
  {
   "cell_type": "code",
   "execution_count": 47,
   "metadata": {},
   "outputs": [
    {
     "data": {
      "text/html": [
       "<div>\n",
       "<style scoped>\n",
       "    .dataframe tbody tr th:only-of-type {\n",
       "        vertical-align: middle;\n",
       "    }\n",
       "\n",
       "    .dataframe tbody tr th {\n",
       "        vertical-align: top;\n",
       "    }\n",
       "\n",
       "    .dataframe thead th {\n",
       "        text-align: right;\n",
       "    }\n",
       "</style>\n",
       "<table border=\"1\" class=\"dataframe\">\n",
       "  <thead>\n",
       "    <tr style=\"text-align: right;\">\n",
       "      <th></th>\n",
       "      <th>titleLen</th>\n",
       "      <th>subscriberCount</th>\n",
       "    </tr>\n",
       "  </thead>\n",
       "  <tbody>\n",
       "    <tr>\n",
       "      <th>titleLen</th>\n",
       "      <td>1.000000</td>\n",
       "      <td>0.064078</td>\n",
       "    </tr>\n",
       "    <tr>\n",
       "      <th>subscriberCount</th>\n",
       "      <td>0.064078</td>\n",
       "      <td>1.000000</td>\n",
       "    </tr>\n",
       "  </tbody>\n",
       "</table>\n",
       "</div>"
      ],
      "text/plain": [
       "                 titleLen  subscriberCount\n",
       "titleLen         1.000000         0.064078\n",
       "subscriberCount  0.064078         1.000000"
      ]
     },
     "execution_count": 47,
     "metadata": {},
     "output_type": "execute_result"
    }
   ],
   "source": [
    "numdf[['titleLen','subscriberCount']].corr()"
   ]
  },
  {
   "cell_type": "code",
   "execution_count": 48,
   "metadata": {},
   "outputs": [
    {
     "data": {
      "text/html": [
       "<div>\n",
       "<style scoped>\n",
       "    .dataframe tbody tr th:only-of-type {\n",
       "        vertical-align: middle;\n",
       "    }\n",
       "\n",
       "    .dataframe tbody tr th {\n",
       "        vertical-align: top;\n",
       "    }\n",
       "\n",
       "    .dataframe thead th {\n",
       "        text-align: right;\n",
       "    }\n",
       "</style>\n",
       "<table border=\"1\" class=\"dataframe\">\n",
       "  <thead>\n",
       "    <tr style=\"text-align: right;\">\n",
       "      <th></th>\n",
       "      <th>titleLen</th>\n",
       "      <th>avgViewCount</th>\n",
       "    </tr>\n",
       "  </thead>\n",
       "  <tbody>\n",
       "    <tr>\n",
       "      <th>titleLen</th>\n",
       "      <td>1.000000</td>\n",
       "      <td>0.022827</td>\n",
       "    </tr>\n",
       "    <tr>\n",
       "      <th>avgViewCount</th>\n",
       "      <td>0.022827</td>\n",
       "      <td>1.000000</td>\n",
       "    </tr>\n",
       "  </tbody>\n",
       "</table>\n",
       "</div>"
      ],
      "text/plain": [
       "              titleLen  avgViewCount\n",
       "titleLen      1.000000      0.022827\n",
       "avgViewCount  0.022827      1.000000"
      ]
     },
     "execution_count": 48,
     "metadata": {},
     "output_type": "execute_result"
    }
   ],
   "source": [
    "numdf[['titleLen','avgViewCount']].corr()"
   ]
  },
  {
   "cell_type": "code",
   "execution_count": 49,
   "metadata": {},
   "outputs": [
    {
     "data": {
      "text/html": [
       "<div>\n",
       "<style scoped>\n",
       "    .dataframe tbody tr th:only-of-type {\n",
       "        vertical-align: middle;\n",
       "    }\n",
       "\n",
       "    .dataframe tbody tr th {\n",
       "        vertical-align: top;\n",
       "    }\n",
       "\n",
       "    .dataframe thead th {\n",
       "        text-align: right;\n",
       "    }\n",
       "</style>\n",
       "<table border=\"1\" class=\"dataframe\">\n",
       "  <thead>\n",
       "    <tr style=\"text-align: right;\">\n",
       "      <th></th>\n",
       "      <th>titleLen</th>\n",
       "      <th>humanCount</th>\n",
       "    </tr>\n",
       "  </thead>\n",
       "  <tbody>\n",
       "    <tr>\n",
       "      <th>titleLen</th>\n",
       "      <td>1.000000</td>\n",
       "      <td>-0.016582</td>\n",
       "    </tr>\n",
       "    <tr>\n",
       "      <th>humanCount</th>\n",
       "      <td>-0.016582</td>\n",
       "      <td>1.000000</td>\n",
       "    </tr>\n",
       "  </tbody>\n",
       "</table>\n",
       "</div>"
      ],
      "text/plain": [
       "            titleLen  humanCount\n",
       "titleLen    1.000000   -0.016582\n",
       "humanCount -0.016582    1.000000"
      ]
     },
     "execution_count": 49,
     "metadata": {},
     "output_type": "execute_result"
    }
   ],
   "source": [
    "numdf[['titleLen','humanCount']].corr()"
   ]
  },
  {
   "cell_type": "code",
   "execution_count": 50,
   "metadata": {},
   "outputs": [
    {
     "data": {
      "text/html": [
       "<div>\n",
       "<style scoped>\n",
       "    .dataframe tbody tr th:only-of-type {\n",
       "        vertical-align: middle;\n",
       "    }\n",
       "\n",
       "    .dataframe tbody tr th {\n",
       "        vertical-align: top;\n",
       "    }\n",
       "\n",
       "    .dataframe thead th {\n",
       "        text-align: right;\n",
       "    }\n",
       "</style>\n",
       "<table border=\"1\" class=\"dataframe\">\n",
       "  <thead>\n",
       "    <tr style=\"text-align: right;\">\n",
       "      <th></th>\n",
       "      <th>subscriberCount</th>\n",
       "      <th>avgViewCount</th>\n",
       "    </tr>\n",
       "  </thead>\n",
       "  <tbody>\n",
       "    <tr>\n",
       "      <th>subscriberCount</th>\n",
       "      <td>1.000000</td>\n",
       "      <td>0.254701</td>\n",
       "    </tr>\n",
       "    <tr>\n",
       "      <th>avgViewCount</th>\n",
       "      <td>0.254701</td>\n",
       "      <td>1.000000</td>\n",
       "    </tr>\n",
       "  </tbody>\n",
       "</table>\n",
       "</div>"
      ],
      "text/plain": [
       "                 subscriberCount  avgViewCount\n",
       "subscriberCount         1.000000      0.254701\n",
       "avgViewCount            0.254701      1.000000"
      ]
     },
     "execution_count": 50,
     "metadata": {},
     "output_type": "execute_result"
    }
   ],
   "source": [
    "numdf[['subscriberCount','avgViewCount']].corr()"
   ]
  },
  {
   "cell_type": "code",
   "execution_count": 51,
   "metadata": {},
   "outputs": [
    {
     "data": {
      "text/html": [
       "<div>\n",
       "<style scoped>\n",
       "    .dataframe tbody tr th:only-of-type {\n",
       "        vertical-align: middle;\n",
       "    }\n",
       "\n",
       "    .dataframe tbody tr th {\n",
       "        vertical-align: top;\n",
       "    }\n",
       "\n",
       "    .dataframe thead th {\n",
       "        text-align: right;\n",
       "    }\n",
       "</style>\n",
       "<table border=\"1\" class=\"dataframe\">\n",
       "  <thead>\n",
       "    <tr style=\"text-align: right;\">\n",
       "      <th></th>\n",
       "      <th>subscriberCount</th>\n",
       "      <th>humanCount</th>\n",
       "    </tr>\n",
       "  </thead>\n",
       "  <tbody>\n",
       "    <tr>\n",
       "      <th>subscriberCount</th>\n",
       "      <td>1.000000</td>\n",
       "      <td>-0.062342</td>\n",
       "    </tr>\n",
       "    <tr>\n",
       "      <th>humanCount</th>\n",
       "      <td>-0.062342</td>\n",
       "      <td>1.000000</td>\n",
       "    </tr>\n",
       "  </tbody>\n",
       "</table>\n",
       "</div>"
      ],
      "text/plain": [
       "                 subscriberCount  humanCount\n",
       "subscriberCount         1.000000   -0.062342\n",
       "humanCount             -0.062342    1.000000"
      ]
     },
     "execution_count": 51,
     "metadata": {},
     "output_type": "execute_result"
    }
   ],
   "source": [
    "numdf[['subscriberCount','humanCount']].corr()"
   ]
  },
  {
   "cell_type": "code",
   "execution_count": 52,
   "metadata": {},
   "outputs": [
    {
     "data": {
      "text/html": [
       "<div>\n",
       "<style scoped>\n",
       "    .dataframe tbody tr th:only-of-type {\n",
       "        vertical-align: middle;\n",
       "    }\n",
       "\n",
       "    .dataframe tbody tr th {\n",
       "        vertical-align: top;\n",
       "    }\n",
       "\n",
       "    .dataframe thead th {\n",
       "        text-align: right;\n",
       "    }\n",
       "</style>\n",
       "<table border=\"1\" class=\"dataframe\">\n",
       "  <thead>\n",
       "    <tr style=\"text-align: right;\">\n",
       "      <th></th>\n",
       "      <th>avgViewCount</th>\n",
       "      <th>humanCount</th>\n",
       "    </tr>\n",
       "  </thead>\n",
       "  <tbody>\n",
       "    <tr>\n",
       "      <th>avgViewCount</th>\n",
       "      <td>1.000000</td>\n",
       "      <td>-0.079744</td>\n",
       "    </tr>\n",
       "    <tr>\n",
       "      <th>humanCount</th>\n",
       "      <td>-0.079744</td>\n",
       "      <td>1.000000</td>\n",
       "    </tr>\n",
       "  </tbody>\n",
       "</table>\n",
       "</div>"
      ],
      "text/plain": [
       "              avgViewCount  humanCount\n",
       "avgViewCount      1.000000   -0.079744\n",
       "humanCount       -0.079744    1.000000"
      ]
     },
     "execution_count": 52,
     "metadata": {},
     "output_type": "execute_result"
    }
   ],
   "source": [
    "numdf[['avgViewCount','humanCount']].corr()"
   ]
  },
  {
   "cell_type": "markdown",
   "metadata": {},
   "source": [
    "## Model 3: ANOVA test for ALL input variables"
   ]
  },
  {
   "cell_type": "code",
   "execution_count": 19,
   "metadata": {},
   "outputs": [
    {
     "name": "stdout",
     "output_type": "stream",
     "text": [
      "(405759, 61)\n",
      "Index(['channelId', 'videoId', 'viewCount', 'Friday', 'Monday', 'Saturday',\n",
      "       'Sunday', 'Thursday', 'Tuesday', 'Wednesday', 'Afternoon',\n",
      "       'Early Morning', 'Evening', 'Late Night', 'Morning', 'Night', 'Autumn',\n",
      "       'Spring', 'Summer', 'Winter', 'AUTO & VEHICLES', 'COMEDY', 'EDUCATION',\n",
      "       'ENTERTAINMENT', 'FILM', 'GAMING', 'HOW TO & STYLE', 'MADE FOR KIDS',\n",
      "       'MUSIC', 'NEWS & POLITICS', 'NONPROFIT & ACTIVISM', 'PEOPLE & BLOGS',\n",
      "       'PETS & ANIMALS', 'SCIENCE & TECHNOLOGY', 'SPORTS', 'TRAVEL',\n",
      "       'titleLen', 'Negative', 'Neutral', 'Positive', 'titlePROPN', 'titleDET',\n",
      "       'titleADJ', 'titleVERB', 'titleNOUN', 'titleNUM', 'titleAUX',\n",
      "       'titlePUNCT', 'titleADV', 'titleADP', 'titleX', 'titlePRON', 'titleSYM',\n",
      "       'titleSCONJ', 'titleINTJ', 'titlePART', 'titleCCONJ', 'subscriberCount',\n",
      "       'avgViewCount', 'humanCount', 'humanPresence'],\n",
      "      dtype='object')\n"
     ]
    }
   ],
   "source": [
    "alldf = featuresdf\n",
    "print(alldf.shape)\n",
    "print(alldf.columns)\n",
    "rows = len(alldf)"
   ]
  },
  {
   "cell_type": "code",
   "execution_count": 20,
   "metadata": {},
   "outputs": [
    {
     "name": "stdout",
     "output_type": "stream",
     "text": [
      "Train (271858, 58) (271858, 1)\n",
      "Test (133901, 58) (133901, 1)\n"
     ]
    }
   ],
   "source": [
    "# Split into input(x) and output(y)\n",
    "\n",
    "#retrieve numpy array & split\n",
    "dataset= alldf.values\n",
    "X = dataset[:,3:]\n",
    "y = dataset[:,2]\n",
    "\n",
    "#format all fields as string\n",
    "X = X.astype(str)\n",
    "y=y.astype('int64')\n",
    "y=y.reshape((rows,1))\n",
    "\n",
    "\n",
    "X_train, X_test, y_train, y_test = train_test_split(X, y, test_size=0.33, random_state=1)\n",
    "\n",
    "# summarize\n",
    "print('Train', X_train.shape, y_train.shape)\n",
    "print('Test', X_test.shape, y_test.shape)"
   ]
  },
  {
   "cell_type": "code",
   "execution_count": 21,
   "metadata": {},
   "outputs": [
    {
     "name": "stderr",
     "output_type": "stream",
     "text": [
      "/home/ec2-user/anaconda3/envs/python3/lib/python3.6/site-packages/sklearn/utils/validation.py:755: FutureWarning: Beginning in version 0.22, arrays of bytes/strings will be converted to decimal numbers if dtype='numeric'. It is recommended that you convert the array to a float dtype before using it in scikit-learn, for example by using your_array = your_array.astype(np.float64).\n",
      "  estimator=estimator)\n",
      "/home/ec2-user/anaconda3/envs/python3/lib/python3.6/site-packages/sklearn/utils/validation.py:755: FutureWarning: Beginning in version 0.22, arrays of bytes/strings will be converted to decimal numbers if dtype='numeric'. It is recommended that you convert the array to a float dtype before using it in scikit-learn, for example by using your_array = your_array.astype(np.float64).\n",
      "  estimator=estimator)\n",
      "/home/ec2-user/anaconda3/envs/python3/lib/python3.6/site-packages/sklearn/utils/validation.py:760: DataConversionWarning: A column-vector y was passed when a 1d array was expected. Please change the shape of y to (n_samples, ), for example using ravel().\n",
      "  y = column_or_1d(y, warn=True)\n"
     ]
    },
    {
     "name": "stdout",
     "output_type": "stream",
     "text": [
      "FEATURE SELECTION DONE\n"
     ]
    },
    {
     "data": {
      "text/html": [
       "<div>\n",
       "<style scoped>\n",
       "    .dataframe tbody tr th:only-of-type {\n",
       "        vertical-align: middle;\n",
       "    }\n",
       "\n",
       "    .dataframe tbody tr th {\n",
       "        vertical-align: top;\n",
       "    }\n",
       "\n",
       "    .dataframe thead th {\n",
       "        text-align: right;\n",
       "    }\n",
       "</style>\n",
       "<table border=\"1\" class=\"dataframe\">\n",
       "  <thead>\n",
       "    <tr style=\"text-align: right;\">\n",
       "      <th></th>\n",
       "      <th>0</th>\n",
       "    </tr>\n",
       "  </thead>\n",
       "  <tbody>\n",
       "    <tr>\n",
       "      <th>0</th>\n",
       "      <td>0.061123</td>\n",
       "    </tr>\n",
       "    <tr>\n",
       "      <th>1</th>\n",
       "      <td>0.053195</td>\n",
       "    </tr>\n",
       "    <tr>\n",
       "      <th>2</th>\n",
       "      <td>0.015314</td>\n",
       "    </tr>\n",
       "    <tr>\n",
       "      <th>3</th>\n",
       "      <td>0.007945</td>\n",
       "    </tr>\n",
       "    <tr>\n",
       "      <th>4</th>\n",
       "      <td>0.083718</td>\n",
       "    </tr>\n",
       "  </tbody>\n",
       "</table>\n",
       "</div>"
      ],
      "text/plain": [
       "          0\n",
       "0  0.061123\n",
       "1  0.053195\n",
       "2  0.015314\n",
       "3  0.007945\n",
       "4  0.083718"
      ]
     },
     "execution_count": 21,
     "metadata": {},
     "output_type": "execute_result"
    }
   ],
   "source": [
    "# feature selection\n",
    "def select_features(X_train, y_train, X_test):\n",
    "    # configure to select all features\n",
    "    fs = SelectKBest(score_func=mutual_info_classif, k='all')\n",
    "    # learn relationship from training data\n",
    "    fs.fit(X_train, y_train)\n",
    "    # transform train input data\n",
    "    X_train_fs = fs.transform(X_train)\n",
    "    # transform test input data\n",
    "    X_test_fs = fs.transform(X_test)\n",
    "    return X_train_fs, X_test_fs, fs\n",
    "\n",
    "# feature selection\n",
    "X_train_fs, X_test_fs, fs = select_features(X_train, y_train, X_test)\n",
    "print('FEATURE SELECTION DONE')\n",
    "allscoredf = pd.DataFrame(list(fs.scores_))\n",
    "allscoredf.to_csv('allscore_df.csv', index=False, header=True)\n",
    "allscoredf.head()"
   ]
  },
  {
   "cell_type": "code",
   "execution_count": 22,
   "metadata": {},
   "outputs": [
    {
     "name": "stdout",
     "output_type": "stream",
     "text": [
      "Feature 0: 0.061123\n",
      "Feature 1: 0.053195\n",
      "Feature 2: 0.015314\n",
      "Feature 3: 0.007945\n",
      "Feature 4: 0.083718\n",
      "Feature 5: 0.073411\n",
      "Feature 6: 0.082686\n",
      "Feature 7: 0.193197\n",
      "Feature 8: 0.022390\n",
      "Feature 9: 0.142687\n",
      "Feature 10: 0.093379\n",
      "Feature 11: 0.027605\n",
      "Feature 12: 0.062872\n",
      "Feature 13: 0.154480\n",
      "Feature 14: 0.206763\n",
      "Feature 15: 0.187820\n",
      "Feature 16: 0.179872\n",
      "Feature 17: 0.000397\n",
      "Feature 18: 0.000000\n",
      "Feature 19: 0.001589\n",
      "Feature 20: 0.002956\n",
      "Feature 21: 0.015832\n",
      "Feature 22: 0.000000\n",
      "Feature 23: 0.003377\n",
      "Feature 24: 0.000000\n",
      "Feature 25: 0.000000\n",
      "Feature 26: 2.041418\n",
      "Feature 27: 0.073173\n",
      "Feature 28: 0.000000\n",
      "Feature 29: 0.001595\n",
      "Feature 30: 0.000722\n",
      "Feature 31: 0.181007\n",
      "Feature 32: 0.000000\n",
      "Feature 33: 0.156247\n",
      "Feature 34: 0.042901\n",
      "Feature 35: 1.582291\n",
      "Feature 36: 0.218732\n",
      "Feature 37: 1.244789\n",
      "Feature 38: 0.008676\n",
      "Feature 39: 0.017713\n",
      "Feature 40: 0.004064\n",
      "Feature 41: 0.046059\n",
      "Feature 42: 0.001063\n",
      "Feature 43: 0.000000\n",
      "Feature 44: 0.000000\n",
      "Feature 45: 0.002421\n",
      "Feature 46: 0.002807\n",
      "Feature 47: 0.000000\n",
      "Feature 48: 0.000000\n",
      "Feature 49: 0.003904\n",
      "Feature 50: 0.002812\n",
      "Feature 51: 0.000000\n",
      "Feature 52: 0.001211\n",
      "Feature 53: 0.000000\n",
      "Feature 54: 0.396825\n",
      "Feature 55: 0.435447\n",
      "Feature 56: 0.624370\n",
      "Feature 57: 2.389420\n"
     ]
    },
    {
     "data": {
      "image/png": "[encoded data removed]",
      "text/plain": [
       "<Figure size 432x288 with 1 Axes>"
      ]
     },
     "metadata": {
      "needs_background": "light"
     },
     "output_type": "display_data"
    }
   ],
   "source": [
    "import numpy as np\n",
    "\n",
    "# what are scores for the features\n",
    "for i in range(len(fs.scores_)):\n",
    "    print('Feature %d: %f' % (i, fs.scores_[i]))\n",
    "    \n",
    "# plot the scores\n",
    "pyplot.figure(figsize=(15,10))\n",
    "pyplot.bar([i for i in range(len(fs.scores_))], fs.scores_)\n",
    "pyplot.xticks(np.arange(0,60,5))\n",
    "pyplot.axhline(y=1, color='r', linestyle='-')\n",
    "pyplot.title('Feature Importance Scores of all variables')\n",
    "pyplot.xlabel('Feature Index Number')\n",
    "pyplot.ylabel('Feature Importance Score')\n",
    "pyplot.savefig('allbar.png')\n",
    "pyplot.show()"
   ]
  },
  {
   "cell_type": "code",
   "execution_count": 23,
   "metadata": {},
   "outputs": [
    {
     "name": "stdout",
     "output_type": "stream",
     "text": [
      "26: HOW TO & STYLE\n",
      "35: TRAVEL\n",
      "37: Negative\n",
      "56: titleCCONJ\n",
      "57: subscriberCount\n"
     ]
    }
   ],
   "source": [
    "index = []\n",
    "\n",
    "for i in range(len(list(fs.scores_))):\n",
    "    score = list(fs.scores_)[i]\n",
    "    if score>1:\n",
    "        print(str(i) + \": \" + alldf.columns[i])"
   ]
  }
 ],
 "metadata": {
  "kernelspec": {
   "display_name": "Python 3",
   "language": "python",
   "name": "python3"
  },
  "language_info": {
   "codemirror_mode": {
    "name": "ipython",
    "version": 3
   },
   "file_extension": ".py",
   "mimetype": "text/x-python",
   "name": "python",
   "nbconvert_exporter": "python",
   "pygments_lexer": "ipython3",
   "version": "3.8.3"
  }
 },
 "nbformat": 4,
 "nbformat_minor": 4
}
