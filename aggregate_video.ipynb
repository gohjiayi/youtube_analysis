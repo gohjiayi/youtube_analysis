{
 "metadata": {
  "language_info": {
   "codemirror_mode": {
    "name": "ipython",
    "version": 3
   },
   "file_extension": ".py",
   "mimetype": "text/x-python",
   "name": "python",
   "nbconvert_exporter": "python",
   "pygments_lexer": "ipython3",
   "version": "3.7.4-final"
  },
  "orig_nbformat": 2,
  "kernelspec": {
   "name": "Python 3.7.4 64-bit ('base': conda)",
   "display_name": "Python 3.7.4 64-bit ('base': conda)",
   "metadata": {
    "interpreter": {
     "hash": "63e4f03e19f10d4e56972be1188e832af7f46b5148d9b364c25d3d5b872d3cb2"
    }
   }
  }
 },
 "nbformat": 4,
 "nbformat_minor": 2,
 "cells": [
  {
   "source": [
    "import pandas as pd\n",
    "import numpy as np"
   ],
   "cell_type": "code",
   "metadata": {},
   "execution_count": 4,
   "outputs": []
  },
  {
   "source": [
    "### Join Dataframes and Clean Up"
   ],
   "cell_type": "markdown",
   "metadata": {}
  },
  {
   "cell_type": "code",
   "execution_count": 5,
   "metadata": {},
   "outputs": [],
   "source": [
    "#import Channels csv\n",
    "df1 = pd.read_csv('Extracted_channel_2020-10-09_kai.csv')\n",
    "df2 = pd.read_csv('Extracted_channel_2020-10-09_jiayi.csv')\n",
    "df3 = pd.read_csv('Extracted_channel_2020-10-09_chi1.csv')\n",
    "df4 = pd.read_csv('Extracted_channel_2020-10-09_chi2.csv')\n",
    "df5 = pd.read_csv('Extracted_channel_2020-10-09_zw1.csv')\n",
    "df6 = pd.read_csv('Extracted_channel_2020-10-09_zw2.csv')\n"
   ]
  },
  {
   "cell_type": "code",
   "execution_count": 6,
   "metadata": {},
   "outputs": [],
   "source": [
    "#join channel frames\n",
    "frames = [df1, df2, df3,df4, df5, df6]\n",
    "channel_df = pd.concat(frames)"
   ]
  },
  {
   "cell_type": "code",
   "execution_count": 7,
   "metadata": {},
   "outputs": [
    {
     "output_type": "execute_result",
     "data": {
      "text/plain": [
       "           category                 channelID                 snippet_etag  \\\n",
       "0   AUTO & VEHICLES  UCjOl2AUblVmg2rA_cRgZkFg  744gBiRCGaqlpkIj1A7aPh7khsc   \n",
       "1   AUTO & VEHICLES  UCes1EvRjcKU4sY_UEavndBw  n5AqBeBZUTe8NAGgPkb0Sgbx4yE   \n",
       "2   AUTO & VEHICLES  UCsAegdhiYLEoaFGuJFVrqFQ  CPzS7e7cjgRMScteECF5ZIQD0OM   \n",
       "3   AUTO & VEHICLES  UCUhFaUpnq31m6TNX2VKVSVA  APEOWUbv2UfHMm0yKW-bkx_ZkI0   \n",
       "4   AUTO & VEHICLES  UCKSVUHI9rbbkXhvAXK-2uxA  WeiqJM5KuwFHTBYE6jWxBUteOAE   \n",
       "..              ...                       ...                          ...   \n",
       "13           TRAVEL  UCXOKEdfOFxsHO_-Su3K8SHg  enu8pWo6CP5r_rg8Zn75QWdMJzk   \n",
       "14           TRAVEL  UCwiTOchWeKjrJZw7S1H__1g  HYJIj9T4rw61KvnkLdNXprNGUIo   \n",
       "15           TRAVEL  UCfYCRj25JJQ41JGPqiqXmJw  I9RVdRNvpj6NBcPga2tSH7bvJd0   \n",
       "16           TRAVEL  UCxDZs_ltFFvn0FDHT6kmoXA  mXdlLiUp--nCfe4MYQ7EaRpYKVk   \n",
       "17           TRAVEL  UC9avFXTdbSo5ATvzTRnAVFg  SAhSXgMWggyVlwBCgCyU8HKAgJM   \n",
       "\n",
       "             snippet_items_etag snippet_items_id_channelId  \\\n",
       "0   sdiqTXhKjaQDjmp9N-bVs7JTvxw   UCjOl2AUblVmg2rA_cRgZkFg   \n",
       "1   TudVPLYity4Ac3DowSe4HrjI2E0   UCes1EvRjcKU4sY_UEavndBw   \n",
       "2   mfh_Vl1QRlANym37qRq32AKL9SY   UCsAegdhiYLEoaFGuJFVrqFQ   \n",
       "3   gzoISdAGvaePTxeuRXP6IoY8uVE   UCUhFaUpnq31m6TNX2VKVSVA   \n",
       "4   4TKwGlw0QYyGWF9XFNfjHCrUQmM   UCKSVUHI9rbbkXhvAXK-2uxA   \n",
       "..                          ...                        ...   \n",
       "13  pDxJVf8i829mOClh4RhgBe96c6o   UCXOKEdfOFxsHO_-Su3K8SHg   \n",
       "14  DAzqQ0kNJ86Iw5SNia9LuARsAZw   UCwiTOchWeKjrJZw7S1H__1g   \n",
       "15  4x47msAlW_ADrIrsukpJZvTmFSE   UCfYCRj25JJQ41JGPqiqXmJw   \n",
       "16  7-rRkjFTiCwbpBwqdl9lsf3mRy8   UCxDZs_ltFFvn0FDHT6kmoXA   \n",
       "17  PjypIkg5u4oPtU2sTTV5J1ZpHjE   UC9avFXTdbSo5ATvzTRnAVFg   \n",
       "\n",
       "   snippet_items_id_kind    snippet_items_kind  \\\n",
       "0        youtube#channel  youtube#searchResult   \n",
       "1        youtube#channel  youtube#searchResult   \n",
       "2        youtube#channel  youtube#searchResult   \n",
       "3        youtube#channel  youtube#searchResult   \n",
       "4        youtube#channel  youtube#searchResult   \n",
       "..                   ...                   ...   \n",
       "13       youtube#channel  youtube#searchResult   \n",
       "14       youtube#channel  youtube#searchResult   \n",
       "15       youtube#channel  youtube#searchResult   \n",
       "16       youtube#channel  youtube#searchResult   \n",
       "17       youtube#channel  youtube#searchResult   \n",
       "\n",
       "   snippet_items_snippet_channelId snippet_items_snippet_channelTitle  \\\n",
       "0         UCjOl2AUblVmg2rA_cRgZkFg                           Top Gear   \n",
       "1         UCes1EvRjcKU4sY_UEavndBw                           ChrisFix   \n",
       "2         UCsAegdhiYLEoaFGuJFVrqFQ                 MotorTrend Channel   \n",
       "3         UCUhFaUpnq31m6TNX2VKVSVA                             carwow   \n",
       "4         UCKSVUHI9rbbkXhvAXK-2uxA                   Supercar Blondie   \n",
       "..                             ...                                ...   \n",
       "13        UCXOKEdfOFxsHO_-Su3K8SHg                  Strictly Dumpling   \n",
       "14        UCwiTOchWeKjrJZw7S1H__1g                       Food Insider   \n",
       "15        UCfYCRj25JJQ41JGPqiqXmJw                           Sam Chui   \n",
       "16        UCxDZs_ltFFvn0FDHT6kmoXA                  bald and bankrupt   \n",
       "17        UC9avFXTdbSo5ATvzTRnAVFg                         FUNG BROS.   \n",
       "\n",
       "                    snippet_items_snippet_description  ...  \\\n",
       "0   Welcome to the official home of Top Gear on Yo...  ...   \n",
       "1   Learn how to fix your own car with my easy to ...  ...   \n",
       "2   The ultimate automotive streaming service. Get...  ...   \n",
       "3   On the lookout for your next car? Head to carw...  ...   \n",
       "4   I'm Alex, that girl with the cars and I hunt d...  ...   \n",
       "..                                                ...  ...   \n",
       "13  I LOVE FOOD!!!! So you have just entered my fo...  ...   \n",
       "14  What you want to know about food. A division o...  ...   \n",
       "15  My soul is in the sky! I hope my videos can br...  ...   \n",
       "16        Going off the map in former Soviet lands...  ...   \n",
       "17  NEW VIDEOS MONDAYS AND THURSDAYS** Two brother...  ...   \n",
       "\n",
       "          statistics_items_etag       statistics_items_id  \\\n",
       "0   8dLnO6UM5TopqLOWiqK0RH-6oAA  UCjOl2AUblVmg2rA_cRgZkFg   \n",
       "1   h-eOr_cSBLfHftyHTYR6JAt76kE  UCes1EvRjcKU4sY_UEavndBw   \n",
       "2   DEHBaTqZt19tjrmpNeVnPWIX3L0  UCsAegdhiYLEoaFGuJFVrqFQ   \n",
       "3   2A4HPBHbt3SgjXnObyJh9y-m57s  UCUhFaUpnq31m6TNX2VKVSVA   \n",
       "4   F_SzCpuQiDjlcv98IDUXRdHDFX8  UCKSVUHI9rbbkXhvAXK-2uxA   \n",
       "..                          ...                       ...   \n",
       "13  FZpoXOATsfB22yF5NT2UNpE-Q3Q  UCXOKEdfOFxsHO_-Su3K8SHg   \n",
       "14  xtsTfVdAJGSVS07o9-Utm2lQV_s  UCwiTOchWeKjrJZw7S1H__1g   \n",
       "15  ThiX8Di5a_WPe0VfaKRkXb2TeD4  UCfYCRj25JJQ41JGPqiqXmJw   \n",
       "16  k9D1pSfv9g22rryoICQlWANm2t8  UCxDZs_ltFFvn0FDHT6kmoXA   \n",
       "17  iZMS5awCV2WiyXwu4pATqiZJJzA  UC9avFXTdbSo5ATvzTRnAVFg   \n",
       "\n",
       "   statistics_items_kind statistics_items_statistics_commentCount  \\\n",
       "0        youtube#channel                                        0   \n",
       "1        youtube#channel                                        0   \n",
       "2        youtube#channel                                        0   \n",
       "3        youtube#channel                                        0   \n",
       "4        youtube#channel                                        0   \n",
       "..                   ...                                      ...   \n",
       "13       youtube#channel                                        0   \n",
       "14       youtube#channel                                        0   \n",
       "15       youtube#channel                                        0   \n",
       "16       youtube#channel                                        0   \n",
       "17       youtube#channel                                        0   \n",
       "\n",
       "   statistics_items_statistics_hiddenSubscriberCount  \\\n",
       "0                                              False   \n",
       "1                                              False   \n",
       "2                                              False   \n",
       "3                                              False   \n",
       "4                                              False   \n",
       "..                                               ...   \n",
       "13                                             False   \n",
       "14                                             False   \n",
       "15                                             False   \n",
       "16                                             False   \n",
       "17                                             False   \n",
       "\n",
       "   statistics_items_statistics_subscriberCount  \\\n",
       "0                                      7600000   \n",
       "1                                      6900000   \n",
       "2                                      6580000   \n",
       "3                                      4640000   \n",
       "4                                      4670000   \n",
       "..                                         ...   \n",
       "13                                     3380000   \n",
       "14                                     2550000   \n",
       "15                                     2340000   \n",
       "16                                     2250000   \n",
       "17                                     2120000   \n",
       "\n",
       "   statistics_items_statistics_videoCount  \\\n",
       "0                                    1352   \n",
       "1                                     337   \n",
       "2                                    2212   \n",
       "3                                    1314   \n",
       "4                                     239   \n",
       "..                                    ...   \n",
       "13                                    491   \n",
       "14                                   1051   \n",
       "15                                    336   \n",
       "16                                    212   \n",
       "17                                    873   \n",
       "\n",
       "   statistics_items_statistics_viewCount              statistics_kind  \\\n",
       "0                             3007747671  youtube#channelListResponse   \n",
       "1                             1018824291  youtube#channelListResponse   \n",
       "2                             1169127726  youtube#channelListResponse   \n",
       "3                             1396174290  youtube#channelListResponse   \n",
       "4                              362026994  youtube#channelListResponse   \n",
       "..                                   ...                          ...   \n",
       "13                             670079168  youtube#channelListResponse   \n",
       "14                             862376372  youtube#channelListResponse   \n",
       "15                             510481614  youtube#channelListResponse   \n",
       "16                             292995872  youtube#channelListResponse   \n",
       "17                             422188273  youtube#channelListResponse   \n",
       "\n",
       "    statistics_pageInfo_resultsPerPage  \n",
       "0                                    1  \n",
       "1                                    1  \n",
       "2                                    1  \n",
       "3                                    1  \n",
       "4                                    1  \n",
       "..                                 ...  \n",
       "13                                   1  \n",
       "14                                   1  \n",
       "15                                   1  \n",
       "16                                   1  \n",
       "17                                   1  \n",
       "\n",
       "[158 rows x 32 columns]"
      ],
      "text/html": "<div>\n<style scoped>\n    .dataframe tbody tr th:only-of-type {\n        vertical-align: middle;\n    }\n\n    .dataframe tbody tr th {\n        vertical-align: top;\n    }\n\n    .dataframe thead th {\n        text-align: right;\n    }\n</style>\n<table border=\"1\" class=\"dataframe\">\n  <thead>\n    <tr style=\"text-align: right;\">\n      <th></th>\n      <th>category</th>\n      <th>channelID</th>\n      <th>snippet_etag</th>\n      <th>snippet_items_etag</th>\n      <th>snippet_items_id_channelId</th>\n      <th>snippet_items_id_kind</th>\n      <th>snippet_items_kind</th>\n      <th>snippet_items_snippet_channelId</th>\n      <th>snippet_items_snippet_channelTitle</th>\n      <th>snippet_items_snippet_description</th>\n      <th>...</th>\n      <th>statistics_items_etag</th>\n      <th>statistics_items_id</th>\n      <th>statistics_items_kind</th>\n      <th>statistics_items_statistics_commentCount</th>\n      <th>statistics_items_statistics_hiddenSubscriberCount</th>\n      <th>statistics_items_statistics_subscriberCount</th>\n      <th>statistics_items_statistics_videoCount</th>\n      <th>statistics_items_statistics_viewCount</th>\n      <th>statistics_kind</th>\n      <th>statistics_pageInfo_resultsPerPage</th>\n    </tr>\n  </thead>\n  <tbody>\n    <tr>\n      <td>0</td>\n      <td>AUTO &amp; VEHICLES</td>\n      <td>UCjOl2AUblVmg2rA_cRgZkFg</td>\n      <td>744gBiRCGaqlpkIj1A7aPh7khsc</td>\n      <td>sdiqTXhKjaQDjmp9N-bVs7JTvxw</td>\n      <td>UCjOl2AUblVmg2rA_cRgZkFg</td>\n      <td>youtube#channel</td>\n      <td>youtube#searchResult</td>\n      <td>UCjOl2AUblVmg2rA_cRgZkFg</td>\n      <td>Top Gear</td>\n      <td>Welcome to the official home of Top Gear on Yo...</td>\n      <td>...</td>\n      <td>8dLnO6UM5TopqLOWiqK0RH-6oAA</td>\n      <td>UCjOl2AUblVmg2rA_cRgZkFg</td>\n      <td>youtube#channel</td>\n      <td>0</td>\n      <td>False</td>\n      <td>7600000</td>\n      <td>1352</td>\n      <td>3007747671</td>\n      <td>youtube#channelListResponse</td>\n      <td>1</td>\n    </tr>\n    <tr>\n      <td>1</td>\n      <td>AUTO &amp; VEHICLES</td>\n      <td>UCes1EvRjcKU4sY_UEavndBw</td>\n      <td>n5AqBeBZUTe8NAGgPkb0Sgbx4yE</td>\n      <td>TudVPLYity4Ac3DowSe4HrjI2E0</td>\n      <td>UCes1EvRjcKU4sY_UEavndBw</td>\n      <td>youtube#channel</td>\n      <td>youtube#searchResult</td>\n      <td>UCes1EvRjcKU4sY_UEavndBw</td>\n      <td>ChrisFix</td>\n      <td>Learn how to fix your own car with my easy to ...</td>\n      <td>...</td>\n      <td>h-eOr_cSBLfHftyHTYR6JAt76kE</td>\n      <td>UCes1EvRjcKU4sY_UEavndBw</td>\n      <td>youtube#channel</td>\n      <td>0</td>\n      <td>False</td>\n      <td>6900000</td>\n      <td>337</td>\n      <td>1018824291</td>\n      <td>youtube#channelListResponse</td>\n      <td>1</td>\n    </tr>\n    <tr>\n      <td>2</td>\n      <td>AUTO &amp; VEHICLES</td>\n      <td>UCsAegdhiYLEoaFGuJFVrqFQ</td>\n      <td>CPzS7e7cjgRMScteECF5ZIQD0OM</td>\n      <td>mfh_Vl1QRlANym37qRq32AKL9SY</td>\n      <td>UCsAegdhiYLEoaFGuJFVrqFQ</td>\n      <td>youtube#channel</td>\n      <td>youtube#searchResult</td>\n      <td>UCsAegdhiYLEoaFGuJFVrqFQ</td>\n      <td>MotorTrend Channel</td>\n      <td>The ultimate automotive streaming service. Get...</td>\n      <td>...</td>\n      <td>DEHBaTqZt19tjrmpNeVnPWIX3L0</td>\n      <td>UCsAegdhiYLEoaFGuJFVrqFQ</td>\n      <td>youtube#channel</td>\n      <td>0</td>\n      <td>False</td>\n      <td>6580000</td>\n      <td>2212</td>\n      <td>1169127726</td>\n      <td>youtube#channelListResponse</td>\n      <td>1</td>\n    </tr>\n    <tr>\n      <td>3</td>\n      <td>AUTO &amp; VEHICLES</td>\n      <td>UCUhFaUpnq31m6TNX2VKVSVA</td>\n      <td>APEOWUbv2UfHMm0yKW-bkx_ZkI0</td>\n      <td>gzoISdAGvaePTxeuRXP6IoY8uVE</td>\n      <td>UCUhFaUpnq31m6TNX2VKVSVA</td>\n      <td>youtube#channel</td>\n      <td>youtube#searchResult</td>\n      <td>UCUhFaUpnq31m6TNX2VKVSVA</td>\n      <td>carwow</td>\n      <td>On the lookout for your next car? Head to carw...</td>\n      <td>...</td>\n      <td>2A4HPBHbt3SgjXnObyJh9y-m57s</td>\n      <td>UCUhFaUpnq31m6TNX2VKVSVA</td>\n      <td>youtube#channel</td>\n      <td>0</td>\n      <td>False</td>\n      <td>4640000</td>\n      <td>1314</td>\n      <td>1396174290</td>\n      <td>youtube#channelListResponse</td>\n      <td>1</td>\n    </tr>\n    <tr>\n      <td>4</td>\n      <td>AUTO &amp; VEHICLES</td>\n      <td>UCKSVUHI9rbbkXhvAXK-2uxA</td>\n      <td>WeiqJM5KuwFHTBYE6jWxBUteOAE</td>\n      <td>4TKwGlw0QYyGWF9XFNfjHCrUQmM</td>\n      <td>UCKSVUHI9rbbkXhvAXK-2uxA</td>\n      <td>youtube#channel</td>\n      <td>youtube#searchResult</td>\n      <td>UCKSVUHI9rbbkXhvAXK-2uxA</td>\n      <td>Supercar Blondie</td>\n      <td>I'm Alex, that girl with the cars and I hunt d...</td>\n      <td>...</td>\n      <td>F_SzCpuQiDjlcv98IDUXRdHDFX8</td>\n      <td>UCKSVUHI9rbbkXhvAXK-2uxA</td>\n      <td>youtube#channel</td>\n      <td>0</td>\n      <td>False</td>\n      <td>4670000</td>\n      <td>239</td>\n      <td>362026994</td>\n      <td>youtube#channelListResponse</td>\n      <td>1</td>\n    </tr>\n    <tr>\n      <td>...</td>\n      <td>...</td>\n      <td>...</td>\n      <td>...</td>\n      <td>...</td>\n      <td>...</td>\n      <td>...</td>\n      <td>...</td>\n      <td>...</td>\n      <td>...</td>\n      <td>...</td>\n      <td>...</td>\n      <td>...</td>\n      <td>...</td>\n      <td>...</td>\n      <td>...</td>\n      <td>...</td>\n      <td>...</td>\n      <td>...</td>\n      <td>...</td>\n      <td>...</td>\n      <td>...</td>\n    </tr>\n    <tr>\n      <td>13</td>\n      <td>TRAVEL</td>\n      <td>UCXOKEdfOFxsHO_-Su3K8SHg</td>\n      <td>enu8pWo6CP5r_rg8Zn75QWdMJzk</td>\n      <td>pDxJVf8i829mOClh4RhgBe96c6o</td>\n      <td>UCXOKEdfOFxsHO_-Su3K8SHg</td>\n      <td>youtube#channel</td>\n      <td>youtube#searchResult</td>\n      <td>UCXOKEdfOFxsHO_-Su3K8SHg</td>\n      <td>Strictly Dumpling</td>\n      <td>I LOVE FOOD!!!! So you have just entered my fo...</td>\n      <td>...</td>\n      <td>FZpoXOATsfB22yF5NT2UNpE-Q3Q</td>\n      <td>UCXOKEdfOFxsHO_-Su3K8SHg</td>\n      <td>youtube#channel</td>\n      <td>0</td>\n      <td>False</td>\n      <td>3380000</td>\n      <td>491</td>\n      <td>670079168</td>\n      <td>youtube#channelListResponse</td>\n      <td>1</td>\n    </tr>\n    <tr>\n      <td>14</td>\n      <td>TRAVEL</td>\n      <td>UCwiTOchWeKjrJZw7S1H__1g</td>\n      <td>HYJIj9T4rw61KvnkLdNXprNGUIo</td>\n      <td>DAzqQ0kNJ86Iw5SNia9LuARsAZw</td>\n      <td>UCwiTOchWeKjrJZw7S1H__1g</td>\n      <td>youtube#channel</td>\n      <td>youtube#searchResult</td>\n      <td>UCwiTOchWeKjrJZw7S1H__1g</td>\n      <td>Food Insider</td>\n      <td>What you want to know about food. A division o...</td>\n      <td>...</td>\n      <td>xtsTfVdAJGSVS07o9-Utm2lQV_s</td>\n      <td>UCwiTOchWeKjrJZw7S1H__1g</td>\n      <td>youtube#channel</td>\n      <td>0</td>\n      <td>False</td>\n      <td>2550000</td>\n      <td>1051</td>\n      <td>862376372</td>\n      <td>youtube#channelListResponse</td>\n      <td>1</td>\n    </tr>\n    <tr>\n      <td>15</td>\n      <td>TRAVEL</td>\n      <td>UCfYCRj25JJQ41JGPqiqXmJw</td>\n      <td>I9RVdRNvpj6NBcPga2tSH7bvJd0</td>\n      <td>4x47msAlW_ADrIrsukpJZvTmFSE</td>\n      <td>UCfYCRj25JJQ41JGPqiqXmJw</td>\n      <td>youtube#channel</td>\n      <td>youtube#searchResult</td>\n      <td>UCfYCRj25JJQ41JGPqiqXmJw</td>\n      <td>Sam Chui</td>\n      <td>My soul is in the sky! I hope my videos can br...</td>\n      <td>...</td>\n      <td>ThiX8Di5a_WPe0VfaKRkXb2TeD4</td>\n      <td>UCfYCRj25JJQ41JGPqiqXmJw</td>\n      <td>youtube#channel</td>\n      <td>0</td>\n      <td>False</td>\n      <td>2340000</td>\n      <td>336</td>\n      <td>510481614</td>\n      <td>youtube#channelListResponse</td>\n      <td>1</td>\n    </tr>\n    <tr>\n      <td>16</td>\n      <td>TRAVEL</td>\n      <td>UCxDZs_ltFFvn0FDHT6kmoXA</td>\n      <td>mXdlLiUp--nCfe4MYQ7EaRpYKVk</td>\n      <td>7-rRkjFTiCwbpBwqdl9lsf3mRy8</td>\n      <td>UCxDZs_ltFFvn0FDHT6kmoXA</td>\n      <td>youtube#channel</td>\n      <td>youtube#searchResult</td>\n      <td>UCxDZs_ltFFvn0FDHT6kmoXA</td>\n      <td>bald and bankrupt</td>\n      <td>Going off the map in former Soviet lands...</td>\n      <td>...</td>\n      <td>k9D1pSfv9g22rryoICQlWANm2t8</td>\n      <td>UCxDZs_ltFFvn0FDHT6kmoXA</td>\n      <td>youtube#channel</td>\n      <td>0</td>\n      <td>False</td>\n      <td>2250000</td>\n      <td>212</td>\n      <td>292995872</td>\n      <td>youtube#channelListResponse</td>\n      <td>1</td>\n    </tr>\n    <tr>\n      <td>17</td>\n      <td>TRAVEL</td>\n      <td>UC9avFXTdbSo5ATvzTRnAVFg</td>\n      <td>SAhSXgMWggyVlwBCgCyU8HKAgJM</td>\n      <td>PjypIkg5u4oPtU2sTTV5J1ZpHjE</td>\n      <td>UC9avFXTdbSo5ATvzTRnAVFg</td>\n      <td>youtube#channel</td>\n      <td>youtube#searchResult</td>\n      <td>UC9avFXTdbSo5ATvzTRnAVFg</td>\n      <td>FUNG BROS.</td>\n      <td>NEW VIDEOS MONDAYS AND THURSDAYS** Two brother...</td>\n      <td>...</td>\n      <td>iZMS5awCV2WiyXwu4pATqiZJJzA</td>\n      <td>UC9avFXTdbSo5ATvzTRnAVFg</td>\n      <td>youtube#channel</td>\n      <td>0</td>\n      <td>False</td>\n      <td>2120000</td>\n      <td>873</td>\n      <td>422188273</td>\n      <td>youtube#channelListResponse</td>\n      <td>1</td>\n    </tr>\n  </tbody>\n</table>\n<p>158 rows × 32 columns</p>\n</div>"
     },
     "metadata": {},
     "execution_count": 7
    }
   ],
   "source": [
    "channel_df"
   ]
  },
  {
   "cell_type": "code",
   "execution_count": 9,
   "metadata": {},
   "outputs": [],
   "source": [
    "#drop columns\n",
    "channel_df.drop(columns=['category', 'snippet_etag','snippet_items_etag','snippet_items_id_channelId','snippet_items_id_kind','snippet_items_kind','snippet_items_snippet_channelId','snippet_items_snippet_channelTitle','snippet_items_snippet_liveBroadcastContent','snippet_items_snippet_publishTime','snippet_items_snippet_thumbnails_default_url','snippet_items_snippet_thumbnails_high_url','snippet_items_snippet_thumbnails_medium_url','snippet_items_snippet_title','snippet_kind','snippet_pageInfo_resultsPerPage','snippet_pageInfo_totalResults','statistics_etag', 'statistics_items_etag', 'statistics_items_id','statistics_items_kind','statistics_items_statistics_commentCount','statistics_items_statistics_hiddenSubscriberCount','statistics_kind','statistics_pageInfo_resultsPerPage'], inplace=True)"
   ]
  },
  {
   "cell_type": "code",
   "execution_count": 10,
   "metadata": {},
   "outputs": [],
   "source": [
    "#rename columns\n",
    "channel_df.rename(columns={'channelID': 'channelId', 'snippet_items_snippet_description': 'description','snippet_items_snippet_publishedAt':'publishedAt','snippet_regionCode':'region','statistics_items_statistics_subscriberCount':'subscriberCount', 'statistics_items_statistics_videoCount':'videoCount','statistics_items_statistics_viewCount':'viewCount'}, inplace=True)"
   ]
  },
  {
   "cell_type": "code",
   "execution_count": 11,
   "metadata": {},
   "outputs": [
    {
     "output_type": "execute_result",
     "data": {
      "text/plain": [
       "                   channelId  \\\n",
       "0   UCjOl2AUblVmg2rA_cRgZkFg   \n",
       "1   UCes1EvRjcKU4sY_UEavndBw   \n",
       "2   UCsAegdhiYLEoaFGuJFVrqFQ   \n",
       "3   UCUhFaUpnq31m6TNX2VKVSVA   \n",
       "4   UCKSVUHI9rbbkXhvAXK-2uxA   \n",
       "..                       ...   \n",
       "13  UCXOKEdfOFxsHO_-Su3K8SHg   \n",
       "14  UCwiTOchWeKjrJZw7S1H__1g   \n",
       "15  UCfYCRj25JJQ41JGPqiqXmJw   \n",
       "16  UCxDZs_ltFFvn0FDHT6kmoXA   \n",
       "17  UC9avFXTdbSo5ATvzTRnAVFg   \n",
       "\n",
       "                                          description           publishedAt  \\\n",
       "0   Welcome to the official home of Top Gear on Yo...  2006-03-27T10:22:50Z   \n",
       "1   Learn how to fix your own car with my easy to ...  2008-07-30T14:59:12Z   \n",
       "2   The ultimate automotive streaming service. Get...  2006-03-11T08:32:34Z   \n",
       "3   On the lookout for your next car? Head to carw...  2014-01-02T16:32:13Z   \n",
       "4   I'm Alex, that girl with the cars and I hunt d...  2007-09-12T17:33:49Z   \n",
       "..                                                ...                   ...   \n",
       "13  I LOVE FOOD!!!! So you have just entered my fo...  2013-10-27T20:43:54Z   \n",
       "14  What you want to know about food. A division o...  2017-10-17T21:11:29Z   \n",
       "15  My soul is in the sky! I hope my videos can br...  2007-11-04T00:22:28Z   \n",
       "16        Going off the map in former Soviet lands...  2018-06-12T11:56:25Z   \n",
       "17  NEW VIDEOS MONDAYS AND THURSDAYS** Two brother...  2011-05-22T00:19:55Z   \n",
       "\n",
       "   region  subscriberCount  videoCount   viewCount  \n",
       "0      US          7600000        1352  3007747671  \n",
       "1      US          6900000         337  1018824291  \n",
       "2      US          6580000        2212  1169127726  \n",
       "3      US          4640000        1314  1396174290  \n",
       "4      US          4670000         239   362026994  \n",
       "..    ...              ...         ...         ...  \n",
       "13     US          3380000         491   670079168  \n",
       "14     US          2550000        1051   862376372  \n",
       "15     US          2340000         336   510481614  \n",
       "16     US          2250000         212   292995872  \n",
       "17     US          2120000         873   422188273  \n",
       "\n",
       "[158 rows x 7 columns]"
      ],
      "text/html": "<div>\n<style scoped>\n    .dataframe tbody tr th:only-of-type {\n        vertical-align: middle;\n    }\n\n    .dataframe tbody tr th {\n        vertical-align: top;\n    }\n\n    .dataframe thead th {\n        text-align: right;\n    }\n</style>\n<table border=\"1\" class=\"dataframe\">\n  <thead>\n    <tr style=\"text-align: right;\">\n      <th></th>\n      <th>channelId</th>\n      <th>description</th>\n      <th>publishedAt</th>\n      <th>region</th>\n      <th>subscriberCount</th>\n      <th>videoCount</th>\n      <th>viewCount</th>\n    </tr>\n  </thead>\n  <tbody>\n    <tr>\n      <td>0</td>\n      <td>UCjOl2AUblVmg2rA_cRgZkFg</td>\n      <td>Welcome to the official home of Top Gear on Yo...</td>\n      <td>2006-03-27T10:22:50Z</td>\n      <td>US</td>\n      <td>7600000</td>\n      <td>1352</td>\n      <td>3007747671</td>\n    </tr>\n    <tr>\n      <td>1</td>\n      <td>UCes1EvRjcKU4sY_UEavndBw</td>\n      <td>Learn how to fix your own car with my easy to ...</td>\n      <td>2008-07-30T14:59:12Z</td>\n      <td>US</td>\n      <td>6900000</td>\n      <td>337</td>\n      <td>1018824291</td>\n    </tr>\n    <tr>\n      <td>2</td>\n      <td>UCsAegdhiYLEoaFGuJFVrqFQ</td>\n      <td>The ultimate automotive streaming service. Get...</td>\n      <td>2006-03-11T08:32:34Z</td>\n      <td>US</td>\n      <td>6580000</td>\n      <td>2212</td>\n      <td>1169127726</td>\n    </tr>\n    <tr>\n      <td>3</td>\n      <td>UCUhFaUpnq31m6TNX2VKVSVA</td>\n      <td>On the lookout for your next car? Head to carw...</td>\n      <td>2014-01-02T16:32:13Z</td>\n      <td>US</td>\n      <td>4640000</td>\n      <td>1314</td>\n      <td>1396174290</td>\n    </tr>\n    <tr>\n      <td>4</td>\n      <td>UCKSVUHI9rbbkXhvAXK-2uxA</td>\n      <td>I'm Alex, that girl with the cars and I hunt d...</td>\n      <td>2007-09-12T17:33:49Z</td>\n      <td>US</td>\n      <td>4670000</td>\n      <td>239</td>\n      <td>362026994</td>\n    </tr>\n    <tr>\n      <td>...</td>\n      <td>...</td>\n      <td>...</td>\n      <td>...</td>\n      <td>...</td>\n      <td>...</td>\n      <td>...</td>\n      <td>...</td>\n    </tr>\n    <tr>\n      <td>13</td>\n      <td>UCXOKEdfOFxsHO_-Su3K8SHg</td>\n      <td>I LOVE FOOD!!!! So you have just entered my fo...</td>\n      <td>2013-10-27T20:43:54Z</td>\n      <td>US</td>\n      <td>3380000</td>\n      <td>491</td>\n      <td>670079168</td>\n    </tr>\n    <tr>\n      <td>14</td>\n      <td>UCwiTOchWeKjrJZw7S1H__1g</td>\n      <td>What you want to know about food. A division o...</td>\n      <td>2017-10-17T21:11:29Z</td>\n      <td>US</td>\n      <td>2550000</td>\n      <td>1051</td>\n      <td>862376372</td>\n    </tr>\n    <tr>\n      <td>15</td>\n      <td>UCfYCRj25JJQ41JGPqiqXmJw</td>\n      <td>My soul is in the sky! I hope my videos can br...</td>\n      <td>2007-11-04T00:22:28Z</td>\n      <td>US</td>\n      <td>2340000</td>\n      <td>336</td>\n      <td>510481614</td>\n    </tr>\n    <tr>\n      <td>16</td>\n      <td>UCxDZs_ltFFvn0FDHT6kmoXA</td>\n      <td>Going off the map in former Soviet lands...</td>\n      <td>2018-06-12T11:56:25Z</td>\n      <td>US</td>\n      <td>2250000</td>\n      <td>212</td>\n      <td>292995872</td>\n    </tr>\n    <tr>\n      <td>17</td>\n      <td>UC9avFXTdbSo5ATvzTRnAVFg</td>\n      <td>NEW VIDEOS MONDAYS AND THURSDAYS** Two brother...</td>\n      <td>2011-05-22T00:19:55Z</td>\n      <td>US</td>\n      <td>2120000</td>\n      <td>873</td>\n      <td>422188273</td>\n    </tr>\n  </tbody>\n</table>\n<p>158 rows × 7 columns</p>\n</div>"
     },
     "metadata": {},
     "execution_count": 11
    }
   ],
   "source": [
    "channel_df"
   ]
  },
  {
   "cell_type": "code",
   "execution_count": 12,
   "metadata": {},
   "outputs": [],
   "source": [
    "#import video csv\n",
    "df7 = pd.read_csv('Extracted_video_2020-10-09_kai.csv')\n",
    "df8 = pd.read_csv('Extracted_video_2020-10-09_jiayi.csv')\n",
    "df9 = pd.read_csv('Extracted_video_2020-10-09_chi1.csv')\n",
    "df10 = pd.read_csv('Extracted_video_2020-10-09_chi2.csv')\n",
    "df11 = pd.read_csv('Extracted_video_2020-10-09_zw1.csv')\n",
    "df12 = pd.read_csv('Extracted_video_2020-10-09_zw2.csv')"
   ]
  },
  {
   "cell_type": "code",
   "execution_count": 13,
   "metadata": {},
   "outputs": [],
   "source": [
    "#join video frames\n",
    "frames_vid = [df7, df8, df9,df10, df11, df12]\n",
    "videos_df = pd.concat(frames_vid)"
   ]
  },
  {
   "cell_type": "code",
   "execution_count": 20,
   "metadata": {},
   "outputs": [],
   "source": [
    "#drop columns\n",
    "videos_df.drop(columns=['snippet_etag','snippet_id','snippet_kind','snippet_snippet_channelId','snippet_snippet_channelTitle','snippet_snippet_playlistId','snippet_snippet_position','snippet_snippet_resourceId_kind','snippet_snippet_thumbnails_default_height','snippet_snippet_thumbnails_default_width','snippet_snippet_thumbnails_high_height','snippet_snippet_thumbnails_high_url','snippet_snippet_thumbnails_high_width','snippet_snippet_thumbnails_maxres_height','snippet_snippet_thumbnails_maxres_url','snippet_snippet_thumbnails_maxres_width','snippet_snippet_thumbnails_medium_height','snippet_snippet_thumbnails_medium_url','snippet_snippet_thumbnails_medium_width','snippet_snippet_thumbnails_standard_height','snippet_snippet_thumbnails_standard_url','snippet_snippet_thumbnails_standard_width','statistics_etag', 'statistics_id','statistics_kind','statistics_statistics_favoriteCount','uploadId'], inplace=True)"
   ]
  },
  {
   "cell_type": "code",
   "execution_count": 23,
   "metadata": {},
   "outputs": [],
   "source": [
    "#rename columns\n",
    "videos_df.rename(columns={'channelID': 'channelId', 'snippet_snippet_description': 'description','snippet_snippet_publishedAt':'publishedAt','snippet_snippet_resourceId_videoId':'videoId',\n",
    "'snippet_snippet_thumbnails_default_url':'thumbnails',\n",
    "'snippet_snippet_title':'videoTitle',\n",
    "'statistics_statistics_commentCount':'commentCount',\n",
    "'statistics_statistics_likeCount':'likeCount', 'statistics_statistics_dislikeCount':'dislikeCount','statistics_items_statistics_viewCount':'viewCount'}, inplace=True)"
   ]
  },
  {
   "cell_type": "code",
   "execution_count": 25,
   "metadata": {},
   "outputs": [],
   "source": [
    "#rename columns\n",
    "videos_df.rename(columns={\n",
    "'statistics_statistics_likeCount':'likeCount','statistics_statistics_viewCount':'viewCount'}, inplace=True)"
   ]
  },
  {
   "cell_type": "code",
   "execution_count": 36,
   "metadata": {},
   "outputs": [
    {
     "output_type": "execute_result",
     "data": {
      "text/plain": [
       "                      channelId  \\\n",
       "0      UCjOl2AUblVmg2rA_cRgZkFg   \n",
       "1      UCjOl2AUblVmg2rA_cRgZkFg   \n",
       "2      UCjOl2AUblVmg2rA_cRgZkFg   \n",
       "3      UCjOl2AUblVmg2rA_cRgZkFg   \n",
       "4      UCjOl2AUblVmg2rA_cRgZkFg   \n",
       "...                         ...   \n",
       "92007  UC9avFXTdbSo5ATvzTRnAVFg   \n",
       "92008  UC9avFXTdbSo5ATvzTRnAVFg   \n",
       "92009  UC9avFXTdbSo5ATvzTRnAVFg   \n",
       "92010  UC9avFXTdbSo5ATvzTRnAVFg   \n",
       "92011  UC9avFXTdbSo5ATvzTRnAVFg   \n",
       "\n",
       "                                             description  \\\n",
       "0      Here's Chris Harris' take on the rocket-disgui...   \n",
       "1      16 contenders, 8,553bhp and a festival to reme...   \n",
       "2      The 986bhp Ferrari SF90 is, unsurprisingly, no...   \n",
       "3      Top Gear's back for a brand new series and you...   \n",
       "4      Watch our first look round the 765LT: https://...   \n",
       "...                                                  ...   \n",
       "92007  FUNG BROS GRAPHIC TEES: http://gummymall.com/F...   \n",
       "92008  MP3 DOWNLOAD LINKS\\nColima Road: http://www.me...   \n",
       "92009  FUNG BROS GRAPHIC TEES: http://gummymall.com/F...   \n",
       "92010  FUNG BROS GRAPHIC TEES: http://gummymall.com/F...   \n",
       "92011  Don't make fun of FOBs of else they'll stop gi...   \n",
       "\n",
       "                publishedAt      videoId  \\\n",
       "0      2020-10-08T11:30:04Z  vnrtWe-RAzg   \n",
       "1      2020-10-07T11:36:56Z  Ra1F0TsOCPs   \n",
       "2      2020-10-06T16:15:48Z  fXysipmTxcQ   \n",
       "3      2020-10-02T15:24:04Z  Wxz6wd8MqSc   \n",
       "4      2020-09-28T20:09:47Z  4iooMysV158   \n",
       "...                     ...          ...   \n",
       "92007  2011-09-08T09:14:51Z  MfrQZeokwjc   \n",
       "92008  2011-08-31T02:45:32Z  7mTkM4Iwo3I   \n",
       "92009  2011-08-15T19:23:28Z  NEstF9dgmuo   \n",
       "92010  2011-07-27T14:21:31Z  xSa1Ae9ZFnk   \n",
       "92011  2011-06-17T00:46:16Z  XSmn4crVI2A   \n",
       "\n",
       "                                           thumbnails  \\\n",
       "0      https://i.ytimg.com/vi/vnrtWe-RAzg/default.jpg   \n",
       "1      https://i.ytimg.com/vi/Ra1F0TsOCPs/default.jpg   \n",
       "2      https://i.ytimg.com/vi/fXysipmTxcQ/default.jpg   \n",
       "3      https://i.ytimg.com/vi/Wxz6wd8MqSc/default.jpg   \n",
       "4      https://i.ytimg.com/vi/4iooMysV158/default.jpg   \n",
       "...                                               ...   \n",
       "92007  https://i.ytimg.com/vi/MfrQZeokwjc/default.jpg   \n",
       "92008  https://i.ytimg.com/vi/7mTkM4Iwo3I/default.jpg   \n",
       "92009  https://i.ytimg.com/vi/NEstF9dgmuo/default.jpg   \n",
       "92010  https://i.ytimg.com/vi/xSa1Ae9ZFnk/default.jpg   \n",
       "92011  https://i.ytimg.com/vi/XSmn4crVI2A/default.jpg   \n",
       "\n",
       "                                              videoTitle  commentCount  \\\n",
       "0      Chris Harris on... the Ferrari SF90 Stradale |...         790.0   \n",
       "1      Chris Harris vs 2020’s Best Performance Cars |...         496.0   \n",
       "2      FASTEST TOP GEAR LAP? Ferrari SF90 Stiglap | T...         854.0   \n",
       "3      Chris Harris DRIFTS the 986bhp Ferrari SF90 | ...        1061.0   \n",
       "4      FIRST DRIVE: McLaren 765LT: Flat out on track ...         947.0   \n",
       "...                                                  ...           ...   \n",
       "92007                                    ARE WE GHETTO?!         125.0   \n",
       "92008  Colima Road (MUSIC VIDEO) - Fung Brothers, Ail...         402.0   \n",
       "92009                         WHY DO ASIANS LOVE YOUTUBE         147.0   \n",
       "92010     Summertime in the SGV - Fung Bros ft. Olivia T          41.0   \n",
       "92011        DON'T HATE FOBS - Fung Brothers | Fung Bros         437.0   \n",
       "\n",
       "       dislikeCount  likeCount  viewCount  \n",
       "0             250.0     7144.0   247691.0  \n",
       "1             159.0     5768.0   135627.0  \n",
       "2             153.0     9169.0   454948.0  \n",
       "3             405.0    13966.0   702061.0  \n",
       "4             657.0     7872.0   280901.0  \n",
       "...             ...        ...        ...  \n",
       "92007          61.0     1207.0   118185.0  \n",
       "92008          91.0     1931.0   186472.0  \n",
       "92009          27.0     1098.0    60728.0  \n",
       "92010          11.0      278.0    62229.0  \n",
       "92011          59.0     2863.0   180359.0  \n",
       "\n",
       "[557323 rows x 10 columns]"
      ],
      "text/html": "<div>\n<style scoped>\n    .dataframe tbody tr th:only-of-type {\n        vertical-align: middle;\n    }\n\n    .dataframe tbody tr th {\n        vertical-align: top;\n    }\n\n    .dataframe thead th {\n        text-align: right;\n    }\n</style>\n<table border=\"1\" class=\"dataframe\">\n  <thead>\n    <tr style=\"text-align: right;\">\n      <th></th>\n      <th>channelId</th>\n      <th>description</th>\n      <th>publishedAt</th>\n      <th>videoId</th>\n      <th>thumbnails</th>\n      <th>videoTitle</th>\n      <th>commentCount</th>\n      <th>dislikeCount</th>\n      <th>likeCount</th>\n      <th>viewCount</th>\n    </tr>\n  </thead>\n  <tbody>\n    <tr>\n      <td>0</td>\n      <td>UCjOl2AUblVmg2rA_cRgZkFg</td>\n      <td>Here's Chris Harris' take on the rocket-disgui...</td>\n      <td>2020-10-08T11:30:04Z</td>\n      <td>vnrtWe-RAzg</td>\n      <td>https://i.ytimg.com/vi/vnrtWe-RAzg/default.jpg</td>\n      <td>Chris Harris on... the Ferrari SF90 Stradale |...</td>\n      <td>790.0</td>\n      <td>250.0</td>\n      <td>7144.0</td>\n      <td>247691.0</td>\n    </tr>\n    <tr>\n      <td>1</td>\n      <td>UCjOl2AUblVmg2rA_cRgZkFg</td>\n      <td>16 contenders, 8,553bhp and a festival to reme...</td>\n      <td>2020-10-07T11:36:56Z</td>\n      <td>Ra1F0TsOCPs</td>\n      <td>https://i.ytimg.com/vi/Ra1F0TsOCPs/default.jpg</td>\n      <td>Chris Harris vs 2020’s Best Performance Cars |...</td>\n      <td>496.0</td>\n      <td>159.0</td>\n      <td>5768.0</td>\n      <td>135627.0</td>\n    </tr>\n    <tr>\n      <td>2</td>\n      <td>UCjOl2AUblVmg2rA_cRgZkFg</td>\n      <td>The 986bhp Ferrari SF90 is, unsurprisingly, no...</td>\n      <td>2020-10-06T16:15:48Z</td>\n      <td>fXysipmTxcQ</td>\n      <td>https://i.ytimg.com/vi/fXysipmTxcQ/default.jpg</td>\n      <td>FASTEST TOP GEAR LAP? Ferrari SF90 Stiglap | T...</td>\n      <td>854.0</td>\n      <td>153.0</td>\n      <td>9169.0</td>\n      <td>454948.0</td>\n    </tr>\n    <tr>\n      <td>3</td>\n      <td>UCjOl2AUblVmg2rA_cRgZkFg</td>\n      <td>Top Gear's back for a brand new series and you...</td>\n      <td>2020-10-02T15:24:04Z</td>\n      <td>Wxz6wd8MqSc</td>\n      <td>https://i.ytimg.com/vi/Wxz6wd8MqSc/default.jpg</td>\n      <td>Chris Harris DRIFTS the 986bhp Ferrari SF90 | ...</td>\n      <td>1061.0</td>\n      <td>405.0</td>\n      <td>13966.0</td>\n      <td>702061.0</td>\n    </tr>\n    <tr>\n      <td>4</td>\n      <td>UCjOl2AUblVmg2rA_cRgZkFg</td>\n      <td>Watch our first look round the 765LT: https://...</td>\n      <td>2020-09-28T20:09:47Z</td>\n      <td>4iooMysV158</td>\n      <td>https://i.ytimg.com/vi/4iooMysV158/default.jpg</td>\n      <td>FIRST DRIVE: McLaren 765LT: Flat out on track ...</td>\n      <td>947.0</td>\n      <td>657.0</td>\n      <td>7872.0</td>\n      <td>280901.0</td>\n    </tr>\n    <tr>\n      <td>...</td>\n      <td>...</td>\n      <td>...</td>\n      <td>...</td>\n      <td>...</td>\n      <td>...</td>\n      <td>...</td>\n      <td>...</td>\n      <td>...</td>\n      <td>...</td>\n      <td>...</td>\n    </tr>\n    <tr>\n      <td>92007</td>\n      <td>UC9avFXTdbSo5ATvzTRnAVFg</td>\n      <td>FUNG BROS GRAPHIC TEES: http://gummymall.com/F...</td>\n      <td>2011-09-08T09:14:51Z</td>\n      <td>MfrQZeokwjc</td>\n      <td>https://i.ytimg.com/vi/MfrQZeokwjc/default.jpg</td>\n      <td>ARE WE GHETTO?!</td>\n      <td>125.0</td>\n      <td>61.0</td>\n      <td>1207.0</td>\n      <td>118185.0</td>\n    </tr>\n    <tr>\n      <td>92008</td>\n      <td>UC9avFXTdbSo5ATvzTRnAVFg</td>\n      <td>MP3 DOWNLOAD LINKS\\nColima Road: http://www.me...</td>\n      <td>2011-08-31T02:45:32Z</td>\n      <td>7mTkM4Iwo3I</td>\n      <td>https://i.ytimg.com/vi/7mTkM4Iwo3I/default.jpg</td>\n      <td>Colima Road (MUSIC VIDEO) - Fung Brothers, Ail...</td>\n      <td>402.0</td>\n      <td>91.0</td>\n      <td>1931.0</td>\n      <td>186472.0</td>\n    </tr>\n    <tr>\n      <td>92009</td>\n      <td>UC9avFXTdbSo5ATvzTRnAVFg</td>\n      <td>FUNG BROS GRAPHIC TEES: http://gummymall.com/F...</td>\n      <td>2011-08-15T19:23:28Z</td>\n      <td>NEstF9dgmuo</td>\n      <td>https://i.ytimg.com/vi/NEstF9dgmuo/default.jpg</td>\n      <td>WHY DO ASIANS LOVE YOUTUBE</td>\n      <td>147.0</td>\n      <td>27.0</td>\n      <td>1098.0</td>\n      <td>60728.0</td>\n    </tr>\n    <tr>\n      <td>92010</td>\n      <td>UC9avFXTdbSo5ATvzTRnAVFg</td>\n      <td>FUNG BROS GRAPHIC TEES: http://gummymall.com/F...</td>\n      <td>2011-07-27T14:21:31Z</td>\n      <td>xSa1Ae9ZFnk</td>\n      <td>https://i.ytimg.com/vi/xSa1Ae9ZFnk/default.jpg</td>\n      <td>Summertime in the SGV - Fung Bros ft. Olivia T</td>\n      <td>41.0</td>\n      <td>11.0</td>\n      <td>278.0</td>\n      <td>62229.0</td>\n    </tr>\n    <tr>\n      <td>92011</td>\n      <td>UC9avFXTdbSo5ATvzTRnAVFg</td>\n      <td>Don't make fun of FOBs of else they'll stop gi...</td>\n      <td>2011-06-17T00:46:16Z</td>\n      <td>XSmn4crVI2A</td>\n      <td>https://i.ytimg.com/vi/XSmn4crVI2A/default.jpg</td>\n      <td>DON'T HATE FOBS - Fung Brothers | Fung Bros</td>\n      <td>437.0</td>\n      <td>59.0</td>\n      <td>2863.0</td>\n      <td>180359.0</td>\n    </tr>\n  </tbody>\n</table>\n<p>557323 rows × 10 columns</p>\n</div>"
     },
     "metadata": {},
     "execution_count": 36
    }
   ],
   "source": [
    "videos_df"
   ]
  },
  {
   "cell_type": "code",
   "execution_count": 27,
   "metadata": {},
   "outputs": [],
   "source": [
    "#write csv \n",
    "videos_df.to_csv('videos_df.csv',index = False, header = True)\n",
    "channel_df.to_csv('channel_df.csv',index = False, header = True)"
   ]
  },
  {
   "cell_type": "code",
   "execution_count": null,
   "metadata": {},
   "outputs": [],
   "source": []
  },
  {
   "source": [
    "# Aggregating Data"
   ],
   "cell_type": "markdown",
   "metadata": {}
  },
  {
   "source": [
    "### Get daysPublished"
   ],
   "cell_type": "markdown",
   "metadata": {}
  },
  {
   "cell_type": "code",
   "execution_count": 32,
   "metadata": {},
   "outputs": [],
   "source": [
    "from time import gmtime, strftime\n",
    "from datetime import datetime\n",
    "import re"
   ]
  },
  {
   "cell_type": "code",
   "execution_count": 39,
   "metadata": {},
   "outputs": [],
   "source": [
    "videos_df['publishedAt'] = videos_df['publishedAt'].astype(str)"
   ]
  },
  {
   "cell_type": "code",
   "execution_count": 40,
   "metadata": {},
   "outputs": [],
   "source": [
    "videos_df['publishedAt'] = videos_df['publishedAt'].apply(lambda x: re.sub('[TZ]',' ',x))"
   ]
  },
  {
   "cell_type": "code",
   "execution_count": 46,
   "metadata": {},
   "outputs": [
    {
     "output_type": "execute_result",
     "data": {
      "text/plain": [
       "array(['2020-10-08 11:30:04 ', '2020-10-07 11:36:56 ',\n",
       "       '2020-10-06 16:15:48 ', ..., '2011-08-15 19:23:28 ',\n",
       "       '2011-07-27 14:21:31 ', '2011-06-17 00:46:16 '], dtype=object)"
      ]
     },
     "metadata": {},
     "execution_count": 46
    }
   ],
   "source": []
  },
  {
   "cell_type": "code",
   "execution_count": 53,
   "metadata": {},
   "outputs": [],
   "source": [
    "videos_df['publishedAt'] = videos_df['publishedAt'].map(lambda x: datetime.strptime(x, '%Y-%m-%d %H:%M:%S ')  if re.match('^[0-9\\W ]*$',x) and len(x) > len('%Y-%m-%d %H:%M:%S ') else x)"
   ]
  },
  {
   "cell_type": "code",
   "execution_count": 56,
   "metadata": {},
   "outputs": [],
   "source": [
    "videos_df['daysPublished'] = videos_df['publishedAt'].map(lambda x: (datetime.today() - x).days if type(x) != str else None)"
   ]
  },
  {
   "cell_type": "code",
   "execution_count": 60,
   "metadata": {},
   "outputs": [
    {
     "output_type": "execute_result",
     "data": {
      "text/plain": [
       "                      channelId  \\\n",
       "0      UCjOl2AUblVmg2rA_cRgZkFg   \n",
       "1      UCjOl2AUblVmg2rA_cRgZkFg   \n",
       "2      UCjOl2AUblVmg2rA_cRgZkFg   \n",
       "3      UCjOl2AUblVmg2rA_cRgZkFg   \n",
       "4      UCjOl2AUblVmg2rA_cRgZkFg   \n",
       "...                         ...   \n",
       "92007  UC9avFXTdbSo5ATvzTRnAVFg   \n",
       "92008  UC9avFXTdbSo5ATvzTRnAVFg   \n",
       "92009  UC9avFXTdbSo5ATvzTRnAVFg   \n",
       "92010  UC9avFXTdbSo5ATvzTRnAVFg   \n",
       "92011  UC9avFXTdbSo5ATvzTRnAVFg   \n",
       "\n",
       "                                             description          publishedAt  \\\n",
       "0      Here's Chris Harris' take on the rocket-disgui...  2020-10-08 11:30:04   \n",
       "1      16 contenders, 8,553bhp and a festival to reme...  2020-10-07 11:36:56   \n",
       "2      The 986bhp Ferrari SF90 is, unsurprisingly, no...  2020-10-06 16:15:48   \n",
       "3      Top Gear's back for a brand new series and you...  2020-10-02 15:24:04   \n",
       "4      Watch our first look round the 765LT: https://...  2020-09-28 20:09:47   \n",
       "...                                                  ...                  ...   \n",
       "92007  FUNG BROS GRAPHIC TEES: http://gummymall.com/F...  2011-09-08 09:14:51   \n",
       "92008  MP3 DOWNLOAD LINKS\\nColima Road: http://www.me...  2011-08-31 02:45:32   \n",
       "92009  FUNG BROS GRAPHIC TEES: http://gummymall.com/F...  2011-08-15 19:23:28   \n",
       "92010  FUNG BROS GRAPHIC TEES: http://gummymall.com/F...  2011-07-27 14:21:31   \n",
       "92011  Don't make fun of FOBs of else they'll stop gi...  2011-06-17 00:46:16   \n",
       "\n",
       "           videoId                                      thumbnails  \\\n",
       "0      vnrtWe-RAzg  https://i.ytimg.com/vi/vnrtWe-RAzg/default.jpg   \n",
       "1      Ra1F0TsOCPs  https://i.ytimg.com/vi/Ra1F0TsOCPs/default.jpg   \n",
       "2      fXysipmTxcQ  https://i.ytimg.com/vi/fXysipmTxcQ/default.jpg   \n",
       "3      Wxz6wd8MqSc  https://i.ytimg.com/vi/Wxz6wd8MqSc/default.jpg   \n",
       "4      4iooMysV158  https://i.ytimg.com/vi/4iooMysV158/default.jpg   \n",
       "...            ...                                             ...   \n",
       "92007  MfrQZeokwjc  https://i.ytimg.com/vi/MfrQZeokwjc/default.jpg   \n",
       "92008  7mTkM4Iwo3I  https://i.ytimg.com/vi/7mTkM4Iwo3I/default.jpg   \n",
       "92009  NEstF9dgmuo  https://i.ytimg.com/vi/NEstF9dgmuo/default.jpg   \n",
       "92010  xSa1Ae9ZFnk  https://i.ytimg.com/vi/xSa1Ae9ZFnk/default.jpg   \n",
       "92011  XSmn4crVI2A  https://i.ytimg.com/vi/XSmn4crVI2A/default.jpg   \n",
       "\n",
       "                                              videoTitle  commentCount  \\\n",
       "0      Chris Harris on... the Ferrari SF90 Stradale |...         790.0   \n",
       "1      Chris Harris vs 2020’s Best Performance Cars |...         496.0   \n",
       "2      FASTEST TOP GEAR LAP? Ferrari SF90 Stiglap | T...         854.0   \n",
       "3      Chris Harris DRIFTS the 986bhp Ferrari SF90 | ...        1061.0   \n",
       "4      FIRST DRIVE: McLaren 765LT: Flat out on track ...         947.0   \n",
       "...                                                  ...           ...   \n",
       "92007                                    ARE WE GHETTO?!         125.0   \n",
       "92008  Colima Road (MUSIC VIDEO) - Fung Brothers, Ail...         402.0   \n",
       "92009                         WHY DO ASIANS LOVE YOUTUBE         147.0   \n",
       "92010     Summertime in the SGV - Fung Bros ft. Olivia T          41.0   \n",
       "92011        DON'T HATE FOBS - Fung Brothers | Fung Bros         437.0   \n",
       "\n",
       "       dislikeCount  likeCount  viewCount  daysPublished  \n",
       "0             250.0     7144.0   247691.0            1.0  \n",
       "1             159.0     5768.0   135627.0            2.0  \n",
       "2             153.0     9169.0   454948.0            3.0  \n",
       "3             405.0    13966.0   702061.0            7.0  \n",
       "4             657.0     7872.0   280901.0           11.0  \n",
       "...             ...        ...        ...            ...  \n",
       "92007          61.0     1207.0   118185.0         3319.0  \n",
       "92008          91.0     1931.0   186472.0         3327.0  \n",
       "92009          27.0     1098.0    60728.0         3343.0  \n",
       "92010          11.0      278.0    62229.0         3362.0  \n",
       "92011          59.0     2863.0   180359.0         3402.0  \n",
       "\n",
       "[557323 rows x 11 columns]"
      ],
      "text/html": "<div>\n<style scoped>\n    .dataframe tbody tr th:only-of-type {\n        vertical-align: middle;\n    }\n\n    .dataframe tbody tr th {\n        vertical-align: top;\n    }\n\n    .dataframe thead th {\n        text-align: right;\n    }\n</style>\n<table border=\"1\" class=\"dataframe\">\n  <thead>\n    <tr style=\"text-align: right;\">\n      <th></th>\n      <th>channelId</th>\n      <th>description</th>\n      <th>publishedAt</th>\n      <th>videoId</th>\n      <th>thumbnails</th>\n      <th>videoTitle</th>\n      <th>commentCount</th>\n      <th>dislikeCount</th>\n      <th>likeCount</th>\n      <th>viewCount</th>\n      <th>daysPublished</th>\n    </tr>\n  </thead>\n  <tbody>\n    <tr>\n      <td>0</td>\n      <td>UCjOl2AUblVmg2rA_cRgZkFg</td>\n      <td>Here's Chris Harris' take on the rocket-disgui...</td>\n      <td>2020-10-08 11:30:04</td>\n      <td>vnrtWe-RAzg</td>\n      <td>https://i.ytimg.com/vi/vnrtWe-RAzg/default.jpg</td>\n      <td>Chris Harris on... the Ferrari SF90 Stradale |...</td>\n      <td>790.0</td>\n      <td>250.0</td>\n      <td>7144.0</td>\n      <td>247691.0</td>\n      <td>1.0</td>\n    </tr>\n    <tr>\n      <td>1</td>\n      <td>UCjOl2AUblVmg2rA_cRgZkFg</td>\n      <td>16 contenders, 8,553bhp and a festival to reme...</td>\n      <td>2020-10-07 11:36:56</td>\n      <td>Ra1F0TsOCPs</td>\n      <td>https://i.ytimg.com/vi/Ra1F0TsOCPs/default.jpg</td>\n      <td>Chris Harris vs 2020’s Best Performance Cars |...</td>\n      <td>496.0</td>\n      <td>159.0</td>\n      <td>5768.0</td>\n      <td>135627.0</td>\n      <td>2.0</td>\n    </tr>\n    <tr>\n      <td>2</td>\n      <td>UCjOl2AUblVmg2rA_cRgZkFg</td>\n      <td>The 986bhp Ferrari SF90 is, unsurprisingly, no...</td>\n      <td>2020-10-06 16:15:48</td>\n      <td>fXysipmTxcQ</td>\n      <td>https://i.ytimg.com/vi/fXysipmTxcQ/default.jpg</td>\n      <td>FASTEST TOP GEAR LAP? Ferrari SF90 Stiglap | T...</td>\n      <td>854.0</td>\n      <td>153.0</td>\n      <td>9169.0</td>\n      <td>454948.0</td>\n      <td>3.0</td>\n    </tr>\n    <tr>\n      <td>3</td>\n      <td>UCjOl2AUblVmg2rA_cRgZkFg</td>\n      <td>Top Gear's back for a brand new series and you...</td>\n      <td>2020-10-02 15:24:04</td>\n      <td>Wxz6wd8MqSc</td>\n      <td>https://i.ytimg.com/vi/Wxz6wd8MqSc/default.jpg</td>\n      <td>Chris Harris DRIFTS the 986bhp Ferrari SF90 | ...</td>\n      <td>1061.0</td>\n      <td>405.0</td>\n      <td>13966.0</td>\n      <td>702061.0</td>\n      <td>7.0</td>\n    </tr>\n    <tr>\n      <td>4</td>\n      <td>UCjOl2AUblVmg2rA_cRgZkFg</td>\n      <td>Watch our first look round the 765LT: https://...</td>\n      <td>2020-09-28 20:09:47</td>\n      <td>4iooMysV158</td>\n      <td>https://i.ytimg.com/vi/4iooMysV158/default.jpg</td>\n      <td>FIRST DRIVE: McLaren 765LT: Flat out on track ...</td>\n      <td>947.0</td>\n      <td>657.0</td>\n      <td>7872.0</td>\n      <td>280901.0</td>\n      <td>11.0</td>\n    </tr>\n    <tr>\n      <td>...</td>\n      <td>...</td>\n      <td>...</td>\n      <td>...</td>\n      <td>...</td>\n      <td>...</td>\n      <td>...</td>\n      <td>...</td>\n      <td>...</td>\n      <td>...</td>\n      <td>...</td>\n      <td>...</td>\n    </tr>\n    <tr>\n      <td>92007</td>\n      <td>UC9avFXTdbSo5ATvzTRnAVFg</td>\n      <td>FUNG BROS GRAPHIC TEES: http://gummymall.com/F...</td>\n      <td>2011-09-08 09:14:51</td>\n      <td>MfrQZeokwjc</td>\n      <td>https://i.ytimg.com/vi/MfrQZeokwjc/default.jpg</td>\n      <td>ARE WE GHETTO?!</td>\n      <td>125.0</td>\n      <td>61.0</td>\n      <td>1207.0</td>\n      <td>118185.0</td>\n      <td>3319.0</td>\n    </tr>\n    <tr>\n      <td>92008</td>\n      <td>UC9avFXTdbSo5ATvzTRnAVFg</td>\n      <td>MP3 DOWNLOAD LINKS\\nColima Road: http://www.me...</td>\n      <td>2011-08-31 02:45:32</td>\n      <td>7mTkM4Iwo3I</td>\n      <td>https://i.ytimg.com/vi/7mTkM4Iwo3I/default.jpg</td>\n      <td>Colima Road (MUSIC VIDEO) - Fung Brothers, Ail...</td>\n      <td>402.0</td>\n      <td>91.0</td>\n      <td>1931.0</td>\n      <td>186472.0</td>\n      <td>3327.0</td>\n    </tr>\n    <tr>\n      <td>92009</td>\n      <td>UC9avFXTdbSo5ATvzTRnAVFg</td>\n      <td>FUNG BROS GRAPHIC TEES: http://gummymall.com/F...</td>\n      <td>2011-08-15 19:23:28</td>\n      <td>NEstF9dgmuo</td>\n      <td>https://i.ytimg.com/vi/NEstF9dgmuo/default.jpg</td>\n      <td>WHY DO ASIANS LOVE YOUTUBE</td>\n      <td>147.0</td>\n      <td>27.0</td>\n      <td>1098.0</td>\n      <td>60728.0</td>\n      <td>3343.0</td>\n    </tr>\n    <tr>\n      <td>92010</td>\n      <td>UC9avFXTdbSo5ATvzTRnAVFg</td>\n      <td>FUNG BROS GRAPHIC TEES: http://gummymall.com/F...</td>\n      <td>2011-07-27 14:21:31</td>\n      <td>xSa1Ae9ZFnk</td>\n      <td>https://i.ytimg.com/vi/xSa1Ae9ZFnk/default.jpg</td>\n      <td>Summertime in the SGV - Fung Bros ft. Olivia T</td>\n      <td>41.0</td>\n      <td>11.0</td>\n      <td>278.0</td>\n      <td>62229.0</td>\n      <td>3362.0</td>\n    </tr>\n    <tr>\n      <td>92011</td>\n      <td>UC9avFXTdbSo5ATvzTRnAVFg</td>\n      <td>Don't make fun of FOBs of else they'll stop gi...</td>\n      <td>2011-06-17 00:46:16</td>\n      <td>XSmn4crVI2A</td>\n      <td>https://i.ytimg.com/vi/XSmn4crVI2A/default.jpg</td>\n      <td>DON'T HATE FOBS - Fung Brothers | Fung Bros</td>\n      <td>437.0</td>\n      <td>59.0</td>\n      <td>2863.0</td>\n      <td>180359.0</td>\n      <td>3402.0</td>\n    </tr>\n  </tbody>\n</table>\n<p>557323 rows × 11 columns</p>\n</div>"
     },
     "metadata": {},
     "execution_count": 60
    }
   ],
   "source": [
    "videos_df"
   ]
  },
  {
   "cell_type": "code",
   "execution_count": null,
   "metadata": {},
   "outputs": [],
   "source": []
  },
  {
   "source": [
    "### Likes:Dislike Ratio"
   ],
   "cell_type": "markdown",
   "metadata": {}
  },
  {
   "cell_type": "code",
   "execution_count": 62,
   "metadata": {},
   "outputs": [],
   "source": [
    "videos_df['likeDislikeRatio'] = videos_df['likeCount']/videos_df['dislikeCount']"
   ]
  },
  {
   "cell_type": "code",
   "execution_count": 51,
   "metadata": {},
   "outputs": [
    {
     "output_type": "execute_result",
     "data": {
      "text/plain": [
       "       videoID                                              title  \\\n",
       "0  Ra1F0TsOCPs  Chris Harris vs 2020’s Best Performance Cars |...   \n",
       "1  fXysipmTxcQ  FASTEST TOP GEAR LAP? Ferrari SF90 Stiglap | T...   \n",
       "2  Wxz6wd8MqSc  Chris Harris DRIFTS the 986bhp Ferrari SF90 | ...   \n",
       "3  4iooMysV158  FIRST DRIVE: McLaren 765LT: Flat out on track ...   \n",
       "4  Rdb8k4nDaWs  Ferrari SF90, F40, Jaguar XJ220, Lamborghini D...   \n",
       "5  lmL_QbUwvsg  FIRST DRIVE: New VW Golf GTI Mk8 2020: In Deta...   \n",
       "6  qBStRheBKEM  FIRST LOOK: New 2020 BMW M3 & M4 feat. 4WD, 50...   \n",
       "7  IMk0xEJ1COs   FIRST LOOK TRAILER: All New Top Gear | Series 29   \n",
       "8  bUfeG-Vn_n0  MCLAREN SHOWDOWN: P1 vs 720s, Speedtail vs F35...   \n",
       "9  7oveAHy8WyY          Driving the £5.4m Bugatti Divo | Top Gear   \n",
       "\n",
       "          publishedAt                 channelId channelTitle  categoryId  \\\n",
       "0 2020-10-07 11:36:55  UCjOl2AUblVmg2rA_cRgZkFg     Top Gear           2   \n",
       "1 2020-10-06 16:15:47  UCjOl2AUblVmg2rA_cRgZkFg     Top Gear           2   \n",
       "2 2020-10-03 09:30:02  UCjOl2AUblVmg2rA_cRgZkFg     Top Gear           2   \n",
       "3 2020-09-28 23:00:01  UCjOl2AUblVmg2rA_cRgZkFg     Top Gear           2   \n",
       "4 2020-09-27 09:30:01  UCjOl2AUblVmg2rA_cRgZkFg     Top Gear           2   \n",
       "5 2020-09-24 12:14:28  UCjOl2AUblVmg2rA_cRgZkFg     Top Gear           2   \n",
       "6 2020-09-22 22:01:01  UCjOl2AUblVmg2rA_cRgZkFg     Top Gear           2   \n",
       "7 2020-09-12 11:30:03  UCjOl2AUblVmg2rA_cRgZkFg     Top Gear           2   \n",
       "8 2020-09-10 16:22:46  UCjOl2AUblVmg2rA_cRgZkFg     Top Gear           2   \n",
       "9 2020-09-01 11:00:01  UCjOl2AUblVmg2rA_cRgZkFg     Top Gear           2   \n",
       "\n",
       "                                                tags  view_count  likes  \\\n",
       "0  Top Gear,Top Gear Series,Car Review,Car Compar...       17475   2422   \n",
       "1  Top Gear,Top Gear Series,Car Review,Car Compar...      245262   6949   \n",
       "2  Top Gear,Top Gear Series,Car Review,Car Compar...      534881  11896   \n",
       "3  Top Gear,Top Gear Series,Car Review,Car Compar...      270040   7697   \n",
       "4  Top Gear,Top Gear Series,Car Review,Car Compar...      195994   4735   \n",
       "5  Top Gear,Top Gear Series,Car Review,Car Compar...      722170  13392   \n",
       "6  Top Gear,Top Gear Series,Car Review,Car Compar...      246028   5260   \n",
       "7  Top Gear,Top Gear Series,Car Review,Car Compar...      244798   3822   \n",
       "8  Top Gear,Top Gear Series,Car Review,Car Compar...      343839   8913   \n",
       "9  Top Gear,Top Gear Series,Car Review,Car Compar...      797263  20866   \n",
       "\n",
       "   dislikes  comment_count                                  thumbnail_link  \\\n",
       "0        65            239  https://i.ytimg.com/vi/Ra1F0TsOCPs/default.jpg   \n",
       "1       119            667  https://i.ytimg.com/vi/fXysipmTxcQ/default.jpg   \n",
       "2       357            948  https://i.ytimg.com/vi/Wxz6wd8MqSc/default.jpg   \n",
       "3       645            935  https://i.ytimg.com/vi/4iooMysV158/default.jpg   \n",
       "4       267            346  https://i.ytimg.com/vi/Rdb8k4nDaWs/default.jpg   \n",
       "5       784           1607  https://i.ytimg.com/vi/lmL_QbUwvsg/default.jpg   \n",
       "6       744           1767  https://i.ytimg.com/vi/qBStRheBKEM/default.jpg   \n",
       "7      1032            774  https://i.ytimg.com/vi/IMk0xEJ1COs/default.jpg   \n",
       "8       328            686  https://i.ytimg.com/vi/bUfeG-Vn_n0/default.jpg   \n",
       "9       905           1541  https://i.ytimg.com/vi/7oveAHy8WyY/default.jpg   \n",
       "\n",
       "                                         description  daysPublished  \\\n",
       "0  16 contenders, 8,553bhp and a festival to reme...            NaN   \n",
       "1  The 986bhp Ferrari SF90 is, unsurprisingly, no...            NaN   \n",
       "2  Top Gear's back for a brand new series and you...            NaN   \n",
       "3  Watch our first look round the 765LT: https://...            NaN   \n",
       "4  As Series 29 of Top Gear approaches, here's a ...            NaN   \n",
       "5  The new eighth-generation GTI has landed and T...            NaN   \n",
       "6  The BMW M3 Saloon and M4 Coupe are back... and...            NaN   \n",
       "7  Top Gear is back for a brand new series with P...            NaN   \n",
       "8  As the (relative) new kids on the block, Chris...            NaN   \n",
       "9  Ever wondered how a super exclusive downforce-...            NaN   \n",
       "\n",
       "   daysPublish  likeDislikeRatio  likeCountByDay  \n",
       "0            2         37.261538     1211.000000  \n",
       "1            2         58.394958     3474.500000  \n",
       "2            6         33.322129     1982.666667  \n",
       "3           10         11.933333      769.700000  \n",
       "4           12         17.734082      394.583333  \n",
       "5           15         17.081633      892.800000  \n",
       "6           16          7.069892      328.750000  \n",
       "7           27          3.703488      141.555556  \n",
       "8           28         27.173780      318.321429  \n",
       "9           38         23.056354      549.105263  "
      ],
      "text/html": "<div>\n<style scoped>\n    .dataframe tbody tr th:only-of-type {\n        vertical-align: middle;\n    }\n\n    .dataframe tbody tr th {\n        vertical-align: top;\n    }\n\n    .dataframe thead th {\n        text-align: right;\n    }\n</style>\n<table border=\"1\" class=\"dataframe\">\n  <thead>\n    <tr style=\"text-align: right;\">\n      <th></th>\n      <th>videoID</th>\n      <th>title</th>\n      <th>publishedAt</th>\n      <th>channelId</th>\n      <th>channelTitle</th>\n      <th>categoryId</th>\n      <th>tags</th>\n      <th>view_count</th>\n      <th>likes</th>\n      <th>dislikes</th>\n      <th>comment_count</th>\n      <th>thumbnail_link</th>\n      <th>description</th>\n      <th>daysPublished</th>\n      <th>daysPublish</th>\n      <th>likeDislikeRatio</th>\n      <th>likeCountByDay</th>\n    </tr>\n  </thead>\n  <tbody>\n    <tr>\n      <td>0</td>\n      <td>Ra1F0TsOCPs</td>\n      <td>Chris Harris vs 2020’s Best Performance Cars |...</td>\n      <td>2020-10-07 11:36:55</td>\n      <td>UCjOl2AUblVmg2rA_cRgZkFg</td>\n      <td>Top Gear</td>\n      <td>2</td>\n      <td>Top Gear,Top Gear Series,Car Review,Car Compar...</td>\n      <td>17475</td>\n      <td>2422</td>\n      <td>65</td>\n      <td>239</td>\n      <td>https://i.ytimg.com/vi/Ra1F0TsOCPs/default.jpg</td>\n      <td>16 contenders, 8,553bhp and a festival to reme...</td>\n      <td>NaN</td>\n      <td>2</td>\n      <td>37.261538</td>\n      <td>1211.000000</td>\n    </tr>\n    <tr>\n      <td>1</td>\n      <td>fXysipmTxcQ</td>\n      <td>FASTEST TOP GEAR LAP? Ferrari SF90 Stiglap | T...</td>\n      <td>2020-10-06 16:15:47</td>\n      <td>UCjOl2AUblVmg2rA_cRgZkFg</td>\n      <td>Top Gear</td>\n      <td>2</td>\n      <td>Top Gear,Top Gear Series,Car Review,Car Compar...</td>\n      <td>245262</td>\n      <td>6949</td>\n      <td>119</td>\n      <td>667</td>\n      <td>https://i.ytimg.com/vi/fXysipmTxcQ/default.jpg</td>\n      <td>The 986bhp Ferrari SF90 is, unsurprisingly, no...</td>\n      <td>NaN</td>\n      <td>2</td>\n      <td>58.394958</td>\n      <td>3474.500000</td>\n    </tr>\n    <tr>\n      <td>2</td>\n      <td>Wxz6wd8MqSc</td>\n      <td>Chris Harris DRIFTS the 986bhp Ferrari SF90 | ...</td>\n      <td>2020-10-03 09:30:02</td>\n      <td>UCjOl2AUblVmg2rA_cRgZkFg</td>\n      <td>Top Gear</td>\n      <td>2</td>\n      <td>Top Gear,Top Gear Series,Car Review,Car Compar...</td>\n      <td>534881</td>\n      <td>11896</td>\n      <td>357</td>\n      <td>948</td>\n      <td>https://i.ytimg.com/vi/Wxz6wd8MqSc/default.jpg</td>\n      <td>Top Gear's back for a brand new series and you...</td>\n      <td>NaN</td>\n      <td>6</td>\n      <td>33.322129</td>\n      <td>1982.666667</td>\n    </tr>\n    <tr>\n      <td>3</td>\n      <td>4iooMysV158</td>\n      <td>FIRST DRIVE: McLaren 765LT: Flat out on track ...</td>\n      <td>2020-09-28 23:00:01</td>\n      <td>UCjOl2AUblVmg2rA_cRgZkFg</td>\n      <td>Top Gear</td>\n      <td>2</td>\n      <td>Top Gear,Top Gear Series,Car Review,Car Compar...</td>\n      <td>270040</td>\n      <td>7697</td>\n      <td>645</td>\n      <td>935</td>\n      <td>https://i.ytimg.com/vi/4iooMysV158/default.jpg</td>\n      <td>Watch our first look round the 765LT: https://...</td>\n      <td>NaN</td>\n      <td>10</td>\n      <td>11.933333</td>\n      <td>769.700000</td>\n    </tr>\n    <tr>\n      <td>4</td>\n      <td>Rdb8k4nDaWs</td>\n      <td>Ferrari SF90, F40, Jaguar XJ220, Lamborghini D...</td>\n      <td>2020-09-27 09:30:01</td>\n      <td>UCjOl2AUblVmg2rA_cRgZkFg</td>\n      <td>Top Gear</td>\n      <td>2</td>\n      <td>Top Gear,Top Gear Series,Car Review,Car Compar...</td>\n      <td>195994</td>\n      <td>4735</td>\n      <td>267</td>\n      <td>346</td>\n      <td>https://i.ytimg.com/vi/Rdb8k4nDaWs/default.jpg</td>\n      <td>As Series 29 of Top Gear approaches, here's a ...</td>\n      <td>NaN</td>\n      <td>12</td>\n      <td>17.734082</td>\n      <td>394.583333</td>\n    </tr>\n    <tr>\n      <td>5</td>\n      <td>lmL_QbUwvsg</td>\n      <td>FIRST DRIVE: New VW Golf GTI Mk8 2020: In Deta...</td>\n      <td>2020-09-24 12:14:28</td>\n      <td>UCjOl2AUblVmg2rA_cRgZkFg</td>\n      <td>Top Gear</td>\n      <td>2</td>\n      <td>Top Gear,Top Gear Series,Car Review,Car Compar...</td>\n      <td>722170</td>\n      <td>13392</td>\n      <td>784</td>\n      <td>1607</td>\n      <td>https://i.ytimg.com/vi/lmL_QbUwvsg/default.jpg</td>\n      <td>The new eighth-generation GTI has landed and T...</td>\n      <td>NaN</td>\n      <td>15</td>\n      <td>17.081633</td>\n      <td>892.800000</td>\n    </tr>\n    <tr>\n      <td>6</td>\n      <td>qBStRheBKEM</td>\n      <td>FIRST LOOK: New 2020 BMW M3 &amp; M4 feat. 4WD, 50...</td>\n      <td>2020-09-22 22:01:01</td>\n      <td>UCjOl2AUblVmg2rA_cRgZkFg</td>\n      <td>Top Gear</td>\n      <td>2</td>\n      <td>Top Gear,Top Gear Series,Car Review,Car Compar...</td>\n      <td>246028</td>\n      <td>5260</td>\n      <td>744</td>\n      <td>1767</td>\n      <td>https://i.ytimg.com/vi/qBStRheBKEM/default.jpg</td>\n      <td>The BMW M3 Saloon and M4 Coupe are back... and...</td>\n      <td>NaN</td>\n      <td>16</td>\n      <td>7.069892</td>\n      <td>328.750000</td>\n    </tr>\n    <tr>\n      <td>7</td>\n      <td>IMk0xEJ1COs</td>\n      <td>FIRST LOOK TRAILER: All New Top Gear | Series 29</td>\n      <td>2020-09-12 11:30:03</td>\n      <td>UCjOl2AUblVmg2rA_cRgZkFg</td>\n      <td>Top Gear</td>\n      <td>2</td>\n      <td>Top Gear,Top Gear Series,Car Review,Car Compar...</td>\n      <td>244798</td>\n      <td>3822</td>\n      <td>1032</td>\n      <td>774</td>\n      <td>https://i.ytimg.com/vi/IMk0xEJ1COs/default.jpg</td>\n      <td>Top Gear is back for a brand new series with P...</td>\n      <td>NaN</td>\n      <td>27</td>\n      <td>3.703488</td>\n      <td>141.555556</td>\n    </tr>\n    <tr>\n      <td>8</td>\n      <td>bUfeG-Vn_n0</td>\n      <td>MCLAREN SHOWDOWN: P1 vs 720s, Speedtail vs F35...</td>\n      <td>2020-09-10 16:22:46</td>\n      <td>UCjOl2AUblVmg2rA_cRgZkFg</td>\n      <td>Top Gear</td>\n      <td>2</td>\n      <td>Top Gear,Top Gear Series,Car Review,Car Compar...</td>\n      <td>343839</td>\n      <td>8913</td>\n      <td>328</td>\n      <td>686</td>\n      <td>https://i.ytimg.com/vi/bUfeG-Vn_n0/default.jpg</td>\n      <td>As the (relative) new kids on the block, Chris...</td>\n      <td>NaN</td>\n      <td>28</td>\n      <td>27.173780</td>\n      <td>318.321429</td>\n    </tr>\n    <tr>\n      <td>9</td>\n      <td>7oveAHy8WyY</td>\n      <td>Driving the £5.4m Bugatti Divo | Top Gear</td>\n      <td>2020-09-01 11:00:01</td>\n      <td>UCjOl2AUblVmg2rA_cRgZkFg</td>\n      <td>Top Gear</td>\n      <td>2</td>\n      <td>Top Gear,Top Gear Series,Car Review,Car Compar...</td>\n      <td>797263</td>\n      <td>20866</td>\n      <td>905</td>\n      <td>1541</td>\n      <td>https://i.ytimg.com/vi/7oveAHy8WyY/default.jpg</td>\n      <td>Ever wondered how a super exclusive downforce-...</td>\n      <td>NaN</td>\n      <td>38</td>\n      <td>23.056354</td>\n      <td>549.105263</td>\n    </tr>\n  </tbody>\n</table>\n</div>"
     },
     "metadata": {},
     "execution_count": 51
    }
   ],
   "source": [
    "data"
   ]
  },
  {
   "source": [
    "### likeCountByDay"
   ],
   "cell_type": "markdown",
   "metadata": {}
  },
  {
   "cell_type": "code",
   "execution_count": 65,
   "metadata": {},
   "outputs": [],
   "source": [
    "videos_df['likeCountByDay'] = videos_df['likeCount']/videos_df['daysPublished']"
   ]
  },
  {
   "source": [
    "### commentCountByDay"
   ],
   "cell_type": "markdown",
   "metadata": {}
  },
  {
   "cell_type": "code",
   "execution_count": 67,
   "metadata": {},
   "outputs": [],
   "source": [
    "videos_df['commentCountByDay'] = videos_df['commentCount']/videos_df['daysPublished']"
   ]
  },
  {
   "source": [
    "### viewCountByDay"
   ],
   "cell_type": "markdown",
   "metadata": {}
  },
  {
   "cell_type": "code",
   "execution_count": 69,
   "metadata": {},
   "outputs": [],
   "source": [
    "videos_df['viewCountByDay'] = videos_df['viewCount']/videos_df['daysPublished']"
   ]
  },
  {
   "cell_type": "code",
   "execution_count": 71,
   "metadata": {},
   "outputs": [],
   "source": [
    "#agg_videos_df to csv\n",
    "\n",
    "agg_videos_df = videos_df[[\"videoId\", \"daysPublished\",\"likeDislikeRatio\",\"likeCountByDay\", \"commentCountByDay\",\"viewCountByDay\"]]\n"
   ]
  },
  {
   "cell_type": "code",
   "execution_count": 72,
   "metadata": {},
   "outputs": [
    {
     "output_type": "execute_result",
     "data": {
      "text/plain": [
       "           videoId  daysPublished  likeDislikeRatio  likeCountByDay  \\\n",
       "0      vnrtWe-RAzg            1.0         28.576000     7144.000000   \n",
       "1      Ra1F0TsOCPs            2.0         36.276730     2884.000000   \n",
       "2      fXysipmTxcQ            3.0         59.928105     3056.333333   \n",
       "3      Wxz6wd8MqSc            7.0         34.483951     1995.142857   \n",
       "4      4iooMysV158           11.0         11.981735      715.636364   \n",
       "...            ...            ...               ...             ...   \n",
       "92007  MfrQZeokwjc         3319.0         19.786885        0.363664   \n",
       "92008  7mTkM4Iwo3I         3327.0         21.219780        0.580403   \n",
       "92009  NEstF9dgmuo         3343.0         40.666667        0.328448   \n",
       "92010  xSa1Ae9ZFnk         3362.0         25.272727        0.082689   \n",
       "92011  XSmn4crVI2A         3402.0         48.525424        0.841564   \n",
       "\n",
       "       commentCountByDay  viewCountByDay  \n",
       "0             790.000000   247691.000000  \n",
       "1             248.000000    67813.500000  \n",
       "2             284.666667   151649.333333  \n",
       "3             151.571429   100294.428571  \n",
       "4              86.090909    25536.454545  \n",
       "...                  ...             ...  \n",
       "92007           0.037662       35.608617  \n",
       "92008           0.120830       56.048091  \n",
       "92009           0.043972       18.165719  \n",
       "92010           0.012195       18.509518  \n",
       "92011           0.128454       53.015579  \n",
       "\n",
       "[557323 rows x 6 columns]"
      ],
      "text/html": "<div>\n<style scoped>\n    .dataframe tbody tr th:only-of-type {\n        vertical-align: middle;\n    }\n\n    .dataframe tbody tr th {\n        vertical-align: top;\n    }\n\n    .dataframe thead th {\n        text-align: right;\n    }\n</style>\n<table border=\"1\" class=\"dataframe\">\n  <thead>\n    <tr style=\"text-align: right;\">\n      <th></th>\n      <th>videoId</th>\n      <th>daysPublished</th>\n      <th>likeDislikeRatio</th>\n      <th>likeCountByDay</th>\n      <th>commentCountByDay</th>\n      <th>viewCountByDay</th>\n    </tr>\n  </thead>\n  <tbody>\n    <tr>\n      <td>0</td>\n      <td>vnrtWe-RAzg</td>\n      <td>1.0</td>\n      <td>28.576000</td>\n      <td>7144.000000</td>\n      <td>790.000000</td>\n      <td>247691.000000</td>\n    </tr>\n    <tr>\n      <td>1</td>\n      <td>Ra1F0TsOCPs</td>\n      <td>2.0</td>\n      <td>36.276730</td>\n      <td>2884.000000</td>\n      <td>248.000000</td>\n      <td>67813.500000</td>\n    </tr>\n    <tr>\n      <td>2</td>\n      <td>fXysipmTxcQ</td>\n      <td>3.0</td>\n      <td>59.928105</td>\n      <td>3056.333333</td>\n      <td>284.666667</td>\n      <td>151649.333333</td>\n    </tr>\n    <tr>\n      <td>3</td>\n      <td>Wxz6wd8MqSc</td>\n      <td>7.0</td>\n      <td>34.483951</td>\n      <td>1995.142857</td>\n      <td>151.571429</td>\n      <td>100294.428571</td>\n    </tr>\n    <tr>\n      <td>4</td>\n      <td>4iooMysV158</td>\n      <td>11.0</td>\n      <td>11.981735</td>\n      <td>715.636364</td>\n      <td>86.090909</td>\n      <td>25536.454545</td>\n    </tr>\n    <tr>\n      <td>...</td>\n      <td>...</td>\n      <td>...</td>\n      <td>...</td>\n      <td>...</td>\n      <td>...</td>\n      <td>...</td>\n    </tr>\n    <tr>\n      <td>92007</td>\n      <td>MfrQZeokwjc</td>\n      <td>3319.0</td>\n      <td>19.786885</td>\n      <td>0.363664</td>\n      <td>0.037662</td>\n      <td>35.608617</td>\n    </tr>\n    <tr>\n      <td>92008</td>\n      <td>7mTkM4Iwo3I</td>\n      <td>3327.0</td>\n      <td>21.219780</td>\n      <td>0.580403</td>\n      <td>0.120830</td>\n      <td>56.048091</td>\n    </tr>\n    <tr>\n      <td>92009</td>\n      <td>NEstF9dgmuo</td>\n      <td>3343.0</td>\n      <td>40.666667</td>\n      <td>0.328448</td>\n      <td>0.043972</td>\n      <td>18.165719</td>\n    </tr>\n    <tr>\n      <td>92010</td>\n      <td>xSa1Ae9ZFnk</td>\n      <td>3362.0</td>\n      <td>25.272727</td>\n      <td>0.082689</td>\n      <td>0.012195</td>\n      <td>18.509518</td>\n    </tr>\n    <tr>\n      <td>92011</td>\n      <td>XSmn4crVI2A</td>\n      <td>3402.0</td>\n      <td>48.525424</td>\n      <td>0.841564</td>\n      <td>0.128454</td>\n      <td>53.015579</td>\n    </tr>\n  </tbody>\n</table>\n<p>557323 rows × 6 columns</p>\n</div>"
     },
     "metadata": {},
     "execution_count": 72
    }
   ],
   "source": [
    "agg_videos_df"
   ]
  },
  {
   "cell_type": "code",
   "execution_count": 73,
   "metadata": {},
   "outputs": [],
   "source": [
    "agg_videos_df.to_csv('agg_videos_df.csv',index = False, header = True)"
   ]
  }
 ]
}